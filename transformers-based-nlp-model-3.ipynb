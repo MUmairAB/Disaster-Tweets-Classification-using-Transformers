{
 "cells": [
  {
   "cell_type": "code",
   "execution_count": 1,
   "id": "5373832d",
   "metadata": {
    "_cell_guid": "b1076dfc-b9ad-4769-8c92-a6c4dae69d19",
    "_uuid": "8f2839f25d086af736a60e9eeb907d3b93b6e0e5",
    "execution": {
     "iopub.execute_input": "2023-07-14T12:10:39.684739Z",
     "iopub.status.busy": "2023-07-14T12:10:39.684112Z",
     "iopub.status.idle": "2023-07-14T12:10:39.702376Z",
     "shell.execute_reply": "2023-07-14T12:10:39.701521Z"
    },
    "papermill": {
     "duration": 0.04238,
     "end_time": "2023-07-14T12:10:39.704788",
     "exception": false,
     "start_time": "2023-07-14T12:10:39.662408",
     "status": "completed"
    },
    "tags": []
   },
   "outputs": [
    {
     "name": "stdout",
     "output_type": "stream",
     "text": [
      "/kaggle/input/disasters-on-social-media/socialmedia-disaster-tweets-DFE.csv\n",
      "/kaggle/input/nlp-getting-started/sample_submission.csv\n",
      "/kaggle/input/nlp-getting-started/train.csv\n",
      "/kaggle/input/nlp-getting-started/test.csv\n"
     ]
    }
   ],
   "source": [
    "# This Python 3 environment comes with many helpful analytics libraries installed\n",
    "# It is defined by the kaggle/python Docker image: https://github.com/kaggle/docker-python\n",
    "# For example, here's several helpful packages to load\n",
    "\n",
    "import numpy as np # linear algebra\n",
    "import pandas as pd # data processing, CSV file I/O (e.g. pd.read_csv)\n",
    "\n",
    "# Input data files are available in the read-only \"../input/\" directory\n",
    "# For example, running this (by clicking run or pressing Shift+Enter) will list all files under the input directory\n",
    "file_names = []\n",
    "import os\n",
    "for dirname, _, filenames in os.walk('/kaggle/input'):\n",
    "    for filename in filenames:\n",
    "        print(os.path.join(dirname, filename))\n",
    "        file_names.append(os.path.join(dirname, filename))\n",
    "\n",
    "# You can write up to 20GB to the current directory (/kaggle/working/) that gets preserved as output when you create a version using \"Save & Run All\" \n",
    "# You can also write temporary files to /kaggle/temp/, but they won't be saved outside of the current session"
   ]
  },
  {
   "cell_type": "code",
   "execution_count": 2,
   "id": "ca888a9b",
   "metadata": {
    "execution": {
     "iopub.execute_input": "2023-07-14T12:10:39.747068Z",
     "iopub.status.busy": "2023-07-14T12:10:39.745711Z",
     "iopub.status.idle": "2023-07-14T12:10:50.278727Z",
     "shell.execute_reply": "2023-07-14T12:10:50.277606Z"
    },
    "papermill": {
     "duration": 10.556559,
     "end_time": "2023-07-14T12:10:50.281363",
     "exception": false,
     "start_time": "2023-07-14T12:10:39.724804",
     "status": "completed"
    },
    "tags": []
   },
   "outputs": [
    {
     "name": "stderr",
     "output_type": "stream",
     "text": [
      "/opt/conda/lib/python3.10/site-packages/scipy/__init__.py:146: UserWarning: A NumPy version >=1.16.5 and <1.23.0 is required for this version of SciPy (detected version 1.23.5\n",
      "  warnings.warn(f\"A NumPy version >={np_minversion} and <{np_maxversion}\"\n",
      "/opt/conda/lib/python3.10/site-packages/tensorflow_io/python/ops/__init__.py:98: UserWarning: unable to load libtensorflow_io_plugins.so: unable to open file: libtensorflow_io_plugins.so, from paths: ['/opt/conda/lib/python3.10/site-packages/tensorflow_io/python/ops/libtensorflow_io_plugins.so']\n",
      "caused by: ['/opt/conda/lib/python3.10/site-packages/tensorflow_io/python/ops/libtensorflow_io_plugins.so: undefined symbol: _ZN3tsl6StatusC1EN10tensorflow5error4CodeESt17basic_string_viewIcSt11char_traitsIcEENS_14SourceLocationE']\n",
      "  warnings.warn(f\"unable to load libtensorflow_io_plugins.so: {e}\")\n",
      "/opt/conda/lib/python3.10/site-packages/tensorflow_io/python/ops/__init__.py:104: UserWarning: file system plugins are not loaded: unable to open file: libtensorflow_io.so, from paths: ['/opt/conda/lib/python3.10/site-packages/tensorflow_io/python/ops/libtensorflow_io.so']\n",
      "caused by: ['/opt/conda/lib/python3.10/site-packages/tensorflow_io/python/ops/libtensorflow_io.so: undefined symbol: _ZTVN10tensorflow13GcsFileSystemE']\n",
      "  warnings.warn(f\"file system plugins are not loaded: {e}\")\n"
     ]
    }
   ],
   "source": [
    "#Import the necessary libraries\n",
    "import tensorflow as tf\n",
    "from tensorflow import keras\n",
    "from tensorflow.keras import layers\n",
    "\n",
    "import matplotlib.pyplot as plt\n",
    "import seaborn as sns\n",
    "\n",
    "from sklearn.utils import shuffle"
   ]
  },
  {
   "cell_type": "code",
   "execution_count": 3,
   "id": "891843f0",
   "metadata": {
    "execution": {
     "iopub.execute_input": "2023-07-14T12:10:50.323718Z",
     "iopub.status.busy": "2023-07-14T12:10:50.323154Z",
     "iopub.status.idle": "2023-07-14T12:10:50.327710Z",
     "shell.execute_reply": "2023-07-14T12:10:50.326700Z"
    },
    "papermill": {
     "duration": 0.0281,
     "end_time": "2023-07-14T12:10:50.330271",
     "exception": false,
     "start_time": "2023-07-14T12:10:50.302171",
     "status": "completed"
    },
    "tags": []
   },
   "outputs": [],
   "source": [
    "#Set the seed value\n",
    "SEED = 4243"
   ]
  },
  {
   "cell_type": "code",
   "execution_count": 4,
   "id": "181688a1",
   "metadata": {
    "execution": {
     "iopub.execute_input": "2023-07-14T12:10:50.370570Z",
     "iopub.status.busy": "2023-07-14T12:10:50.370270Z",
     "iopub.status.idle": "2023-07-14T12:10:50.397150Z",
     "shell.execute_reply": "2023-07-14T12:10:50.396275Z"
    },
    "papermill": {
     "duration": 0.049456,
     "end_time": "2023-07-14T12:10:50.399250",
     "exception": false,
     "start_time": "2023-07-14T12:10:50.349794",
     "status": "completed"
    },
    "tags": []
   },
   "outputs": [
    {
     "data": {
      "text/html": [
       "<div>\n",
       "<style scoped>\n",
       "    .dataframe tbody tr th:only-of-type {\n",
       "        vertical-align: middle;\n",
       "    }\n",
       "\n",
       "    .dataframe tbody tr th {\n",
       "        vertical-align: top;\n",
       "    }\n",
       "\n",
       "    .dataframe thead th {\n",
       "        text-align: right;\n",
       "    }\n",
       "</style>\n",
       "<table border=\"1\" class=\"dataframe\">\n",
       "  <thead>\n",
       "    <tr style=\"text-align: right;\">\n",
       "      <th></th>\n",
       "      <th>id</th>\n",
       "      <th>target</th>\n",
       "    </tr>\n",
       "  </thead>\n",
       "  <tbody>\n",
       "    <tr>\n",
       "      <th>0</th>\n",
       "      <td>0</td>\n",
       "      <td>0</td>\n",
       "    </tr>\n",
       "    <tr>\n",
       "      <th>1</th>\n",
       "      <td>2</td>\n",
       "      <td>0</td>\n",
       "    </tr>\n",
       "    <tr>\n",
       "      <th>2</th>\n",
       "      <td>3</td>\n",
       "      <td>0</td>\n",
       "    </tr>\n",
       "    <tr>\n",
       "      <th>3</th>\n",
       "      <td>9</td>\n",
       "      <td>0</td>\n",
       "    </tr>\n",
       "    <tr>\n",
       "      <th>4</th>\n",
       "      <td>11</td>\n",
       "      <td>0</td>\n",
       "    </tr>\n",
       "  </tbody>\n",
       "</table>\n",
       "</div>"
      ],
      "text/plain": [
       "   id  target\n",
       "0   0       0\n",
       "1   2       0\n",
       "2   3       0\n",
       "3   9       0\n",
       "4  11       0"
      ]
     },
     "execution_count": 4,
     "metadata": {},
     "output_type": "execute_result"
    }
   ],
   "source": [
    "#Read the sample file\n",
    "sample = pd.read_csv(file_names[1])\n",
    "sample.head()"
   ]
  },
  {
   "cell_type": "code",
   "execution_count": 5,
   "id": "c07a5647",
   "metadata": {
    "execution": {
     "iopub.execute_input": "2023-07-14T12:10:50.443283Z",
     "iopub.status.busy": "2023-07-14T12:10:50.443024Z",
     "iopub.status.idle": "2023-07-14T12:10:50.490120Z",
     "shell.execute_reply": "2023-07-14T12:10:50.489143Z"
    },
    "papermill": {
     "duration": 0.071689,
     "end_time": "2023-07-14T12:10:50.492379",
     "exception": false,
     "start_time": "2023-07-14T12:10:50.420690",
     "status": "completed"
    },
    "tags": []
   },
   "outputs": [
    {
     "data": {
      "text/html": [
       "<div>\n",
       "<style scoped>\n",
       "    .dataframe tbody tr th:only-of-type {\n",
       "        vertical-align: middle;\n",
       "    }\n",
       "\n",
       "    .dataframe tbody tr th {\n",
       "        vertical-align: top;\n",
       "    }\n",
       "\n",
       "    .dataframe thead th {\n",
       "        text-align: right;\n",
       "    }\n",
       "</style>\n",
       "<table border=\"1\" class=\"dataframe\">\n",
       "  <thead>\n",
       "    <tr style=\"text-align: right;\">\n",
       "      <th></th>\n",
       "      <th>id</th>\n",
       "      <th>keyword</th>\n",
       "      <th>location</th>\n",
       "      <th>text</th>\n",
       "      <th>target</th>\n",
       "    </tr>\n",
       "  </thead>\n",
       "  <tbody>\n",
       "    <tr>\n",
       "      <th>0</th>\n",
       "      <td>1</td>\n",
       "      <td>NaN</td>\n",
       "      <td>NaN</td>\n",
       "      <td>Our Deeds are the Reason of this #earthquake M...</td>\n",
       "      <td>1</td>\n",
       "    </tr>\n",
       "    <tr>\n",
       "      <th>1</th>\n",
       "      <td>4</td>\n",
       "      <td>NaN</td>\n",
       "      <td>NaN</td>\n",
       "      <td>Forest fire near La Ronge Sask. Canada</td>\n",
       "      <td>1</td>\n",
       "    </tr>\n",
       "    <tr>\n",
       "      <th>2</th>\n",
       "      <td>5</td>\n",
       "      <td>NaN</td>\n",
       "      <td>NaN</td>\n",
       "      <td>All residents asked to 'shelter in place' are ...</td>\n",
       "      <td>1</td>\n",
       "    </tr>\n",
       "    <tr>\n",
       "      <th>3</th>\n",
       "      <td>6</td>\n",
       "      <td>NaN</td>\n",
       "      <td>NaN</td>\n",
       "      <td>13,000 people receive #wildfires evacuation or...</td>\n",
       "      <td>1</td>\n",
       "    </tr>\n",
       "    <tr>\n",
       "      <th>4</th>\n",
       "      <td>7</td>\n",
       "      <td>NaN</td>\n",
       "      <td>NaN</td>\n",
       "      <td>Just got sent this photo from Ruby #Alaska as ...</td>\n",
       "      <td>1</td>\n",
       "    </tr>\n",
       "  </tbody>\n",
       "</table>\n",
       "</div>"
      ],
      "text/plain": [
       "   id keyword location                                               text  \\\n",
       "0   1     NaN      NaN  Our Deeds are the Reason of this #earthquake M...   \n",
       "1   4     NaN      NaN             Forest fire near La Ronge Sask. Canada   \n",
       "2   5     NaN      NaN  All residents asked to 'shelter in place' are ...   \n",
       "3   6     NaN      NaN  13,000 people receive #wildfires evacuation or...   \n",
       "4   7     NaN      NaN  Just got sent this photo from Ruby #Alaska as ...   \n",
       "\n",
       "   target  \n",
       "0       1  \n",
       "1       1  \n",
       "2       1  \n",
       "3       1  \n",
       "4       1  "
      ]
     },
     "execution_count": 5,
     "metadata": {},
     "output_type": "execute_result"
    }
   ],
   "source": [
    "#Read the training data\n",
    "train = pd.read_csv(file_names[2])\n",
    "train.head()"
   ]
  },
  {
   "cell_type": "code",
   "execution_count": 6,
   "id": "6216f746",
   "metadata": {
    "execution": {
     "iopub.execute_input": "2023-07-14T12:10:50.536147Z",
     "iopub.status.busy": "2023-07-14T12:10:50.535884Z",
     "iopub.status.idle": "2023-07-14T12:10:50.564162Z",
     "shell.execute_reply": "2023-07-14T12:10:50.563115Z"
    },
    "papermill": {
     "duration": 0.051685,
     "end_time": "2023-07-14T12:10:50.566703",
     "exception": false,
     "start_time": "2023-07-14T12:10:50.515018",
     "status": "completed"
    },
    "tags": []
   },
   "outputs": [
    {
     "data": {
      "text/html": [
       "<div>\n",
       "<style scoped>\n",
       "    .dataframe tbody tr th:only-of-type {\n",
       "        vertical-align: middle;\n",
       "    }\n",
       "\n",
       "    .dataframe tbody tr th {\n",
       "        vertical-align: top;\n",
       "    }\n",
       "\n",
       "    .dataframe thead th {\n",
       "        text-align: right;\n",
       "    }\n",
       "</style>\n",
       "<table border=\"1\" class=\"dataframe\">\n",
       "  <thead>\n",
       "    <tr style=\"text-align: right;\">\n",
       "      <th></th>\n",
       "      <th>id</th>\n",
       "      <th>keyword</th>\n",
       "      <th>location</th>\n",
       "      <th>text</th>\n",
       "    </tr>\n",
       "  </thead>\n",
       "  <tbody>\n",
       "    <tr>\n",
       "      <th>0</th>\n",
       "      <td>0</td>\n",
       "      <td>NaN</td>\n",
       "      <td>NaN</td>\n",
       "      <td>Just happened a terrible car crash</td>\n",
       "    </tr>\n",
       "    <tr>\n",
       "      <th>1</th>\n",
       "      <td>2</td>\n",
       "      <td>NaN</td>\n",
       "      <td>NaN</td>\n",
       "      <td>Heard about #earthquake is different cities, s...</td>\n",
       "    </tr>\n",
       "    <tr>\n",
       "      <th>2</th>\n",
       "      <td>3</td>\n",
       "      <td>NaN</td>\n",
       "      <td>NaN</td>\n",
       "      <td>there is a forest fire at spot pond, geese are...</td>\n",
       "    </tr>\n",
       "    <tr>\n",
       "      <th>3</th>\n",
       "      <td>9</td>\n",
       "      <td>NaN</td>\n",
       "      <td>NaN</td>\n",
       "      <td>Apocalypse lighting. #Spokane #wildfires</td>\n",
       "    </tr>\n",
       "    <tr>\n",
       "      <th>4</th>\n",
       "      <td>11</td>\n",
       "      <td>NaN</td>\n",
       "      <td>NaN</td>\n",
       "      <td>Typhoon Soudelor kills 28 in China and Taiwan</td>\n",
       "    </tr>\n",
       "  </tbody>\n",
       "</table>\n",
       "</div>"
      ],
      "text/plain": [
       "   id keyword location                                               text\n",
       "0   0     NaN      NaN                 Just happened a terrible car crash\n",
       "1   2     NaN      NaN  Heard about #earthquake is different cities, s...\n",
       "2   3     NaN      NaN  there is a forest fire at spot pond, geese are...\n",
       "3   9     NaN      NaN           Apocalypse lighting. #Spokane #wildfires\n",
       "4  11     NaN      NaN      Typhoon Soudelor kills 28 in China and Taiwan"
      ]
     },
     "execution_count": 6,
     "metadata": {},
     "output_type": "execute_result"
    }
   ],
   "source": [
    "#Read the Disaster on Socila Media dataset\n",
    "test = pd.read_csv(file_names[3])\n",
    "test.head()"
   ]
  },
  {
   "cell_type": "code",
   "execution_count": 7,
   "id": "20ed5b35",
   "metadata": {
    "execution": {
     "iopub.execute_input": "2023-07-14T12:10:50.608874Z",
     "iopub.status.busy": "2023-07-14T12:10:50.608610Z",
     "iopub.status.idle": "2023-07-14T12:10:50.691784Z",
     "shell.execute_reply": "2023-07-14T12:10:50.690854Z"
    },
    "papermill": {
     "duration": 0.105935,
     "end_time": "2023-07-14T12:10:50.693907",
     "exception": false,
     "start_time": "2023-07-14T12:10:50.587972",
     "status": "completed"
    },
    "tags": []
   },
   "outputs": [
    {
     "data": {
      "text/html": [
       "<div>\n",
       "<style scoped>\n",
       "    .dataframe tbody tr th:only-of-type {\n",
       "        vertical-align: middle;\n",
       "    }\n",
       "\n",
       "    .dataframe tbody tr th {\n",
       "        vertical-align: top;\n",
       "    }\n",
       "\n",
       "    .dataframe thead th {\n",
       "        text-align: right;\n",
       "    }\n",
       "</style>\n",
       "<table border=\"1\" class=\"dataframe\">\n",
       "  <thead>\n",
       "    <tr style=\"text-align: right;\">\n",
       "      <th></th>\n",
       "      <th>_unit_id</th>\n",
       "      <th>_golden</th>\n",
       "      <th>_unit_state</th>\n",
       "      <th>_trusted_judgments</th>\n",
       "      <th>_last_judgment_at</th>\n",
       "      <th>choose_one</th>\n",
       "      <th>choose_one:confidence</th>\n",
       "      <th>choose_one_gold</th>\n",
       "      <th>keyword</th>\n",
       "      <th>location</th>\n",
       "      <th>text</th>\n",
       "      <th>tweetid</th>\n",
       "      <th>userid</th>\n",
       "    </tr>\n",
       "  </thead>\n",
       "  <tbody>\n",
       "    <tr>\n",
       "      <th>0</th>\n",
       "      <td>778243823</td>\n",
       "      <td>True</td>\n",
       "      <td>golden</td>\n",
       "      <td>156</td>\n",
       "      <td>NaN</td>\n",
       "      <td>Relevant</td>\n",
       "      <td>1.0000</td>\n",
       "      <td>Relevant</td>\n",
       "      <td>NaN</td>\n",
       "      <td>NaN</td>\n",
       "      <td>Just happened a terrible car crash</td>\n",
       "      <td>1.0</td>\n",
       "      <td>NaN</td>\n",
       "    </tr>\n",
       "    <tr>\n",
       "      <th>1</th>\n",
       "      <td>778243824</td>\n",
       "      <td>True</td>\n",
       "      <td>golden</td>\n",
       "      <td>152</td>\n",
       "      <td>NaN</td>\n",
       "      <td>Relevant</td>\n",
       "      <td>1.0000</td>\n",
       "      <td>Relevant</td>\n",
       "      <td>NaN</td>\n",
       "      <td>NaN</td>\n",
       "      <td>Our Deeds are the Reason of this #earthquake M...</td>\n",
       "      <td>13.0</td>\n",
       "      <td>NaN</td>\n",
       "    </tr>\n",
       "    <tr>\n",
       "      <th>2</th>\n",
       "      <td>778243825</td>\n",
       "      <td>True</td>\n",
       "      <td>golden</td>\n",
       "      <td>137</td>\n",
       "      <td>NaN</td>\n",
       "      <td>Relevant</td>\n",
       "      <td>1.0000</td>\n",
       "      <td>Relevant</td>\n",
       "      <td>NaN</td>\n",
       "      <td>NaN</td>\n",
       "      <td>Heard about #earthquake is different cities, s...</td>\n",
       "      <td>14.0</td>\n",
       "      <td>NaN</td>\n",
       "    </tr>\n",
       "    <tr>\n",
       "      <th>3</th>\n",
       "      <td>778243826</td>\n",
       "      <td>True</td>\n",
       "      <td>golden</td>\n",
       "      <td>136</td>\n",
       "      <td>NaN</td>\n",
       "      <td>Relevant</td>\n",
       "      <td>0.9603</td>\n",
       "      <td>Relevant</td>\n",
       "      <td>NaN</td>\n",
       "      <td>NaN</td>\n",
       "      <td>there is a forest fire at spot pond, geese are...</td>\n",
       "      <td>15.0</td>\n",
       "      <td>NaN</td>\n",
       "    </tr>\n",
       "    <tr>\n",
       "      <th>4</th>\n",
       "      <td>778243827</td>\n",
       "      <td>True</td>\n",
       "      <td>golden</td>\n",
       "      <td>138</td>\n",
       "      <td>NaN</td>\n",
       "      <td>Relevant</td>\n",
       "      <td>1.0000</td>\n",
       "      <td>Relevant</td>\n",
       "      <td>NaN</td>\n",
       "      <td>NaN</td>\n",
       "      <td>Forest fire near La Ronge Sask. Canada</td>\n",
       "      <td>16.0</td>\n",
       "      <td>NaN</td>\n",
       "    </tr>\n",
       "  </tbody>\n",
       "</table>\n",
       "</div>"
      ],
      "text/plain": [
       "    _unit_id  _golden _unit_state  _trusted_judgments _last_judgment_at  \\\n",
       "0  778243823     True      golden                 156               NaN   \n",
       "1  778243824     True      golden                 152               NaN   \n",
       "2  778243825     True      golden                 137               NaN   \n",
       "3  778243826     True      golden                 136               NaN   \n",
       "4  778243827     True      golden                 138               NaN   \n",
       "\n",
       "  choose_one  choose_one:confidence choose_one_gold keyword location  \\\n",
       "0   Relevant                 1.0000        Relevant     NaN      NaN   \n",
       "1   Relevant                 1.0000        Relevant     NaN      NaN   \n",
       "2   Relevant                 1.0000        Relevant     NaN      NaN   \n",
       "3   Relevant                 0.9603        Relevant     NaN      NaN   \n",
       "4   Relevant                 1.0000        Relevant     NaN      NaN   \n",
       "\n",
       "                                                text  tweetid  userid  \n",
       "0                 Just happened a terrible car crash      1.0     NaN  \n",
       "1  Our Deeds are the Reason of this #earthquake M...     13.0     NaN  \n",
       "2  Heard about #earthquake is different cities, s...     14.0     NaN  \n",
       "3  there is a forest fire at spot pond, geese are...     15.0     NaN  \n",
       "4             Forest fire near La Ronge Sask. Canada     16.0     NaN  "
      ]
     },
     "execution_count": 7,
     "metadata": {},
     "output_type": "execute_result"
    }
   ],
   "source": [
    "train2 = pd.read_csv(file_names[0])\n",
    "train2.head()"
   ]
  },
  {
   "cell_type": "code",
   "execution_count": 8,
   "id": "cdd7237e",
   "metadata": {
    "execution": {
     "iopub.execute_input": "2023-07-14T12:10:50.736249Z",
     "iopub.status.busy": "2023-07-14T12:10:50.735967Z",
     "iopub.status.idle": "2023-07-14T12:10:50.750641Z",
     "shell.execute_reply": "2023-07-14T12:10:50.749531Z"
    },
    "papermill": {
     "duration": 0.039163,
     "end_time": "2023-07-14T12:10:50.754014",
     "exception": false,
     "start_time": "2023-07-14T12:10:50.714851",
     "status": "completed"
    },
    "tags": []
   },
   "outputs": [
    {
     "data": {
      "text/html": [
       "<div>\n",
       "<style scoped>\n",
       "    .dataframe tbody tr th:only-of-type {\n",
       "        vertical-align: middle;\n",
       "    }\n",
       "\n",
       "    .dataframe tbody tr th {\n",
       "        vertical-align: top;\n",
       "    }\n",
       "\n",
       "    .dataframe thead th {\n",
       "        text-align: right;\n",
       "    }\n",
       "</style>\n",
       "<table border=\"1\" class=\"dataframe\">\n",
       "  <thead>\n",
       "    <tr style=\"text-align: right;\">\n",
       "      <th></th>\n",
       "      <th>_unit_id</th>\n",
       "      <th>_golden</th>\n",
       "      <th>_unit_state</th>\n",
       "      <th>_trusted_judgments</th>\n",
       "      <th>_last_judgment_at</th>\n",
       "      <th>choose_one</th>\n",
       "      <th>choose_one:confidence</th>\n",
       "      <th>choose_one_gold</th>\n",
       "      <th>keyword</th>\n",
       "      <th>location</th>\n",
       "      <th>text</th>\n",
       "      <th>tweetid</th>\n",
       "      <th>userid</th>\n",
       "    </tr>\n",
       "  </thead>\n",
       "  <tbody>\n",
       "    <tr>\n",
       "      <th>0</th>\n",
       "      <td>778243823</td>\n",
       "      <td>True</td>\n",
       "      <td>golden</td>\n",
       "      <td>156</td>\n",
       "      <td>NaN</td>\n",
       "      <td>Relevant</td>\n",
       "      <td>1.0</td>\n",
       "      <td>Relevant</td>\n",
       "      <td>NaN</td>\n",
       "      <td>NaN</td>\n",
       "      <td>Just happened a terrible car crash</td>\n",
       "      <td>1.0</td>\n",
       "      <td>NaN</td>\n",
       "    </tr>\n",
       "    <tr>\n",
       "      <th>1</th>\n",
       "      <td>778243824</td>\n",
       "      <td>True</td>\n",
       "      <td>golden</td>\n",
       "      <td>152</td>\n",
       "      <td>NaN</td>\n",
       "      <td>Relevant</td>\n",
       "      <td>1.0</td>\n",
       "      <td>Relevant</td>\n",
       "      <td>NaN</td>\n",
       "      <td>NaN</td>\n",
       "      <td>Our Deeds are the Reason of this #earthquake M...</td>\n",
       "      <td>13.0</td>\n",
       "      <td>NaN</td>\n",
       "    </tr>\n",
       "  </tbody>\n",
       "</table>\n",
       "</div>"
      ],
      "text/plain": [
       "    _unit_id  _golden _unit_state  _trusted_judgments _last_judgment_at  \\\n",
       "0  778243823     True      golden                 156               NaN   \n",
       "1  778243824     True      golden                 152               NaN   \n",
       "\n",
       "  choose_one  choose_one:confidence choose_one_gold keyword location  \\\n",
       "0   Relevant                    1.0        Relevant     NaN      NaN   \n",
       "1   Relevant                    1.0        Relevant     NaN      NaN   \n",
       "\n",
       "                                                text  tweetid  userid  \n",
       "0                 Just happened a terrible car crash      1.0     NaN  \n",
       "1  Our Deeds are the Reason of this #earthquake M...     13.0     NaN  "
      ]
     },
     "execution_count": 8,
     "metadata": {},
     "output_type": "execute_result"
    }
   ],
   "source": [
    "train2.head(2)"
   ]
  },
  {
   "cell_type": "markdown",
   "id": "69e851f2",
   "metadata": {
    "papermill": {
     "duration": 0.020225,
     "end_time": "2023-07-14T12:10:50.795011",
     "exception": false,
     "start_time": "2023-07-14T12:10:50.774786",
     "status": "completed"
    },
    "tags": []
   },
   "source": [
    "## EDA of Original dataset"
   ]
  },
  {
   "cell_type": "code",
   "execution_count": 9,
   "id": "92f6dd96",
   "metadata": {
    "execution": {
     "iopub.execute_input": "2023-07-14T12:10:50.837775Z",
     "iopub.status.busy": "2023-07-14T12:10:50.837515Z",
     "iopub.status.idle": "2023-07-14T12:10:50.842342Z",
     "shell.execute_reply": "2023-07-14T12:10:50.841620Z"
    },
    "papermill": {
     "duration": 0.028475,
     "end_time": "2023-07-14T12:10:50.844389",
     "exception": false,
     "start_time": "2023-07-14T12:10:50.815914",
     "status": "completed"
    },
    "tags": []
   },
   "outputs": [],
   "source": [
    "#Define the label\n",
    "TARGET = \"target\""
   ]
  },
  {
   "cell_type": "code",
   "execution_count": 10,
   "id": "21a0b880",
   "metadata": {
    "execution": {
     "iopub.execute_input": "2023-07-14T12:10:50.886782Z",
     "iopub.status.busy": "2023-07-14T12:10:50.886522Z",
     "iopub.status.idle": "2023-07-14T12:10:50.891518Z",
     "shell.execute_reply": "2023-07-14T12:10:50.890513Z"
    },
    "papermill": {
     "duration": 0.02863,
     "end_time": "2023-07-14T12:10:50.893875",
     "exception": false,
     "start_time": "2023-07-14T12:10:50.865245",
     "status": "completed"
    },
    "tags": []
   },
   "outputs": [],
   "source": [
    "#Define a function to plot he Null values in a given DataFrame\n",
    "def plot_null_values(df):\n",
    "    print(\"Total number of samples in the data =\",df.shape[0])\n",
    "    sns.heatmap(df.isnull().sum().to_frame(),\n",
    "                annot=True,\n",
    "                fmt=\"d\",\n",
    "                cmap=\"crest\"\n",
    "                )\n",
    "    plt.title(\"Heatmap of NULL values\")"
   ]
  },
  {
   "cell_type": "code",
   "execution_count": 11,
   "id": "412fc448",
   "metadata": {
    "execution": {
     "iopub.execute_input": "2023-07-14T12:10:50.936135Z",
     "iopub.status.busy": "2023-07-14T12:10:50.935869Z",
     "iopub.status.idle": "2023-07-14T12:10:51.288620Z",
     "shell.execute_reply": "2023-07-14T12:10:51.287746Z"
    },
    "papermill": {
     "duration": 0.375866,
     "end_time": "2023-07-14T12:10:51.290535",
     "exception": false,
     "start_time": "2023-07-14T12:10:50.914669",
     "status": "completed"
    },
    "tags": []
   },
   "outputs": [
    {
     "name": "stdout",
     "output_type": "stream",
     "text": [
      "\t\t\t\tNULL values in Train Dataset\n",
      "Total number of samples in the data = 7613\n"
     ]
    },
    {
     "data": {
      "image/png": "[encoded data removed]",
      "text/plain": [
       "<Figure size 640x480 with 2 Axes>"
      ]
     },
     "metadata": {},
     "output_type": "display_data"
    }
   ],
   "source": [
    "#Use the plot_null_values function to plot Null values in the train dataset\n",
    "print(\"\\t\\t\\t\\tNULL values in Train Dataset\")\n",
    "plot_null_values(train)"
   ]
  },
  {
   "cell_type": "code",
   "execution_count": 12,
   "id": "00531886",
   "metadata": {
    "execution": {
     "iopub.execute_input": "2023-07-14T12:10:51.333751Z",
     "iopub.status.busy": "2023-07-14T12:10:51.332993Z",
     "iopub.status.idle": "2023-07-14T12:10:51.637163Z",
     "shell.execute_reply": "2023-07-14T12:10:51.636230Z"
    },
    "papermill": {
     "duration": 0.327761,
     "end_time": "2023-07-14T12:10:51.639204",
     "exception": false,
     "start_time": "2023-07-14T12:10:51.311443",
     "status": "completed"
    },
    "tags": []
   },
   "outputs": [
    {
     "name": "stdout",
     "output_type": "stream",
     "text": [
      "\t\t\t\tNULL values in Test Dataset\n",
      "Total number of samples in the data = 3263\n"
     ]
    },
    {
     "data": {
      "image/png": "[encoded data removed]",
      "text/plain": [
       "<Figure size 640x480 with 2 Axes>"
      ]
     },
     "metadata": {},
     "output_type": "display_data"
    }
   ],
   "source": [
    "#Use the plot_null_values function to plot Null values in the test dataset\n",
    "print(\"\\t\\t\\t\\tNULL values in Test Dataset\")\n",
    "plot_null_values(test)"
   ]
  },
  {
   "cell_type": "code",
   "execution_count": 13,
   "id": "d218cbce",
   "metadata": {
    "execution": {
     "iopub.execute_input": "2023-07-14T12:10:51.684458Z",
     "iopub.status.busy": "2023-07-14T12:10:51.683574Z",
     "iopub.status.idle": "2023-07-14T12:10:51.698899Z",
     "shell.execute_reply": "2023-07-14T12:10:51.698048Z"
    },
    "papermill": {
     "duration": 0.040324,
     "end_time": "2023-07-14T12:10:51.701084",
     "exception": false,
     "start_time": "2023-07-14T12:10:51.660760",
     "status": "completed"
    },
    "tags": []
   },
   "outputs": [],
   "source": [
    "#Replace the Null values with str(0)\n",
    "train.fillna(\"0\",inplace=True)\n",
    "test.fillna(\"0\",inplace=True)"
   ]
  },
  {
   "cell_type": "code",
   "execution_count": 14,
   "id": "7a82ccfc",
   "metadata": {
    "execution": {
     "iopub.execute_input": "2023-07-14T12:10:51.746555Z",
     "iopub.status.busy": "2023-07-14T12:10:51.745770Z",
     "iopub.status.idle": "2023-07-14T12:10:52.095773Z",
     "shell.execute_reply": "2023-07-14T12:10:52.094893Z"
    },
    "papermill": {
     "duration": 0.374968,
     "end_time": "2023-07-14T12:10:52.097923",
     "exception": false,
     "start_time": "2023-07-14T12:10:51.722955",
     "status": "completed"
    },
    "tags": []
   },
   "outputs": [
    {
     "name": "stdout",
     "output_type": "stream",
     "text": [
      "\t\t\t\tNULL values in Train Dataset\n",
      "Total number of samples in the data = 7613\n"
     ]
    },
    {
     "data": {
      "image/png": "[encoded data removed]",
      "text/plain": [
       "<Figure size 640x480 with 2 Axes>"
      ]
     },
     "metadata": {},
     "output_type": "display_data"
    }
   ],
   "source": [
    "#Check the updated train dataset\n",
    "print(\"\\t\\t\\t\\tNULL values in Train Dataset\")\n",
    "plot_null_values(train)"
   ]
  },
  {
   "cell_type": "code",
   "execution_count": 15,
   "id": "82540537",
   "metadata": {
    "execution": {
     "iopub.execute_input": "2023-07-14T12:10:52.143684Z",
     "iopub.status.busy": "2023-07-14T12:10:52.143401Z",
     "iopub.status.idle": "2023-07-14T12:10:52.499146Z",
     "shell.execute_reply": "2023-07-14T12:10:52.498240Z"
    },
    "papermill": {
     "duration": 0.381501,
     "end_time": "2023-07-14T12:10:52.501429",
     "exception": false,
     "start_time": "2023-07-14T12:10:52.119928",
     "status": "completed"
    },
    "tags": []
   },
   "outputs": [
    {
     "name": "stdout",
     "output_type": "stream",
     "text": [
      "\t\t\t\tNULL values in Test Dataset\n",
      "Total number of samples in the data = 3263\n"
     ]
    },
    {
     "data": {
      "image/png": "[encoded data removed]",
      "text/plain": [
       "<Figure size 640x480 with 2 Axes>"
      ]
     },
     "metadata": {},
     "output_type": "display_data"
    }
   ],
   "source": [
    "#Check the updated test dataset\n",
    "print(\"\\t\\t\\t\\tNULL values in Test Dataset\")\n",
    "plot_null_values(test)"
   ]
  },
  {
   "cell_type": "code",
   "execution_count": 16,
   "id": "a70d54f7",
   "metadata": {
    "execution": {
     "iopub.execute_input": "2023-07-14T12:10:52.548099Z",
     "iopub.status.busy": "2023-07-14T12:10:52.547801Z",
     "iopub.status.idle": "2023-07-14T12:10:52.570138Z",
     "shell.execute_reply": "2023-07-14T12:10:52.569078Z"
    },
    "papermill": {
     "duration": 0.048584,
     "end_time": "2023-07-14T12:10:52.572394",
     "exception": false,
     "start_time": "2023-07-14T12:10:52.523810",
     "status": "completed"
    },
    "tags": []
   },
   "outputs": [
    {
     "data": {
      "text/html": [
       "<div>\n",
       "<style scoped>\n",
       "    .dataframe tbody tr th:only-of-type {\n",
       "        vertical-align: middle;\n",
       "    }\n",
       "\n",
       "    .dataframe tbody tr th {\n",
       "        vertical-align: top;\n",
       "    }\n",
       "\n",
       "    .dataframe thead th {\n",
       "        text-align: right;\n",
       "    }\n",
       "</style>\n",
       "<table border=\"1\" class=\"dataframe\">\n",
       "  <thead>\n",
       "    <tr style=\"text-align: right;\">\n",
       "      <th></th>\n",
       "      <th>id</th>\n",
       "      <th>keyword</th>\n",
       "      <th>location</th>\n",
       "      <th>text</th>\n",
       "      <th>target</th>\n",
       "    </tr>\n",
       "  </thead>\n",
       "  <tbody>\n",
       "  </tbody>\n",
       "</table>\n",
       "</div>"
      ],
      "text/plain": [
       "Empty DataFrame\n",
       "Columns: [id, keyword, location, text, target]\n",
       "Index: []"
      ]
     },
     "execution_count": 16,
     "metadata": {},
     "output_type": "execute_result"
    }
   ],
   "source": [
    "#Check for duplicate values\n",
    "train[train.duplicated()]"
   ]
  },
  {
   "cell_type": "markdown",
   "id": "6916afb4",
   "metadata": {
    "papermill": {
     "duration": 0.022998,
     "end_time": "2023-07-14T12:10:52.617915",
     "exception": false,
     "start_time": "2023-07-14T12:10:52.594917",
     "status": "completed"
    },
    "tags": []
   },
   "source": [
    "**It is evident that there are no repeated tweets in our dataset.**\n",
    "\n",
    "## Target Analysis\n",
    "\n",
    "To assess the balance of our data, let's examine the distribution of values in the \"target\" column."
   ]
  },
  {
   "cell_type": "code",
   "execution_count": 17,
   "id": "2827bfe0",
   "metadata": {
    "execution": {
     "iopub.execute_input": "2023-07-14T12:10:52.664952Z",
     "iopub.status.busy": "2023-07-14T12:10:52.664688Z",
     "iopub.status.idle": "2023-07-14T12:10:52.986536Z",
     "shell.execute_reply": "2023-07-14T12:10:52.985542Z"
    },
    "papermill": {
     "duration": 0.347988,
     "end_time": "2023-07-14T12:10:52.988857",
     "exception": false,
     "start_time": "2023-07-14T12:10:52.640869",
     "status": "completed"
    },
    "tags": []
   },
   "outputs": [
    {
     "data": {
      "text/plain": [
       "Text(0.5, 1.0, 'Distribution of target values')"
      ]
     },
     "execution_count": 17,
     "metadata": {},
     "output_type": "execute_result"
    },
    {
     "data": {
      "image/png": "[encoded data removed]",
      "text/plain": [
       "<Figure size 640x480 with 1 Axes>"
      ]
     },
     "metadata": {},
     "output_type": "display_data"
    }
   ],
   "source": [
    "#Target analysis\n",
    "sns.histplot(x=train[TARGET])\n",
    "plt.title(\"Distribution of target values\")"
   ]
  },
  {
   "cell_type": "markdown",
   "id": "b45c6fd9",
   "metadata": {
    "papermill": {
     "duration": 0.022609,
     "end_time": "2023-07-14T12:10:53.035443",
     "exception": false,
     "start_time": "2023-07-14T12:10:53.012834",
     "status": "completed"
    },
    "tags": []
   },
   "source": [
    "## Feature Analysis\n",
    "\n",
    "Let's examine the distribution of features."
   ]
  },
  {
   "cell_type": "code",
   "execution_count": 18,
   "id": "0e1823ad",
   "metadata": {
    "execution": {
     "iopub.execute_input": "2023-07-14T12:10:53.081915Z",
     "iopub.status.busy": "2023-07-14T12:10:53.081643Z",
     "iopub.status.idle": "2023-07-14T12:10:53.096777Z",
     "shell.execute_reply": "2023-07-14T12:10:53.095666Z"
    },
    "papermill": {
     "duration": 0.041238,
     "end_time": "2023-07-14T12:10:53.099214",
     "exception": false,
     "start_time": "2023-07-14T12:10:53.057976",
     "status": "completed"
    },
    "tags": []
   },
   "outputs": [
    {
     "data": {
      "text/html": [
       "<div>\n",
       "<style scoped>\n",
       "    .dataframe tbody tr th:only-of-type {\n",
       "        vertical-align: middle;\n",
       "    }\n",
       "\n",
       "    .dataframe tbody tr th {\n",
       "        vertical-align: top;\n",
       "    }\n",
       "\n",
       "    .dataframe thead th {\n",
       "        text-align: right;\n",
       "    }\n",
       "</style>\n",
       "<table border=\"1\" class=\"dataframe\">\n",
       "  <thead>\n",
       "    <tr style=\"text-align: right;\">\n",
       "      <th></th>\n",
       "      <th>keyword</th>\n",
       "      <th>count</th>\n",
       "    </tr>\n",
       "  </thead>\n",
       "  <tbody>\n",
       "    <tr>\n",
       "      <th>0</th>\n",
       "      <td>0</td>\n",
       "      <td>61</td>\n",
       "    </tr>\n",
       "    <tr>\n",
       "      <th>105</th>\n",
       "      <td>fatalities</td>\n",
       "      <td>45</td>\n",
       "    </tr>\n",
       "    <tr>\n",
       "      <th>64</th>\n",
       "      <td>deluge</td>\n",
       "      <td>42</td>\n",
       "    </tr>\n",
       "    <tr>\n",
       "      <th>9</th>\n",
       "      <td>armageddon</td>\n",
       "      <td>42</td>\n",
       "    </tr>\n",
       "    <tr>\n",
       "      <th>178</th>\n",
       "      <td>sinking</td>\n",
       "      <td>41</td>\n",
       "    </tr>\n",
       "    <tr>\n",
       "      <th>...</th>\n",
       "      <td>...</td>\n",
       "      <td>...</td>\n",
       "    </tr>\n",
       "    <tr>\n",
       "      <th>116</th>\n",
       "      <td>forest%20fire</td>\n",
       "      <td>19</td>\n",
       "    </tr>\n",
       "    <tr>\n",
       "      <th>95</th>\n",
       "      <td>epicentre</td>\n",
       "      <td>12</td>\n",
       "    </tr>\n",
       "    <tr>\n",
       "      <th>195</th>\n",
       "      <td>threat</td>\n",
       "      <td>11</td>\n",
       "    </tr>\n",
       "    <tr>\n",
       "      <th>135</th>\n",
       "      <td>inundation</td>\n",
       "      <td>10</td>\n",
       "    </tr>\n",
       "    <tr>\n",
       "      <th>161</th>\n",
       "      <td>radiation%20emergency</td>\n",
       "      <td>9</td>\n",
       "    </tr>\n",
       "  </tbody>\n",
       "</table>\n",
       "<p>222 rows × 2 columns</p>\n",
       "</div>"
      ],
      "text/plain": [
       "                   keyword  count\n",
       "0                        0     61\n",
       "105             fatalities     45\n",
       "64                  deluge     42\n",
       "9               armageddon     42\n",
       "178                sinking     41\n",
       "..                     ...    ...\n",
       "116          forest%20fire     19\n",
       "95               epicentre     12\n",
       "195                 threat     11\n",
       "135             inundation     10\n",
       "161  radiation%20emergency      9\n",
       "\n",
       "[222 rows x 2 columns]"
      ]
     },
     "execution_count": 18,
     "metadata": {},
     "output_type": "execute_result"
    }
   ],
   "source": [
    "#Group the train DataFrame by \"keyword\" column and\n",
    "# count the \"target\" Series group values\n",
    "keyword = train.groupby(\"keyword\")[\"target\"].count()\n",
    "\n",
    "#Convert the above Groupby Object to DataFrame and sort the values\n",
    "keyword_df = pd.DataFrame(data={\"keyword\":keyword.index, \"count\":keyword.values}).sort_values(by=[\"count\"],ascending=False)\n",
    "keyword_df"
   ]
  },
  {
   "cell_type": "code",
   "execution_count": 19,
   "id": "3a418833",
   "metadata": {
    "execution": {
     "iopub.execute_input": "2023-07-14T12:10:53.148947Z",
     "iopub.status.busy": "2023-07-14T12:10:53.148685Z",
     "iopub.status.idle": "2023-07-14T12:10:53.775348Z",
     "shell.execute_reply": "2023-07-14T12:10:53.774437Z"
    },
    "papermill": {
     "duration": 0.653132,
     "end_time": "2023-07-14T12:10:53.777544",
     "exception": false,
     "start_time": "2023-07-14T12:10:53.124412",
     "status": "completed"
    },
    "tags": []
   },
   "outputs": [
    {
     "data": {
      "image/png": "[encoded data removed]",
      "text/plain": [
       "<Figure size 1200x500 with 1 Axes>"
      ]
     },
     "metadata": {},
     "output_type": "display_data"
    }
   ],
   "source": [
    "#Let's plot the \"key\" DataFrame\n",
    "plt.figure(figsize=(12,5))\n",
    "#Limit the data to top 30 keywords by .head() method\n",
    "sns.barplot(data=keyword_df.head(30), x = 'keyword',y = 'count')\n",
    "plt.xticks(rotation = 50)\n",
    "plt.ylabel('count')\n",
    "plt.title('Top 30 keywords on Tweets');"
   ]
  },
  {
   "cell_type": "code",
   "execution_count": 20,
   "id": "583c5882",
   "metadata": {
    "execution": {
     "iopub.execute_input": "2023-07-14T12:10:53.828811Z",
     "iopub.status.busy": "2023-07-14T12:10:53.828492Z",
     "iopub.status.idle": "2023-07-14T12:10:53.847015Z",
     "shell.execute_reply": "2023-07-14T12:10:53.845722Z"
    },
    "papermill": {
     "duration": 0.046499,
     "end_time": "2023-07-14T12:10:53.849787",
     "exception": false,
     "start_time": "2023-07-14T12:10:53.803288",
     "status": "completed"
    },
    "tags": []
   },
   "outputs": [
    {
     "data": {
      "text/html": [
       "<div>\n",
       "<style scoped>\n",
       "    .dataframe tbody tr th:only-of-type {\n",
       "        vertical-align: middle;\n",
       "    }\n",
       "\n",
       "    .dataframe tbody tr th {\n",
       "        vertical-align: top;\n",
       "    }\n",
       "\n",
       "    .dataframe thead th {\n",
       "        text-align: right;\n",
       "    }\n",
       "</style>\n",
       "<table border=\"1\" class=\"dataframe\">\n",
       "  <thead>\n",
       "    <tr style=\"text-align: right;\">\n",
       "      <th></th>\n",
       "      <th>location</th>\n",
       "      <th>count</th>\n",
       "    </tr>\n",
       "  </thead>\n",
       "  <tbody>\n",
       "    <tr>\n",
       "      <th>80</th>\n",
       "      <td>0</td>\n",
       "      <td>2533</td>\n",
       "    </tr>\n",
       "    <tr>\n",
       "      <th>2644</th>\n",
       "      <td>USA</td>\n",
       "      <td>104</td>\n",
       "    </tr>\n",
       "    <tr>\n",
       "      <th>1827</th>\n",
       "      <td>New York</td>\n",
       "      <td>71</td>\n",
       "    </tr>\n",
       "    <tr>\n",
       "      <th>2663</th>\n",
       "      <td>United States</td>\n",
       "      <td>50</td>\n",
       "    </tr>\n",
       "    <tr>\n",
       "      <th>1507</th>\n",
       "      <td>London</td>\n",
       "      <td>45</td>\n",
       "    </tr>\n",
       "    <tr>\n",
       "      <th>...</th>\n",
       "      <td>...</td>\n",
       "      <td>...</td>\n",
       "    </tr>\n",
       "    <tr>\n",
       "      <th>1199</th>\n",
       "      <td>Hueco Mundo</td>\n",
       "      <td>1</td>\n",
       "    </tr>\n",
       "    <tr>\n",
       "      <th>1200</th>\n",
       "      <td>Hughes, AR</td>\n",
       "      <td>1</td>\n",
       "    </tr>\n",
       "    <tr>\n",
       "      <th>1201</th>\n",
       "      <td>Huntington, WV</td>\n",
       "      <td>1</td>\n",
       "    </tr>\n",
       "    <tr>\n",
       "      <th>1202</th>\n",
       "      <td>Huntley, IL</td>\n",
       "      <td>1</td>\n",
       "    </tr>\n",
       "    <tr>\n",
       "      <th>3341</th>\n",
       "      <td>åø\\_(?)_/åø</td>\n",
       "      <td>1</td>\n",
       "    </tr>\n",
       "  </tbody>\n",
       "</table>\n",
       "<p>3342 rows × 2 columns</p>\n",
       "</div>"
      ],
      "text/plain": [
       "            location  count\n",
       "80                 0   2533\n",
       "2644             USA    104\n",
       "1827        New York     71\n",
       "2663   United States     50\n",
       "1507          London     45\n",
       "...              ...    ...\n",
       "1199     Hueco Mundo      1\n",
       "1200      Hughes, AR      1\n",
       "1201  Huntington, WV      1\n",
       "1202     Huntley, IL      1\n",
       "3341     åø\\_(?)_/åø      1\n",
       "\n",
       "[3342 rows x 2 columns]"
      ]
     },
     "execution_count": 20,
     "metadata": {},
     "output_type": "execute_result"
    }
   ],
   "source": [
    "#Group the train DataFrame by \"keyword\" column and\n",
    "# count the \"target\" Series group values\n",
    "location = train.groupby(\"location\")[\"target\"].count()\n",
    "\n",
    "#Convert the above Groupby Object to DataFrame and sort the values\n",
    "location_df = pd.DataFrame(data={\"location\":location.index, \"count\":location.values}).sort_values(by=[\"count\"],ascending=False)\n",
    "location_df"
   ]
  },
  {
   "cell_type": "code",
   "execution_count": 21,
   "id": "24e042ae",
   "metadata": {
    "execution": {
     "iopub.execute_input": "2023-07-14T12:10:53.902124Z",
     "iopub.status.busy": "2023-07-14T12:10:53.901855Z",
     "iopub.status.idle": "2023-07-14T12:10:54.532369Z",
     "shell.execute_reply": "2023-07-14T12:10:54.531273Z"
    },
    "papermill": {
     "duration": 0.659986,
     "end_time": "2023-07-14T12:10:54.536209",
     "exception": false,
     "start_time": "2023-07-14T12:10:53.876223",
     "status": "completed"
    },
    "tags": []
   },
   "outputs": [
    {
     "data": {
      "image/png": "[encoded data removed]",
      "text/plain": [
       "<Figure size 1200x500 with 1 Axes>"
      ]
     },
     "metadata": {},
     "output_type": "display_data"
    }
   ],
   "source": [
    "#Let's plot the \"location\" DataFrame\n",
    "plt.figure(figsize=(12,5))\n",
    "\n",
    "#Limit the data to top 30 locations by .head() method\n",
    "sns.barplot(data=location_df.head(30), x = 'location',y = 'count')\n",
    "plt.xticks(rotation = 50)\n",
    "plt.ylabel('count')\n",
    "plt.title('Top 30 locations on Tweets');"
   ]
  },
  {
   "cell_type": "markdown",
   "id": "107bc97c",
   "metadata": {
    "papermill": {
     "duration": 0.026006,
     "end_time": "2023-07-14T12:10:54.591070",
     "exception": false,
     "start_time": "2023-07-14T12:10:54.565064",
     "status": "completed"
    },
    "tags": []
   },
   "source": [
    "**The \"0\" location used in place of \"Null\" values have distorted the view of location distribution. Let's plot the distribution without \"0\" value**"
   ]
  },
  {
   "cell_type": "code",
   "execution_count": 22,
   "id": "d8effcac",
   "metadata": {
    "execution": {
     "iopub.execute_input": "2023-07-14T12:10:54.644950Z",
     "iopub.status.busy": "2023-07-14T12:10:54.644633Z",
     "iopub.status.idle": "2023-07-14T12:10:55.208085Z",
     "shell.execute_reply": "2023-07-14T12:10:55.207209Z"
    },
    "papermill": {
     "duration": 0.592994,
     "end_time": "2023-07-14T12:10:55.210229",
     "exception": false,
     "start_time": "2023-07-14T12:10:54.617235",
     "status": "completed"
    },
    "tags": []
   },
   "outputs": [
    {
     "data": {
      "image/png": "[encoded data removed]",
      "text/plain": [
       "<Figure size 1200x500 with 1 Axes>"
      ]
     },
     "metadata": {},
     "output_type": "display_data"
    }
   ],
   "source": [
    "#Let's plot the \"location\" DataFrame with \"0\" discarded\n",
    "plt.figure(figsize=(12,5))\n",
    "\n",
    "#Limit the data to top 30 locations by .head() method\n",
    "# and use the iloc to discard \"0\"\n",
    "sns.barplot(data=location_df.head(31).iloc[1:,:], x = 'location',y = 'count')\n",
    "plt.xticks(rotation = 50)\n",
    "plt.ylabel('count')\n",
    "plt.title('Top 30 locations of Tweets');"
   ]
  },
  {
   "cell_type": "code",
   "execution_count": 23,
   "id": "b9e7e0a9",
   "metadata": {
    "execution": {
     "iopub.execute_input": "2023-07-14T12:10:55.264768Z",
     "iopub.status.busy": "2023-07-14T12:10:55.264240Z",
     "iopub.status.idle": "2023-07-14T12:10:55.271207Z",
     "shell.execute_reply": "2023-07-14T12:10:55.270262Z"
    },
    "papermill": {
     "duration": 0.036306,
     "end_time": "2023-07-14T12:10:55.273254",
     "exception": false,
     "start_time": "2023-07-14T12:10:55.236948",
     "status": "completed"
    },
    "tags": []
   },
   "outputs": [],
   "source": [
    "#Define a function to get the maximum length of words in each column\n",
    "def check_max_length_sentence(df):\n",
    "    max_length = 0\n",
    "    for text in df[\"text\"]:\n",
    "        if len(text) > max_length:\n",
    "            max_length = len(text)\n",
    "    print(\"Maximum length of Text column is:\",max_length)\n",
    "    \n",
    "    max_length = 0\n",
    "    for text in df[\"location\"]:\n",
    "        if len(text) > max_length:\n",
    "            max_length = len(text)\n",
    "    print(\"Maximum length of Location column is:\",max_length)\n",
    "    \n",
    "    max_length = 0\n",
    "    for text in df[\"keyword\"]:\n",
    "        if len(text) > max_length:\n",
    "            max_length = len(text)\n",
    "    print(\"Maximum length of Keyword column is:\",max_length)"
   ]
  },
  {
   "cell_type": "code",
   "execution_count": 24,
   "id": "aa57f22f",
   "metadata": {
    "execution": {
     "iopub.execute_input": "2023-07-14T12:10:55.329209Z",
     "iopub.status.busy": "2023-07-14T12:10:55.327285Z",
     "iopub.status.idle": "2023-07-14T12:10:55.340181Z",
     "shell.execute_reply": "2023-07-14T12:10:55.339311Z"
    },
    "papermill": {
     "duration": 0.042988,
     "end_time": "2023-07-14T12:10:55.342131",
     "exception": false,
     "start_time": "2023-07-14T12:10:55.299143",
     "status": "completed"
    },
    "tags": []
   },
   "outputs": [
    {
     "name": "stdout",
     "output_type": "stream",
     "text": [
      "Maximum length of Text column is: 157\n",
      "Maximum length of Location column is: 49\n",
      "Maximum length of Keyword column is: 21\n"
     ]
    }
   ],
   "source": [
    "#Maximum lengths of columns in train data\n",
    "check_max_length_sentence(train)"
   ]
  },
  {
   "cell_type": "code",
   "execution_count": 25,
   "id": "fb34234b",
   "metadata": {
    "execution": {
     "iopub.execute_input": "2023-07-14T12:10:55.397030Z",
     "iopub.status.busy": "2023-07-14T12:10:55.396412Z",
     "iopub.status.idle": "2023-07-14T12:10:55.403538Z",
     "shell.execute_reply": "2023-07-14T12:10:55.402547Z"
    },
    "papermill": {
     "duration": 0.037933,
     "end_time": "2023-07-14T12:10:55.406953",
     "exception": false,
     "start_time": "2023-07-14T12:10:55.369020",
     "status": "completed"
    },
    "tags": []
   },
   "outputs": [
    {
     "name": "stdout",
     "output_type": "stream",
     "text": [
      "Maximum length of Text column is: 151\n",
      "Maximum length of Location column is: 42\n",
      "Maximum length of Keyword column is: 21\n"
     ]
    }
   ],
   "source": [
    "#Maximum lengths of columns in test data\n",
    "check_max_length_sentence(test)"
   ]
  },
  {
   "cell_type": "markdown",
   "id": "38138392",
   "metadata": {
    "papermill": {
     "duration": 0.028701,
     "end_time": "2023-07-14T12:10:55.464271",
     "exception": false,
     "start_time": "2023-07-14T12:10:55.435570",
     "status": "completed"
    },
    "tags": []
   },
   "source": [
    "**Relying solely on the length of tweets doesn't provide a comprehensive understanding. To gain a better perspective on the maximum length required for vectorization, let's examine the distribution of tweet lengths.**"
   ]
  },
  {
   "cell_type": "code",
   "execution_count": 26,
   "id": "5a06a31b",
   "metadata": {
    "execution": {
     "iopub.execute_input": "2023-07-14T12:10:55.518982Z",
     "iopub.status.busy": "2023-07-14T12:10:55.518699Z",
     "iopub.status.idle": "2023-07-14T12:10:55.524667Z",
     "shell.execute_reply": "2023-07-14T12:10:55.523715Z"
    },
    "papermill": {
     "duration": 0.03527,
     "end_time": "2023-07-14T12:10:55.526604",
     "exception": false,
     "start_time": "2023-07-14T12:10:55.491334",
     "status": "completed"
    },
    "tags": []
   },
   "outputs": [],
   "source": [
    "def get_sentence_lengths(df):\n",
    "    df2 = pd.DataFrame(columns=[\"length\"])\n",
    "    i = 0\n",
    "    for text in df[\"text\"]:\n",
    "        df2.loc[i,\"length\"] = len(text)\n",
    "        i+=1\n",
    "    return df2\n",
    "\n",
    "def plot_sentence_lengths(df):\n",
    "    lengths_df = get_sentence_lengths(df)\n",
    "    bins = range(0,161,20)\n",
    "    plt.hist(lengths_df[\"length\"], bins=bins,alpha=0.3)\n",
    "    #sns.countplot(data=lengths_df, x=\"length\")\n",
    "    plt.title(\"Distribution of sentence lengths\")"
   ]
  },
  {
   "cell_type": "code",
   "execution_count": 27,
   "id": "b151f25d",
   "metadata": {
    "execution": {
     "iopub.execute_input": "2023-07-14T12:10:55.581671Z",
     "iopub.status.busy": "2023-07-14T12:10:55.581408Z",
     "iopub.status.idle": "2023-07-14T12:10:58.963203Z",
     "shell.execute_reply": "2023-07-14T12:10:58.962158Z"
    },
    "papermill": {
     "duration": 3.412056,
     "end_time": "2023-07-14T12:10:58.965757",
     "exception": false,
     "start_time": "2023-07-14T12:10:55.553701",
     "status": "completed"
    },
    "tags": []
   },
   "outputs": [
    {
     "data": {
      "image/png": "[encoded data removed]",
      "text/plain": [
       "<Figure size 640x480 with 1 Axes>"
      ]
     },
     "metadata": {},
     "output_type": "display_data"
    }
   ],
   "source": [
    "#Use the plot_sentence_lengths function on train dataset\n",
    "plot_sentence_lengths(train)"
   ]
  },
  {
   "cell_type": "code",
   "execution_count": 28,
   "id": "beeb7215",
   "metadata": {
    "execution": {
     "iopub.execute_input": "2023-07-14T12:10:59.022147Z",
     "iopub.status.busy": "2023-07-14T12:10:59.021332Z",
     "iopub.status.idle": "2023-07-14T12:11:00.427755Z",
     "shell.execute_reply": "2023-07-14T12:11:00.426842Z"
    },
    "papermill": {
     "duration": 1.437043,
     "end_time": "2023-07-14T12:11:00.430248",
     "exception": false,
     "start_time": "2023-07-14T12:10:58.993205",
     "status": "completed"
    },
    "tags": []
   },
   "outputs": [
    {
     "data": {
      "image/png": "[encoded data removed]",
      "text/plain": [
       "<Figure size 640x480 with 1 Axes>"
      ]
     },
     "metadata": {},
     "output_type": "display_data"
    }
   ],
   "source": [
    "#Use the plot_sentence_lengths function on test dataset\n",
    "plot_sentence_lengths(test)"
   ]
  },
  {
   "cell_type": "markdown",
   "id": "d3ccd3d7",
   "metadata": {
    "papermill": {
     "duration": 0.028624,
     "end_time": "2023-07-14T12:11:00.492699",
     "exception": false,
     "start_time": "2023-07-14T12:11:00.464075",
     "status": "completed"
    },
    "tags": []
   },
   "source": [
    "## Analyze the Disaster on Social Media dataset"
   ]
  },
  {
   "cell_type": "code",
   "execution_count": 29,
   "id": "2488ba29",
   "metadata": {
    "execution": {
     "iopub.execute_input": "2023-07-14T12:11:00.549444Z",
     "iopub.status.busy": "2023-07-14T12:11:00.549097Z",
     "iopub.status.idle": "2023-07-14T12:11:00.565233Z",
     "shell.execute_reply": "2023-07-14T12:11:00.564165Z"
    },
    "papermill": {
     "duration": 0.047315,
     "end_time": "2023-07-14T12:11:00.567427",
     "exception": false,
     "start_time": "2023-07-14T12:11:00.520112",
     "status": "completed"
    },
    "tags": []
   },
   "outputs": [
    {
     "data": {
      "text/html": [
       "<div>\n",
       "<style scoped>\n",
       "    .dataframe tbody tr th:only-of-type {\n",
       "        vertical-align: middle;\n",
       "    }\n",
       "\n",
       "    .dataframe tbody tr th {\n",
       "        vertical-align: top;\n",
       "    }\n",
       "\n",
       "    .dataframe thead th {\n",
       "        text-align: right;\n",
       "    }\n",
       "</style>\n",
       "<table border=\"1\" class=\"dataframe\">\n",
       "  <thead>\n",
       "    <tr style=\"text-align: right;\">\n",
       "      <th></th>\n",
       "      <th>keyword</th>\n",
       "      <th>location</th>\n",
       "      <th>text</th>\n",
       "      <th>choose_one</th>\n",
       "    </tr>\n",
       "  </thead>\n",
       "  <tbody>\n",
       "    <tr>\n",
       "      <th>0</th>\n",
       "      <td>NaN</td>\n",
       "      <td>NaN</td>\n",
       "      <td>Just happened a terrible car crash</td>\n",
       "      <td>Relevant</td>\n",
       "    </tr>\n",
       "    <tr>\n",
       "      <th>1</th>\n",
       "      <td>NaN</td>\n",
       "      <td>NaN</td>\n",
       "      <td>Our Deeds are the Reason of this #earthquake M...</td>\n",
       "      <td>Relevant</td>\n",
       "    </tr>\n",
       "    <tr>\n",
       "      <th>2</th>\n",
       "      <td>NaN</td>\n",
       "      <td>NaN</td>\n",
       "      <td>Heard about #earthquake is different cities, s...</td>\n",
       "      <td>Relevant</td>\n",
       "    </tr>\n",
       "    <tr>\n",
       "      <th>3</th>\n",
       "      <td>NaN</td>\n",
       "      <td>NaN</td>\n",
       "      <td>there is a forest fire at spot pond, geese are...</td>\n",
       "      <td>Relevant</td>\n",
       "    </tr>\n",
       "    <tr>\n",
       "      <th>4</th>\n",
       "      <td>NaN</td>\n",
       "      <td>NaN</td>\n",
       "      <td>Forest fire near La Ronge Sask. Canada</td>\n",
       "      <td>Relevant</td>\n",
       "    </tr>\n",
       "    <tr>\n",
       "      <th>...</th>\n",
       "      <td>...</td>\n",
       "      <td>...</td>\n",
       "      <td>...</td>\n",
       "      <td>...</td>\n",
       "    </tr>\n",
       "    <tr>\n",
       "      <th>10871</th>\n",
       "      <td>NaN</td>\n",
       "      <td>NaN</td>\n",
       "      <td>M1.94 [01:04 UTC]?5km S of Volcano Hawaii. htt...</td>\n",
       "      <td>Relevant</td>\n",
       "    </tr>\n",
       "    <tr>\n",
       "      <th>10872</th>\n",
       "      <td>NaN</td>\n",
       "      <td>NaN</td>\n",
       "      <td>Police investigating after an e-bike collided ...</td>\n",
       "      <td>Relevant</td>\n",
       "    </tr>\n",
       "    <tr>\n",
       "      <th>10873</th>\n",
       "      <td>NaN</td>\n",
       "      <td>NaN</td>\n",
       "      <td>The Latest: More Homes Razed by Northern Calif...</td>\n",
       "      <td>Relevant</td>\n",
       "    </tr>\n",
       "    <tr>\n",
       "      <th>10874</th>\n",
       "      <td>NaN</td>\n",
       "      <td>NaN</td>\n",
       "      <td>MEG issues Hazardous Weather Outlook (HWO) htt...</td>\n",
       "      <td>Relevant</td>\n",
       "    </tr>\n",
       "    <tr>\n",
       "      <th>10875</th>\n",
       "      <td>NaN</td>\n",
       "      <td>NaN</td>\n",
       "      <td>#CityofCalgary has activated its Municipal Eme...</td>\n",
       "      <td>Relevant</td>\n",
       "    </tr>\n",
       "  </tbody>\n",
       "</table>\n",
       "<p>10876 rows × 4 columns</p>\n",
       "</div>"
      ],
      "text/plain": [
       "      keyword location                                               text  \\\n",
       "0         NaN      NaN                 Just happened a terrible car crash   \n",
       "1         NaN      NaN  Our Deeds are the Reason of this #earthquake M...   \n",
       "2         NaN      NaN  Heard about #earthquake is different cities, s...   \n",
       "3         NaN      NaN  there is a forest fire at spot pond, geese are...   \n",
       "4         NaN      NaN             Forest fire near La Ronge Sask. Canada   \n",
       "...       ...      ...                                                ...   \n",
       "10871     NaN      NaN  M1.94 [01:04 UTC]?5km S of Volcano Hawaii. htt...   \n",
       "10872     NaN      NaN  Police investigating after an e-bike collided ...   \n",
       "10873     NaN      NaN  The Latest: More Homes Razed by Northern Calif...   \n",
       "10874     NaN      NaN  MEG issues Hazardous Weather Outlook (HWO) htt...   \n",
       "10875     NaN      NaN  #CityofCalgary has activated its Municipal Eme...   \n",
       "\n",
       "      choose_one  \n",
       "0       Relevant  \n",
       "1       Relevant  \n",
       "2       Relevant  \n",
       "3       Relevant  \n",
       "4       Relevant  \n",
       "...          ...  \n",
       "10871   Relevant  \n",
       "10872   Relevant  \n",
       "10873   Relevant  \n",
       "10874   Relevant  \n",
       "10875   Relevant  \n",
       "\n",
       "[10876 rows x 4 columns]"
      ]
     },
     "execution_count": 29,
     "metadata": {},
     "output_type": "execute_result"
    }
   ],
   "source": [
    "#Extract the part relevant columns\n",
    "train2s = train2[[\"keyword\",\"location\",\"text\",\"choose_one\"]].copy()\n",
    "train2s"
   ]
  },
  {
   "cell_type": "code",
   "execution_count": 30,
   "id": "83070971",
   "metadata": {
    "execution": {
     "iopub.execute_input": "2023-07-14T12:11:00.632017Z",
     "iopub.status.busy": "2023-07-14T12:11:00.631742Z",
     "iopub.status.idle": "2023-07-14T12:11:00.651158Z",
     "shell.execute_reply": "2023-07-14T12:11:00.650150Z"
    },
    "papermill": {
     "duration": 0.05065,
     "end_time": "2023-07-14T12:11:00.653073",
     "exception": false,
     "start_time": "2023-07-14T12:11:00.602423",
     "status": "completed"
    },
    "tags": []
   },
   "outputs": [
    {
     "data": {
      "text/plain": [
       "keyword         87\n",
       "location      3638\n",
       "text             0\n",
       "choose_one       0\n",
       "dtype: int64"
      ]
     },
     "execution_count": 30,
     "metadata": {},
     "output_type": "execute_result"
    }
   ],
   "source": [
    "#Check for the Null values\n",
    "train2s.isnull().sum()"
   ]
  },
  {
   "cell_type": "code",
   "execution_count": 31,
   "id": "93377477",
   "metadata": {
    "execution": {
     "iopub.execute_input": "2023-07-14T12:11:00.710832Z",
     "iopub.status.busy": "2023-07-14T12:11:00.709976Z",
     "iopub.status.idle": "2023-07-14T12:11:01.033294Z",
     "shell.execute_reply": "2023-07-14T12:11:01.032337Z"
    },
    "papermill": {
     "duration": 0.354438,
     "end_time": "2023-07-14T12:11:01.035374",
     "exception": false,
     "start_time": "2023-07-14T12:11:00.680936",
     "status": "completed"
    },
    "tags": []
   },
   "outputs": [
    {
     "name": "stdout",
     "output_type": "stream",
     "text": [
      "Total number of samples in the data = 10876\n"
     ]
    },
    {
     "data": {
      "image/png": "[encoded data removed]",
      "text/plain": [
       "<Figure size 640x480 with 2 Axes>"
      ]
     },
     "metadata": {},
     "output_type": "display_data"
    }
   ],
   "source": [
    "#For a better understanding, let's see the plot of Null values\n",
    "plot_null_values(train2s)"
   ]
  },
  {
   "cell_type": "code",
   "execution_count": 32,
   "id": "0bdf7f86",
   "metadata": {
    "execution": {
     "iopub.execute_input": "2023-07-14T12:11:01.094158Z",
     "iopub.status.busy": "2023-07-14T12:11:01.093378Z",
     "iopub.status.idle": "2023-07-14T12:11:01.458182Z",
     "shell.execute_reply": "2023-07-14T12:11:01.457225Z"
    },
    "papermill": {
     "duration": 0.396665,
     "end_time": "2023-07-14T12:11:01.460354",
     "exception": false,
     "start_time": "2023-07-14T12:11:01.063689",
     "status": "completed"
    },
    "tags": []
   },
   "outputs": [
    {
     "name": "stdout",
     "output_type": "stream",
     "text": [
      "Total number of samples in the data = 10876\n"
     ]
    },
    {
     "data": {
      "image/png": "[encoded data removed]",
      "text/plain": [
       "<Figure size 640x480 with 2 Axes>"
      ]
     },
     "metadata": {},
     "output_type": "display_data"
    }
   ],
   "source": [
    "#Fill the Null values with str(0)\n",
    "train2s.fillna(\"0\",inplace=True)\n",
    "\n",
    "#Check for te Null values\n",
    "plot_null_values(train2s)"
   ]
  },
  {
   "cell_type": "markdown",
   "id": "09708887",
   "metadata": {
    "papermill": {
     "duration": 0.028306,
     "end_time": "2023-07-14T12:11:01.519418",
     "exception": false,
     "start_time": "2023-07-14T12:11:01.491112",
     "status": "completed"
    },
    "tags": []
   },
   "source": [
    "### Target Analysis of Disaster on Social Media dataset"
   ]
  },
  {
   "cell_type": "code",
   "execution_count": 33,
   "id": "97d589db",
   "metadata": {
    "execution": {
     "iopub.execute_input": "2023-07-14T12:11:01.580328Z",
     "iopub.status.busy": "2023-07-14T12:11:01.579396Z",
     "iopub.status.idle": "2023-07-14T12:11:01.591512Z",
     "shell.execute_reply": "2023-07-14T12:11:01.590377Z"
    },
    "papermill": {
     "duration": 0.045804,
     "end_time": "2023-07-14T12:11:01.593640",
     "exception": false,
     "start_time": "2023-07-14T12:11:01.547836",
     "status": "completed"
    },
    "tags": []
   },
   "outputs": [
    {
     "data": {
      "text/html": [
       "<div>\n",
       "<style scoped>\n",
       "    .dataframe tbody tr th:only-of-type {\n",
       "        vertical-align: middle;\n",
       "    }\n",
       "\n",
       "    .dataframe tbody tr th {\n",
       "        vertical-align: top;\n",
       "    }\n",
       "\n",
       "    .dataframe thead th {\n",
       "        text-align: right;\n",
       "    }\n",
       "</style>\n",
       "<table border=\"1\" class=\"dataframe\">\n",
       "  <thead>\n",
       "    <tr style=\"text-align: right;\">\n",
       "      <th></th>\n",
       "      <th>keyword</th>\n",
       "      <th>location</th>\n",
       "      <th>text</th>\n",
       "      <th>target</th>\n",
       "    </tr>\n",
       "  </thead>\n",
       "  <tbody>\n",
       "    <tr>\n",
       "      <th>0</th>\n",
       "      <td>0</td>\n",
       "      <td>0</td>\n",
       "      <td>Just happened a terrible car crash</td>\n",
       "      <td>Relevant</td>\n",
       "    </tr>\n",
       "    <tr>\n",
       "      <th>1</th>\n",
       "      <td>0</td>\n",
       "      <td>0</td>\n",
       "      <td>Our Deeds are the Reason of this #earthquake M...</td>\n",
       "      <td>Relevant</td>\n",
       "    </tr>\n",
       "    <tr>\n",
       "      <th>2</th>\n",
       "      <td>0</td>\n",
       "      <td>0</td>\n",
       "      <td>Heard about #earthquake is different cities, s...</td>\n",
       "      <td>Relevant</td>\n",
       "    </tr>\n",
       "    <tr>\n",
       "      <th>3</th>\n",
       "      <td>0</td>\n",
       "      <td>0</td>\n",
       "      <td>there is a forest fire at spot pond, geese are...</td>\n",
       "      <td>Relevant</td>\n",
       "    </tr>\n",
       "    <tr>\n",
       "      <th>4</th>\n",
       "      <td>0</td>\n",
       "      <td>0</td>\n",
       "      <td>Forest fire near La Ronge Sask. Canada</td>\n",
       "      <td>Relevant</td>\n",
       "    </tr>\n",
       "  </tbody>\n",
       "</table>\n",
       "</div>"
      ],
      "text/plain": [
       "  keyword location                                               text  \\\n",
       "0       0        0                 Just happened a terrible car crash   \n",
       "1       0        0  Our Deeds are the Reason of this #earthquake M...   \n",
       "2       0        0  Heard about #earthquake is different cities, s...   \n",
       "3       0        0  there is a forest fire at spot pond, geese are...   \n",
       "4       0        0             Forest fire near La Ronge Sask. Canada   \n",
       "\n",
       "     target  \n",
       "0  Relevant  \n",
       "1  Relevant  \n",
       "2  Relevant  \n",
       "3  Relevant  \n",
       "4  Relevant  "
      ]
     },
     "execution_count": 33,
     "metadata": {},
     "output_type": "execute_result"
    }
   ],
   "source": [
    "#Renname the \"choose_one\" column as \"text\"\n",
    "train2s.rename(columns={\"choose_one\":\"target\"},inplace=True)\n",
    "train2s.head()"
   ]
  },
  {
   "cell_type": "code",
   "execution_count": 34,
   "id": "8a8fa89f",
   "metadata": {
    "execution": {
     "iopub.execute_input": "2023-07-14T12:11:01.656099Z",
     "iopub.status.busy": "2023-07-14T12:11:01.655347Z",
     "iopub.status.idle": "2023-07-14T12:11:01.662694Z",
     "shell.execute_reply": "2023-07-14T12:11:01.661735Z"
    },
    "papermill": {
     "duration": 0.040118,
     "end_time": "2023-07-14T12:11:01.664673",
     "exception": false,
     "start_time": "2023-07-14T12:11:01.624555",
     "status": "completed"
    },
    "tags": []
   },
   "outputs": [
    {
     "data": {
      "text/plain": [
       "array(['Relevant', 'Not Relevant', \"Can't Decide\"], dtype=object)"
      ]
     },
     "execution_count": 34,
     "metadata": {},
     "output_type": "execute_result"
    }
   ],
   "source": [
    "#Unique values in the target column\n",
    "train2s[\"target\"].unique()"
   ]
  },
  {
   "cell_type": "code",
   "execution_count": 35,
   "id": "1e1ae26a",
   "metadata": {
    "execution": {
     "iopub.execute_input": "2023-07-14T12:11:01.724530Z",
     "iopub.status.busy": "2023-07-14T12:11:01.723790Z",
     "iopub.status.idle": "2023-07-14T12:11:01.736682Z",
     "shell.execute_reply": "2023-07-14T12:11:01.735662Z"
    },
    "papermill": {
     "duration": 0.045196,
     "end_time": "2023-07-14T12:11:01.738591",
     "exception": false,
     "start_time": "2023-07-14T12:11:01.693395",
     "status": "completed"
    },
    "tags": []
   },
   "outputs": [
    {
     "data": {
      "text/html": [
       "<div>\n",
       "<style scoped>\n",
       "    .dataframe tbody tr th:only-of-type {\n",
       "        vertical-align: middle;\n",
       "    }\n",
       "\n",
       "    .dataframe tbody tr th {\n",
       "        vertical-align: top;\n",
       "    }\n",
       "\n",
       "    .dataframe thead th {\n",
       "        text-align: right;\n",
       "    }\n",
       "</style>\n",
       "<table border=\"1\" class=\"dataframe\">\n",
       "  <thead>\n",
       "    <tr style=\"text-align: right;\">\n",
       "      <th></th>\n",
       "      <th>target_category</th>\n",
       "      <th>count</th>\n",
       "    </tr>\n",
       "  </thead>\n",
       "  <tbody>\n",
       "    <tr>\n",
       "      <th>0</th>\n",
       "      <td>Not Relevant</td>\n",
       "      <td>6187</td>\n",
       "    </tr>\n",
       "    <tr>\n",
       "      <th>1</th>\n",
       "      <td>Relevant</td>\n",
       "      <td>4673</td>\n",
       "    </tr>\n",
       "    <tr>\n",
       "      <th>2</th>\n",
       "      <td>Can't Decide</td>\n",
       "      <td>16</td>\n",
       "    </tr>\n",
       "  </tbody>\n",
       "</table>\n",
       "</div>"
      ],
      "text/plain": [
       "  target_category  count\n",
       "0    Not Relevant   6187\n",
       "1        Relevant   4673\n",
       "2    Can't Decide     16"
      ]
     },
     "execution_count": 35,
     "metadata": {},
     "output_type": "execute_result"
    }
   ],
   "source": [
    "#Count the unique values in the target column\n",
    "target_count = train2s[\"target\"].value_counts()\n",
    "target_count_df = pd.DataFrame(data={\"target_category\":target_count.index, \"count\":target_count.values})\n",
    "target_count_df"
   ]
  },
  {
   "cell_type": "code",
   "execution_count": 36,
   "id": "e671a12c",
   "metadata": {
    "execution": {
     "iopub.execute_input": "2023-07-14T12:11:01.800824Z",
     "iopub.status.busy": "2023-07-14T12:11:01.800548Z",
     "iopub.status.idle": "2023-07-14T12:11:02.085061Z",
     "shell.execute_reply": "2023-07-14T12:11:02.084184Z"
    },
    "papermill": {
     "duration": 0.31858,
     "end_time": "2023-07-14T12:11:02.087101",
     "exception": false,
     "start_time": "2023-07-14T12:11:01.768521",
     "status": "completed"
    },
    "tags": []
   },
   "outputs": [
    {
     "data": {
      "image/png": "[encoded data removed]",
      "text/plain": [
       "<Figure size 640x480 with 1 Axes>"
      ]
     },
     "metadata": {},
     "output_type": "display_data"
    }
   ],
   "source": [
    "#Plot the values count of target column\n",
    "sns.barplot(data=target_count_df,x=\"target_category\", y=\"count\")\n",
    "plt.title(\"Distribution of values in the target column of Disasters on Social Media dataset\");"
   ]
  },
  {
   "cell_type": "code",
   "execution_count": 37,
   "id": "220934c1",
   "metadata": {
    "execution": {
     "iopub.execute_input": "2023-07-14T12:11:02.150337Z",
     "iopub.status.busy": "2023-07-14T12:11:02.149997Z",
     "iopub.status.idle": "2023-07-14T12:11:02.162719Z",
     "shell.execute_reply": "2023-07-14T12:11:02.161751Z"
    },
    "papermill": {
     "duration": 0.046618,
     "end_time": "2023-07-14T12:11:02.164879",
     "exception": false,
     "start_time": "2023-07-14T12:11:02.118261",
     "status": "completed"
    },
    "tags": []
   },
   "outputs": [
    {
     "data": {
      "text/html": [
       "<div>\n",
       "<style scoped>\n",
       "    .dataframe tbody tr th:only-of-type {\n",
       "        vertical-align: middle;\n",
       "    }\n",
       "\n",
       "    .dataframe tbody tr th {\n",
       "        vertical-align: top;\n",
       "    }\n",
       "\n",
       "    .dataframe thead th {\n",
       "        text-align: right;\n",
       "    }\n",
       "</style>\n",
       "<table border=\"1\" class=\"dataframe\">\n",
       "  <thead>\n",
       "    <tr style=\"text-align: right;\">\n",
       "      <th></th>\n",
       "      <th>keyword</th>\n",
       "      <th>location</th>\n",
       "      <th>text</th>\n",
       "      <th>target</th>\n",
       "    </tr>\n",
       "  </thead>\n",
       "  <tbody>\n",
       "    <tr>\n",
       "      <th>0</th>\n",
       "      <td>0</td>\n",
       "      <td>0</td>\n",
       "      <td>Just happened a terrible car crash</td>\n",
       "      <td>1</td>\n",
       "    </tr>\n",
       "    <tr>\n",
       "      <th>1</th>\n",
       "      <td>0</td>\n",
       "      <td>0</td>\n",
       "      <td>Our Deeds are the Reason of this #earthquake M...</td>\n",
       "      <td>1</td>\n",
       "    </tr>\n",
       "    <tr>\n",
       "      <th>2</th>\n",
       "      <td>0</td>\n",
       "      <td>0</td>\n",
       "      <td>Heard about #earthquake is different cities, s...</td>\n",
       "      <td>1</td>\n",
       "    </tr>\n",
       "    <tr>\n",
       "      <th>3</th>\n",
       "      <td>0</td>\n",
       "      <td>0</td>\n",
       "      <td>there is a forest fire at spot pond, geese are...</td>\n",
       "      <td>1</td>\n",
       "    </tr>\n",
       "    <tr>\n",
       "      <th>4</th>\n",
       "      <td>0</td>\n",
       "      <td>0</td>\n",
       "      <td>Forest fire near La Ronge Sask. Canada</td>\n",
       "      <td>1</td>\n",
       "    </tr>\n",
       "  </tbody>\n",
       "</table>\n",
       "</div>"
      ],
      "text/plain": [
       "  keyword location                                               text  target\n",
       "0       0        0                 Just happened a terrible car crash       1\n",
       "1       0        0  Our Deeds are the Reason of this #earthquake M...       1\n",
       "2       0        0  Heard about #earthquake is different cities, s...       1\n",
       "3       0        0  there is a forest fire at spot pond, geese are...       1\n",
       "4       0        0             Forest fire near La Ronge Sask. Canada       1"
      ]
     },
     "execution_count": 37,
     "metadata": {},
     "output_type": "execute_result"
    }
   ],
   "source": [
    "#Let's convert the categorical values of target column to integer\n",
    "train2s[\"target\"] = (train2s[\"target\"] == \"Relevant\").astype(\"int\")\n",
    "train2s.head()"
   ]
  },
  {
   "cell_type": "code",
   "execution_count": 38,
   "id": "04fd932a",
   "metadata": {
    "execution": {
     "iopub.execute_input": "2023-07-14T12:11:02.228908Z",
     "iopub.status.busy": "2023-07-14T12:11:02.228646Z",
     "iopub.status.idle": "2023-07-14T12:11:02.234559Z",
     "shell.execute_reply": "2023-07-14T12:11:02.233695Z"
    },
    "papermill": {
     "duration": 0.038929,
     "end_time": "2023-07-14T12:11:02.236455",
     "exception": false,
     "start_time": "2023-07-14T12:11:02.197526",
     "status": "completed"
    },
    "tags": []
   },
   "outputs": [],
   "source": [
    "#Count the unique values in the target column\n",
    "df = train2s[\"target\"].value_counts()\n",
    "df = pd.DataFrame({\"target_value\":df.index, \"count\":df.values})"
   ]
  },
  {
   "cell_type": "code",
   "execution_count": 39,
   "id": "813f689b",
   "metadata": {
    "execution": {
     "iopub.execute_input": "2023-07-14T12:11:02.299367Z",
     "iopub.status.busy": "2023-07-14T12:11:02.298582Z",
     "iopub.status.idle": "2023-07-14T12:11:02.563040Z",
     "shell.execute_reply": "2023-07-14T12:11:02.562138Z"
    },
    "papermill": {
     "duration": 0.298081,
     "end_time": "2023-07-14T12:11:02.565184",
     "exception": false,
     "start_time": "2023-07-14T12:11:02.267103",
     "status": "completed"
    },
    "tags": []
   },
   "outputs": [
    {
     "data": {
      "image/png": "[encoded data removed]",
      "text/plain": [
       "<Figure size 640x480 with 1 Axes>"
      ]
     },
     "metadata": {},
     "output_type": "display_data"
    }
   ],
   "source": [
    "#Plot the values count of target column\n",
    "sns.barplot(data=df, x=\"target_value\", y=\"count\")\n",
    "plt.title(\"Distribution of target values of Disasters on Social Media dataset\");"
   ]
  },
  {
   "cell_type": "markdown",
   "id": "d5e7b3bd",
   "metadata": {
    "papermill": {
     "duration": 0.030177,
     "end_time": "2023-07-14T12:11:02.626858",
     "exception": false,
     "start_time": "2023-07-14T12:11:02.596681",
     "status": "completed"
    },
    "tags": []
   },
   "source": [
    "## Data processing"
   ]
  },
  {
   "cell_type": "code",
   "execution_count": 40,
   "id": "a0044f1c",
   "metadata": {
    "execution": {
     "iopub.execute_input": "2023-07-14T12:11:02.692334Z",
     "iopub.status.busy": "2023-07-14T12:11:02.691997Z",
     "iopub.status.idle": "2023-07-14T12:11:02.702820Z",
     "shell.execute_reply": "2023-07-14T12:11:02.701731Z"
    },
    "papermill": {
     "duration": 0.045964,
     "end_time": "2023-07-14T12:11:02.704955",
     "exception": false,
     "start_time": "2023-07-14T12:11:02.658991",
     "status": "completed"
    },
    "tags": []
   },
   "outputs": [
    {
     "data": {
      "text/html": [
       "<div>\n",
       "<style scoped>\n",
       "    .dataframe tbody tr th:only-of-type {\n",
       "        vertical-align: middle;\n",
       "    }\n",
       "\n",
       "    .dataframe tbody tr th {\n",
       "        vertical-align: top;\n",
       "    }\n",
       "\n",
       "    .dataframe thead th {\n",
       "        text-align: right;\n",
       "    }\n",
       "</style>\n",
       "<table border=\"1\" class=\"dataframe\">\n",
       "  <thead>\n",
       "    <tr style=\"text-align: right;\">\n",
       "      <th></th>\n",
       "      <th>id</th>\n",
       "      <th>keyword</th>\n",
       "      <th>location</th>\n",
       "      <th>text</th>\n",
       "      <th>target</th>\n",
       "    </tr>\n",
       "  </thead>\n",
       "  <tbody>\n",
       "    <tr>\n",
       "      <th>0</th>\n",
       "      <td>1</td>\n",
       "      <td>0</td>\n",
       "      <td>0</td>\n",
       "      <td>Our Deeds are the Reason of this #earthquake M...</td>\n",
       "      <td>1</td>\n",
       "    </tr>\n",
       "    <tr>\n",
       "      <th>1</th>\n",
       "      <td>4</td>\n",
       "      <td>0</td>\n",
       "      <td>0</td>\n",
       "      <td>Forest fire near La Ronge Sask. Canada</td>\n",
       "      <td>1</td>\n",
       "    </tr>\n",
       "  </tbody>\n",
       "</table>\n",
       "</div>"
      ],
      "text/plain": [
       "   id keyword location                                               text  \\\n",
       "0   1       0        0  Our Deeds are the Reason of this #earthquake M...   \n",
       "1   4       0        0             Forest fire near La Ronge Sask. Canada   \n",
       "\n",
       "   target  \n",
       "0       1  \n",
       "1       1  "
      ]
     },
     "execution_count": 40,
     "metadata": {},
     "output_type": "execute_result"
    }
   ],
   "source": [
    "#View the train dataset\n",
    "train.head(2)"
   ]
  },
  {
   "cell_type": "code",
   "execution_count": 41,
   "id": "852ae86e",
   "metadata": {
    "execution": {
     "iopub.execute_input": "2023-07-14T12:11:02.772420Z",
     "iopub.status.busy": "2023-07-14T12:11:02.770568Z",
     "iopub.status.idle": "2023-07-14T12:11:02.781211Z",
     "shell.execute_reply": "2023-07-14T12:11:02.780216Z"
    },
    "papermill": {
     "duration": 0.045658,
     "end_time": "2023-07-14T12:11:02.783630",
     "exception": false,
     "start_time": "2023-07-14T12:11:02.737972",
     "status": "completed"
    },
    "tags": []
   },
   "outputs": [
    {
     "data": {
      "text/html": [
       "<div>\n",
       "<style scoped>\n",
       "    .dataframe tbody tr th:only-of-type {\n",
       "        vertical-align: middle;\n",
       "    }\n",
       "\n",
       "    .dataframe tbody tr th {\n",
       "        vertical-align: top;\n",
       "    }\n",
       "\n",
       "    .dataframe thead th {\n",
       "        text-align: right;\n",
       "    }\n",
       "</style>\n",
       "<table border=\"1\" class=\"dataframe\">\n",
       "  <thead>\n",
       "    <tr style=\"text-align: right;\">\n",
       "      <th></th>\n",
       "      <th>keyword</th>\n",
       "      <th>location</th>\n",
       "      <th>text</th>\n",
       "      <th>target</th>\n",
       "    </tr>\n",
       "  </thead>\n",
       "  <tbody>\n",
       "    <tr>\n",
       "      <th>0</th>\n",
       "      <td>0</td>\n",
       "      <td>0</td>\n",
       "      <td>Just happened a terrible car crash</td>\n",
       "      <td>1</td>\n",
       "    </tr>\n",
       "    <tr>\n",
       "      <th>1</th>\n",
       "      <td>0</td>\n",
       "      <td>0</td>\n",
       "      <td>Our Deeds are the Reason of this #earthquake M...</td>\n",
       "      <td>1</td>\n",
       "    </tr>\n",
       "  </tbody>\n",
       "</table>\n",
       "</div>"
      ],
      "text/plain": [
       "  keyword location                                               text  target\n",
       "0       0        0                 Just happened a terrible car crash       1\n",
       "1       0        0  Our Deeds are the Reason of this #earthquake M...       1"
      ]
     },
     "execution_count": 41,
     "metadata": {},
     "output_type": "execute_result"
    }
   ],
   "source": [
    "#View the processed \"disaster on Social Media\" dataset\n",
    "train2s.head(2)"
   ]
  },
  {
   "cell_type": "code",
   "execution_count": 42,
   "id": "ee522dd8",
   "metadata": {
    "execution": {
     "iopub.execute_input": "2023-07-14T12:11:02.849184Z",
     "iopub.status.busy": "2023-07-14T12:11:02.848429Z",
     "iopub.status.idle": "2023-07-14T12:11:02.857060Z",
     "shell.execute_reply": "2023-07-14T12:11:02.856029Z"
    },
    "papermill": {
     "duration": 0.043928,
     "end_time": "2023-07-14T12:11:02.859425",
     "exception": false,
     "start_time": "2023-07-14T12:11:02.815497",
     "status": "completed"
    },
    "tags": []
   },
   "outputs": [
    {
     "data": {
      "text/plain": [
       "0           1\n",
       "1           4\n",
       "2           5\n",
       "3           6\n",
       "4           7\n",
       "        ...  \n",
       "7608    10869\n",
       "7609    10870\n",
       "7610    10871\n",
       "7611    10872\n",
       "7612    10873\n",
       "Name: id, Length: 7613, dtype: int64"
      ]
     },
     "execution_count": 42,
     "metadata": {},
     "output_type": "execute_result"
    }
   ],
   "source": [
    "#Remove the \"id\" column form the train DataFrame\n",
    "train.pop(\"id\")"
   ]
  },
  {
   "cell_type": "code",
   "execution_count": 43,
   "id": "a7654749",
   "metadata": {
    "execution": {
     "iopub.execute_input": "2023-07-14T12:11:02.928724Z",
     "iopub.status.busy": "2023-07-14T12:11:02.927989Z",
     "iopub.status.idle": "2023-07-14T12:11:02.937769Z",
     "shell.execute_reply": "2023-07-14T12:11:02.936727Z"
    },
    "papermill": {
     "duration": 0.044553,
     "end_time": "2023-07-14T12:11:02.939952",
     "exception": false,
     "start_time": "2023-07-14T12:11:02.895399",
     "status": "completed"
    },
    "tags": []
   },
   "outputs": [
    {
     "data": {
      "text/html": [
       "<div>\n",
       "<style scoped>\n",
       "    .dataframe tbody tr th:only-of-type {\n",
       "        vertical-align: middle;\n",
       "    }\n",
       "\n",
       "    .dataframe tbody tr th {\n",
       "        vertical-align: top;\n",
       "    }\n",
       "\n",
       "    .dataframe thead th {\n",
       "        text-align: right;\n",
       "    }\n",
       "</style>\n",
       "<table border=\"1\" class=\"dataframe\">\n",
       "  <thead>\n",
       "    <tr style=\"text-align: right;\">\n",
       "      <th></th>\n",
       "      <th>keyword</th>\n",
       "      <th>location</th>\n",
       "      <th>text</th>\n",
       "      <th>target</th>\n",
       "    </tr>\n",
       "  </thead>\n",
       "  <tbody>\n",
       "    <tr>\n",
       "      <th>0</th>\n",
       "      <td>0</td>\n",
       "      <td>0</td>\n",
       "      <td>Our Deeds are the Reason of this #earthquake M...</td>\n",
       "      <td>1</td>\n",
       "    </tr>\n",
       "    <tr>\n",
       "      <th>1</th>\n",
       "      <td>0</td>\n",
       "      <td>0</td>\n",
       "      <td>Forest fire near La Ronge Sask. Canada</td>\n",
       "      <td>1</td>\n",
       "    </tr>\n",
       "  </tbody>\n",
       "</table>\n",
       "</div>"
      ],
      "text/plain": [
       "  keyword location                                               text  target\n",
       "0       0        0  Our Deeds are the Reason of this #earthquake M...       1\n",
       "1       0        0             Forest fire near La Ronge Sask. Canada       1"
      ]
     },
     "execution_count": 43,
     "metadata": {},
     "output_type": "execute_result"
    }
   ],
   "source": [
    "train.head(2)"
   ]
  },
  {
   "cell_type": "code",
   "execution_count": 44,
   "id": "85dfb989",
   "metadata": {
    "execution": {
     "iopub.execute_input": "2023-07-14T12:11:03.004676Z",
     "iopub.status.busy": "2023-07-14T12:11:03.003940Z",
     "iopub.status.idle": "2023-07-14T12:11:03.015142Z",
     "shell.execute_reply": "2023-07-14T12:11:03.014230Z"
    },
    "papermill": {
     "duration": 0.045177,
     "end_time": "2023-07-14T12:11:03.017092",
     "exception": false,
     "start_time": "2023-07-14T12:11:02.971915",
     "status": "completed"
    },
    "tags": []
   },
   "outputs": [
    {
     "data": {
      "text/html": [
       "<div>\n",
       "<style scoped>\n",
       "    .dataframe tbody tr th:only-of-type {\n",
       "        vertical-align: middle;\n",
       "    }\n",
       "\n",
       "    .dataframe tbody tr th {\n",
       "        vertical-align: top;\n",
       "    }\n",
       "\n",
       "    .dataframe thead th {\n",
       "        text-align: right;\n",
       "    }\n",
       "</style>\n",
       "<table border=\"1\" class=\"dataframe\">\n",
       "  <thead>\n",
       "    <tr style=\"text-align: right;\">\n",
       "      <th></th>\n",
       "      <th>keyword</th>\n",
       "      <th>location</th>\n",
       "      <th>text</th>\n",
       "      <th>target</th>\n",
       "    </tr>\n",
       "  </thead>\n",
       "  <tbody>\n",
       "    <tr>\n",
       "      <th>0</th>\n",
       "      <td>0</td>\n",
       "      <td>0</td>\n",
       "      <td>Our Deeds are the Reason of this #earthquake M...</td>\n",
       "      <td>1</td>\n",
       "    </tr>\n",
       "    <tr>\n",
       "      <th>1</th>\n",
       "      <td>0</td>\n",
       "      <td>0</td>\n",
       "      <td>Forest fire near La Ronge Sask. Canada</td>\n",
       "      <td>1</td>\n",
       "    </tr>\n",
       "    <tr>\n",
       "      <th>2</th>\n",
       "      <td>0</td>\n",
       "      <td>0</td>\n",
       "      <td>All residents asked to 'shelter in place' are ...</td>\n",
       "      <td>1</td>\n",
       "    </tr>\n",
       "    <tr>\n",
       "      <th>3</th>\n",
       "      <td>0</td>\n",
       "      <td>0</td>\n",
       "      <td>13,000 people receive #wildfires evacuation or...</td>\n",
       "      <td>1</td>\n",
       "    </tr>\n",
       "    <tr>\n",
       "      <th>4</th>\n",
       "      <td>0</td>\n",
       "      <td>0</td>\n",
       "      <td>Just got sent this photo from Ruby #Alaska as ...</td>\n",
       "      <td>1</td>\n",
       "    </tr>\n",
       "  </tbody>\n",
       "</table>\n",
       "</div>"
      ],
      "text/plain": [
       "  keyword location                                               text  target\n",
       "0       0        0  Our Deeds are the Reason of this #earthquake M...       1\n",
       "1       0        0             Forest fire near La Ronge Sask. Canada       1\n",
       "2       0        0  All residents asked to 'shelter in place' are ...       1\n",
       "3       0        0  13,000 people receive #wildfires evacuation or...       1\n",
       "4       0        0  Just got sent this photo from Ruby #Alaska as ...       1"
      ]
     },
     "execution_count": 44,
     "metadata": {},
     "output_type": "execute_result"
    }
   ],
   "source": [
    "#Combine the two datasets\n",
    "train_dataset = pd.concat([train, train2s])\n",
    "train_dataset.head()"
   ]
  },
  {
   "cell_type": "code",
   "execution_count": 45,
   "id": "40e68053",
   "metadata": {
    "execution": {
     "iopub.execute_input": "2023-07-14T12:11:03.081422Z",
     "iopub.status.busy": "2023-07-14T12:11:03.080614Z",
     "iopub.status.idle": "2023-07-14T12:11:03.086738Z",
     "shell.execute_reply": "2023-07-14T12:11:03.085778Z"
    },
    "papermill": {
     "duration": 0.040724,
     "end_time": "2023-07-14T12:11:03.088818",
     "exception": false,
     "start_time": "2023-07-14T12:11:03.048094",
     "status": "completed"
    },
    "tags": []
   },
   "outputs": [
    {
     "data": {
      "text/plain": [
       "(18489, 4)"
      ]
     },
     "execution_count": 45,
     "metadata": {},
     "output_type": "execute_result"
    }
   ],
   "source": [
    "#Shape of the combined dataset\n",
    "train_dataset.shape"
   ]
  },
  {
   "cell_type": "code",
   "execution_count": 46,
   "id": "a1d6fe8c",
   "metadata": {
    "execution": {
     "iopub.execute_input": "2023-07-14T12:11:03.152859Z",
     "iopub.status.busy": "2023-07-14T12:11:03.152363Z",
     "iopub.status.idle": "2023-07-14T12:11:15.089200Z",
     "shell.execute_reply": "2023-07-14T12:11:15.088233Z"
    },
    "papermill": {
     "duration": 11.971298,
     "end_time": "2023-07-14T12:11:15.091322",
     "exception": false,
     "start_time": "2023-07-14T12:11:03.120024",
     "status": "completed"
    },
    "tags": []
   },
   "outputs": [
    {
     "data": {
      "image/png": "[encoded data removed]",
      "text/plain": [
       "<Figure size 640x480 with 1 Axes>"
      ]
     },
     "metadata": {},
     "output_type": "display_data"
    }
   ],
   "source": [
    "#Use the plot_sentence_lengths to check the distribution og tweet lengths\n",
    "plot_sentence_lengths(train_dataset)"
   ]
  },
  {
   "cell_type": "code",
   "execution_count": 47,
   "id": "0ef937e3",
   "metadata": {
    "execution": {
     "iopub.execute_input": "2023-07-14T12:11:15.155722Z",
     "iopub.status.busy": "2023-07-14T12:11:15.155399Z",
     "iopub.status.idle": "2023-07-14T12:11:15.172696Z",
     "shell.execute_reply": "2023-07-14T12:11:15.171685Z"
    },
    "papermill": {
     "duration": 0.05183,
     "end_time": "2023-07-14T12:11:15.174925",
     "exception": false,
     "start_time": "2023-07-14T12:11:15.123095",
     "status": "completed"
    },
    "tags": []
   },
   "outputs": [
    {
     "data": {
      "text/html": [
       "<div>\n",
       "<style scoped>\n",
       "    .dataframe tbody tr th:only-of-type {\n",
       "        vertical-align: middle;\n",
       "    }\n",
       "\n",
       "    .dataframe tbody tr th {\n",
       "        vertical-align: top;\n",
       "    }\n",
       "\n",
       "    .dataframe thead th {\n",
       "        text-align: right;\n",
       "    }\n",
       "</style>\n",
       "<table border=\"1\" class=\"dataframe\">\n",
       "  <thead>\n",
       "    <tr style=\"text-align: right;\">\n",
       "      <th></th>\n",
       "      <th>keyword</th>\n",
       "      <th>location</th>\n",
       "      <th>text</th>\n",
       "      <th>target</th>\n",
       "    </tr>\n",
       "  </thead>\n",
       "  <tbody>\n",
       "    <tr>\n",
       "      <th>3046</th>\n",
       "      <td>death</td>\n",
       "      <td>0</td>\n",
       "      <td>@Kaay_Paat it's actually death and takes way l...</td>\n",
       "      <td>0</td>\n",
       "    </tr>\n",
       "    <tr>\n",
       "      <th>10789</th>\n",
       "      <td>wrecked</td>\n",
       "      <td>Pennsylvania</td>\n",
       "      <td>Four hundred wrecked cars (costing $100 apiece...</td>\n",
       "      <td>0</td>\n",
       "    </tr>\n",
       "    <tr>\n",
       "      <th>467</th>\n",
       "      <td>attack</td>\n",
       "      <td>Online 24/7. Not even kidding.</td>\n",
       "      <td>Notley's tactful yet very direct response to H...</td>\n",
       "      <td>1</td>\n",
       "    </tr>\n",
       "    <tr>\n",
       "      <th>7480</th>\n",
       "      <td>wreck</td>\n",
       "      <td>0</td>\n",
       "      <td>Ranking #artectura #pop2015 #Nå¼36 Florence + ...</td>\n",
       "      <td>0</td>\n",
       "    </tr>\n",
       "    <tr>\n",
       "      <th>6772</th>\n",
       "      <td>lightning</td>\n",
       "      <td>Greensboro, North Carolina</td>\n",
       "      <td>Heavy rain gusty winds and vivid lightning mov...</td>\n",
       "      <td>1</td>\n",
       "    </tr>\n",
       "  </tbody>\n",
       "</table>\n",
       "</div>"
      ],
      "text/plain": [
       "         keyword                        location  \\\n",
       "3046       death                               0   \n",
       "10789    wrecked                    Pennsylvania   \n",
       "467       attack  Online 24/7. Not even kidding.   \n",
       "7480       wreck                               0   \n",
       "6772   lightning      Greensboro, North Carolina   \n",
       "\n",
       "                                                    text  target  \n",
       "3046   @Kaay_Paat it's actually death and takes way l...       0  \n",
       "10789  Four hundred wrecked cars (costing $100 apiece...       0  \n",
       "467    Notley's tactful yet very direct response to H...       1  \n",
       "7480   Ranking #artectura #pop2015 #Nå¼36 Florence + ...       0  \n",
       "6772   Heavy rain gusty winds and vivid lightning mov...       1  "
      ]
     },
     "execution_count": 47,
     "metadata": {},
     "output_type": "execute_result"
    }
   ],
   "source": [
    "#Shuffle the DataFrame\n",
    "train_dataset = shuffle(train_dataset, random_state=SEED)\n",
    "train_dataset = shuffle(train_dataset, random_state=int(SEED/2))\n",
    "train_dataset.head()"
   ]
  },
  {
   "cell_type": "code",
   "execution_count": 48,
   "id": "8634bd7b",
   "metadata": {
    "execution": {
     "iopub.execute_input": "2023-07-14T12:11:15.240971Z",
     "iopub.status.busy": "2023-07-14T12:11:15.240684Z",
     "iopub.status.idle": "2023-07-14T12:11:19.684000Z",
     "shell.execute_reply": "2023-07-14T12:11:19.683012Z"
    },
    "papermill": {
     "duration": 4.480131,
     "end_time": "2023-07-14T12:11:19.686476",
     "exception": false,
     "start_time": "2023-07-14T12:11:15.206345",
     "status": "completed"
    },
    "tags": []
   },
   "outputs": [],
   "source": [
    "#Convert train data to tf.data.Dataset object\n",
    "BATCH = 32\n",
    "#Concatenate the text data of the columns \"keyword\", \"location\", \"text\"\n",
    "train_tf = tf.data.Dataset.from_tensor_slices(\n",
    "    (train_dataset['keyword'] + train_dataset['location'] + train_dataset['text'], train_dataset[TARGET]))\n",
    "\n",
    "#Convert the data into batch\n",
    "train_tf = train_tf.shuffle(int((SEED*13)/8)).batch(BATCH)\n",
    "\n",
    "#Convert test data to tf.data.Dataset object\n",
    "test_tf = tf.data.Dataset.from_tensor_slices(test['keyword'] + test['location'] + test['text'])\n",
    "\n",
    "#Convert the data into batch\n",
    "test_tf = test_tf.batch(BATCH)"
   ]
  },
  {
   "cell_type": "markdown",
   "id": "dd3c7ccf",
   "metadata": {
    "papermill": {
     "duration": 0.03225,
     "end_time": "2023-07-14T12:11:19.751718",
     "exception": false,
     "start_time": "2023-07-14T12:11:19.719468",
     "status": "completed"
    },
    "tags": []
   },
   "source": [
    "## Text Vectorization\n",
    "\n",
    "To enable the model to process the text data, we need to convert it into integer values through a process called text vectorization."
   ]
  },
  {
   "cell_type": "code",
   "execution_count": 49,
   "id": "0a1192ac",
   "metadata": {
    "execution": {
     "iopub.execute_input": "2023-07-14T12:11:19.817046Z",
     "iopub.status.busy": "2023-07-14T12:11:19.816732Z",
     "iopub.status.idle": "2023-07-14T12:11:19.840345Z",
     "shell.execute_reply": "2023-07-14T12:11:19.839539Z"
    },
    "papermill": {
     "duration": 0.05874,
     "end_time": "2023-07-14T12:11:19.842342",
     "exception": false,
     "start_time": "2023-07-14T12:11:19.783602",
     "status": "completed"
    },
    "tags": []
   },
   "outputs": [],
   "source": [
    "max_length = 165\n",
    "max_tokens = 20_000\n",
    "\n",
    "#Instantiate the TextVectorization layer\n",
    "text_vectorization = layers.TextVectorization(max_tokens=max_tokens,\n",
    "                                              output_mode='int',\n",
    "                                              output_sequence_length=max_length\n",
    "                                             )"
   ]
  },
  {
   "cell_type": "code",
   "execution_count": 50,
   "id": "f355ae3f",
   "metadata": {
    "execution": {
     "iopub.execute_input": "2023-07-14T12:11:19.907553Z",
     "iopub.status.busy": "2023-07-14T12:11:19.906773Z",
     "iopub.status.idle": "2023-07-14T12:11:21.068350Z",
     "shell.execute_reply": "2023-07-14T12:11:21.067322Z"
    },
    "papermill": {
     "duration": 1.196568,
     "end_time": "2023-07-14T12:11:21.070738",
     "exception": false,
     "start_time": "2023-07-14T12:11:19.874170",
     "status": "completed"
    },
    "tags": []
   },
   "outputs": [],
   "source": [
    "#Learn the vocabulary\n",
    "text_vectorization.adapt(train_tf.map(lambda twt, target: twt))"
   ]
  },
  {
   "cell_type": "code",
   "execution_count": 51,
   "id": "f4af72e1",
   "metadata": {
    "execution": {
     "iopub.execute_input": "2023-07-14T12:11:21.139436Z",
     "iopub.status.busy": "2023-07-14T12:11:21.139082Z",
     "iopub.status.idle": "2023-07-14T12:11:21.207177Z",
     "shell.execute_reply": "2023-07-14T12:11:21.206128Z"
    },
    "papermill": {
     "duration": 0.104453,
     "end_time": "2023-07-14T12:11:21.209188",
     "exception": false,
     "start_time": "2023-07-14T12:11:21.104735",
     "status": "completed"
    },
    "tags": []
   },
   "outputs": [
    {
     "name": "stdout",
     "output_type": "stream",
     "text": [
      "Vocabulary size = 20000\n"
     ]
    }
   ],
   "source": [
    "#Get the vocabulary\n",
    "vocab = text_vectorization.get_vocabulary()\n",
    "print(\"Vocabulary size =\",len(vocab))\n",
    "\n",
    "#Convert the list object to NumPy array for decoding the vectorized data\n",
    "vocab = np.array(vocab)"
   ]
  },
  {
   "cell_type": "code",
   "execution_count": 52,
   "id": "5fcb0cc2",
   "metadata": {
    "execution": {
     "iopub.execute_input": "2023-07-14T12:11:21.273321Z",
     "iopub.status.busy": "2023-07-14T12:11:21.273031Z",
     "iopub.status.idle": "2023-07-14T12:11:21.381252Z",
     "shell.execute_reply": "2023-07-14T12:11:21.380406Z"
    },
    "papermill": {
     "duration": 0.142874,
     "end_time": "2023-07-14T12:11:21.383455",
     "exception": false,
     "start_time": "2023-07-14T12:11:21.240581",
     "status": "completed"
    },
    "tags": []
   },
   "outputs": [],
   "source": [
    "#Vectorize the train dataset\n",
    "train_tf = train_tf.map(lambda twt, target: (text_vectorization(twt), target),\n",
    "                   num_parallel_calls=tf.data.AUTOTUNE)\n",
    "\n",
    "#Vectorize the test dataset\n",
    "test_tf = test_tf.map(lambda twt: text_vectorization(twt),\n",
    "                      num_parallel_calls=tf.data.AUTOTUNE)"
   ]
  },
  {
   "cell_type": "code",
   "execution_count": 53,
   "id": "90499a6d",
   "metadata": {
    "execution": {
     "iopub.execute_input": "2023-07-14T12:11:21.450183Z",
     "iopub.status.busy": "2023-07-14T12:11:21.449379Z",
     "iopub.status.idle": "2023-07-14T12:11:21.455761Z",
     "shell.execute_reply": "2023-07-14T12:11:21.454792Z"
    },
    "papermill": {
     "duration": 0.042657,
     "end_time": "2023-07-14T12:11:21.457854",
     "exception": false,
     "start_time": "2023-07-14T12:11:21.415197",
     "status": "completed"
    },
    "tags": []
   },
   "outputs": [],
   "source": [
    "#Define a function to print the tokenized data\n",
    "def print_sample(data_obj):\n",
    "    for sample, traget in data_obj:\n",
    "        #Print the first item\n",
    "        print(\"1st sample:\",sample[0].numpy())\n",
    "        print(\"\\n\")\n",
    "        #Print the second item\n",
    "        print(\"2nd sample:\",sample[1].numpy())\n",
    "        print(\"\\n\")\n",
    "        #Print the third item\n",
    "        print(\"3rd sample:\",sample[2].numpy())\n",
    "        print(\"\\n\")\n",
    "        break"
   ]
  },
  {
   "cell_type": "code",
   "execution_count": 54,
   "id": "894c047d",
   "metadata": {
    "execution": {
     "iopub.execute_input": "2023-07-14T12:11:21.523847Z",
     "iopub.status.busy": "2023-07-14T12:11:21.523584Z",
     "iopub.status.idle": "2023-07-14T12:11:21.621865Z",
     "shell.execute_reply": "2023-07-14T12:11:21.619989Z"
    },
    "papermill": {
     "duration": 0.134932,
     "end_time": "2023-07-14T12:11:21.624403",
     "exception": false,
     "start_time": "2023-07-14T12:11:21.489471",
     "status": "completed"
    },
    "tags": []
   },
   "outputs": [
    {
     "name": "stdout",
     "output_type": "stream",
     "text": [
      "1st sample: [    1     8 12180     3  5049   468  2531   552    39   922  4577     1\n",
      "     0     0     0     0     0     0     0     0     0     0     0     0\n",
      "     0     0     0     0     0     0     0     0     0     0     0     0\n",
      "     0     0     0     0     0     0     0     0     0     0     0     0\n",
      "     0     0     0     0     0     0     0     0     0     0     0     0\n",
      "     0     0     0     0     0     0     0     0     0     0     0     0\n",
      "     0     0     0     0     0     0     0     0     0     0     0     0\n",
      "     0     0     0     0     0     0     0     0     0     0     0     0\n",
      "     0     0     0     0     0     0     0     0     0     0     0     0\n",
      "     0     0     0     0     0     0     0     0     0     0     0     0\n",
      "     0     0     0     0     0     0     0     0     0     0     0     0\n",
      "     0     0     0     0     0     0     0     0     0     0     0     0\n",
      "     0     0     0     0     0     0     0     0     0     0     0     0\n",
      "     0     0     0     0     0     0     0     0     0]\n",
      "\n",
      "\n",
      "2nd sample: [ 9448 15490   706    51   167    12   110    62  3195    20  7996   410\n",
      "    12    69   129 18683     1     0     0     0     0     0     0     0\n",
      "     0     0     0     0     0     0     0     0     0     0     0     0\n",
      "     0     0     0     0     0     0     0     0     0     0     0     0\n",
      "     0     0     0     0     0     0     0     0     0     0     0     0\n",
      "     0     0     0     0     0     0     0     0     0     0     0     0\n",
      "     0     0     0     0     0     0     0     0     0     0     0     0\n",
      "     0     0     0     0     0     0     0     0     0     0     0     0\n",
      "     0     0     0     0     0     0     0     0     0     0     0     0\n",
      "     0     0     0     0     0     0     0     0     0     0     0     0\n",
      "     0     0     0     0     0     0     0     0     0     0     0     0\n",
      "     0     0     0     0     0     0     0     0     0     0     0     0\n",
      "     0     0     0     0     0     0     0     0     0     0     0     0\n",
      "     0     0     0     0     0     0     0     0     0]\n",
      "\n",
      "\n",
      "3rd sample: [    1    51 17365   856  9170     9    48     5   673   761  5694 18281\n",
      "     0     0     0     0     0     0     0     0     0     0     0     0\n",
      "     0     0     0     0     0     0     0     0     0     0     0     0\n",
      "     0     0     0     0     0     0     0     0     0     0     0     0\n",
      "     0     0     0     0     0     0     0     0     0     0     0     0\n",
      "     0     0     0     0     0     0     0     0     0     0     0     0\n",
      "     0     0     0     0     0     0     0     0     0     0     0     0\n",
      "     0     0     0     0     0     0     0     0     0     0     0     0\n",
      "     0     0     0     0     0     0     0     0     0     0     0     0\n",
      "     0     0     0     0     0     0     0     0     0     0     0     0\n",
      "     0     0     0     0     0     0     0     0     0     0     0     0\n",
      "     0     0     0     0     0     0     0     0     0     0     0     0\n",
      "     0     0     0     0     0     0     0     0     0     0     0     0\n",
      "     0     0     0     0     0     0     0     0     0]\n",
      "\n",
      "\n"
     ]
    }
   ],
   "source": [
    "#Print the tokenized data\n",
    "print_sample(train_tf)"
   ]
  },
  {
   "cell_type": "code",
   "execution_count": 55,
   "id": "dfd0b27e",
   "metadata": {
    "execution": {
     "iopub.execute_input": "2023-07-14T12:11:21.691807Z",
     "iopub.status.busy": "2023-07-14T12:11:21.691530Z",
     "iopub.status.idle": "2023-07-14T12:11:21.727152Z",
     "shell.execute_reply": "2023-07-14T12:11:21.725032Z"
    },
    "papermill": {
     "duration": 0.072029,
     "end_time": "2023-07-14T12:11:21.729750",
     "exception": false,
     "start_time": "2023-07-14T12:11:21.657721",
     "status": "completed"
    },
    "tags": []
   },
   "outputs": [
    {
     "name": "stdout",
     "output_type": "stream",
     "text": [
      "\t\t\t\tVectorized Tweet:\n",
      " tf.Tensor(\n",
      "[16238  1208     1   978  2256   223     1     3  1619   155   580     0\n",
      "     0     0     0     0     0     0     0     0     0     0     0     0\n",
      "     0     0     0     0     0     0     0     0     0     0     0     0\n",
      "     0     0     0     0     0     0     0     0     0     0     0     0\n",
      "     0     0     0     0     0     0     0     0     0     0     0     0\n",
      "     0     0     0     0     0     0     0     0     0     0     0     0\n",
      "     0     0     0     0     0     0     0     0     0     0     0     0\n",
      "     0     0     0     0     0     0     0     0     0     0     0     0\n",
      "     0     0     0     0     0     0     0     0     0     0     0     0\n",
      "     0     0     0     0     0     0     0     0     0     0     0     0\n",
      "     0     0     0     0     0     0     0     0     0     0     0     0\n",
      "     0     0     0     0     0     0     0     0     0     0     0     0\n",
      "     0     0     0     0     0     0     0     0     0     0     0     0\n",
      "     0     0     0     0     0     0     0     0     0], shape=(165,), dtype=int64)\n",
      "\n",
      "\n",
      "\t\t\t\tDecoded Tweet:\n",
      " mass20murdererwest hollywood [UNK] gun law ever [UNK] a potential mass murderer                                                                                                                                                          \n"
     ]
    }
   ],
   "source": [
    "#Print the vectorized tweet and the decoded tweet\n",
    "for tx in train_tf:\n",
    "    print(\"\\t\\t\\t\\tVectorized Tweet:\\n\",tx[0][0])\n",
    "    print(\"\\n\\n\\t\\t\\t\\tDecoded Tweet:\\n\", \" \".join(vocab[tx[0][0].numpy()]))\n",
    "    break"
   ]
  },
  {
   "cell_type": "markdown",
   "id": "9466847d",
   "metadata": {
    "papermill": {
     "duration": 0.033097,
     "end_time": "2023-07-14T12:11:21.797134",
     "exception": false,
     "start_time": "2023-07-14T12:11:21.764037",
     "status": "completed"
    },
    "tags": []
   },
   "source": [
    "## Model\n",
    "\n",
    "To classify the tweets, we will employ a Transformer model specifically designed as an Encoder-only model. In this approach, we will define the Encoder layer and incorporate a Positional Embedding layer using Keras subclassing. By utilizing these components, we aim to enhance the accuracy and effectiveness of our classification model.\n",
    "\n",
    "Moreover, the Transformer model's architecture enables it to capture contextual relationships and dependencies among words or tokens within the tweets. The Encoder layer acts as a powerful feature extractor, learning representations that contribute to the tweet classification task.\n",
    "\n",
    "Additionally, the Positional Embedding layer adds crucial positional information to the input tokens, enabling the model to discern the sequential order of words in the tweet. This positional encoding facilitates the Transformer model in capturing long-range dependencies and effectively processing the input text.\n",
    "\n",
    "By combining the Transformer's robust architecture with Keras subclassing, we can create a powerful and flexible model that yields accurate tweet classification results."
   ]
  },
  {
   "cell_type": "code",
   "execution_count": 56,
   "id": "eb60bbc6",
   "metadata": {
    "execution": {
     "iopub.execute_input": "2023-07-14T12:11:21.865699Z",
     "iopub.status.busy": "2023-07-14T12:11:21.864913Z",
     "iopub.status.idle": "2023-07-14T12:11:21.875178Z",
     "shell.execute_reply": "2023-07-14T12:11:21.874236Z"
    },
    "papermill": {
     "duration": 0.04702,
     "end_time": "2023-07-14T12:11:21.877197",
     "exception": false,
     "start_time": "2023-07-14T12:11:21.830177",
     "status": "completed"
    },
    "tags": []
   },
   "outputs": [],
   "source": [
    "#Define a Transformer Encoder using subclassed layer\n",
    "class TransformerEncoder(layers.Layer):\n",
    "    def __init__(self, embed_dim, dense_dim, num_heads, **kwargs):\n",
    "        super().__init__(**kwargs)\n",
    "        #Size of the input vector (size of the vocabulary)\n",
    "        self.embed_dim = embed_dim\n",
    "        #Size of the inner dense layer\n",
    "        self.dense_dim = dense_dim\n",
    "        #Number of attention heads\n",
    "        self.num_heads = num_heads\n",
    "\n",
    "        self.attention = layers.MultiHeadAttention(num_heads=num_heads, key_dim=embed_dim)\n",
    "        self.dense_proj = keras.Sequential(\n",
    "                   [layers.Dense(dense_dim, activation=\"relu\"),\n",
    "                    layers.Dense(embed_dim),]\n",
    "                                        )\n",
    "        self.layernorm_1 = layers.LayerNormalization()\n",
    "        self.layernorm_2 = layers.LayerNormalization()\n",
    "        self.max_pool1 = layers.GlobalMaxPooling1D()\n",
    "\n",
    "    #Define a call() method  where forward pass is implemented\n",
    "    def call(self, inputs, mask=None):\n",
    "        if mask is not None:\n",
    "            mask = mask[:, tf.newaxis, :]\n",
    "\n",
    "        #Apply the attention layer\n",
    "        attention_output = self.attention(inputs, inputs, attention_mask=mask)\n",
    "        #Normalize the data\n",
    "        proj_input = self.layernorm_1(inputs + attention_output)\n",
    "        #Apply the dense layer\n",
    "        proj_output = self.dense_proj(proj_input)\n",
    "        #Normalize the data and return it\n",
    "        return self.layernorm_2(proj_input + proj_output)\n",
    "        \n",
    "        #return self.max_pool1(norm)\n",
    "\n",
    "    #Define configuration method\n",
    "    def get_config(self):\n",
    "        config = super().get_config()\n",
    "        config.update({\n",
    "                    \"embed_dim\": self.embed_dim,\n",
    "                    \"num_heads\": self.num_heads,\n",
    "                    \"dense_dim\": self.dense_dim,\n",
    "                    })\n",
    "        return config"
   ]
  },
  {
   "cell_type": "code",
   "execution_count": 57,
   "id": "7853c7fb",
   "metadata": {
    "execution": {
     "iopub.execute_input": "2023-07-14T12:11:21.944086Z",
     "iopub.status.busy": "2023-07-14T12:11:21.943359Z",
     "iopub.status.idle": "2023-07-14T12:11:21.952160Z",
     "shell.execute_reply": "2023-07-14T12:11:21.951187Z"
    },
    "papermill": {
     "duration": 0.04455,
     "end_time": "2023-07-14T12:11:21.954132",
     "exception": false,
     "start_time": "2023-07-14T12:11:21.909582",
     "status": "completed"
    },
    "tags": []
   },
   "outputs": [],
   "source": [
    "# Implementing positional embedding as a subclassed layer\n",
    "class PositionalEmbedding(layers.Layer):\n",
    "    def __init__(self, sequence_length, input_dim, output_dim, **kwargs):\n",
    "        super().__init__(**kwargs)\n",
    "        self.sequence_length = sequence_length\n",
    "        self.input_dim = input_dim\n",
    "        self.output_dim = output_dim\n",
    "        self.token_embeddings = layers.Embedding(\n",
    "          input_dim=input_dim, output_dim=output_dim)\n",
    "        self.position_embeddings = layers.Embedding(\n",
    "                   input_dim=sequence_length, output_dim=output_dim)\n",
    "\n",
    "    def call(self, inputs):\n",
    "        length = tf.shape(inputs)[-1]\n",
    "        positions = tf.range(start=0, limit=length, delta=1)\n",
    "        embedded_tokens = self.token_embeddings(inputs)\n",
    "        embedded_positions = self.position_embeddings(positions)\n",
    "        return embedded_tokens + embedded_positions\n",
    "\n",
    "    def compute_mask(self, inputs, mask=None):\n",
    "            return tf.math.not_equal(inputs, 0)\n",
    "\n",
    "    def get_config(self):\n",
    "        config = super().get_config()\n",
    "        config.update({\n",
    "           \"output_dim\": self.output_dim,\n",
    "           \"sequence_length\": self.sequence_length,\n",
    "           \"input_dim\": self.input_dim,\n",
    "                    })\n",
    "        return config"
   ]
  },
  {
   "cell_type": "code",
   "execution_count": 58,
   "id": "7627ca81",
   "metadata": {
    "execution": {
     "iopub.execute_input": "2023-07-14T12:11:22.020481Z",
     "iopub.status.busy": "2023-07-14T12:11:22.019739Z",
     "iopub.status.idle": "2023-07-14T12:11:22.425249Z",
     "shell.execute_reply": "2023-07-14T12:11:22.424177Z"
    },
    "papermill": {
     "duration": 0.441084,
     "end_time": "2023-07-14T12:11:22.427711",
     "exception": false,
     "start_time": "2023-07-14T12:11:21.986627",
     "status": "completed"
    },
    "tags": []
   },
   "outputs": [],
   "source": [
    "#Construct the model\n",
    "\n",
    "#Define the input\n",
    "inputs = keras.Input(shape=(None,), dtype=\"int64\")\n",
    "\n",
    "#Apply positional embeddings\n",
    "pos_embed = PositionalEmbedding(sequence_length=165,\n",
    "                        input_dim=20_000,\n",
    "                        output_dim=256)(inputs)\n",
    "\n",
    "#Apply the encoder\n",
    "encoded = TransformerEncoder(embed_dim=256,\n",
    "                             dense_dim=32,\n",
    "                             num_heads=8)(pos_embed)\n",
    "\n",
    "\n",
    "x = layers.GlobalMaxPooling1D()(encoded)\n",
    "x = layers.Dropout(0.5)(x)\n",
    "output = layers.Dense(units=1, activation=\"sigmoid\")(x)\n",
    "\n",
    "model = keras.Model(inputs=inputs,outputs=output)"
   ]
  },
  {
   "cell_type": "code",
   "execution_count": 59,
   "id": "25fa5b01",
   "metadata": {
    "execution": {
     "iopub.execute_input": "2023-07-14T12:11:22.496764Z",
     "iopub.status.busy": "2023-07-14T12:11:22.496177Z",
     "iopub.status.idle": "2023-07-14T12:11:22.513178Z",
     "shell.execute_reply": "2023-07-14T12:11:22.512341Z"
    },
    "papermill": {
     "duration": 0.052274,
     "end_time": "2023-07-14T12:11:22.515098",
     "exception": false,
     "start_time": "2023-07-14T12:11:22.462824",
     "status": "completed"
    },
    "tags": []
   },
   "outputs": [],
   "source": [
    "#Compile the model\n",
    "model.compile(optimizer=tf.keras.optimizers.Adam(learning_rate=1e-5, beta_1=0.9, beta_2=0.98,epsilon=1e-9),\n",
    "              loss=tf.keras.losses.BinaryCrossentropy(),\n",
    "              metrics=['accuracy']\n",
    "             )"
   ]
  },
  {
   "cell_type": "code",
   "execution_count": 60,
   "id": "fb7dca88",
   "metadata": {
    "execution": {
     "iopub.execute_input": "2023-07-14T12:11:22.584190Z",
     "iopub.status.busy": "2023-07-14T12:11:22.583910Z",
     "iopub.status.idle": "2023-07-14T12:11:22.610988Z",
     "shell.execute_reply": "2023-07-14T12:11:22.610170Z"
    },
    "papermill": {
     "duration": 0.074546,
     "end_time": "2023-07-14T12:11:22.622909",
     "exception": false,
     "start_time": "2023-07-14T12:11:22.548363",
     "status": "completed"
    },
    "tags": []
   },
   "outputs": [
    {
     "name": "stdout",
     "output_type": "stream",
     "text": [
      "Model: \"model\"\n",
      "_________________________________________________________________\n",
      " Layer (type)                Output Shape              Param #   \n",
      "=================================================================\n",
      " input_1 (InputLayer)        [(None, None)]            0         \n",
      "                                                                 \n",
      " positional_embedding (Posit  (None, None, 256)        5162240   \n",
      " ionalEmbedding)                                                 \n",
      "                                                                 \n",
      " transformer_encoder (Transf  (None, None, 256)        2121248   \n",
      " ormerEncoder)                                                   \n",
      "                                                                 \n",
      " global_max_pooling1d_1 (Glo  (None, 256)              0         \n",
      " balMaxPooling1D)                                                \n",
      "                                                                 \n",
      " dropout (Dropout)           (None, 256)               0         \n",
      "                                                                 \n",
      " dense_2 (Dense)             (None, 1)                 257       \n",
      "                                                                 \n",
      "=================================================================\n",
      "Total params: 7,283,745\n",
      "Trainable params: 7,283,745\n",
      "Non-trainable params: 0\n",
      "_________________________________________________________________\n"
     ]
    }
   ],
   "source": [
    "#Summary of the model\n",
    "model.summary()"
   ]
  },
  {
   "cell_type": "code",
   "execution_count": 61,
   "id": "138f61b7",
   "metadata": {
    "execution": {
     "iopub.execute_input": "2023-07-14T12:11:22.692756Z",
     "iopub.status.busy": "2023-07-14T12:11:22.692156Z",
     "iopub.status.idle": "2023-07-14T12:11:22.951171Z",
     "shell.execute_reply": "2023-07-14T12:11:22.950287Z"
    },
    "papermill": {
     "duration": 0.296458,
     "end_time": "2023-07-14T12:11:22.953274",
     "exception": false,
     "start_time": "2023-07-14T12:11:22.656816",
     "status": "completed"
    },
    "tags": []
   },
   "outputs": [
    {
     "data": {
      "image/png": "[encoded data removed]",
      "text/plain": [
       "<IPython.core.display.Image object>"
      ]
     },
     "execution_count": 61,
     "metadata": {},
     "output_type": "execute_result"
    }
   ],
   "source": [
    "#Plot the model\n",
    "keras.utils.plot_model(model=model,\n",
    "                       to_file=\"model.png\",\n",
    "                       show_shapes=True,\n",
    "                       show_layer_names=True,\n",
    "                       expand_nested=True,\n",
    "                       show_layer_activations=True,\n",
    "                       show_trainable=True,\n",
    "        )"
   ]
  },
  {
   "cell_type": "code",
   "execution_count": 62,
   "id": "165f7d67",
   "metadata": {
    "execution": {
     "iopub.execute_input": "2023-07-14T12:11:23.023921Z",
     "iopub.status.busy": "2023-07-14T12:11:23.023639Z",
     "iopub.status.idle": "2023-07-14T12:11:23.028122Z",
     "shell.execute_reply": "2023-07-14T12:11:23.027122Z"
    },
    "papermill": {
     "duration": 0.04258,
     "end_time": "2023-07-14T12:11:23.030509",
     "exception": false,
     "start_time": "2023-07-14T12:11:22.987929",
     "status": "completed"
    },
    "tags": []
   },
   "outputs": [],
   "source": [
    "#Define callbacks\n",
    "callbacks = [\n",
    "       keras.callbacks.ModelCheckpoint(\"tweets_classifier.keras\",\n",
    "                                       save_best_only=True)\n",
    "            ]"
   ]
  },
  {
   "cell_type": "code",
   "execution_count": 63,
   "id": "a811cf34",
   "metadata": {
    "execution": {
     "iopub.execute_input": "2023-07-14T12:11:23.100425Z",
     "iopub.status.busy": "2023-07-14T12:11:23.100146Z",
     "iopub.status.idle": "2023-07-14T12:11:23.104620Z",
     "shell.execute_reply": "2023-07-14T12:11:23.103645Z"
    },
    "papermill": {
     "duration": 0.042269,
     "end_time": "2023-07-14T12:11:23.106919",
     "exception": false,
     "start_time": "2023-07-14T12:11:23.064650",
     "status": "completed"
    },
    "tags": []
   },
   "outputs": [],
   "source": [
    "#Define the validation data size\n",
    "val_size = int(0.25 * len(train_tf))"
   ]
  },
  {
   "cell_type": "code",
   "execution_count": 64,
   "id": "d21ef3a7",
   "metadata": {
    "execution": {
     "iopub.execute_input": "2023-07-14T12:11:23.176974Z",
     "iopub.status.busy": "2023-07-14T12:11:23.176711Z",
     "iopub.status.idle": "2023-07-14T12:11:23.189018Z",
     "shell.execute_reply": "2023-07-14T12:11:23.188178Z"
    },
    "papermill": {
     "duration": 0.049918,
     "end_time": "2023-07-14T12:11:23.191101",
     "exception": false,
     "start_time": "2023-07-14T12:11:23.141183",
     "status": "completed"
    },
    "tags": []
   },
   "outputs": [],
   "source": [
    "# Split the data into training and validation\n",
    "validation_data = train_tf.take(val_size)\n",
    "train_data = train_tf.skip(val_size)"
   ]
  },
  {
   "cell_type": "code",
   "execution_count": 65,
   "id": "4e0e0a09",
   "metadata": {
    "execution": {
     "iopub.execute_input": "2023-07-14T12:11:23.261340Z",
     "iopub.status.busy": "2023-07-14T12:11:23.261058Z",
     "iopub.status.idle": "2023-07-14T13:34:43.900815Z",
     "shell.execute_reply": "2023-07-14T13:34:43.899780Z"
    },
    "papermill": {
     "duration": 5000.678647,
     "end_time": "2023-07-14T13:34:43.904050",
     "exception": false,
     "start_time": "2023-07-14T12:11:23.225403",
     "status": "completed"
    },
    "tags": []
   },
   "outputs": [
    {
     "name": "stdout",
     "output_type": "stream",
     "text": [
      "Epoch 1/150\n",
      "434/434 [==============================] - 47s 89ms/step - loss: 1.2061 - accuracy: 0.5233 - val_loss: 0.6803 - val_accuracy: 0.5927\n",
      "Epoch 2/150\n",
      "434/434 [==============================] - 23s 52ms/step - loss: 1.0222 - accuracy: 0.5435 - val_loss: 0.6151 - val_accuracy: 0.6740\n",
      "Epoch 3/150\n",
      "434/434 [==============================] - 21s 48ms/step - loss: 0.8414 - accuracy: 0.5773 - val_loss: 0.5859 - val_accuracy: 0.7094\n",
      "Epoch 4/150\n",
      "434/434 [==============================] - 22s 50ms/step - loss: 0.7166 - accuracy: 0.6112 - val_loss: 0.5549 - val_accuracy: 0.7387\n",
      "Epoch 5/150\n",
      "434/434 [==============================] - 22s 51ms/step - loss: 0.6265 - accuracy: 0.6701 - val_loss: 0.5093 - val_accuracy: 0.7676\n",
      "Epoch 6/150\n",
      "434/434 [==============================] - 21s 49ms/step - loss: 0.5673 - accuracy: 0.7133 - val_loss: 0.4874 - val_accuracy: 0.7786\n",
      "Epoch 7/150\n",
      "434/434 [==============================] - 21s 48ms/step - loss: 0.5115 - accuracy: 0.7495 - val_loss: 0.4414 - val_accuracy: 0.7934\n",
      "Epoch 8/150\n",
      "434/434 [==============================] - 21s 49ms/step - loss: 0.4684 - accuracy: 0.7810 - val_loss: 0.4304 - val_accuracy: 0.8075\n",
      "Epoch 9/150\n",
      "434/434 [==============================] - 22s 52ms/step - loss: 0.4301 - accuracy: 0.8032 - val_loss: 0.3903 - val_accuracy: 0.8309\n",
      "Epoch 10/150\n",
      "434/434 [==============================] - 21s 49ms/step - loss: 0.3995 - accuracy: 0.8189 - val_loss: 0.3729 - val_accuracy: 0.8312\n",
      "Epoch 11/150\n",
      "434/434 [==============================] - 22s 50ms/step - loss: 0.3721 - accuracy: 0.8387 - val_loss: 0.3572 - val_accuracy: 0.8414\n",
      "Epoch 12/150\n",
      "434/434 [==============================] - 22s 50ms/step - loss: 0.3447 - accuracy: 0.8491 - val_loss: 0.3238 - val_accuracy: 0.8611\n",
      "Epoch 13/150\n",
      "434/434 [==============================] - 21s 48ms/step - loss: 0.3273 - accuracy: 0.8567 - val_loss: 0.3188 - val_accuracy: 0.8563\n",
      "Epoch 14/150\n",
      "434/434 [==============================] - 21s 48ms/step - loss: 0.3094 - accuracy: 0.8695 - val_loss: 0.3072 - val_accuracy: 0.8663\n",
      "Epoch 15/150\n",
      "434/434 [==============================] - 22s 50ms/step - loss: 0.2877 - accuracy: 0.8801 - val_loss: 0.2838 - val_accuracy: 0.8785\n",
      "Epoch 16/150\n",
      "434/434 [==============================] - 21s 49ms/step - loss: 0.2755 - accuracy: 0.8849 - val_loss: 0.2800 - val_accuracy: 0.8804\n",
      "Epoch 17/150\n",
      "434/434 [==============================] - 21s 49ms/step - loss: 0.2546 - accuracy: 0.8958 - val_loss: 0.2791 - val_accuracy: 0.8837\n",
      "Epoch 18/150\n",
      "434/434 [==============================] - 22s 50ms/step - loss: 0.2421 - accuracy: 0.9011 - val_loss: 0.2518 - val_accuracy: 0.8947\n",
      "Epoch 19/150\n",
      "434/434 [==============================] - 21s 48ms/step - loss: 0.2271 - accuracy: 0.9108 - val_loss: 0.2478 - val_accuracy: 0.8965\n",
      "Epoch 20/150\n",
      "434/434 [==============================] - 22s 50ms/step - loss: 0.2174 - accuracy: 0.9148 - val_loss: 0.2435 - val_accuracy: 0.9017\n",
      "Epoch 21/150\n",
      "434/434 [==============================] - 21s 48ms/step - loss: 0.2108 - accuracy: 0.9173 - val_loss: 0.2287 - val_accuracy: 0.9078\n",
      "Epoch 22/150\n",
      "434/434 [==============================] - 22s 50ms/step - loss: 0.1953 - accuracy: 0.9236 - val_loss: 0.2211 - val_accuracy: 0.9138\n",
      "Epoch 23/150\n",
      "434/434 [==============================] - 21s 48ms/step - loss: 0.1853 - accuracy: 0.9291 - val_loss: 0.2089 - val_accuracy: 0.9149\n",
      "Epoch 24/150\n",
      "434/434 [==============================] - 21s 47ms/step - loss: 0.1718 - accuracy: 0.9357 - val_loss: 0.2049 - val_accuracy: 0.9186\n",
      "Epoch 25/150\n",
      "434/434 [==============================] - 22s 50ms/step - loss: 0.1707 - accuracy: 0.9355 - val_loss: 0.1914 - val_accuracy: 0.9282\n",
      "Epoch 26/150\n",
      "434/434 [==============================] - 21s 47ms/step - loss: 0.1607 - accuracy: 0.9383 - val_loss: 0.1891 - val_accuracy: 0.9245\n",
      "Epoch 27/150\n",
      "434/434 [==============================] - 22s 50ms/step - loss: 0.1551 - accuracy: 0.9440 - val_loss: 0.1753 - val_accuracy: 0.9327\n",
      "Epoch 28/150\n",
      "434/434 [==============================] - 20s 47ms/step - loss: 0.1427 - accuracy: 0.9464 - val_loss: 0.1774 - val_accuracy: 0.9360\n",
      "Epoch 29/150\n",
      "434/434 [==============================] - 22s 49ms/step - loss: 0.1396 - accuracy: 0.9489 - val_loss: 0.1595 - val_accuracy: 0.9384\n",
      "Epoch 30/150\n",
      "434/434 [==============================] - 21s 49ms/step - loss: 0.1314 - accuracy: 0.9512 - val_loss: 0.1628 - val_accuracy: 0.9388\n",
      "Epoch 31/150\n",
      "434/434 [==============================] - 21s 47ms/step - loss: 0.1241 - accuracy: 0.9543 - val_loss: 0.1615 - val_accuracy: 0.9438\n",
      "Epoch 32/150\n",
      "434/434 [==============================] - 22s 50ms/step - loss: 0.1225 - accuracy: 0.9550 - val_loss: 0.1561 - val_accuracy: 0.9449\n",
      "Epoch 33/150\n",
      "434/434 [==============================] - 21s 49ms/step - loss: 0.1155 - accuracy: 0.9584 - val_loss: 0.1451 - val_accuracy: 0.9512\n",
      "Epoch 34/150\n",
      "434/434 [==============================] - 21s 47ms/step - loss: 0.1100 - accuracy: 0.9618 - val_loss: 0.1392 - val_accuracy: 0.9451\n",
      "Epoch 35/150\n",
      "434/434 [==============================] - 22s 50ms/step - loss: 0.1056 - accuracy: 0.9620 - val_loss: 0.1474 - val_accuracy: 0.9462\n",
      "Epoch 36/150\n",
      "434/434 [==============================] - 21s 49ms/step - loss: 0.1025 - accuracy: 0.9635 - val_loss: 0.1269 - val_accuracy: 0.9540\n",
      "Epoch 37/150\n",
      "434/434 [==============================] - 20s 47ms/step - loss: 0.0989 - accuracy: 0.9633 - val_loss: 0.1362 - val_accuracy: 0.9503\n",
      "Epoch 38/150\n",
      "434/434 [==============================] - 20s 47ms/step - loss: 0.0992 - accuracy: 0.9647 - val_loss: 0.1392 - val_accuracy: 0.9510\n",
      "Epoch 39/150\n",
      "434/434 [==============================] - 21s 48ms/step - loss: 0.0919 - accuracy: 0.9674 - val_loss: 0.1151 - val_accuracy: 0.9590\n",
      "Epoch 40/150\n",
      "434/434 [==============================] - 22s 51ms/step - loss: 0.0906 - accuracy: 0.9682 - val_loss: 0.1201 - val_accuracy: 0.9568\n",
      "Epoch 41/150\n",
      "434/434 [==============================] - 21s 47ms/step - loss: 0.0884 - accuracy: 0.9692 - val_loss: 0.1186 - val_accuracy: 0.9607\n",
      "Epoch 42/150\n",
      "434/434 [==============================] - 21s 47ms/step - loss: 0.0898 - accuracy: 0.9682 - val_loss: 0.1103 - val_accuracy: 0.9603\n",
      "Epoch 43/150\n",
      "434/434 [==============================] - 22s 50ms/step - loss: 0.0858 - accuracy: 0.9687 - val_loss: 0.1141 - val_accuracy: 0.9601\n",
      "Epoch 44/150\n",
      "434/434 [==============================] - 21s 49ms/step - loss: 0.0812 - accuracy: 0.9716 - val_loss: 0.1048 - val_accuracy: 0.9627\n",
      "Epoch 45/150\n",
      "434/434 [==============================] - 20s 47ms/step - loss: 0.0784 - accuracy: 0.9736 - val_loss: 0.1108 - val_accuracy: 0.9631\n",
      "Epoch 46/150\n",
      "434/434 [==============================] - 20s 47ms/step - loss: 0.0782 - accuracy: 0.9724 - val_loss: 0.1069 - val_accuracy: 0.9629\n",
      "Epoch 47/150\n",
      "434/434 [==============================] - 21s 48ms/step - loss: 0.0752 - accuracy: 0.9742 - val_loss: 0.1088 - val_accuracy: 0.9620\n",
      "Epoch 48/150\n",
      "434/434 [==============================] - 21s 48ms/step - loss: 0.0735 - accuracy: 0.9746 - val_loss: 0.1038 - val_accuracy: 0.9629\n",
      "Epoch 49/150\n",
      "434/434 [==============================] - 21s 48ms/step - loss: 0.0719 - accuracy: 0.9754 - val_loss: 0.1042 - val_accuracy: 0.9638\n",
      "Epoch 50/150\n",
      "434/434 [==============================] - 21s 48ms/step - loss: 0.0690 - accuracy: 0.9759 - val_loss: 0.0970 - val_accuracy: 0.9677\n",
      "Epoch 51/150\n",
      "434/434 [==============================] - 22s 49ms/step - loss: 0.0676 - accuracy: 0.9771 - val_loss: 0.1004 - val_accuracy: 0.9653\n",
      "Epoch 52/150\n",
      "434/434 [==============================] - 21s 49ms/step - loss: 0.0670 - accuracy: 0.9770 - val_loss: 0.0856 - val_accuracy: 0.9690\n",
      "Epoch 53/150\n",
      "434/434 [==============================] - 20s 47ms/step - loss: 0.0620 - accuracy: 0.9769 - val_loss: 0.0954 - val_accuracy: 0.9666\n",
      "Epoch 54/150\n",
      "434/434 [==============================] - 20s 47ms/step - loss: 0.0632 - accuracy: 0.9780 - val_loss: 0.0946 - val_accuracy: 0.9672\n",
      "Epoch 55/150\n",
      "434/434 [==============================] - 21s 48ms/step - loss: 0.0610 - accuracy: 0.9789 - val_loss: 0.0924 - val_accuracy: 0.9677\n",
      "Epoch 56/150\n",
      "434/434 [==============================] - 21s 48ms/step - loss: 0.0582 - accuracy: 0.9792 - val_loss: 0.0892 - val_accuracy: 0.9703\n",
      "Epoch 57/150\n",
      "434/434 [==============================] - 21s 49ms/step - loss: 0.0593 - accuracy: 0.9788 - val_loss: 0.0990 - val_accuracy: 0.9668\n",
      "Epoch 58/150\n",
      "434/434 [==============================] - 21s 49ms/step - loss: 0.0591 - accuracy: 0.9791 - val_loss: 0.0854 - val_accuracy: 0.9696\n",
      "Epoch 59/150\n",
      "434/434 [==============================] - 21s 48ms/step - loss: 0.0558 - accuracy: 0.9798 - val_loss: 0.0798 - val_accuracy: 0.9709\n",
      "Epoch 60/150\n",
      "434/434 [==============================] - 21s 47ms/step - loss: 0.0528 - accuracy: 0.9811 - val_loss: 0.0892 - val_accuracy: 0.9709\n",
      "Epoch 61/150\n",
      "434/434 [==============================] - 22s 50ms/step - loss: 0.0539 - accuracy: 0.9819 - val_loss: 0.0901 - val_accuracy: 0.9688\n",
      "Epoch 62/150\n",
      "434/434 [==============================] - 21s 48ms/step - loss: 0.0531 - accuracy: 0.9811 - val_loss: 0.0707 - val_accuracy: 0.9740\n",
      "Epoch 63/150\n",
      "434/434 [==============================] - 22s 50ms/step - loss: 0.0537 - accuracy: 0.9819 - val_loss: 0.0832 - val_accuracy: 0.9711\n",
      "Epoch 64/150\n",
      "434/434 [==============================] - 21s 48ms/step - loss: 0.0526 - accuracy: 0.9825 - val_loss: 0.0765 - val_accuracy: 0.9727\n",
      "Epoch 65/150\n",
      "434/434 [==============================] - 22s 50ms/step - loss: 0.0506 - accuracy: 0.9817 - val_loss: 0.0793 - val_accuracy: 0.9731\n",
      "Epoch 66/150\n",
      "434/434 [==============================] - 21s 48ms/step - loss: 0.0518 - accuracy: 0.9817 - val_loss: 0.0672 - val_accuracy: 0.9757\n",
      "Epoch 67/150\n",
      "434/434 [==============================] - 22s 50ms/step - loss: 0.0510 - accuracy: 0.9820 - val_loss: 0.0839 - val_accuracy: 0.9727\n",
      "Epoch 68/150\n",
      "434/434 [==============================] - 20s 47ms/step - loss: 0.0455 - accuracy: 0.9840 - val_loss: 0.0759 - val_accuracy: 0.9763\n",
      "Epoch 69/150\n",
      "434/434 [==============================] - 22s 50ms/step - loss: 0.0482 - accuracy: 0.9836 - val_loss: 0.0713 - val_accuracy: 0.9733\n",
      "Epoch 70/150\n",
      "434/434 [==============================] - 21s 47ms/step - loss: 0.0463 - accuracy: 0.9836 - val_loss: 0.0817 - val_accuracy: 0.9720\n",
      "Epoch 71/150\n",
      "434/434 [==============================] - 22s 49ms/step - loss: 0.0483 - accuracy: 0.9836 - val_loss: 0.0727 - val_accuracy: 0.9746\n",
      "Epoch 72/150\n",
      "434/434 [==============================] - 21s 49ms/step - loss: 0.0460 - accuracy: 0.9841 - val_loss: 0.0724 - val_accuracy: 0.9759\n",
      "Epoch 73/150\n",
      "434/434 [==============================] - 21s 48ms/step - loss: 0.0471 - accuracy: 0.9839 - val_loss: 0.0680 - val_accuracy: 0.9737\n",
      "Epoch 74/150\n",
      "434/434 [==============================] - 21s 49ms/step - loss: 0.0448 - accuracy: 0.9847 - val_loss: 0.0770 - val_accuracy: 0.9744\n",
      "Epoch 75/150\n",
      "434/434 [==============================] - 21s 49ms/step - loss: 0.0448 - accuracy: 0.9847 - val_loss: 0.0658 - val_accuracy: 0.9779\n",
      "Epoch 76/150\n",
      "434/434 [==============================] - 22s 49ms/step - loss: 0.0457 - accuracy: 0.9842 - val_loss: 0.0766 - val_accuracy: 0.9742\n",
      "Epoch 77/150\n",
      "434/434 [==============================] - 21s 48ms/step - loss: 0.0430 - accuracy: 0.9846 - val_loss: 0.0650 - val_accuracy: 0.9772\n",
      "Epoch 78/150\n",
      "434/434 [==============================] - 22s 50ms/step - loss: 0.0433 - accuracy: 0.9850 - val_loss: 0.0680 - val_accuracy: 0.9746\n",
      "Epoch 79/150\n",
      "434/434 [==============================] - 21s 48ms/step - loss: 0.0410 - accuracy: 0.9862 - val_loss: 0.0618 - val_accuracy: 0.9796\n",
      "Epoch 80/150\n",
      "434/434 [==============================] - 21s 49ms/step - loss: 0.0408 - accuracy: 0.9865 - val_loss: 0.0673 - val_accuracy: 0.9766\n",
      "Epoch 81/150\n",
      "434/434 [==============================] - 21s 48ms/step - loss: 0.0389 - accuracy: 0.9857 - val_loss: 0.0642 - val_accuracy: 0.9807\n",
      "Epoch 82/150\n",
      "434/434 [==============================] - 22s 50ms/step - loss: 0.0405 - accuracy: 0.9860 - val_loss: 0.0622 - val_accuracy: 0.9774\n",
      "Epoch 83/150\n",
      "434/434 [==============================] - 21s 48ms/step - loss: 0.0373 - accuracy: 0.9877 - val_loss: 0.0714 - val_accuracy: 0.9785\n",
      "Epoch 84/150\n",
      "434/434 [==============================] - 22s 50ms/step - loss: 0.0390 - accuracy: 0.9873 - val_loss: 0.0577 - val_accuracy: 0.9785\n",
      "Epoch 85/150\n",
      "434/434 [==============================] - 21s 49ms/step - loss: 0.0400 - accuracy: 0.9852 - val_loss: 0.0617 - val_accuracy: 0.9783\n",
      "Epoch 86/150\n",
      "434/434 [==============================] - 21s 49ms/step - loss: 0.0376 - accuracy: 0.9868 - val_loss: 0.0615 - val_accuracy: 0.9783\n",
      "Epoch 87/150\n",
      "434/434 [==============================] - 21s 49ms/step - loss: 0.0372 - accuracy: 0.9864 - val_loss: 0.0643 - val_accuracy: 0.9789\n",
      "Epoch 88/150\n",
      "434/434 [==============================] - 21s 49ms/step - loss: 0.0382 - accuracy: 0.9872 - val_loss: 0.0500 - val_accuracy: 0.9826\n",
      "Epoch 89/150\n",
      "434/434 [==============================] - 22s 50ms/step - loss: 0.0384 - accuracy: 0.9867 - val_loss: 0.0606 - val_accuracy: 0.9787\n",
      "Epoch 90/150\n",
      "434/434 [==============================] - 21s 47ms/step - loss: 0.0372 - accuracy: 0.9862 - val_loss: 0.0581 - val_accuracy: 0.9803\n",
      "Epoch 91/150\n",
      "434/434 [==============================] - 22s 50ms/step - loss: 0.0373 - accuracy: 0.9874 - val_loss: 0.0544 - val_accuracy: 0.9809\n",
      "Epoch 92/150\n",
      "434/434 [==============================] - 21s 48ms/step - loss: 0.0349 - accuracy: 0.9878 - val_loss: 0.0581 - val_accuracy: 0.9822\n",
      "Epoch 93/150\n",
      "434/434 [==============================] - 21s 47ms/step - loss: 0.0374 - accuracy: 0.9867 - val_loss: 0.0553 - val_accuracy: 0.9829\n",
      "Epoch 94/150\n",
      "434/434 [==============================] - 21s 47ms/step - loss: 0.0337 - accuracy: 0.9885 - val_loss: 0.0613 - val_accuracy: 0.9779\n",
      "Epoch 95/150\n",
      "434/434 [==============================] - 22s 50ms/step - loss: 0.0341 - accuracy: 0.9884 - val_loss: 0.0534 - val_accuracy: 0.9800\n",
      "Epoch 96/150\n",
      "434/434 [==============================] - 21s 48ms/step - loss: 0.0350 - accuracy: 0.9870 - val_loss: 0.0556 - val_accuracy: 0.9796\n",
      "Epoch 97/150\n",
      "434/434 [==============================] - 22s 49ms/step - loss: 0.0338 - accuracy: 0.9885 - val_loss: 0.0490 - val_accuracy: 0.9820\n",
      "Epoch 98/150\n",
      "434/434 [==============================] - 21s 49ms/step - loss: 0.0331 - accuracy: 0.9886 - val_loss: 0.0520 - val_accuracy: 0.9792\n",
      "Epoch 99/150\n",
      "434/434 [==============================] - 21s 48ms/step - loss: 0.0313 - accuracy: 0.9888 - val_loss: 0.0505 - val_accuracy: 0.9805\n",
      "Epoch 100/150\n",
      "434/434 [==============================] - 22s 50ms/step - loss: 0.0354 - accuracy: 0.9880 - val_loss: 0.0556 - val_accuracy: 0.9796\n",
      "Epoch 101/150\n",
      "434/434 [==============================] - 21s 48ms/step - loss: 0.0328 - accuracy: 0.9880 - val_loss: 0.0527 - val_accuracy: 0.9820\n",
      "Epoch 102/150\n",
      "434/434 [==============================] - 21s 47ms/step - loss: 0.0325 - accuracy: 0.9880 - val_loss: 0.0608 - val_accuracy: 0.9787\n",
      "Epoch 103/150\n",
      "434/434 [==============================] - 22s 50ms/step - loss: 0.0331 - accuracy: 0.9894 - val_loss: 0.0541 - val_accuracy: 0.9794\n",
      "Epoch 104/150\n",
      "434/434 [==============================] - 21s 48ms/step - loss: 0.0337 - accuracy: 0.9879 - val_loss: 0.0471 - val_accuracy: 0.9839\n",
      "Epoch 105/150\n",
      "434/434 [==============================] - 21s 49ms/step - loss: 0.0331 - accuracy: 0.9888 - val_loss: 0.0550 - val_accuracy: 0.9800\n",
      "Epoch 106/150\n",
      "434/434 [==============================] - 21s 48ms/step - loss: 0.0327 - accuracy: 0.9890 - val_loss: 0.0503 - val_accuracy: 0.9811\n",
      "Epoch 107/150\n",
      "434/434 [==============================] - 22s 50ms/step - loss: 0.0322 - accuracy: 0.9888 - val_loss: 0.0525 - val_accuracy: 0.9824\n",
      "Epoch 108/150\n",
      "434/434 [==============================] - 21s 48ms/step - loss: 0.0317 - accuracy: 0.9891 - val_loss: 0.0484 - val_accuracy: 0.9831\n",
      "Epoch 109/150\n",
      "434/434 [==============================] - 21s 49ms/step - loss: 0.0316 - accuracy: 0.9893 - val_loss: 0.0546 - val_accuracy: 0.9807\n",
      "Epoch 110/150\n",
      "434/434 [==============================] - 21s 49ms/step - loss: 0.0308 - accuracy: 0.9885 - val_loss: 0.0481 - val_accuracy: 0.9831\n",
      "Epoch 111/150\n",
      "434/434 [==============================] - 21s 49ms/step - loss: 0.0319 - accuracy: 0.9884 - val_loss: 0.0527 - val_accuracy: 0.9829\n",
      "Epoch 112/150\n",
      "434/434 [==============================] - 21s 49ms/step - loss: 0.0313 - accuracy: 0.9886 - val_loss: 0.0524 - val_accuracy: 0.9826\n",
      "Epoch 113/150\n",
      "434/434 [==============================] - 21s 48ms/step - loss: 0.0331 - accuracy: 0.9885 - val_loss: 0.0569 - val_accuracy: 0.9796\n",
      "Epoch 114/150\n",
      "434/434 [==============================] - 21s 49ms/step - loss: 0.0323 - accuracy: 0.9882 - val_loss: 0.0494 - val_accuracy: 0.9820\n",
      "Epoch 115/150\n",
      "434/434 [==============================] - 21s 48ms/step - loss: 0.0298 - accuracy: 0.9893 - val_loss: 0.0450 - val_accuracy: 0.9839\n",
      "Epoch 116/150\n",
      "434/434 [==============================] - 21s 48ms/step - loss: 0.0292 - accuracy: 0.9893 - val_loss: 0.0410 - val_accuracy: 0.9855\n",
      "Epoch 117/150\n",
      "434/434 [==============================] - 22s 50ms/step - loss: 0.0305 - accuracy: 0.9893 - val_loss: 0.0530 - val_accuracy: 0.9816\n",
      "Epoch 118/150\n",
      "434/434 [==============================] - 21s 48ms/step - loss: 0.0292 - accuracy: 0.9898 - val_loss: 0.0442 - val_accuracy: 0.9833\n",
      "Epoch 119/150\n",
      "434/434 [==============================] - 22s 50ms/step - loss: 0.0279 - accuracy: 0.9901 - val_loss: 0.0425 - val_accuracy: 0.9852\n",
      "Epoch 120/150\n",
      "434/434 [==============================] - 21s 48ms/step - loss: 0.0270 - accuracy: 0.9898 - val_loss: 0.0439 - val_accuracy: 0.9839\n",
      "Epoch 121/150\n",
      "434/434 [==============================] - 21s 48ms/step - loss: 0.0292 - accuracy: 0.9898 - val_loss: 0.0460 - val_accuracy: 0.9837\n",
      "Epoch 122/150\n",
      "434/434 [==============================] - 21s 49ms/step - loss: 0.0275 - accuracy: 0.9902 - val_loss: 0.0464 - val_accuracy: 0.9837\n",
      "Epoch 123/150\n",
      "434/434 [==============================] - 21s 48ms/step - loss: 0.0291 - accuracy: 0.9890 - val_loss: 0.0419 - val_accuracy: 0.9835\n",
      "Epoch 124/150\n",
      "434/434 [==============================] - 21s 49ms/step - loss: 0.0288 - accuracy: 0.9887 - val_loss: 0.0445 - val_accuracy: 0.9848\n",
      "Epoch 125/150\n",
      "434/434 [==============================] - 22s 50ms/step - loss: 0.0268 - accuracy: 0.9899 - val_loss: 0.0365 - val_accuracy: 0.9848\n",
      "Epoch 126/150\n",
      "434/434 [==============================] - 21s 47ms/step - loss: 0.0270 - accuracy: 0.9903 - val_loss: 0.0423 - val_accuracy: 0.9839\n",
      "Epoch 127/150\n",
      "434/434 [==============================] - 22s 51ms/step - loss: 0.0274 - accuracy: 0.9898 - val_loss: 0.0415 - val_accuracy: 0.9848\n",
      "Epoch 128/150\n",
      "434/434 [==============================] - 21s 48ms/step - loss: 0.0293 - accuracy: 0.9891 - val_loss: 0.0429 - val_accuracy: 0.9850\n",
      "Epoch 129/150\n",
      "434/434 [==============================] - 22s 50ms/step - loss: 0.0274 - accuracy: 0.9897 - val_loss: 0.0412 - val_accuracy: 0.9859\n",
      "Epoch 130/150\n",
      "434/434 [==============================] - 21s 47ms/step - loss: 0.0275 - accuracy: 0.9899 - val_loss: 0.0402 - val_accuracy: 0.9859\n",
      "Epoch 131/150\n",
      "434/434 [==============================] - 22s 50ms/step - loss: 0.0271 - accuracy: 0.9903 - val_loss: 0.0396 - val_accuracy: 0.9874\n",
      "Epoch 132/150\n",
      "434/434 [==============================] - 21s 47ms/step - loss: 0.0251 - accuracy: 0.9909 - val_loss: 0.0451 - val_accuracy: 0.9839\n",
      "Epoch 133/150\n",
      "434/434 [==============================] - 22s 50ms/step - loss: 0.0281 - accuracy: 0.9898 - val_loss: 0.0406 - val_accuracy: 0.9857\n",
      "Epoch 134/150\n",
      "434/434 [==============================] - 21s 47ms/step - loss: 0.0273 - accuracy: 0.9904 - val_loss: 0.0381 - val_accuracy: 0.9861\n",
      "Epoch 135/150\n",
      "434/434 [==============================] - 22s 50ms/step - loss: 0.0240 - accuracy: 0.9909 - val_loss: 0.0372 - val_accuracy: 0.9865\n",
      "Epoch 136/150\n",
      "434/434 [==============================] - 21s 48ms/step - loss: 0.0259 - accuracy: 0.9904 - val_loss: 0.0467 - val_accuracy: 0.9820\n",
      "Epoch 137/150\n",
      "434/434 [==============================] - 20s 47ms/step - loss: 0.0266 - accuracy: 0.9904 - val_loss: 0.0366 - val_accuracy: 0.9859\n",
      "Epoch 138/150\n",
      "434/434 [==============================] - 22s 50ms/step - loss: 0.0262 - accuracy: 0.9898 - val_loss: 0.0432 - val_accuracy: 0.9844\n",
      "Epoch 139/150\n",
      "434/434 [==============================] - 21s 47ms/step - loss: 0.0279 - accuracy: 0.9898 - val_loss: 0.0427 - val_accuracy: 0.9846\n",
      "Epoch 140/150\n",
      "434/434 [==============================] - 21s 49ms/step - loss: 0.0236 - accuracy: 0.9908 - val_loss: 0.0387 - val_accuracy: 0.9861\n",
      "Epoch 141/150\n",
      "434/434 [==============================] - 21s 49ms/step - loss: 0.0258 - accuracy: 0.9895 - val_loss: 0.0427 - val_accuracy: 0.9844\n",
      "Epoch 142/150\n",
      "434/434 [==============================] - 21s 47ms/step - loss: 0.0239 - accuracy: 0.9908 - val_loss: 0.0411 - val_accuracy: 0.9848\n",
      "Epoch 143/150\n",
      "434/434 [==============================] - 22s 51ms/step - loss: 0.0268 - accuracy: 0.9898 - val_loss: 0.0339 - val_accuracy: 0.9872\n",
      "Epoch 144/150\n",
      "434/434 [==============================] - 21s 48ms/step - loss: 0.0253 - accuracy: 0.9906 - val_loss: 0.0347 - val_accuracy: 0.9863\n",
      "Epoch 145/150\n",
      "434/434 [==============================] - 21s 48ms/step - loss: 0.0246 - accuracy: 0.9909 - val_loss: 0.0397 - val_accuracy: 0.9859\n",
      "Epoch 146/150\n",
      "434/434 [==============================] - 21s 49ms/step - loss: 0.0251 - accuracy: 0.9904 - val_loss: 0.0399 - val_accuracy: 0.9855\n",
      "Epoch 147/150\n",
      "434/434 [==============================] - 21s 49ms/step - loss: 0.0229 - accuracy: 0.9915 - val_loss: 0.0349 - val_accuracy: 0.9855\n",
      "Epoch 148/150\n",
      "434/434 [==============================] - 21s 48ms/step - loss: 0.0237 - accuracy: 0.9903 - val_loss: 0.0384 - val_accuracy: 0.9848\n",
      "Epoch 149/150\n",
      "434/434 [==============================] - 22s 50ms/step - loss: 0.0253 - accuracy: 0.9901 - val_loss: 0.0408 - val_accuracy: 0.9857\n",
      "Epoch 150/150\n",
      "434/434 [==============================] - 21s 48ms/step - loss: 0.0226 - accuracy: 0.9914 - val_loss: 0.0382 - val_accuracy: 0.9861\n"
     ]
    }
   ],
   "source": [
    "#Train the model\n",
    "history = model.fit(train_data,\n",
    "                    epochs=150,\n",
    "                    validation_data=validation_data,\n",
    "                    callbacks=callbacks)"
   ]
  },
  {
   "cell_type": "code",
   "execution_count": 66,
   "id": "ac0e8a28",
   "metadata": {
    "execution": {
     "iopub.execute_input": "2023-07-14T13:34:49.621082Z",
     "iopub.status.busy": "2023-07-14T13:34:49.620724Z",
     "iopub.status.idle": "2023-07-14T13:34:49.968954Z",
     "shell.execute_reply": "2023-07-14T13:34:49.968017Z"
    },
    "papermill": {
     "duration": 3.123404,
     "end_time": "2023-07-14T13:34:49.971132",
     "exception": false,
     "start_time": "2023-07-14T13:34:46.847728",
     "status": "completed"
    },
    "tags": []
   },
   "outputs": [
    {
     "data": {
      "text/plain": [
       "<matplotlib.legend.Legend at 0x79568268be50>"
      ]
     },
     "execution_count": 66,
     "metadata": {},
     "output_type": "execute_result"
    },
    {
     "data": {
      "image/png": "[encoded data removed]",
      "text/plain": [
       "<Figure size 640x480 with 1 Axes>"
      ]
     },
     "metadata": {},
     "output_type": "display_data"
    }
   ],
   "source": [
    "# Plotting the training and validation loss\n",
    "loss = history.history[\"loss\"]\n",
    "val_loss = history.history[\"val_loss\"]\n",
    "epochs = range(1, len(loss) + 1)\n",
    "plt.plot(epochs, loss, \"bo\", label=\"Training loss\")\n",
    "plt.plot(epochs, val_loss, \"b\", label=\"Validation loss\")\n",
    "plt.title(\"Training and validation loss\")\n",
    "plt.xlabel(\"Epochs\")\n",
    "plt.ylabel(\"Loss\")\n",
    "plt.legend()"
   ]
  },
  {
   "cell_type": "code",
   "execution_count": 67,
   "id": "884dc784",
   "metadata": {
    "execution": {
     "iopub.execute_input": "2023-07-14T13:34:55.400907Z",
     "iopub.status.busy": "2023-07-14T13:34:55.400561Z",
     "iopub.status.idle": "2023-07-14T13:34:55.752859Z",
     "shell.execute_reply": "2023-07-14T13:34:55.751970Z"
    },
    "papermill": {
     "duration": 3.184693,
     "end_time": "2023-07-14T13:34:55.754940",
     "exception": false,
     "start_time": "2023-07-14T13:34:52.570247",
     "status": "completed"
    },
    "tags": []
   },
   "outputs": [
    {
     "data": {
      "text/plain": [
       "<matplotlib.legend.Legend at 0x7956824f8220>"
      ]
     },
     "execution_count": 67,
     "metadata": {},
     "output_type": "execute_result"
    },
    {
     "data": {
      "image/png": "[encoded data removed]",
      "text/plain": [
       "<Figure size 640x480 with 1 Axes>"
      ]
     },
     "metadata": {},
     "output_type": "display_data"
    }
   ],
   "source": [
    "# Plotting the training and validation accuracy\n",
    "acc = history.history[\"accuracy\"]\n",
    "val_acc = history.history[\"val_accuracy\"]\n",
    "plt.plot(epochs, acc, \"bo\", label=\"Training accuracy\")\n",
    "plt.plot(epochs, val_acc, \"b\", label=\"Validation accuracy\")\n",
    "plt.title(\"Training and validation accuracy\")\n",
    "plt.xlabel(\"Epochs\")\n",
    "plt.ylabel(\"Accuracy\")\n",
    "plt.legend()"
   ]
  },
  {
   "cell_type": "code",
   "execution_count": 68,
   "id": "13d697cb",
   "metadata": {
    "execution": {
     "iopub.execute_input": "2023-07-14T13:35:01.138297Z",
     "iopub.status.busy": "2023-07-14T13:35:01.137947Z",
     "iopub.status.idle": "2023-07-14T13:35:03.201599Z",
     "shell.execute_reply": "2023-07-14T13:35:03.200688Z"
    },
    "papermill": {
     "duration": 4.837789,
     "end_time": "2023-07-14T13:35:03.203745",
     "exception": false,
     "start_time": "2023-07-14T13:34:58.365956",
     "status": "completed"
    },
    "tags": []
   },
   "outputs": [
    {
     "name": "stdout",
     "output_type": "stream",
     "text": [
      "102/102 [==============================] - 2s 16ms/step\n"
     ]
    }
   ],
   "source": [
    "#Classify the tweets of test data\n",
    "predictions = model.predict(test_tf)"
   ]
  },
  {
   "cell_type": "code",
   "execution_count": 69,
   "id": "4aa1ebd2",
   "metadata": {
    "execution": {
     "iopub.execute_input": "2023-07-14T13:35:08.648137Z",
     "iopub.status.busy": "2023-07-14T13:35:08.647768Z",
     "iopub.status.idle": "2023-07-14T13:35:08.655335Z",
     "shell.execute_reply": "2023-07-14T13:35:08.654392Z"
    },
    "papermill": {
     "duration": 2.788397,
     "end_time": "2023-07-14T13:35:08.657691",
     "exception": false,
     "start_time": "2023-07-14T13:35:05.869294",
     "status": "completed"
    },
    "tags": []
   },
   "outputs": [
    {
     "data": {
      "text/plain": [
       "array([[0.99999905],\n",
       "       [0.999918  ],\n",
       "       [0.9999989 ],\n",
       "       ...,\n",
       "       [0.99999964],\n",
       "       [0.9999908 ],\n",
       "       [0.9999995 ]], dtype=float32)"
      ]
     },
     "execution_count": 69,
     "metadata": {},
     "output_type": "execute_result"
    }
   ],
   "source": [
    "#Print the predictions\n",
    "predictions"
   ]
  },
  {
   "cell_type": "code",
   "execution_count": 70,
   "id": "7a6197e2",
   "metadata": {
    "execution": {
     "iopub.execute_input": "2023-07-14T13:35:14.054155Z",
     "iopub.status.busy": "2023-07-14T13:35:14.053805Z",
     "iopub.status.idle": "2023-07-14T13:35:14.071650Z",
     "shell.execute_reply": "2023-07-14T13:35:14.070488Z"
    },
    "papermill": {
     "duration": 2.805225,
     "end_time": "2023-07-14T13:35:14.074202",
     "exception": false,
     "start_time": "2023-07-14T13:35:11.268977",
     "status": "completed"
    },
    "tags": []
   },
   "outputs": [
    {
     "data": {
      "text/plain": [
       "[1, 1, 1, 1, 1, 1, 0, 0, 0, 0]"
      ]
     },
     "execution_count": 70,
     "metadata": {},
     "output_type": "execute_result"
    }
   ],
   "source": [
    "threshold = 0.5\n",
    "#Convert the float values to binary\n",
    "final_predictions = [1 if i > threshold else 0 for i in predictions]\n",
    "final_predictions[:10]"
   ]
  },
  {
   "cell_type": "code",
   "execution_count": 71,
   "id": "dd2b2fa1",
   "metadata": {
    "execution": {
     "iopub.execute_input": "2023-07-14T13:35:20.014472Z",
     "iopub.status.busy": "2023-07-14T13:35:20.014096Z",
     "iopub.status.idle": "2023-07-14T13:35:20.025082Z",
     "shell.execute_reply": "2023-07-14T13:35:20.024189Z"
    },
    "papermill": {
     "duration": 2.677463,
     "end_time": "2023-07-14T13:35:20.027436",
     "exception": false,
     "start_time": "2023-07-14T13:35:17.349973",
     "status": "completed"
    },
    "tags": []
   },
   "outputs": [
    {
     "data": {
      "text/html": [
       "<div>\n",
       "<style scoped>\n",
       "    .dataframe tbody tr th:only-of-type {\n",
       "        vertical-align: middle;\n",
       "    }\n",
       "\n",
       "    .dataframe tbody tr th {\n",
       "        vertical-align: top;\n",
       "    }\n",
       "\n",
       "    .dataframe thead th {\n",
       "        text-align: right;\n",
       "    }\n",
       "</style>\n",
       "<table border=\"1\" class=\"dataframe\">\n",
       "  <thead>\n",
       "    <tr style=\"text-align: right;\">\n",
       "      <th></th>\n",
       "      <th>id</th>\n",
       "      <th>target</th>\n",
       "    </tr>\n",
       "  </thead>\n",
       "  <tbody>\n",
       "    <tr>\n",
       "      <th>0</th>\n",
       "      <td>0</td>\n",
       "      <td>0</td>\n",
       "    </tr>\n",
       "    <tr>\n",
       "      <th>1</th>\n",
       "      <td>2</td>\n",
       "      <td>0</td>\n",
       "    </tr>\n",
       "    <tr>\n",
       "      <th>2</th>\n",
       "      <td>3</td>\n",
       "      <td>0</td>\n",
       "    </tr>\n",
       "    <tr>\n",
       "      <th>3</th>\n",
       "      <td>9</td>\n",
       "      <td>0</td>\n",
       "    </tr>\n",
       "    <tr>\n",
       "      <th>4</th>\n",
       "      <td>11</td>\n",
       "      <td>0</td>\n",
       "    </tr>\n",
       "    <tr>\n",
       "      <th>...</th>\n",
       "      <td>...</td>\n",
       "      <td>...</td>\n",
       "    </tr>\n",
       "    <tr>\n",
       "      <th>3258</th>\n",
       "      <td>10861</td>\n",
       "      <td>0</td>\n",
       "    </tr>\n",
       "    <tr>\n",
       "      <th>3259</th>\n",
       "      <td>10865</td>\n",
       "      <td>0</td>\n",
       "    </tr>\n",
       "    <tr>\n",
       "      <th>3260</th>\n",
       "      <td>10868</td>\n",
       "      <td>0</td>\n",
       "    </tr>\n",
       "    <tr>\n",
       "      <th>3261</th>\n",
       "      <td>10874</td>\n",
       "      <td>0</td>\n",
       "    </tr>\n",
       "    <tr>\n",
       "      <th>3262</th>\n",
       "      <td>10875</td>\n",
       "      <td>0</td>\n",
       "    </tr>\n",
       "  </tbody>\n",
       "</table>\n",
       "<p>3263 rows × 2 columns</p>\n",
       "</div>"
      ],
      "text/plain": [
       "         id  target\n",
       "0         0       0\n",
       "1         2       0\n",
       "2         3       0\n",
       "3         9       0\n",
       "4        11       0\n",
       "...     ...     ...\n",
       "3258  10861       0\n",
       "3259  10865       0\n",
       "3260  10868       0\n",
       "3261  10874       0\n",
       "3262  10875       0\n",
       "\n",
       "[3263 rows x 2 columns]"
      ]
     },
     "execution_count": 71,
     "metadata": {},
     "output_type": "execute_result"
    }
   ],
   "source": [
    "sample"
   ]
  },
  {
   "cell_type": "code",
   "execution_count": 72,
   "id": "08930f66",
   "metadata": {
    "execution": {
     "iopub.execute_input": "2023-07-14T13:35:25.488407Z",
     "iopub.status.busy": "2023-07-14T13:35:25.488027Z",
     "iopub.status.idle": "2023-07-14T13:35:25.506207Z",
     "shell.execute_reply": "2023-07-14T13:35:25.505228Z"
    },
    "papermill": {
     "duration": 2.709572,
     "end_time": "2023-07-14T13:35:25.508719",
     "exception": false,
     "start_time": "2023-07-14T13:35:22.799147",
     "status": "completed"
    },
    "tags": []
   },
   "outputs": [
    {
     "data": {
      "text/html": [
       "<div>\n",
       "<style scoped>\n",
       "    .dataframe tbody tr th:only-of-type {\n",
       "        vertical-align: middle;\n",
       "    }\n",
       "\n",
       "    .dataframe tbody tr th {\n",
       "        vertical-align: top;\n",
       "    }\n",
       "\n",
       "    .dataframe thead th {\n",
       "        text-align: right;\n",
       "    }\n",
       "</style>\n",
       "<table border=\"1\" class=\"dataframe\">\n",
       "  <thead>\n",
       "    <tr style=\"text-align: right;\">\n",
       "      <th></th>\n",
       "      <th>id</th>\n",
       "      <th>target</th>\n",
       "    </tr>\n",
       "  </thead>\n",
       "  <tbody>\n",
       "    <tr>\n",
       "      <th>0</th>\n",
       "      <td>0</td>\n",
       "      <td>1</td>\n",
       "    </tr>\n",
       "    <tr>\n",
       "      <th>1</th>\n",
       "      <td>2</td>\n",
       "      <td>1</td>\n",
       "    </tr>\n",
       "    <tr>\n",
       "      <th>2</th>\n",
       "      <td>3</td>\n",
       "      <td>1</td>\n",
       "    </tr>\n",
       "    <tr>\n",
       "      <th>3</th>\n",
       "      <td>9</td>\n",
       "      <td>1</td>\n",
       "    </tr>\n",
       "    <tr>\n",
       "      <th>4</th>\n",
       "      <td>11</td>\n",
       "      <td>1</td>\n",
       "    </tr>\n",
       "    <tr>\n",
       "      <th>...</th>\n",
       "      <td>...</td>\n",
       "      <td>...</td>\n",
       "    </tr>\n",
       "    <tr>\n",
       "      <th>3258</th>\n",
       "      <td>10861</td>\n",
       "      <td>0</td>\n",
       "    </tr>\n",
       "    <tr>\n",
       "      <th>3259</th>\n",
       "      <td>10865</td>\n",
       "      <td>1</td>\n",
       "    </tr>\n",
       "    <tr>\n",
       "      <th>3260</th>\n",
       "      <td>10868</td>\n",
       "      <td>1</td>\n",
       "    </tr>\n",
       "    <tr>\n",
       "      <th>3261</th>\n",
       "      <td>10874</td>\n",
       "      <td>1</td>\n",
       "    </tr>\n",
       "    <tr>\n",
       "      <th>3262</th>\n",
       "      <td>10875</td>\n",
       "      <td>1</td>\n",
       "    </tr>\n",
       "  </tbody>\n",
       "</table>\n",
       "<p>3263 rows × 2 columns</p>\n",
       "</div>"
      ],
      "text/plain": [
       "         id  target\n",
       "0         0       1\n",
       "1         2       1\n",
       "2         3       1\n",
       "3         9       1\n",
       "4        11       1\n",
       "...     ...     ...\n",
       "3258  10861       0\n",
       "3259  10865       1\n",
       "3260  10868       1\n",
       "3261  10874       1\n",
       "3262  10875       1\n",
       "\n",
       "[3263 rows x 2 columns]"
      ]
     },
     "execution_count": 72,
     "metadata": {},
     "output_type": "execute_result"
    }
   ],
   "source": [
    "submissions = pd.DataFrame(columns=[\"id\",\"target\"])\n",
    "submissions[\"target\"] = final_predictions\n",
    "submissions[\"id\"] = test.id\n",
    "submissions"
   ]
  },
  {
   "cell_type": "code",
   "execution_count": 73,
   "id": "76869204",
   "metadata": {
    "execution": {
     "iopub.execute_input": "2023-07-14T13:35:30.976296Z",
     "iopub.status.busy": "2023-07-14T13:35:30.975943Z",
     "iopub.status.idle": "2023-07-14T13:35:30.991744Z",
     "shell.execute_reply": "2023-07-14T13:35:30.990841Z"
    },
    "papermill": {
     "duration": 2.713062,
     "end_time": "2023-07-14T13:35:30.993868",
     "exception": false,
     "start_time": "2023-07-14T13:35:28.280806",
     "status": "completed"
    },
    "tags": []
   },
   "outputs": [],
   "source": [
    "#Save the file as a csv file\n",
    "submissions.to_csv(\"submission.csv\", index=False)"
   ]
  },
  {
   "cell_type": "code",
   "execution_count": null,
   "id": "e41ffe43",
   "metadata": {
    "papermill": {
     "duration": 2.826787,
     "end_time": "2023-07-14T13:35:36.431141",
     "exception": false,
     "start_time": "2023-07-14T13:35:33.604354",
     "status": "completed"
    },
    "tags": []
   },
   "outputs": [],
   "source": []
  }
 ],
 "metadata": {
  "kernelspec": {
   "display_name": "Python 3",
   "language": "python",
   "name": "python3"
  },
  "language_info": {
   "codemirror_mode": {
    "name": "ipython",
    "version": 3
   },
   "file_extension": ".py",
   "mimetype": "text/x-python",
   "name": "python",
   "nbconvert_exporter": "python",
   "pygments_lexer": "ipython3",
   "version": "3.10.12"
  },
  "papermill": {
   "default_parameters": {},
   "duration": 5113.763394,
   "end_time": "2023-07-14T13:35:42.344621",
   "environment_variables": {},
   "exception": null,
   "input_path": "__notebook__.ipynb",
   "output_path": "__notebook__.ipynb",
   "parameters": {},
   "start_time": "2023-07-14T12:10:28.581227",
   "version": "2.4.0"
  }
 },
 "nbformat": 4,
 "nbformat_minor": 5
}
