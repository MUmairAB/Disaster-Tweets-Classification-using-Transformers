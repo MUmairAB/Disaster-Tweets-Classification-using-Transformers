{
 "cells": [
  {
   "cell_type": "code",
   "execution_count": 1,
   "id": "f6e95e4f",
   "metadata": {
    "_cell_guid": "b1076dfc-b9ad-4769-8c92-a6c4dae69d19",
    "_uuid": "8f2839f25d086af736a60e9eeb907d3b93b6e0e5",
    "execution": {
     "iopub.execute_input": "2023-08-07T06:17:03.560766Z",
     "iopub.status.busy": "2023-08-07T06:17:03.559740Z",
     "iopub.status.idle": "2023-08-07T06:17:03.583293Z",
     "shell.execute_reply": "2023-08-07T06:17:03.581974Z"
    },
    "papermill": {
     "duration": 0.05011,
     "end_time": "2023-08-07T06:17:03.585629",
     "exception": false,
     "start_time": "2023-08-07T06:17:03.535519",
     "status": "completed"
    },
    "tags": []
   },
   "outputs": [
    {
     "name": "stdout",
     "output_type": "stream",
     "text": [
      "/kaggle/input/nlp-getting-started/sample_submission.csv\n",
      "/kaggle/input/nlp-getting-started/train.csv\n",
      "/kaggle/input/nlp-getting-started/test.csv\n",
      "/kaggle/input/disasters-on-social-media/socialmedia-disaster-tweets-DFE.csv\n"
     ]
    }
   ],
   "source": [
    "# This Python 3 environment comes with many helpful analytics libraries installed\n",
    "# It is defined by the kaggle/python Docker image: https://github.com/kaggle/docker-python\n",
    "# For example, here's several helpful packages to load\n",
    "\n",
    "import numpy as np # linear algebra\n",
    "import pandas as pd # data processing, CSV file I/O (e.g. pd.read_csv)\n",
    "\n",
    "# Input data files are available in the read-only \"../input/\" directory\n",
    "# For example, running this (by clicking run or pressing Shift+Enter) will list all files under the input directory\n",
    "file_names = []\n",
    "import os\n",
    "for dirname, _, filenames in os.walk('/kaggle/input'):\n",
    "    for filename in filenames:\n",
    "        print(os.path.join(dirname, filename))\n",
    "        file_names.append(os.path.join(dirname, filename))\n",
    "\n",
    "# You can write up to 20GB to the current directory (/kaggle/working/) that gets preserved as output when you create a version using \"Save & Run All\" \n",
    "# You can also write temporary files to /kaggle/temp/, but they won't be saved outside of the current session"
   ]
  },
  {
   "cell_type": "code",
   "execution_count": 2,
   "id": "bab0b17c",
   "metadata": {
    "execution": {
     "iopub.execute_input": "2023-08-07T06:17:03.629345Z",
     "iopub.status.busy": "2023-08-07T06:17:03.629079Z",
     "iopub.status.idle": "2023-08-07T06:17:22.616064Z",
     "shell.execute_reply": "2023-08-07T06:17:22.615082Z"
    },
    "papermill": {
     "duration": 19.012097,
     "end_time": "2023-08-07T06:17:22.618936",
     "exception": false,
     "start_time": "2023-08-07T06:17:03.606839",
     "status": "completed"
    },
    "tags": []
   },
   "outputs": [
    {
     "name": "stderr",
     "output_type": "stream",
     "text": [
      "/opt/conda/lib/python3.10/site-packages/scipy/__init__.py:146: UserWarning: A NumPy version >=1.16.5 and <1.23.0 is required for this version of SciPy (detected version 1.23.5\n",
      "  warnings.warn(f\"A NumPy version >={np_minversion} and <{np_maxversion}\"\n",
      "/opt/conda/lib/python3.10/site-packages/tensorflow_io/python/ops/__init__.py:98: UserWarning: unable to load libtensorflow_io_plugins.so: unable to open file: libtensorflow_io_plugins.so, from paths: ['/opt/conda/lib/python3.10/site-packages/tensorflow_io/python/ops/libtensorflow_io_plugins.so']\n",
      "caused by: ['/opt/conda/lib/python3.10/site-packages/tensorflow_io/python/ops/libtensorflow_io_plugins.so: undefined symbol: _ZN3tsl6StatusC1EN10tensorflow5error4CodeESt17basic_string_viewIcSt11char_traitsIcEENS_14SourceLocationE']\n",
      "  warnings.warn(f\"unable to load libtensorflow_io_plugins.so: {e}\")\n",
      "/opt/conda/lib/python3.10/site-packages/tensorflow_io/python/ops/__init__.py:104: UserWarning: file system plugins are not loaded: unable to open file: libtensorflow_io.so, from paths: ['/opt/conda/lib/python3.10/site-packages/tensorflow_io/python/ops/libtensorflow_io.so']\n",
      "caused by: ['/opt/conda/lib/python3.10/site-packages/tensorflow_io/python/ops/libtensorflow_io.so: undefined symbol: _ZTVN10tensorflow13GcsFileSystemE']\n",
      "  warnings.warn(f\"file system plugins are not loaded: {e}\")\n"
     ]
    }
   ],
   "source": [
    "#Import the necessary libraries\n",
    "import tensorflow as tf\n",
    "from tensorflow import keras\n",
    "from tensorflow.keras import layers\n",
    "\n",
    "import matplotlib.pyplot as plt\n",
    "import seaborn as sns\n",
    "\n",
    "from sklearn.utils import shuffle"
   ]
  },
  {
   "cell_type": "code",
   "execution_count": 3,
   "id": "1f25de09",
   "metadata": {
    "execution": {
     "iopub.execute_input": "2023-08-07T06:17:22.668193Z",
     "iopub.status.busy": "2023-08-07T06:17:22.666137Z",
     "iopub.status.idle": "2023-08-07T06:17:22.671650Z",
     "shell.execute_reply": "2023-08-07T06:17:22.670627Z"
    },
    "papermill": {
     "duration": 0.030941,
     "end_time": "2023-08-07T06:17:22.673949",
     "exception": false,
     "start_time": "2023-08-07T06:17:22.643008",
     "status": "completed"
    },
    "tags": []
   },
   "outputs": [],
   "source": [
    "#Set the seed value\n",
    "SEED = 4243"
   ]
  },
  {
   "cell_type": "code",
   "execution_count": 4,
   "id": "f5f3aa4e",
   "metadata": {
    "execution": {
     "iopub.execute_input": "2023-08-07T06:17:22.717203Z",
     "iopub.status.busy": "2023-08-07T06:17:22.716932Z",
     "iopub.status.idle": "2023-08-07T06:17:22.750579Z",
     "shell.execute_reply": "2023-08-07T06:17:22.749592Z"
    },
    "papermill": {
     "duration": 0.057677,
     "end_time": "2023-08-07T06:17:22.752873",
     "exception": false,
     "start_time": "2023-08-07T06:17:22.695196",
     "status": "completed"
    },
    "tags": []
   },
   "outputs": [
    {
     "data": {
      "text/html": [
       "<div>\n",
       "<style scoped>\n",
       "    .dataframe tbody tr th:only-of-type {\n",
       "        vertical-align: middle;\n",
       "    }\n",
       "\n",
       "    .dataframe tbody tr th {\n",
       "        vertical-align: top;\n",
       "    }\n",
       "\n",
       "    .dataframe thead th {\n",
       "        text-align: right;\n",
       "    }\n",
       "</style>\n",
       "<table border=\"1\" class=\"dataframe\">\n",
       "  <thead>\n",
       "    <tr style=\"text-align: right;\">\n",
       "      <th></th>\n",
       "      <th>id</th>\n",
       "      <th>target</th>\n",
       "    </tr>\n",
       "  </thead>\n",
       "  <tbody>\n",
       "    <tr>\n",
       "      <th>0</th>\n",
       "      <td>0</td>\n",
       "      <td>0</td>\n",
       "    </tr>\n",
       "    <tr>\n",
       "      <th>1</th>\n",
       "      <td>2</td>\n",
       "      <td>0</td>\n",
       "    </tr>\n",
       "    <tr>\n",
       "      <th>2</th>\n",
       "      <td>3</td>\n",
       "      <td>0</td>\n",
       "    </tr>\n",
       "    <tr>\n",
       "      <th>3</th>\n",
       "      <td>9</td>\n",
       "      <td>0</td>\n",
       "    </tr>\n",
       "    <tr>\n",
       "      <th>4</th>\n",
       "      <td>11</td>\n",
       "      <td>0</td>\n",
       "    </tr>\n",
       "  </tbody>\n",
       "</table>\n",
       "</div>"
      ],
      "text/plain": [
       "   id  target\n",
       "0   0       0\n",
       "1   2       0\n",
       "2   3       0\n",
       "3   9       0\n",
       "4  11       0"
      ]
     },
     "execution_count": 4,
     "metadata": {},
     "output_type": "execute_result"
    }
   ],
   "source": [
    "#Read the sample file\n",
    "sample = pd.read_csv(\"/kaggle/input/nlp-getting-started/sample_submission.csv\")\n",
    "sample.head()"
   ]
  },
  {
   "cell_type": "code",
   "execution_count": 5,
   "id": "4f733915",
   "metadata": {
    "execution": {
     "iopub.execute_input": "2023-08-07T06:17:22.797459Z",
     "iopub.status.busy": "2023-08-07T06:17:22.796669Z",
     "iopub.status.idle": "2023-08-07T06:17:22.851341Z",
     "shell.execute_reply": "2023-08-07T06:17:22.850233Z"
    },
    "papermill": {
     "duration": 0.079635,
     "end_time": "2023-08-07T06:17:22.854070",
     "exception": false,
     "start_time": "2023-08-07T06:17:22.774435",
     "status": "completed"
    },
    "tags": []
   },
   "outputs": [
    {
     "data": {
      "text/html": [
       "<div>\n",
       "<style scoped>\n",
       "    .dataframe tbody tr th:only-of-type {\n",
       "        vertical-align: middle;\n",
       "    }\n",
       "\n",
       "    .dataframe tbody tr th {\n",
       "        vertical-align: top;\n",
       "    }\n",
       "\n",
       "    .dataframe thead th {\n",
       "        text-align: right;\n",
       "    }\n",
       "</style>\n",
       "<table border=\"1\" class=\"dataframe\">\n",
       "  <thead>\n",
       "    <tr style=\"text-align: right;\">\n",
       "      <th></th>\n",
       "      <th>id</th>\n",
       "      <th>keyword</th>\n",
       "      <th>location</th>\n",
       "      <th>text</th>\n",
       "      <th>target</th>\n",
       "    </tr>\n",
       "  </thead>\n",
       "  <tbody>\n",
       "    <tr>\n",
       "      <th>0</th>\n",
       "      <td>1</td>\n",
       "      <td>NaN</td>\n",
       "      <td>NaN</td>\n",
       "      <td>Our Deeds are the Reason of this #earthquake M...</td>\n",
       "      <td>1</td>\n",
       "    </tr>\n",
       "    <tr>\n",
       "      <th>1</th>\n",
       "      <td>4</td>\n",
       "      <td>NaN</td>\n",
       "      <td>NaN</td>\n",
       "      <td>Forest fire near La Ronge Sask. Canada</td>\n",
       "      <td>1</td>\n",
       "    </tr>\n",
       "    <tr>\n",
       "      <th>2</th>\n",
       "      <td>5</td>\n",
       "      <td>NaN</td>\n",
       "      <td>NaN</td>\n",
       "      <td>All residents asked to 'shelter in place' are ...</td>\n",
       "      <td>1</td>\n",
       "    </tr>\n",
       "    <tr>\n",
       "      <th>3</th>\n",
       "      <td>6</td>\n",
       "      <td>NaN</td>\n",
       "      <td>NaN</td>\n",
       "      <td>13,000 people receive #wildfires evacuation or...</td>\n",
       "      <td>1</td>\n",
       "    </tr>\n",
       "    <tr>\n",
       "      <th>4</th>\n",
       "      <td>7</td>\n",
       "      <td>NaN</td>\n",
       "      <td>NaN</td>\n",
       "      <td>Just got sent this photo from Ruby #Alaska as ...</td>\n",
       "      <td>1</td>\n",
       "    </tr>\n",
       "  </tbody>\n",
       "</table>\n",
       "</div>"
      ],
      "text/plain": [
       "   id keyword location                                               text  \\\n",
       "0   1     NaN      NaN  Our Deeds are the Reason of this #earthquake M...   \n",
       "1   4     NaN      NaN             Forest fire near La Ronge Sask. Canada   \n",
       "2   5     NaN      NaN  All residents asked to 'shelter in place' are ...   \n",
       "3   6     NaN      NaN  13,000 people receive #wildfires evacuation or...   \n",
       "4   7     NaN      NaN  Just got sent this photo from Ruby #Alaska as ...   \n",
       "\n",
       "   target  \n",
       "0       1  \n",
       "1       1  \n",
       "2       1  \n",
       "3       1  \n",
       "4       1  "
      ]
     },
     "execution_count": 5,
     "metadata": {},
     "output_type": "execute_result"
    }
   ],
   "source": [
    "#Read the training data\n",
    "train = pd.read_csv(\"/kaggle/input/nlp-getting-started/train.csv\")\n",
    "train.head()"
   ]
  },
  {
   "cell_type": "code",
   "execution_count": 6,
   "id": "eaaf5b25",
   "metadata": {
    "execution": {
     "iopub.execute_input": "2023-08-07T06:17:22.899496Z",
     "iopub.status.busy": "2023-08-07T06:17:22.898617Z",
     "iopub.status.idle": "2023-08-07T06:17:22.929326Z",
     "shell.execute_reply": "2023-08-07T06:17:22.928291Z"
    },
    "papermill": {
     "duration": 0.055661,
     "end_time": "2023-08-07T06:17:22.931899",
     "exception": false,
     "start_time": "2023-08-07T06:17:22.876238",
     "status": "completed"
    },
    "tags": []
   },
   "outputs": [
    {
     "data": {
      "text/html": [
       "<div>\n",
       "<style scoped>\n",
       "    .dataframe tbody tr th:only-of-type {\n",
       "        vertical-align: middle;\n",
       "    }\n",
       "\n",
       "    .dataframe tbody tr th {\n",
       "        vertical-align: top;\n",
       "    }\n",
       "\n",
       "    .dataframe thead th {\n",
       "        text-align: right;\n",
       "    }\n",
       "</style>\n",
       "<table border=\"1\" class=\"dataframe\">\n",
       "  <thead>\n",
       "    <tr style=\"text-align: right;\">\n",
       "      <th></th>\n",
       "      <th>id</th>\n",
       "      <th>keyword</th>\n",
       "      <th>location</th>\n",
       "      <th>text</th>\n",
       "    </tr>\n",
       "  </thead>\n",
       "  <tbody>\n",
       "    <tr>\n",
       "      <th>0</th>\n",
       "      <td>0</td>\n",
       "      <td>NaN</td>\n",
       "      <td>NaN</td>\n",
       "      <td>Just happened a terrible car crash</td>\n",
       "    </tr>\n",
       "    <tr>\n",
       "      <th>1</th>\n",
       "      <td>2</td>\n",
       "      <td>NaN</td>\n",
       "      <td>NaN</td>\n",
       "      <td>Heard about #earthquake is different cities, s...</td>\n",
       "    </tr>\n",
       "    <tr>\n",
       "      <th>2</th>\n",
       "      <td>3</td>\n",
       "      <td>NaN</td>\n",
       "      <td>NaN</td>\n",
       "      <td>there is a forest fire at spot pond, geese are...</td>\n",
       "    </tr>\n",
       "    <tr>\n",
       "      <th>3</th>\n",
       "      <td>9</td>\n",
       "      <td>NaN</td>\n",
       "      <td>NaN</td>\n",
       "      <td>Apocalypse lighting. #Spokane #wildfires</td>\n",
       "    </tr>\n",
       "    <tr>\n",
       "      <th>4</th>\n",
       "      <td>11</td>\n",
       "      <td>NaN</td>\n",
       "      <td>NaN</td>\n",
       "      <td>Typhoon Soudelor kills 28 in China and Taiwan</td>\n",
       "    </tr>\n",
       "  </tbody>\n",
       "</table>\n",
       "</div>"
      ],
      "text/plain": [
       "   id keyword location                                               text\n",
       "0   0     NaN      NaN                 Just happened a terrible car crash\n",
       "1   2     NaN      NaN  Heard about #earthquake is different cities, s...\n",
       "2   3     NaN      NaN  there is a forest fire at spot pond, geese are...\n",
       "3   9     NaN      NaN           Apocalypse lighting. #Spokane #wildfires\n",
       "4  11     NaN      NaN      Typhoon Soudelor kills 28 in China and Taiwan"
      ]
     },
     "execution_count": 6,
     "metadata": {},
     "output_type": "execute_result"
    }
   ],
   "source": [
    "#Read the Disaster on Socila Media dataset\n",
    "test = pd.read_csv(\"/kaggle/input/nlp-getting-started/test.csv\")\n",
    "test.head()"
   ]
  },
  {
   "cell_type": "code",
   "execution_count": 7,
   "id": "46da9304",
   "metadata": {
    "execution": {
     "iopub.execute_input": "2023-08-07T06:17:22.978997Z",
     "iopub.status.busy": "2023-08-07T06:17:22.978726Z",
     "iopub.status.idle": "2023-08-07T06:17:23.078698Z",
     "shell.execute_reply": "2023-08-07T06:17:23.077679Z"
    },
    "papermill": {
     "duration": 0.125276,
     "end_time": "2023-08-07T06:17:23.080904",
     "exception": false,
     "start_time": "2023-08-07T06:17:22.955628",
     "status": "completed"
    },
    "tags": []
   },
   "outputs": [
    {
     "data": {
      "text/html": [
       "<div>\n",
       "<style scoped>\n",
       "    .dataframe tbody tr th:only-of-type {\n",
       "        vertical-align: middle;\n",
       "    }\n",
       "\n",
       "    .dataframe tbody tr th {\n",
       "        vertical-align: top;\n",
       "    }\n",
       "\n",
       "    .dataframe thead th {\n",
       "        text-align: right;\n",
       "    }\n",
       "</style>\n",
       "<table border=\"1\" class=\"dataframe\">\n",
       "  <thead>\n",
       "    <tr style=\"text-align: right;\">\n",
       "      <th></th>\n",
       "      <th>_unit_id</th>\n",
       "      <th>_golden</th>\n",
       "      <th>_unit_state</th>\n",
       "      <th>_trusted_judgments</th>\n",
       "      <th>_last_judgment_at</th>\n",
       "      <th>choose_one</th>\n",
       "      <th>choose_one:confidence</th>\n",
       "      <th>choose_one_gold</th>\n",
       "      <th>keyword</th>\n",
       "      <th>location</th>\n",
       "      <th>text</th>\n",
       "      <th>tweetid</th>\n",
       "      <th>userid</th>\n",
       "    </tr>\n",
       "  </thead>\n",
       "  <tbody>\n",
       "    <tr>\n",
       "      <th>0</th>\n",
       "      <td>778243823</td>\n",
       "      <td>True</td>\n",
       "      <td>golden</td>\n",
       "      <td>156</td>\n",
       "      <td>NaN</td>\n",
       "      <td>Relevant</td>\n",
       "      <td>1.0000</td>\n",
       "      <td>Relevant</td>\n",
       "      <td>NaN</td>\n",
       "      <td>NaN</td>\n",
       "      <td>Just happened a terrible car crash</td>\n",
       "      <td>1.0</td>\n",
       "      <td>NaN</td>\n",
       "    </tr>\n",
       "    <tr>\n",
       "      <th>1</th>\n",
       "      <td>778243824</td>\n",
       "      <td>True</td>\n",
       "      <td>golden</td>\n",
       "      <td>152</td>\n",
       "      <td>NaN</td>\n",
       "      <td>Relevant</td>\n",
       "      <td>1.0000</td>\n",
       "      <td>Relevant</td>\n",
       "      <td>NaN</td>\n",
       "      <td>NaN</td>\n",
       "      <td>Our Deeds are the Reason of this #earthquake M...</td>\n",
       "      <td>13.0</td>\n",
       "      <td>NaN</td>\n",
       "    </tr>\n",
       "    <tr>\n",
       "      <th>2</th>\n",
       "      <td>778243825</td>\n",
       "      <td>True</td>\n",
       "      <td>golden</td>\n",
       "      <td>137</td>\n",
       "      <td>NaN</td>\n",
       "      <td>Relevant</td>\n",
       "      <td>1.0000</td>\n",
       "      <td>Relevant</td>\n",
       "      <td>NaN</td>\n",
       "      <td>NaN</td>\n",
       "      <td>Heard about #earthquake is different cities, s...</td>\n",
       "      <td>14.0</td>\n",
       "      <td>NaN</td>\n",
       "    </tr>\n",
       "    <tr>\n",
       "      <th>3</th>\n",
       "      <td>778243826</td>\n",
       "      <td>True</td>\n",
       "      <td>golden</td>\n",
       "      <td>136</td>\n",
       "      <td>NaN</td>\n",
       "      <td>Relevant</td>\n",
       "      <td>0.9603</td>\n",
       "      <td>Relevant</td>\n",
       "      <td>NaN</td>\n",
       "      <td>NaN</td>\n",
       "      <td>there is a forest fire at spot pond, geese are...</td>\n",
       "      <td>15.0</td>\n",
       "      <td>NaN</td>\n",
       "    </tr>\n",
       "    <tr>\n",
       "      <th>4</th>\n",
       "      <td>778243827</td>\n",
       "      <td>True</td>\n",
       "      <td>golden</td>\n",
       "      <td>138</td>\n",
       "      <td>NaN</td>\n",
       "      <td>Relevant</td>\n",
       "      <td>1.0000</td>\n",
       "      <td>Relevant</td>\n",
       "      <td>NaN</td>\n",
       "      <td>NaN</td>\n",
       "      <td>Forest fire near La Ronge Sask. Canada</td>\n",
       "      <td>16.0</td>\n",
       "      <td>NaN</td>\n",
       "    </tr>\n",
       "  </tbody>\n",
       "</table>\n",
       "</div>"
      ],
      "text/plain": [
       "    _unit_id  _golden _unit_state  _trusted_judgments _last_judgment_at  \\\n",
       "0  778243823     True      golden                 156               NaN   \n",
       "1  778243824     True      golden                 152               NaN   \n",
       "2  778243825     True      golden                 137               NaN   \n",
       "3  778243826     True      golden                 136               NaN   \n",
       "4  778243827     True      golden                 138               NaN   \n",
       "\n",
       "  choose_one  choose_one:confidence choose_one_gold keyword location  \\\n",
       "0   Relevant                 1.0000        Relevant     NaN      NaN   \n",
       "1   Relevant                 1.0000        Relevant     NaN      NaN   \n",
       "2   Relevant                 1.0000        Relevant     NaN      NaN   \n",
       "3   Relevant                 0.9603        Relevant     NaN      NaN   \n",
       "4   Relevant                 1.0000        Relevant     NaN      NaN   \n",
       "\n",
       "                                                text  tweetid  userid  \n",
       "0                 Just happened a terrible car crash      1.0     NaN  \n",
       "1  Our Deeds are the Reason of this #earthquake M...     13.0     NaN  \n",
       "2  Heard about #earthquake is different cities, s...     14.0     NaN  \n",
       "3  there is a forest fire at spot pond, geese are...     15.0     NaN  \n",
       "4             Forest fire near La Ronge Sask. Canada     16.0     NaN  "
      ]
     },
     "execution_count": 7,
     "metadata": {},
     "output_type": "execute_result"
    }
   ],
   "source": [
    "train2 = pd.read_csv(\"/kaggle/input/disasters-on-social-media/socialmedia-disaster-tweets-DFE.csv\")\n",
    "train2.head()"
   ]
  },
  {
   "cell_type": "code",
   "execution_count": 8,
   "id": "41629b0c",
   "metadata": {
    "execution": {
     "iopub.execute_input": "2023-08-07T06:17:23.128951Z",
     "iopub.status.busy": "2023-08-07T06:17:23.128047Z",
     "iopub.status.idle": "2023-08-07T06:17:23.144597Z",
     "shell.execute_reply": "2023-08-07T06:17:23.143644Z"
    },
    "papermill": {
     "duration": 0.041866,
     "end_time": "2023-08-07T06:17:23.146663",
     "exception": false,
     "start_time": "2023-08-07T06:17:23.104797",
     "status": "completed"
    },
    "tags": []
   },
   "outputs": [
    {
     "data": {
      "text/html": [
       "<div>\n",
       "<style scoped>\n",
       "    .dataframe tbody tr th:only-of-type {\n",
       "        vertical-align: middle;\n",
       "    }\n",
       "\n",
       "    .dataframe tbody tr th {\n",
       "        vertical-align: top;\n",
       "    }\n",
       "\n",
       "    .dataframe thead th {\n",
       "        text-align: right;\n",
       "    }\n",
       "</style>\n",
       "<table border=\"1\" class=\"dataframe\">\n",
       "  <thead>\n",
       "    <tr style=\"text-align: right;\">\n",
       "      <th></th>\n",
       "      <th>_unit_id</th>\n",
       "      <th>_golden</th>\n",
       "      <th>_unit_state</th>\n",
       "      <th>_trusted_judgments</th>\n",
       "      <th>_last_judgment_at</th>\n",
       "      <th>choose_one</th>\n",
       "      <th>choose_one:confidence</th>\n",
       "      <th>choose_one_gold</th>\n",
       "      <th>keyword</th>\n",
       "      <th>location</th>\n",
       "      <th>text</th>\n",
       "      <th>tweetid</th>\n",
       "      <th>userid</th>\n",
       "    </tr>\n",
       "  </thead>\n",
       "  <tbody>\n",
       "    <tr>\n",
       "      <th>0</th>\n",
       "      <td>778243823</td>\n",
       "      <td>True</td>\n",
       "      <td>golden</td>\n",
       "      <td>156</td>\n",
       "      <td>NaN</td>\n",
       "      <td>Relevant</td>\n",
       "      <td>1.0</td>\n",
       "      <td>Relevant</td>\n",
       "      <td>NaN</td>\n",
       "      <td>NaN</td>\n",
       "      <td>Just happened a terrible car crash</td>\n",
       "      <td>1.0</td>\n",
       "      <td>NaN</td>\n",
       "    </tr>\n",
       "    <tr>\n",
       "      <th>1</th>\n",
       "      <td>778243824</td>\n",
       "      <td>True</td>\n",
       "      <td>golden</td>\n",
       "      <td>152</td>\n",
       "      <td>NaN</td>\n",
       "      <td>Relevant</td>\n",
       "      <td>1.0</td>\n",
       "      <td>Relevant</td>\n",
       "      <td>NaN</td>\n",
       "      <td>NaN</td>\n",
       "      <td>Our Deeds are the Reason of this #earthquake M...</td>\n",
       "      <td>13.0</td>\n",
       "      <td>NaN</td>\n",
       "    </tr>\n",
       "  </tbody>\n",
       "</table>\n",
       "</div>"
      ],
      "text/plain": [
       "    _unit_id  _golden _unit_state  _trusted_judgments _last_judgment_at  \\\n",
       "0  778243823     True      golden                 156               NaN   \n",
       "1  778243824     True      golden                 152               NaN   \n",
       "\n",
       "  choose_one  choose_one:confidence choose_one_gold keyword location  \\\n",
       "0   Relevant                    1.0        Relevant     NaN      NaN   \n",
       "1   Relevant                    1.0        Relevant     NaN      NaN   \n",
       "\n",
       "                                                text  tweetid  userid  \n",
       "0                 Just happened a terrible car crash      1.0     NaN  \n",
       "1  Our Deeds are the Reason of this #earthquake M...     13.0     NaN  "
      ]
     },
     "execution_count": 8,
     "metadata": {},
     "output_type": "execute_result"
    }
   ],
   "source": [
    "train2.head(2)"
   ]
  },
  {
   "cell_type": "markdown",
   "id": "ccf2f7f3",
   "metadata": {
    "papermill": {
     "duration": 0.02261,
     "end_time": "2023-08-07T06:17:23.193870",
     "exception": false,
     "start_time": "2023-08-07T06:17:23.171260",
     "status": "completed"
    },
    "tags": []
   },
   "source": [
    "## EDA of Original dataset"
   ]
  },
  {
   "cell_type": "code",
   "execution_count": 9,
   "id": "fa63d9eb",
   "metadata": {
    "execution": {
     "iopub.execute_input": "2023-08-07T06:17:23.240506Z",
     "iopub.status.busy": "2023-08-07T06:17:23.240174Z",
     "iopub.status.idle": "2023-08-07T06:17:23.244560Z",
     "shell.execute_reply": "2023-08-07T06:17:23.243516Z"
    },
    "papermill": {
     "duration": 0.029545,
     "end_time": "2023-08-07T06:17:23.247003",
     "exception": false,
     "start_time": "2023-08-07T06:17:23.217458",
     "status": "completed"
    },
    "tags": []
   },
   "outputs": [],
   "source": [
    "#Define the label\n",
    "TARGET = \"target\""
   ]
  },
  {
   "cell_type": "code",
   "execution_count": 10,
   "id": "99d52f5e",
   "metadata": {
    "execution": {
     "iopub.execute_input": "2023-08-07T06:17:23.293442Z",
     "iopub.status.busy": "2023-08-07T06:17:23.292769Z",
     "iopub.status.idle": "2023-08-07T06:17:23.300217Z",
     "shell.execute_reply": "2023-08-07T06:17:23.299125Z"
    },
    "papermill": {
     "duration": 0.034232,
     "end_time": "2023-08-07T06:17:23.302985",
     "exception": false,
     "start_time": "2023-08-07T06:17:23.268753",
     "status": "completed"
    },
    "tags": []
   },
   "outputs": [],
   "source": [
    "#Define a function to plot he Null values in a given DataFrame\n",
    "def plot_null_values(df):\n",
    "    print(\"Total number of samples in the data =\",df.shape[0])\n",
    "    sns.heatmap(df.isnull().sum().to_frame(),\n",
    "                annot=True,\n",
    "                fmt=\"d\",\n",
    "                cmap=\"crest\"\n",
    "                )\n",
    "    plt.title(\"Heatmap of NULL values\")"
   ]
  },
  {
   "cell_type": "code",
   "execution_count": 11,
   "id": "32a71ffd",
   "metadata": {
    "execution": {
     "iopub.execute_input": "2023-08-07T06:17:23.349530Z",
     "iopub.status.busy": "2023-08-07T06:17:23.349103Z",
     "iopub.status.idle": "2023-08-07T06:17:23.740432Z",
     "shell.execute_reply": "2023-08-07T06:17:23.739415Z"
    },
    "papermill": {
     "duration": 0.417005,
     "end_time": "2023-08-07T06:17:23.742765",
     "exception": false,
     "start_time": "2023-08-07T06:17:23.325760",
     "status": "completed"
    },
    "tags": []
   },
   "outputs": [
    {
     "name": "stdout",
     "output_type": "stream",
     "text": [
      "\t\t\t\tNULL values in Train Dataset\n",
      "Total number of samples in the data = 7613\n"
     ]
    },
    {
     "data": {
      "image/png": "[encoded data removed]",
      "text/plain": [
       "<Figure size 640x480 with 2 Axes>"
      ]
     },
     "metadata": {},
     "output_type": "display_data"
    }
   ],
   "source": [
    "#Use the plot_null_values function to plot Null values in the train dataset\n",
    "print(\"\\t\\t\\t\\tNULL values in Train Dataset\")\n",
    "plot_null_values(train)"
   ]
  },
  {
   "cell_type": "code",
   "execution_count": 12,
   "id": "7a84f460",
   "metadata": {
    "execution": {
     "iopub.execute_input": "2023-08-07T06:17:23.790073Z",
     "iopub.status.busy": "2023-08-07T06:17:23.789775Z",
     "iopub.status.idle": "2023-08-07T06:17:24.117534Z",
     "shell.execute_reply": "2023-08-07T06:17:24.116508Z"
    },
    "papermill": {
     "duration": 0.353547,
     "end_time": "2023-08-07T06:17:24.119610",
     "exception": false,
     "start_time": "2023-08-07T06:17:23.766063",
     "status": "completed"
    },
    "tags": []
   },
   "outputs": [
    {
     "name": "stdout",
     "output_type": "stream",
     "text": [
      "\t\t\t\tNULL values in Test Dataset\n",
      "Total number of samples in the data = 3263\n"
     ]
    },
    {
     "data": {
      "image/png": "[encoded data removed]",
      "text/plain": [
       "<Figure size 640x480 with 2 Axes>"
      ]
     },
     "metadata": {},
     "output_type": "display_data"
    }
   ],
   "source": [
    "#Use the plot_null_values function to plot Null values in the test dataset\n",
    "print(\"\\t\\t\\t\\tNULL values in Test Dataset\")\n",
    "plot_null_values(test)"
   ]
  },
  {
   "cell_type": "code",
   "execution_count": 13,
   "id": "2e2afda7",
   "metadata": {
    "execution": {
     "iopub.execute_input": "2023-08-07T06:17:24.168856Z",
     "iopub.status.busy": "2023-08-07T06:17:24.167310Z",
     "iopub.status.idle": "2023-08-07T06:17:24.184299Z",
     "shell.execute_reply": "2023-08-07T06:17:24.183341Z"
    },
    "papermill": {
     "duration": 0.043296,
     "end_time": "2023-08-07T06:17:24.186397",
     "exception": false,
     "start_time": "2023-08-07T06:17:24.143101",
     "status": "completed"
    },
    "tags": []
   },
   "outputs": [],
   "source": [
    "#Replace the Null values with str(0)\n",
    "train.fillna(\"0\",inplace=True)\n",
    "test.fillna(\"0\",inplace=True)"
   ]
  },
  {
   "cell_type": "code",
   "execution_count": 14,
   "id": "934497d6",
   "metadata": {
    "execution": {
     "iopub.execute_input": "2023-08-07T06:17:24.234869Z",
     "iopub.status.busy": "2023-08-07T06:17:24.234306Z",
     "iopub.status.idle": "2023-08-07T06:17:24.607348Z",
     "shell.execute_reply": "2023-08-07T06:17:24.606432Z"
    },
    "papermill": {
     "duration": 0.399634,
     "end_time": "2023-08-07T06:17:24.609515",
     "exception": false,
     "start_time": "2023-08-07T06:17:24.209881",
     "status": "completed"
    },
    "tags": []
   },
   "outputs": [
    {
     "name": "stdout",
     "output_type": "stream",
     "text": [
      "\t\t\t\tNULL values in Train Dataset\n",
      "Total number of samples in the data = 7613\n"
     ]
    },
    {
     "data": {
      "image/png": "[encoded data removed]",
      "text/plain": [
       "<Figure size 640x480 with 2 Axes>"
      ]
     },
     "metadata": {},
     "output_type": "display_data"
    }
   ],
   "source": [
    "#Check the updated train dataset\n",
    "print(\"\\t\\t\\t\\tNULL values in Train Dataset\")\n",
    "plot_null_values(train)"
   ]
  },
  {
   "cell_type": "code",
   "execution_count": 15,
   "id": "6c4e3278",
   "metadata": {
    "execution": {
     "iopub.execute_input": "2023-08-07T06:17:24.660410Z",
     "iopub.status.busy": "2023-08-07T06:17:24.660058Z",
     "iopub.status.idle": "2023-08-07T06:17:25.026182Z",
     "shell.execute_reply": "2023-08-07T06:17:25.025225Z"
    },
    "papermill": {
     "duration": 0.393921,
     "end_time": "2023-08-07T06:17:25.028350",
     "exception": false,
     "start_time": "2023-08-07T06:17:24.634429",
     "status": "completed"
    },
    "tags": []
   },
   "outputs": [
    {
     "name": "stdout",
     "output_type": "stream",
     "text": [
      "\t\t\t\tNULL values in Test Dataset\n",
      "Total number of samples in the data = 3263\n"
     ]
    },
    {
     "data": {
      "image/png": "[encoded data removed]",
      "text/plain": [
       "<Figure size 640x480 with 2 Axes>"
      ]
     },
     "metadata": {},
     "output_type": "display_data"
    }
   ],
   "source": [
    "#Check the updated test dataset\n",
    "print(\"\\t\\t\\t\\tNULL values in Test Dataset\")\n",
    "plot_null_values(test)"
   ]
  },
  {
   "cell_type": "code",
   "execution_count": 16,
   "id": "206b1ee9",
   "metadata": {
    "execution": {
     "iopub.execute_input": "2023-08-07T06:17:25.080286Z",
     "iopub.status.busy": "2023-08-07T06:17:25.078841Z",
     "iopub.status.idle": "2023-08-07T06:17:25.105509Z",
     "shell.execute_reply": "2023-08-07T06:17:25.104428Z"
    },
    "papermill": {
     "duration": 0.054566,
     "end_time": "2023-08-07T06:17:25.107812",
     "exception": false,
     "start_time": "2023-08-07T06:17:25.053246",
     "status": "completed"
    },
    "tags": []
   },
   "outputs": [
    {
     "data": {
      "text/html": [
       "<div>\n",
       "<style scoped>\n",
       "    .dataframe tbody tr th:only-of-type {\n",
       "        vertical-align: middle;\n",
       "    }\n",
       "\n",
       "    .dataframe tbody tr th {\n",
       "        vertical-align: top;\n",
       "    }\n",
       "\n",
       "    .dataframe thead th {\n",
       "        text-align: right;\n",
       "    }\n",
       "</style>\n",
       "<table border=\"1\" class=\"dataframe\">\n",
       "  <thead>\n",
       "    <tr style=\"text-align: right;\">\n",
       "      <th></th>\n",
       "      <th>id</th>\n",
       "      <th>keyword</th>\n",
       "      <th>location</th>\n",
       "      <th>text</th>\n",
       "      <th>target</th>\n",
       "    </tr>\n",
       "  </thead>\n",
       "  <tbody>\n",
       "  </tbody>\n",
       "</table>\n",
       "</div>"
      ],
      "text/plain": [
       "Empty DataFrame\n",
       "Columns: [id, keyword, location, text, target]\n",
       "Index: []"
      ]
     },
     "execution_count": 16,
     "metadata": {},
     "output_type": "execute_result"
    }
   ],
   "source": [
    "#Check for duplicate values\n",
    "train[train.duplicated()]"
   ]
  },
  {
   "cell_type": "markdown",
   "id": "ff54cf29",
   "metadata": {
    "papermill": {
     "duration": 0.023872,
     "end_time": "2023-08-07T06:17:25.155940",
     "exception": false,
     "start_time": "2023-08-07T06:17:25.132068",
     "status": "completed"
    },
    "tags": []
   },
   "source": [
    "**It is evident that there are no repeated tweets in our dataset.**\n",
    "\n",
    "## Target Analysis\n",
    "\n",
    "To assess the balance of our data, let's examine the distribution of values in the \"target\" column."
   ]
  },
  {
   "cell_type": "code",
   "execution_count": 17,
   "id": "2b349c95",
   "metadata": {
    "execution": {
     "iopub.execute_input": "2023-08-07T06:17:25.207100Z",
     "iopub.status.busy": "2023-08-07T06:17:25.206772Z",
     "iopub.status.idle": "2023-08-07T06:17:25.551550Z",
     "shell.execute_reply": "2023-08-07T06:17:25.550614Z"
    },
    "papermill": {
     "duration": 0.373243,
     "end_time": "2023-08-07T06:17:25.553862",
     "exception": false,
     "start_time": "2023-08-07T06:17:25.180619",
     "status": "completed"
    },
    "tags": []
   },
   "outputs": [
    {
     "data": {
      "text/plain": [
       "Text(0.5, 1.0, 'Distribution of target values')"
      ]
     },
     "execution_count": 17,
     "metadata": {},
     "output_type": "execute_result"
    },
    {
     "data": {
      "image/png": "[encoded data removed]",
      "text/plain": [
       "<Figure size 640x480 with 1 Axes>"
      ]
     },
     "metadata": {},
     "output_type": "display_data"
    }
   ],
   "source": [
    "#Target analysis\n",
    "sns.histplot(x=train[TARGET])\n",
    "plt.title(\"Distribution of target values\")"
   ]
  },
  {
   "cell_type": "markdown",
   "id": "b8488581",
   "metadata": {
    "papermill": {
     "duration": 0.024729,
     "end_time": "2023-08-07T06:17:25.603455",
     "exception": false,
     "start_time": "2023-08-07T06:17:25.578726",
     "status": "completed"
    },
    "tags": []
   },
   "source": [
    "## Feature Analysis\n",
    "\n",
    "Let's examine the distribution of features."
   ]
  },
  {
   "cell_type": "code",
   "execution_count": 18,
   "id": "89045a60",
   "metadata": {
    "execution": {
     "iopub.execute_input": "2023-08-07T06:17:25.653905Z",
     "iopub.status.busy": "2023-08-07T06:17:25.653604Z",
     "iopub.status.idle": "2023-08-07T06:17:25.669979Z",
     "shell.execute_reply": "2023-08-07T06:17:25.668780Z"
    },
    "papermill": {
     "duration": 0.044234,
     "end_time": "2023-08-07T06:17:25.672183",
     "exception": false,
     "start_time": "2023-08-07T06:17:25.627949",
     "status": "completed"
    },
    "tags": []
   },
   "outputs": [
    {
     "data": {
      "text/html": [
       "<div>\n",
       "<style scoped>\n",
       "    .dataframe tbody tr th:only-of-type {\n",
       "        vertical-align: middle;\n",
       "    }\n",
       "\n",
       "    .dataframe tbody tr th {\n",
       "        vertical-align: top;\n",
       "    }\n",
       "\n",
       "    .dataframe thead th {\n",
       "        text-align: right;\n",
       "    }\n",
       "</style>\n",
       "<table border=\"1\" class=\"dataframe\">\n",
       "  <thead>\n",
       "    <tr style=\"text-align: right;\">\n",
       "      <th></th>\n",
       "      <th>keyword</th>\n",
       "      <th>count</th>\n",
       "    </tr>\n",
       "  </thead>\n",
       "  <tbody>\n",
       "    <tr>\n",
       "      <th>0</th>\n",
       "      <td>0</td>\n",
       "      <td>61</td>\n",
       "    </tr>\n",
       "    <tr>\n",
       "      <th>105</th>\n",
       "      <td>fatalities</td>\n",
       "      <td>45</td>\n",
       "    </tr>\n",
       "    <tr>\n",
       "      <th>64</th>\n",
       "      <td>deluge</td>\n",
       "      <td>42</td>\n",
       "    </tr>\n",
       "    <tr>\n",
       "      <th>9</th>\n",
       "      <td>armageddon</td>\n",
       "      <td>42</td>\n",
       "    </tr>\n",
       "    <tr>\n",
       "      <th>178</th>\n",
       "      <td>sinking</td>\n",
       "      <td>41</td>\n",
       "    </tr>\n",
       "    <tr>\n",
       "      <th>...</th>\n",
       "      <td>...</td>\n",
       "      <td>...</td>\n",
       "    </tr>\n",
       "    <tr>\n",
       "      <th>116</th>\n",
       "      <td>forest%20fire</td>\n",
       "      <td>19</td>\n",
       "    </tr>\n",
       "    <tr>\n",
       "      <th>95</th>\n",
       "      <td>epicentre</td>\n",
       "      <td>12</td>\n",
       "    </tr>\n",
       "    <tr>\n",
       "      <th>195</th>\n",
       "      <td>threat</td>\n",
       "      <td>11</td>\n",
       "    </tr>\n",
       "    <tr>\n",
       "      <th>135</th>\n",
       "      <td>inundation</td>\n",
       "      <td>10</td>\n",
       "    </tr>\n",
       "    <tr>\n",
       "      <th>161</th>\n",
       "      <td>radiation%20emergency</td>\n",
       "      <td>9</td>\n",
       "    </tr>\n",
       "  </tbody>\n",
       "</table>\n",
       "<p>222 rows × 2 columns</p>\n",
       "</div>"
      ],
      "text/plain": [
       "                   keyword  count\n",
       "0                        0     61\n",
       "105             fatalities     45\n",
       "64                  deluge     42\n",
       "9               armageddon     42\n",
       "178                sinking     41\n",
       "..                     ...    ...\n",
       "116          forest%20fire     19\n",
       "95               epicentre     12\n",
       "195                 threat     11\n",
       "135             inundation     10\n",
       "161  radiation%20emergency      9\n",
       "\n",
       "[222 rows x 2 columns]"
      ]
     },
     "execution_count": 18,
     "metadata": {},
     "output_type": "execute_result"
    }
   ],
   "source": [
    "#Group the train DataFrame by \"keyword\" column and\n",
    "# count the \"target\" Series group values\n",
    "keyword = train.groupby(\"keyword\")[\"target\"].count()\n",
    "\n",
    "#Convert the above Groupby Object to DataFrame and sort the values\n",
    "keyword_df = pd.DataFrame(data={\"keyword\":keyword.index, \"count\":keyword.values}).sort_values(by=[\"count\"],ascending=False)\n",
    "keyword_df"
   ]
  },
  {
   "cell_type": "code",
   "execution_count": 19,
   "id": "01c9c8d2",
   "metadata": {
    "execution": {
     "iopub.execute_input": "2023-08-07T06:17:25.726294Z",
     "iopub.status.busy": "2023-08-07T06:17:25.725504Z",
     "iopub.status.idle": "2023-08-07T06:17:26.343155Z",
     "shell.execute_reply": "2023-08-07T06:17:26.342075Z"
    },
    "papermill": {
     "duration": 0.646244,
     "end_time": "2023-08-07T06:17:26.345666",
     "exception": false,
     "start_time": "2023-08-07T06:17:25.699422",
     "status": "completed"
    },
    "tags": []
   },
   "outputs": [
    {
     "data": {
      "image/png": "[encoded data removed]",
      "text/plain": [
       "<Figure size 1200x500 with 1 Axes>"
      ]
     },
     "metadata": {},
     "output_type": "display_data"
    }
   ],
   "source": [
    "#Let's plot the \"key\" DataFrame\n",
    "plt.figure(figsize=(12,5))\n",
    "#Limit the data to top 30 keywords by .head() method\n",
    "sns.barplot(data=keyword_df.head(30), x = 'keyword',y = 'count')\n",
    "plt.xticks(rotation = 50)\n",
    "plt.ylabel('count')\n",
    "plt.title('Top 30 keywords on Tweets');"
   ]
  },
  {
   "cell_type": "code",
   "execution_count": 20,
   "id": "a3f57261",
   "metadata": {
    "execution": {
     "iopub.execute_input": "2023-08-07T06:17:26.410785Z",
     "iopub.status.busy": "2023-08-07T06:17:26.410467Z",
     "iopub.status.idle": "2023-08-07T06:17:26.430925Z",
     "shell.execute_reply": "2023-08-07T06:17:26.429817Z"
    },
    "papermill": {
     "duration": 0.056742,
     "end_time": "2023-08-07T06:17:26.433424",
     "exception": false,
     "start_time": "2023-08-07T06:17:26.376682",
     "status": "completed"
    },
    "tags": []
   },
   "outputs": [
    {
     "data": {
      "text/html": [
       "<div>\n",
       "<style scoped>\n",
       "    .dataframe tbody tr th:only-of-type {\n",
       "        vertical-align: middle;\n",
       "    }\n",
       "\n",
       "    .dataframe tbody tr th {\n",
       "        vertical-align: top;\n",
       "    }\n",
       "\n",
       "    .dataframe thead th {\n",
       "        text-align: right;\n",
       "    }\n",
       "</style>\n",
       "<table border=\"1\" class=\"dataframe\">\n",
       "  <thead>\n",
       "    <tr style=\"text-align: right;\">\n",
       "      <th></th>\n",
       "      <th>location</th>\n",
       "      <th>count</th>\n",
       "    </tr>\n",
       "  </thead>\n",
       "  <tbody>\n",
       "    <tr>\n",
       "      <th>80</th>\n",
       "      <td>0</td>\n",
       "      <td>2533</td>\n",
       "    </tr>\n",
       "    <tr>\n",
       "      <th>2644</th>\n",
       "      <td>USA</td>\n",
       "      <td>104</td>\n",
       "    </tr>\n",
       "    <tr>\n",
       "      <th>1827</th>\n",
       "      <td>New York</td>\n",
       "      <td>71</td>\n",
       "    </tr>\n",
       "    <tr>\n",
       "      <th>2663</th>\n",
       "      <td>United States</td>\n",
       "      <td>50</td>\n",
       "    </tr>\n",
       "    <tr>\n",
       "      <th>1507</th>\n",
       "      <td>London</td>\n",
       "      <td>45</td>\n",
       "    </tr>\n",
       "    <tr>\n",
       "      <th>...</th>\n",
       "      <td>...</td>\n",
       "      <td>...</td>\n",
       "    </tr>\n",
       "    <tr>\n",
       "      <th>1199</th>\n",
       "      <td>Hueco Mundo</td>\n",
       "      <td>1</td>\n",
       "    </tr>\n",
       "    <tr>\n",
       "      <th>1200</th>\n",
       "      <td>Hughes, AR</td>\n",
       "      <td>1</td>\n",
       "    </tr>\n",
       "    <tr>\n",
       "      <th>1201</th>\n",
       "      <td>Huntington, WV</td>\n",
       "      <td>1</td>\n",
       "    </tr>\n",
       "    <tr>\n",
       "      <th>1202</th>\n",
       "      <td>Huntley, IL</td>\n",
       "      <td>1</td>\n",
       "    </tr>\n",
       "    <tr>\n",
       "      <th>3341</th>\n",
       "      <td>åø\\_(?)_/åø</td>\n",
       "      <td>1</td>\n",
       "    </tr>\n",
       "  </tbody>\n",
       "</table>\n",
       "<p>3342 rows × 2 columns</p>\n",
       "</div>"
      ],
      "text/plain": [
       "            location  count\n",
       "80                 0   2533\n",
       "2644             USA    104\n",
       "1827        New York     71\n",
       "2663   United States     50\n",
       "1507          London     45\n",
       "...              ...    ...\n",
       "1199     Hueco Mundo      1\n",
       "1200      Hughes, AR      1\n",
       "1201  Huntington, WV      1\n",
       "1202     Huntley, IL      1\n",
       "3341     åø\\_(?)_/åø      1\n",
       "\n",
       "[3342 rows x 2 columns]"
      ]
     },
     "execution_count": 20,
     "metadata": {},
     "output_type": "execute_result"
    }
   ],
   "source": [
    "#Group the train DataFrame by \"keyword\" column and\n",
    "# count the \"target\" Series group values\n",
    "location = train.groupby(\"location\")[\"target\"].count()\n",
    "\n",
    "#Convert the above Groupby Object to DataFrame and sort the values\n",
    "location_df = pd.DataFrame(data={\"location\":location.index, \"count\":location.values}).sort_values(by=[\"count\"],ascending=False)\n",
    "location_df"
   ]
  },
  {
   "cell_type": "code",
   "execution_count": 21,
   "id": "82cdd160",
   "metadata": {
    "execution": {
     "iopub.execute_input": "2023-08-07T06:17:26.496298Z",
     "iopub.status.busy": "2023-08-07T06:17:26.495962Z",
     "iopub.status.idle": "2023-08-07T06:17:27.092255Z",
     "shell.execute_reply": "2023-08-07T06:17:27.091299Z"
    },
    "papermill": {
     "duration": 0.630485,
     "end_time": "2023-08-07T06:17:27.094486",
     "exception": false,
     "start_time": "2023-08-07T06:17:26.464001",
     "status": "completed"
    },
    "tags": []
   },
   "outputs": [
    {
     "data": {
      "image/png": "[encoded data removed]",
      "text/plain": [
       "<Figure size 1200x500 with 1 Axes>"
      ]
     },
     "metadata": {},
     "output_type": "display_data"
    }
   ],
   "source": [
    "#Let's plot the \"location\" DataFrame\n",
    "plt.figure(figsize=(12,5))\n",
    "\n",
    "#Limit the data to top 30 locations by .head() method\n",
    "sns.barplot(data=location_df.head(30), x = 'location',y = 'count')\n",
    "plt.xticks(rotation = 50)\n",
    "plt.ylabel('count')\n",
    "plt.title('Top 30 locations on Tweets');"
   ]
  },
  {
   "cell_type": "markdown",
   "id": "ee1b48df",
   "metadata": {
    "papermill": {
     "duration": 0.027646,
     "end_time": "2023-08-07T06:17:27.149823",
     "exception": false,
     "start_time": "2023-08-07T06:17:27.122177",
     "status": "completed"
    },
    "tags": []
   },
   "source": [
    "**The \"0\" location used in place of \"Null\" values have distorted the view of location distribution. Let's plot the distribution without \"0\" value**"
   ]
  },
  {
   "cell_type": "code",
   "execution_count": 22,
   "id": "21db4e00",
   "metadata": {
    "execution": {
     "iopub.execute_input": "2023-08-07T06:17:27.207588Z",
     "iopub.status.busy": "2023-08-07T06:17:27.206943Z",
     "iopub.status.idle": "2023-08-07T06:17:27.802223Z",
     "shell.execute_reply": "2023-08-07T06:17:27.801244Z"
    },
    "papermill": {
     "duration": 0.627416,
     "end_time": "2023-08-07T06:17:27.805041",
     "exception": false,
     "start_time": "2023-08-07T06:17:27.177625",
     "status": "completed"
    },
    "tags": []
   },
   "outputs": [
    {
     "data": {
      "image/png": "[encoded data removed]",
      "text/plain": [
       "<Figure size 1200x500 with 1 Axes>"
      ]
     },
     "metadata": {},
     "output_type": "display_data"
    }
   ],
   "source": [
    "#Let's plot the \"location\" DataFrame with \"0\" discarded\n",
    "plt.figure(figsize=(12,5))\n",
    "\n",
    "#Limit the data to top 30 locations by .head() method\n",
    "# and use the iloc to discard \"0\"\n",
    "sns.barplot(data=location_df.head(31).iloc[1:,:], x = 'location',y = 'count')\n",
    "plt.xticks(rotation = 50)\n",
    "plt.ylabel('count')\n",
    "plt.title('Top 30 locations of Tweets');"
   ]
  },
  {
   "cell_type": "code",
   "execution_count": 23,
   "id": "66455de2",
   "metadata": {
    "execution": {
     "iopub.execute_input": "2023-08-07T06:17:27.869018Z",
     "iopub.status.busy": "2023-08-07T06:17:27.868695Z",
     "iopub.status.idle": "2023-08-07T06:17:27.875842Z",
     "shell.execute_reply": "2023-08-07T06:17:27.874853Z"
    },
    "papermill": {
     "duration": 0.042568,
     "end_time": "2023-08-07T06:17:27.877837",
     "exception": false,
     "start_time": "2023-08-07T06:17:27.835269",
     "status": "completed"
    },
    "tags": []
   },
   "outputs": [],
   "source": [
    "#Define a function to get the maximum length of words in each column\n",
    "def check_max_length_sentence(df):\n",
    "    max_length = 0\n",
    "    for text in df[\"text\"]:\n",
    "        if len(text.split()) > max_length:\n",
    "            max_length = len(text.split())\n",
    "    print(\"Maximum length of Text column is:\",max_length)\n",
    "    \n",
    "    max_length = 0\n",
    "    for text in df[\"location\"]:\n",
    "        if len(text.split()) > max_length:\n",
    "            max_length = len(text.split())\n",
    "    print(\"Maximum length of Location column is:\",max_length)\n",
    "    \n",
    "    max_length = 0\n",
    "    for text in df[\"keyword\"]:\n",
    "        if len(text.split()) > max_length:\n",
    "            max_length = len(text.split())\n",
    "    print(\"Maximum length of Keyword column is:\",max_length)"
   ]
  },
  {
   "cell_type": "code",
   "execution_count": 24,
   "id": "0e00c9b0",
   "metadata": {
    "execution": {
     "iopub.execute_input": "2023-08-07T06:17:27.936595Z",
     "iopub.status.busy": "2023-08-07T06:17:27.935805Z",
     "iopub.status.idle": "2023-08-07T06:17:27.957691Z",
     "shell.execute_reply": "2023-08-07T06:17:27.956555Z"
    },
    "papermill": {
     "duration": 0.053438,
     "end_time": "2023-08-07T06:17:27.959753",
     "exception": false,
     "start_time": "2023-08-07T06:17:27.906315",
     "status": "completed"
    },
    "tags": []
   },
   "outputs": [
    {
     "name": "stdout",
     "output_type": "stream",
     "text": [
      "Maximum length of Text column is: 31\n",
      "Maximum length of Location column is: 10\n",
      "Maximum length of Keyword column is: 1\n"
     ]
    }
   ],
   "source": [
    "#Maximum lengths of columns in train data\n",
    "check_max_length_sentence(train)"
   ]
  },
  {
   "cell_type": "code",
   "execution_count": 25,
   "id": "956b5c50",
   "metadata": {
    "execution": {
     "iopub.execute_input": "2023-08-07T06:17:28.017694Z",
     "iopub.status.busy": "2023-08-07T06:17:28.017074Z",
     "iopub.status.idle": "2023-08-07T06:17:28.030620Z",
     "shell.execute_reply": "2023-08-07T06:17:28.029231Z"
    },
    "papermill": {
     "duration": 0.044776,
     "end_time": "2023-08-07T06:17:28.032814",
     "exception": false,
     "start_time": "2023-08-07T06:17:27.988038",
     "status": "completed"
    },
    "tags": []
   },
   "outputs": [
    {
     "name": "stdout",
     "output_type": "stream",
     "text": [
      "Maximum length of Text column is: 31\n",
      "Maximum length of Location column is: 8\n",
      "Maximum length of Keyword column is: 1\n"
     ]
    }
   ],
   "source": [
    "#Maximum lengths of columns in test data\n",
    "check_max_length_sentence(test)"
   ]
  },
  {
   "cell_type": "markdown",
   "id": "3dae36ad",
   "metadata": {
    "papermill": {
     "duration": 0.028348,
     "end_time": "2023-08-07T06:17:28.089674",
     "exception": false,
     "start_time": "2023-08-07T06:17:28.061326",
     "status": "completed"
    },
    "tags": []
   },
   "source": [
    "**Relying solely on the length of tweets doesn't provide a comprehensive understanding. To gain a better perspective on the maximum length required for vectorization, let's examine the distribution of tweet lengths.**"
   ]
  },
  {
   "cell_type": "code",
   "execution_count": 26,
   "id": "65eb4c50",
   "metadata": {
    "execution": {
     "iopub.execute_input": "2023-08-07T06:17:28.148525Z",
     "iopub.status.busy": "2023-08-07T06:17:28.147638Z",
     "iopub.status.idle": "2023-08-07T06:17:28.154685Z",
     "shell.execute_reply": "2023-08-07T06:17:28.153792Z"
    },
    "papermill": {
     "duration": 0.038529,
     "end_time": "2023-08-07T06:17:28.156674",
     "exception": false,
     "start_time": "2023-08-07T06:17:28.118145",
     "status": "completed"
    },
    "tags": []
   },
   "outputs": [],
   "source": [
    "def get_sentence_lengths(df):\n",
    "    df2 = pd.DataFrame(columns=[\"length\"])\n",
    "    i = 0\n",
    "    for text in df[\"text\"]:\n",
    "        df2.loc[i,\"length\"] = len(text.split())\n",
    "        i+=1\n",
    "    return df2\n",
    "\n",
    "def plot_sentence_lengths(df):\n",
    "    lengths_df = get_sentence_lengths(df)\n",
    "    bins = range(0,40,2)\n",
    "    plt.hist(lengths_df[\"length\"], bins=bins,alpha=0.3)\n",
    "    #sns.countplot(data=lengths_df, x=\"length\")\n",
    "    plt.title(\"Distribution of sentence lengths\")"
   ]
  },
  {
   "cell_type": "code",
   "execution_count": 27,
   "id": "3d7ef3d2",
   "metadata": {
    "execution": {
     "iopub.execute_input": "2023-08-07T06:17:28.215839Z",
     "iopub.status.busy": "2023-08-07T06:17:28.214919Z",
     "iopub.status.idle": "2023-08-07T06:17:31.742378Z",
     "shell.execute_reply": "2023-08-07T06:17:31.741389Z"
    },
    "papermill": {
     "duration": 3.559589,
     "end_time": "2023-08-07T06:17:31.744943",
     "exception": false,
     "start_time": "2023-08-07T06:17:28.185354",
     "status": "completed"
    },
    "tags": []
   },
   "outputs": [
    {
     "data": {
      "image/png": "[encoded data removed]",
      "text/plain": [
       "<Figure size 640x480 with 1 Axes>"
      ]
     },
     "metadata": {},
     "output_type": "display_data"
    }
   ],
   "source": [
    "#Use the plot_sentence_lengths function on train dataset\n",
    "plot_sentence_lengths(train)"
   ]
  },
  {
   "cell_type": "code",
   "execution_count": 28,
   "id": "4213800f",
   "metadata": {
    "execution": {
     "iopub.execute_input": "2023-08-07T06:17:31.807510Z",
     "iopub.status.busy": "2023-08-07T06:17:31.805665Z",
     "iopub.status.idle": "2023-08-07T06:17:33.291262Z",
     "shell.execute_reply": "2023-08-07T06:17:33.290310Z"
    },
    "papermill": {
     "duration": 1.51881,
     "end_time": "2023-08-07T06:17:33.293540",
     "exception": false,
     "start_time": "2023-08-07T06:17:31.774730",
     "status": "completed"
    },
    "tags": []
   },
   "outputs": [
    {
     "data": {
      "image/png": "[encoded data removed]",
      "text/plain": [
       "<Figure size 640x480 with 1 Axes>"
      ]
     },
     "metadata": {},
     "output_type": "display_data"
    }
   ],
   "source": [
    "#Use the plot_sentence_lengths function on test dataset\n",
    "plot_sentence_lengths(test)"
   ]
  },
  {
   "cell_type": "markdown",
   "id": "63a1a0cb",
   "metadata": {
    "papermill": {
     "duration": 0.030044,
     "end_time": "2023-08-07T06:17:33.353349",
     "exception": false,
     "start_time": "2023-08-07T06:17:33.323305",
     "status": "completed"
    },
    "tags": []
   },
   "source": [
    "## Analyze the Disaster on Social Media dataset"
   ]
  },
  {
   "cell_type": "code",
   "execution_count": 29,
   "id": "76ad2f06",
   "metadata": {
    "execution": {
     "iopub.execute_input": "2023-08-07T06:17:33.416318Z",
     "iopub.status.busy": "2023-08-07T06:17:33.415257Z",
     "iopub.status.idle": "2023-08-07T06:17:33.436061Z",
     "shell.execute_reply": "2023-08-07T06:17:33.434788Z"
    },
    "papermill": {
     "duration": 0.055533,
     "end_time": "2023-08-07T06:17:33.438538",
     "exception": false,
     "start_time": "2023-08-07T06:17:33.383005",
     "status": "completed"
    },
    "tags": []
   },
   "outputs": [
    {
     "data": {
      "text/html": [
       "<div>\n",
       "<style scoped>\n",
       "    .dataframe tbody tr th:only-of-type {\n",
       "        vertical-align: middle;\n",
       "    }\n",
       "\n",
       "    .dataframe tbody tr th {\n",
       "        vertical-align: top;\n",
       "    }\n",
       "\n",
       "    .dataframe thead th {\n",
       "        text-align: right;\n",
       "    }\n",
       "</style>\n",
       "<table border=\"1\" class=\"dataframe\">\n",
       "  <thead>\n",
       "    <tr style=\"text-align: right;\">\n",
       "      <th></th>\n",
       "      <th>keyword</th>\n",
       "      <th>location</th>\n",
       "      <th>text</th>\n",
       "      <th>choose_one</th>\n",
       "    </tr>\n",
       "  </thead>\n",
       "  <tbody>\n",
       "    <tr>\n",
       "      <th>0</th>\n",
       "      <td>NaN</td>\n",
       "      <td>NaN</td>\n",
       "      <td>Just happened a terrible car crash</td>\n",
       "      <td>Relevant</td>\n",
       "    </tr>\n",
       "    <tr>\n",
       "      <th>1</th>\n",
       "      <td>NaN</td>\n",
       "      <td>NaN</td>\n",
       "      <td>Our Deeds are the Reason of this #earthquake M...</td>\n",
       "      <td>Relevant</td>\n",
       "    </tr>\n",
       "    <tr>\n",
       "      <th>2</th>\n",
       "      <td>NaN</td>\n",
       "      <td>NaN</td>\n",
       "      <td>Heard about #earthquake is different cities, s...</td>\n",
       "      <td>Relevant</td>\n",
       "    </tr>\n",
       "    <tr>\n",
       "      <th>3</th>\n",
       "      <td>NaN</td>\n",
       "      <td>NaN</td>\n",
       "      <td>there is a forest fire at spot pond, geese are...</td>\n",
       "      <td>Relevant</td>\n",
       "    </tr>\n",
       "    <tr>\n",
       "      <th>4</th>\n",
       "      <td>NaN</td>\n",
       "      <td>NaN</td>\n",
       "      <td>Forest fire near La Ronge Sask. Canada</td>\n",
       "      <td>Relevant</td>\n",
       "    </tr>\n",
       "    <tr>\n",
       "      <th>...</th>\n",
       "      <td>...</td>\n",
       "      <td>...</td>\n",
       "      <td>...</td>\n",
       "      <td>...</td>\n",
       "    </tr>\n",
       "    <tr>\n",
       "      <th>10871</th>\n",
       "      <td>NaN</td>\n",
       "      <td>NaN</td>\n",
       "      <td>M1.94 [01:04 UTC]?5km S of Volcano Hawaii. htt...</td>\n",
       "      <td>Relevant</td>\n",
       "    </tr>\n",
       "    <tr>\n",
       "      <th>10872</th>\n",
       "      <td>NaN</td>\n",
       "      <td>NaN</td>\n",
       "      <td>Police investigating after an e-bike collided ...</td>\n",
       "      <td>Relevant</td>\n",
       "    </tr>\n",
       "    <tr>\n",
       "      <th>10873</th>\n",
       "      <td>NaN</td>\n",
       "      <td>NaN</td>\n",
       "      <td>The Latest: More Homes Razed by Northern Calif...</td>\n",
       "      <td>Relevant</td>\n",
       "    </tr>\n",
       "    <tr>\n",
       "      <th>10874</th>\n",
       "      <td>NaN</td>\n",
       "      <td>NaN</td>\n",
       "      <td>MEG issues Hazardous Weather Outlook (HWO) htt...</td>\n",
       "      <td>Relevant</td>\n",
       "    </tr>\n",
       "    <tr>\n",
       "      <th>10875</th>\n",
       "      <td>NaN</td>\n",
       "      <td>NaN</td>\n",
       "      <td>#CityofCalgary has activated its Municipal Eme...</td>\n",
       "      <td>Relevant</td>\n",
       "    </tr>\n",
       "  </tbody>\n",
       "</table>\n",
       "<p>10876 rows × 4 columns</p>\n",
       "</div>"
      ],
      "text/plain": [
       "      keyword location                                               text  \\\n",
       "0         NaN      NaN                 Just happened a terrible car crash   \n",
       "1         NaN      NaN  Our Deeds are the Reason of this #earthquake M...   \n",
       "2         NaN      NaN  Heard about #earthquake is different cities, s...   \n",
       "3         NaN      NaN  there is a forest fire at spot pond, geese are...   \n",
       "4         NaN      NaN             Forest fire near La Ronge Sask. Canada   \n",
       "...       ...      ...                                                ...   \n",
       "10871     NaN      NaN  M1.94 [01:04 UTC]?5km S of Volcano Hawaii. htt...   \n",
       "10872     NaN      NaN  Police investigating after an e-bike collided ...   \n",
       "10873     NaN      NaN  The Latest: More Homes Razed by Northern Calif...   \n",
       "10874     NaN      NaN  MEG issues Hazardous Weather Outlook (HWO) htt...   \n",
       "10875     NaN      NaN  #CityofCalgary has activated its Municipal Eme...   \n",
       "\n",
       "      choose_one  \n",
       "0       Relevant  \n",
       "1       Relevant  \n",
       "2       Relevant  \n",
       "3       Relevant  \n",
       "4       Relevant  \n",
       "...          ...  \n",
       "10871   Relevant  \n",
       "10872   Relevant  \n",
       "10873   Relevant  \n",
       "10874   Relevant  \n",
       "10875   Relevant  \n",
       "\n",
       "[10876 rows x 4 columns]"
      ]
     },
     "execution_count": 29,
     "metadata": {},
     "output_type": "execute_result"
    }
   ],
   "source": [
    "#Extract the part relevant columns\n",
    "train2s = train2[[\"keyword\",\"location\",\"text\",\"choose_one\"]].copy()\n",
    "train2s"
   ]
  },
  {
   "cell_type": "code",
   "execution_count": 30,
   "id": "a4fbd2a0",
   "metadata": {
    "execution": {
     "iopub.execute_input": "2023-08-07T06:17:33.502550Z",
     "iopub.status.busy": "2023-08-07T06:17:33.501688Z",
     "iopub.status.idle": "2023-08-07T06:17:33.521808Z",
     "shell.execute_reply": "2023-08-07T06:17:33.520785Z"
    },
    "papermill": {
     "duration": 0.052996,
     "end_time": "2023-08-07T06:17:33.524036",
     "exception": false,
     "start_time": "2023-08-07T06:17:33.471040",
     "status": "completed"
    },
    "tags": []
   },
   "outputs": [
    {
     "data": {
      "text/plain": [
       "keyword         87\n",
       "location      3638\n",
       "text             0\n",
       "choose_one       0\n",
       "dtype: int64"
      ]
     },
     "execution_count": 30,
     "metadata": {},
     "output_type": "execute_result"
    }
   ],
   "source": [
    "#Check for the Null values\n",
    "train2s.isnull().sum()"
   ]
  },
  {
   "cell_type": "code",
   "execution_count": 31,
   "id": "dde5a4e4",
   "metadata": {
    "execution": {
     "iopub.execute_input": "2023-08-07T06:17:33.590936Z",
     "iopub.status.busy": "2023-08-07T06:17:33.590112Z",
     "iopub.status.idle": "2023-08-07T06:17:33.931215Z",
     "shell.execute_reply": "2023-08-07T06:17:33.930304Z"
    },
    "papermill": {
     "duration": 0.374244,
     "end_time": "2023-08-07T06:17:33.933575",
     "exception": false,
     "start_time": "2023-08-07T06:17:33.559331",
     "status": "completed"
    },
    "tags": []
   },
   "outputs": [
    {
     "name": "stdout",
     "output_type": "stream",
     "text": [
      "Total number of samples in the data = 10876\n"
     ]
    },
    {
     "data": {
      "image/png": "[encoded data removed]",
      "text/plain": [
       "<Figure size 640x480 with 2 Axes>"
      ]
     },
     "metadata": {},
     "output_type": "display_data"
    }
   ],
   "source": [
    "#For a better understanding, let's see the plot of Null values\n",
    "plot_null_values(train2s)"
   ]
  },
  {
   "cell_type": "code",
   "execution_count": 32,
   "id": "08f19e56",
   "metadata": {
    "execution": {
     "iopub.execute_input": "2023-08-07T06:17:33.996329Z",
     "iopub.status.busy": "2023-08-07T06:17:33.995637Z",
     "iopub.status.idle": "2023-08-07T06:17:34.366305Z",
     "shell.execute_reply": "2023-08-07T06:17:34.365307Z"
    },
    "papermill": {
     "duration": 0.403504,
     "end_time": "2023-08-07T06:17:34.368438",
     "exception": false,
     "start_time": "2023-08-07T06:17:33.964934",
     "status": "completed"
    },
    "tags": []
   },
   "outputs": [
    {
     "name": "stdout",
     "output_type": "stream",
     "text": [
      "Total number of samples in the data = 10876\n"
     ]
    },
    {
     "data": {
      "image/png": "[encoded data removed]",
      "text/plain": [
       "<Figure size 640x480 with 2 Axes>"
      ]
     },
     "metadata": {},
     "output_type": "display_data"
    }
   ],
   "source": [
    "#Fill the Null values with str(0)\n",
    "train2s.fillna(\"0\",inplace=True)\n",
    "\n",
    "#Check for te Null values\n",
    "plot_null_values(train2s)"
   ]
  },
  {
   "cell_type": "markdown",
   "id": "8f0427d9",
   "metadata": {
    "papermill": {
     "duration": 0.032461,
     "end_time": "2023-08-07T06:17:34.431518",
     "exception": false,
     "start_time": "2023-08-07T06:17:34.399057",
     "status": "completed"
    },
    "tags": []
   },
   "source": [
    "### Target Analysis of Disaster on Social Media dataset"
   ]
  },
  {
   "cell_type": "code",
   "execution_count": 33,
   "id": "840abee9",
   "metadata": {
    "execution": {
     "iopub.execute_input": "2023-08-07T06:17:34.497745Z",
     "iopub.status.busy": "2023-08-07T06:17:34.496866Z",
     "iopub.status.idle": "2023-08-07T06:17:34.508978Z",
     "shell.execute_reply": "2023-08-07T06:17:34.507911Z"
    },
    "papermill": {
     "duration": 0.047453,
     "end_time": "2023-08-07T06:17:34.511107",
     "exception": false,
     "start_time": "2023-08-07T06:17:34.463654",
     "status": "completed"
    },
    "tags": []
   },
   "outputs": [
    {
     "data": {
      "text/html": [
       "<div>\n",
       "<style scoped>\n",
       "    .dataframe tbody tr th:only-of-type {\n",
       "        vertical-align: middle;\n",
       "    }\n",
       "\n",
       "    .dataframe tbody tr th {\n",
       "        vertical-align: top;\n",
       "    }\n",
       "\n",
       "    .dataframe thead th {\n",
       "        text-align: right;\n",
       "    }\n",
       "</style>\n",
       "<table border=\"1\" class=\"dataframe\">\n",
       "  <thead>\n",
       "    <tr style=\"text-align: right;\">\n",
       "      <th></th>\n",
       "      <th>keyword</th>\n",
       "      <th>location</th>\n",
       "      <th>text</th>\n",
       "      <th>target</th>\n",
       "    </tr>\n",
       "  </thead>\n",
       "  <tbody>\n",
       "    <tr>\n",
       "      <th>0</th>\n",
       "      <td>0</td>\n",
       "      <td>0</td>\n",
       "      <td>Just happened a terrible car crash</td>\n",
       "      <td>Relevant</td>\n",
       "    </tr>\n",
       "    <tr>\n",
       "      <th>1</th>\n",
       "      <td>0</td>\n",
       "      <td>0</td>\n",
       "      <td>Our Deeds are the Reason of this #earthquake M...</td>\n",
       "      <td>Relevant</td>\n",
       "    </tr>\n",
       "    <tr>\n",
       "      <th>2</th>\n",
       "      <td>0</td>\n",
       "      <td>0</td>\n",
       "      <td>Heard about #earthquake is different cities, s...</td>\n",
       "      <td>Relevant</td>\n",
       "    </tr>\n",
       "    <tr>\n",
       "      <th>3</th>\n",
       "      <td>0</td>\n",
       "      <td>0</td>\n",
       "      <td>there is a forest fire at spot pond, geese are...</td>\n",
       "      <td>Relevant</td>\n",
       "    </tr>\n",
       "    <tr>\n",
       "      <th>4</th>\n",
       "      <td>0</td>\n",
       "      <td>0</td>\n",
       "      <td>Forest fire near La Ronge Sask. Canada</td>\n",
       "      <td>Relevant</td>\n",
       "    </tr>\n",
       "  </tbody>\n",
       "</table>\n",
       "</div>"
      ],
      "text/plain": [
       "  keyword location                                               text  \\\n",
       "0       0        0                 Just happened a terrible car crash   \n",
       "1       0        0  Our Deeds are the Reason of this #earthquake M...   \n",
       "2       0        0  Heard about #earthquake is different cities, s...   \n",
       "3       0        0  there is a forest fire at spot pond, geese are...   \n",
       "4       0        0             Forest fire near La Ronge Sask. Canada   \n",
       "\n",
       "     target  \n",
       "0  Relevant  \n",
       "1  Relevant  \n",
       "2  Relevant  \n",
       "3  Relevant  \n",
       "4  Relevant  "
      ]
     },
     "execution_count": 33,
     "metadata": {},
     "output_type": "execute_result"
    }
   ],
   "source": [
    "#Renname the \"choose_one\" column as \"text\"\n",
    "train2s.rename(columns={\"choose_one\":\"target\"},inplace=True)\n",
    "train2s.head()"
   ]
  },
  {
   "cell_type": "code",
   "execution_count": 34,
   "id": "33bdf7c9",
   "metadata": {
    "execution": {
     "iopub.execute_input": "2023-08-07T06:17:34.579622Z",
     "iopub.status.busy": "2023-08-07T06:17:34.578808Z",
     "iopub.status.idle": "2023-08-07T06:17:34.586802Z",
     "shell.execute_reply": "2023-08-07T06:17:34.585786Z"
    },
    "papermill": {
     "duration": 0.044129,
     "end_time": "2023-08-07T06:17:34.588792",
     "exception": false,
     "start_time": "2023-08-07T06:17:34.544663",
     "status": "completed"
    },
    "tags": []
   },
   "outputs": [
    {
     "data": {
      "text/plain": [
       "array(['Relevant', 'Not Relevant', \"Can't Decide\"], dtype=object)"
      ]
     },
     "execution_count": 34,
     "metadata": {},
     "output_type": "execute_result"
    }
   ],
   "source": [
    "#Unique values in the target column\n",
    "train2s[\"target\"].unique()"
   ]
  },
  {
   "cell_type": "code",
   "execution_count": 35,
   "id": "941ab7d7",
   "metadata": {
    "execution": {
     "iopub.execute_input": "2023-08-07T06:17:34.655772Z",
     "iopub.status.busy": "2023-08-07T06:17:34.654983Z",
     "iopub.status.idle": "2023-08-07T06:17:34.670618Z",
     "shell.execute_reply": "2023-08-07T06:17:34.669443Z"
    },
    "papermill": {
     "duration": 0.052439,
     "end_time": "2023-08-07T06:17:34.673113",
     "exception": false,
     "start_time": "2023-08-07T06:17:34.620674",
     "status": "completed"
    },
    "tags": []
   },
   "outputs": [
    {
     "data": {
      "text/html": [
       "<div>\n",
       "<style scoped>\n",
       "    .dataframe tbody tr th:only-of-type {\n",
       "        vertical-align: middle;\n",
       "    }\n",
       "\n",
       "    .dataframe tbody tr th {\n",
       "        vertical-align: top;\n",
       "    }\n",
       "\n",
       "    .dataframe thead th {\n",
       "        text-align: right;\n",
       "    }\n",
       "</style>\n",
       "<table border=\"1\" class=\"dataframe\">\n",
       "  <thead>\n",
       "    <tr style=\"text-align: right;\">\n",
       "      <th></th>\n",
       "      <th>target_category</th>\n",
       "      <th>count</th>\n",
       "    </tr>\n",
       "  </thead>\n",
       "  <tbody>\n",
       "    <tr>\n",
       "      <th>0</th>\n",
       "      <td>Not Relevant</td>\n",
       "      <td>6187</td>\n",
       "    </tr>\n",
       "    <tr>\n",
       "      <th>1</th>\n",
       "      <td>Relevant</td>\n",
       "      <td>4673</td>\n",
       "    </tr>\n",
       "    <tr>\n",
       "      <th>2</th>\n",
       "      <td>Can't Decide</td>\n",
       "      <td>16</td>\n",
       "    </tr>\n",
       "  </tbody>\n",
       "</table>\n",
       "</div>"
      ],
      "text/plain": [
       "  target_category  count\n",
       "0    Not Relevant   6187\n",
       "1        Relevant   4673\n",
       "2    Can't Decide     16"
      ]
     },
     "execution_count": 35,
     "metadata": {},
     "output_type": "execute_result"
    }
   ],
   "source": [
    "#Count the unique values in the target column\n",
    "target_count = train2s[\"target\"].value_counts()\n",
    "target_count_df = pd.DataFrame(data={\"target_category\":target_count.index, \"count\":target_count.values})\n",
    "target_count_df"
   ]
  },
  {
   "cell_type": "code",
   "execution_count": 36,
   "id": "af07b385",
   "metadata": {
    "execution": {
     "iopub.execute_input": "2023-08-07T06:17:34.744006Z",
     "iopub.status.busy": "2023-08-07T06:17:34.743015Z",
     "iopub.status.idle": "2023-08-07T06:17:35.041116Z",
     "shell.execute_reply": "2023-08-07T06:17:35.040096Z"
    },
    "papermill": {
     "duration": 0.334829,
     "end_time": "2023-08-07T06:17:35.043544",
     "exception": false,
     "start_time": "2023-08-07T06:17:34.708715",
     "status": "completed"
    },
    "tags": []
   },
   "outputs": [
    {
     "data": {
      "image/png": "[encoded data removed]",
      "text/plain": [
       "<Figure size 640x480 with 1 Axes>"
      ]
     },
     "metadata": {},
     "output_type": "display_data"
    }
   ],
   "source": [
    "#Plot the values count of target column\n",
    "sns.barplot(data=target_count_df,x=\"target_category\", y=\"count\")\n",
    "plt.title(\"Distribution of values in the target column of Disasters on Social Media dataset\");"
   ]
  },
  {
   "cell_type": "code",
   "execution_count": 37,
   "id": "980f8a46",
   "metadata": {
    "execution": {
     "iopub.execute_input": "2023-08-07T06:17:35.110417Z",
     "iopub.status.busy": "2023-08-07T06:17:35.109500Z",
     "iopub.status.idle": "2023-08-07T06:17:35.123476Z",
     "shell.execute_reply": "2023-08-07T06:17:35.122231Z"
    },
    "papermill": {
     "duration": 0.049615,
     "end_time": "2023-08-07T06:17:35.125935",
     "exception": false,
     "start_time": "2023-08-07T06:17:35.076320",
     "status": "completed"
    },
    "tags": []
   },
   "outputs": [
    {
     "data": {
      "text/html": [
       "<div>\n",
       "<style scoped>\n",
       "    .dataframe tbody tr th:only-of-type {\n",
       "        vertical-align: middle;\n",
       "    }\n",
       "\n",
       "    .dataframe tbody tr th {\n",
       "        vertical-align: top;\n",
       "    }\n",
       "\n",
       "    .dataframe thead th {\n",
       "        text-align: right;\n",
       "    }\n",
       "</style>\n",
       "<table border=\"1\" class=\"dataframe\">\n",
       "  <thead>\n",
       "    <tr style=\"text-align: right;\">\n",
       "      <th></th>\n",
       "      <th>keyword</th>\n",
       "      <th>location</th>\n",
       "      <th>text</th>\n",
       "      <th>target</th>\n",
       "    </tr>\n",
       "  </thead>\n",
       "  <tbody>\n",
       "    <tr>\n",
       "      <th>0</th>\n",
       "      <td>0</td>\n",
       "      <td>0</td>\n",
       "      <td>Just happened a terrible car crash</td>\n",
       "      <td>1</td>\n",
       "    </tr>\n",
       "    <tr>\n",
       "      <th>1</th>\n",
       "      <td>0</td>\n",
       "      <td>0</td>\n",
       "      <td>Our Deeds are the Reason of this #earthquake M...</td>\n",
       "      <td>1</td>\n",
       "    </tr>\n",
       "    <tr>\n",
       "      <th>2</th>\n",
       "      <td>0</td>\n",
       "      <td>0</td>\n",
       "      <td>Heard about #earthquake is different cities, s...</td>\n",
       "      <td>1</td>\n",
       "    </tr>\n",
       "    <tr>\n",
       "      <th>3</th>\n",
       "      <td>0</td>\n",
       "      <td>0</td>\n",
       "      <td>there is a forest fire at spot pond, geese are...</td>\n",
       "      <td>1</td>\n",
       "    </tr>\n",
       "    <tr>\n",
       "      <th>4</th>\n",
       "      <td>0</td>\n",
       "      <td>0</td>\n",
       "      <td>Forest fire near La Ronge Sask. Canada</td>\n",
       "      <td>1</td>\n",
       "    </tr>\n",
       "  </tbody>\n",
       "</table>\n",
       "</div>"
      ],
      "text/plain": [
       "  keyword location                                               text  target\n",
       "0       0        0                 Just happened a terrible car crash       1\n",
       "1       0        0  Our Deeds are the Reason of this #earthquake M...       1\n",
       "2       0        0  Heard about #earthquake is different cities, s...       1\n",
       "3       0        0  there is a forest fire at spot pond, geese are...       1\n",
       "4       0        0             Forest fire near La Ronge Sask. Canada       1"
      ]
     },
     "execution_count": 37,
     "metadata": {},
     "output_type": "execute_result"
    }
   ],
   "source": [
    "#Let's convert the categorical values of target column to integer\n",
    "train2s[\"target\"] = (train2s[\"target\"] == \"Relevant\").astype(\"int\")\n",
    "train2s.head()"
   ]
  },
  {
   "cell_type": "code",
   "execution_count": 38,
   "id": "ee30c690",
   "metadata": {
    "execution": {
     "iopub.execute_input": "2023-08-07T06:17:35.194605Z",
     "iopub.status.busy": "2023-08-07T06:17:35.192707Z",
     "iopub.status.idle": "2023-08-07T06:17:35.199548Z",
     "shell.execute_reply": "2023-08-07T06:17:35.198649Z"
    },
    "papermill": {
     "duration": 0.042276,
     "end_time": "2023-08-07T06:17:35.201626",
     "exception": false,
     "start_time": "2023-08-07T06:17:35.159350",
     "status": "completed"
    },
    "tags": []
   },
   "outputs": [],
   "source": [
    "#Count the unique values in the target column\n",
    "df = train2s[\"target\"].value_counts()\n",
    "df = pd.DataFrame({\"target_value\":df.index, \"count\":df.values})"
   ]
  },
  {
   "cell_type": "code",
   "execution_count": 39,
   "id": "089ee39e",
   "metadata": {
    "execution": {
     "iopub.execute_input": "2023-08-07T06:17:35.267130Z",
     "iopub.status.busy": "2023-08-07T06:17:35.266138Z",
     "iopub.status.idle": "2023-08-07T06:17:35.555595Z",
     "shell.execute_reply": "2023-08-07T06:17:35.554511Z"
    },
    "papermill": {
     "duration": 0.324863,
     "end_time": "2023-08-07T06:17:35.557872",
     "exception": false,
     "start_time": "2023-08-07T06:17:35.233009",
     "status": "completed"
    },
    "tags": []
   },
   "outputs": [
    {
     "data": {
      "image/png": "[encoded data removed]",
      "text/plain": [
       "<Figure size 640x480 with 1 Axes>"
      ]
     },
     "metadata": {},
     "output_type": "display_data"
    }
   ],
   "source": [
    "#Plot the values count of target column\n",
    "sns.barplot(data=df, x=\"target_value\", y=\"count\")\n",
    "plt.title(\"Distribution of target values of Disasters on Social Media dataset\");"
   ]
  },
  {
   "cell_type": "markdown",
   "id": "e03b4f78",
   "metadata": {
    "papermill": {
     "duration": 0.03399,
     "end_time": "2023-08-07T06:17:35.626821",
     "exception": false,
     "start_time": "2023-08-07T06:17:35.592831",
     "status": "completed"
    },
    "tags": []
   },
   "source": [
    "## Data processing"
   ]
  },
  {
   "cell_type": "code",
   "execution_count": 40,
   "id": "b4d58721",
   "metadata": {
    "execution": {
     "iopub.execute_input": "2023-08-07T06:17:35.696679Z",
     "iopub.status.busy": "2023-08-07T06:17:35.696311Z",
     "iopub.status.idle": "2023-08-07T06:17:35.707714Z",
     "shell.execute_reply": "2023-08-07T06:17:35.706708Z"
    },
    "papermill": {
     "duration": 0.048778,
     "end_time": "2023-08-07T06:17:35.709804",
     "exception": false,
     "start_time": "2023-08-07T06:17:35.661026",
     "status": "completed"
    },
    "tags": []
   },
   "outputs": [
    {
     "data": {
      "text/html": [
       "<div>\n",
       "<style scoped>\n",
       "    .dataframe tbody tr th:only-of-type {\n",
       "        vertical-align: middle;\n",
       "    }\n",
       "\n",
       "    .dataframe tbody tr th {\n",
       "        vertical-align: top;\n",
       "    }\n",
       "\n",
       "    .dataframe thead th {\n",
       "        text-align: right;\n",
       "    }\n",
       "</style>\n",
       "<table border=\"1\" class=\"dataframe\">\n",
       "  <thead>\n",
       "    <tr style=\"text-align: right;\">\n",
       "      <th></th>\n",
       "      <th>id</th>\n",
       "      <th>keyword</th>\n",
       "      <th>location</th>\n",
       "      <th>text</th>\n",
       "      <th>target</th>\n",
       "    </tr>\n",
       "  </thead>\n",
       "  <tbody>\n",
       "    <tr>\n",
       "      <th>0</th>\n",
       "      <td>1</td>\n",
       "      <td>0</td>\n",
       "      <td>0</td>\n",
       "      <td>Our Deeds are the Reason of this #earthquake M...</td>\n",
       "      <td>1</td>\n",
       "    </tr>\n",
       "    <tr>\n",
       "      <th>1</th>\n",
       "      <td>4</td>\n",
       "      <td>0</td>\n",
       "      <td>0</td>\n",
       "      <td>Forest fire near La Ronge Sask. Canada</td>\n",
       "      <td>1</td>\n",
       "    </tr>\n",
       "  </tbody>\n",
       "</table>\n",
       "</div>"
      ],
      "text/plain": [
       "   id keyword location                                               text  \\\n",
       "0   1       0        0  Our Deeds are the Reason of this #earthquake M...   \n",
       "1   4       0        0             Forest fire near La Ronge Sask. Canada   \n",
       "\n",
       "   target  \n",
       "0       1  \n",
       "1       1  "
      ]
     },
     "execution_count": 40,
     "metadata": {},
     "output_type": "execute_result"
    }
   ],
   "source": [
    "#View the train dataset\n",
    "train.head(2)"
   ]
  },
  {
   "cell_type": "code",
   "execution_count": 41,
   "id": "faf90383",
   "metadata": {
    "execution": {
     "iopub.execute_input": "2023-08-07T06:17:35.776691Z",
     "iopub.status.busy": "2023-08-07T06:17:35.776403Z",
     "iopub.status.idle": "2023-08-07T06:17:35.785783Z",
     "shell.execute_reply": "2023-08-07T06:17:35.784793Z"
    },
    "papermill": {
     "duration": 0.045375,
     "end_time": "2023-08-07T06:17:35.787897",
     "exception": false,
     "start_time": "2023-08-07T06:17:35.742522",
     "status": "completed"
    },
    "tags": []
   },
   "outputs": [
    {
     "data": {
      "text/html": [
       "<div>\n",
       "<style scoped>\n",
       "    .dataframe tbody tr th:only-of-type {\n",
       "        vertical-align: middle;\n",
       "    }\n",
       "\n",
       "    .dataframe tbody tr th {\n",
       "        vertical-align: top;\n",
       "    }\n",
       "\n",
       "    .dataframe thead th {\n",
       "        text-align: right;\n",
       "    }\n",
       "</style>\n",
       "<table border=\"1\" class=\"dataframe\">\n",
       "  <thead>\n",
       "    <tr style=\"text-align: right;\">\n",
       "      <th></th>\n",
       "      <th>keyword</th>\n",
       "      <th>location</th>\n",
       "      <th>text</th>\n",
       "      <th>target</th>\n",
       "    </tr>\n",
       "  </thead>\n",
       "  <tbody>\n",
       "    <tr>\n",
       "      <th>0</th>\n",
       "      <td>0</td>\n",
       "      <td>0</td>\n",
       "      <td>Just happened a terrible car crash</td>\n",
       "      <td>1</td>\n",
       "    </tr>\n",
       "    <tr>\n",
       "      <th>1</th>\n",
       "      <td>0</td>\n",
       "      <td>0</td>\n",
       "      <td>Our Deeds are the Reason of this #earthquake M...</td>\n",
       "      <td>1</td>\n",
       "    </tr>\n",
       "  </tbody>\n",
       "</table>\n",
       "</div>"
      ],
      "text/plain": [
       "  keyword location                                               text  target\n",
       "0       0        0                 Just happened a terrible car crash       1\n",
       "1       0        0  Our Deeds are the Reason of this #earthquake M...       1"
      ]
     },
     "execution_count": 41,
     "metadata": {},
     "output_type": "execute_result"
    }
   ],
   "source": [
    "#View the processed \"disaster on Social Media\" dataset\n",
    "train2s.head(2)"
   ]
  },
  {
   "cell_type": "code",
   "execution_count": 42,
   "id": "ca310d8e",
   "metadata": {
    "execution": {
     "iopub.execute_input": "2023-08-07T06:17:35.858605Z",
     "iopub.status.busy": "2023-08-07T06:17:35.857874Z",
     "iopub.status.idle": "2023-08-07T06:17:35.866931Z",
     "shell.execute_reply": "2023-08-07T06:17:35.865869Z"
    },
    "papermill": {
     "duration": 0.046626,
     "end_time": "2023-08-07T06:17:35.869097",
     "exception": false,
     "start_time": "2023-08-07T06:17:35.822471",
     "status": "completed"
    },
    "tags": []
   },
   "outputs": [
    {
     "data": {
      "text/plain": [
       "0           1\n",
       "1           4\n",
       "2           5\n",
       "3           6\n",
       "4           7\n",
       "        ...  \n",
       "7608    10869\n",
       "7609    10870\n",
       "7610    10871\n",
       "7611    10872\n",
       "7612    10873\n",
       "Name: id, Length: 7613, dtype: int64"
      ]
     },
     "execution_count": 42,
     "metadata": {},
     "output_type": "execute_result"
    }
   ],
   "source": [
    "#Remove the \"id\" column form the train DataFrame\n",
    "train.pop(\"id\")"
   ]
  },
  {
   "cell_type": "code",
   "execution_count": 43,
   "id": "1943ec14",
   "metadata": {
    "execution": {
     "iopub.execute_input": "2023-08-07T06:17:35.939760Z",
     "iopub.status.busy": "2023-08-07T06:17:35.938962Z",
     "iopub.status.idle": "2023-08-07T06:17:35.949638Z",
     "shell.execute_reply": "2023-08-07T06:17:35.948530Z"
    },
    "papermill": {
     "duration": 0.047648,
     "end_time": "2023-08-07T06:17:35.951884",
     "exception": false,
     "start_time": "2023-08-07T06:17:35.904236",
     "status": "completed"
    },
    "tags": []
   },
   "outputs": [
    {
     "data": {
      "text/html": [
       "<div>\n",
       "<style scoped>\n",
       "    .dataframe tbody tr th:only-of-type {\n",
       "        vertical-align: middle;\n",
       "    }\n",
       "\n",
       "    .dataframe tbody tr th {\n",
       "        vertical-align: top;\n",
       "    }\n",
       "\n",
       "    .dataframe thead th {\n",
       "        text-align: right;\n",
       "    }\n",
       "</style>\n",
       "<table border=\"1\" class=\"dataframe\">\n",
       "  <thead>\n",
       "    <tr style=\"text-align: right;\">\n",
       "      <th></th>\n",
       "      <th>keyword</th>\n",
       "      <th>location</th>\n",
       "      <th>text</th>\n",
       "      <th>target</th>\n",
       "    </tr>\n",
       "  </thead>\n",
       "  <tbody>\n",
       "    <tr>\n",
       "      <th>0</th>\n",
       "      <td>0</td>\n",
       "      <td>0</td>\n",
       "      <td>Our Deeds are the Reason of this #earthquake M...</td>\n",
       "      <td>1</td>\n",
       "    </tr>\n",
       "    <tr>\n",
       "      <th>1</th>\n",
       "      <td>0</td>\n",
       "      <td>0</td>\n",
       "      <td>Forest fire near La Ronge Sask. Canada</td>\n",
       "      <td>1</td>\n",
       "    </tr>\n",
       "  </tbody>\n",
       "</table>\n",
       "</div>"
      ],
      "text/plain": [
       "  keyword location                                               text  target\n",
       "0       0        0  Our Deeds are the Reason of this #earthquake M...       1\n",
       "1       0        0             Forest fire near La Ronge Sask. Canada       1"
      ]
     },
     "execution_count": 43,
     "metadata": {},
     "output_type": "execute_result"
    }
   ],
   "source": [
    "train.head(2)"
   ]
  },
  {
   "cell_type": "code",
   "execution_count": 44,
   "id": "18b32a75",
   "metadata": {
    "execution": {
     "iopub.execute_input": "2023-08-07T06:17:36.022781Z",
     "iopub.status.busy": "2023-08-07T06:17:36.021942Z",
     "iopub.status.idle": "2023-08-07T06:17:36.034628Z",
     "shell.execute_reply": "2023-08-07T06:17:36.033554Z"
    },
    "papermill": {
     "duration": 0.049508,
     "end_time": "2023-08-07T06:17:36.036765",
     "exception": false,
     "start_time": "2023-08-07T06:17:35.987257",
     "status": "completed"
    },
    "tags": []
   },
   "outputs": [
    {
     "data": {
      "text/html": [
       "<div>\n",
       "<style scoped>\n",
       "    .dataframe tbody tr th:only-of-type {\n",
       "        vertical-align: middle;\n",
       "    }\n",
       "\n",
       "    .dataframe tbody tr th {\n",
       "        vertical-align: top;\n",
       "    }\n",
       "\n",
       "    .dataframe thead th {\n",
       "        text-align: right;\n",
       "    }\n",
       "</style>\n",
       "<table border=\"1\" class=\"dataframe\">\n",
       "  <thead>\n",
       "    <tr style=\"text-align: right;\">\n",
       "      <th></th>\n",
       "      <th>keyword</th>\n",
       "      <th>location</th>\n",
       "      <th>text</th>\n",
       "      <th>target</th>\n",
       "    </tr>\n",
       "  </thead>\n",
       "  <tbody>\n",
       "    <tr>\n",
       "      <th>0</th>\n",
       "      <td>0</td>\n",
       "      <td>0</td>\n",
       "      <td>Our Deeds are the Reason of this #earthquake M...</td>\n",
       "      <td>1</td>\n",
       "    </tr>\n",
       "    <tr>\n",
       "      <th>1</th>\n",
       "      <td>0</td>\n",
       "      <td>0</td>\n",
       "      <td>Forest fire near La Ronge Sask. Canada</td>\n",
       "      <td>1</td>\n",
       "    </tr>\n",
       "    <tr>\n",
       "      <th>2</th>\n",
       "      <td>0</td>\n",
       "      <td>0</td>\n",
       "      <td>All residents asked to 'shelter in place' are ...</td>\n",
       "      <td>1</td>\n",
       "    </tr>\n",
       "    <tr>\n",
       "      <th>3</th>\n",
       "      <td>0</td>\n",
       "      <td>0</td>\n",
       "      <td>13,000 people receive #wildfires evacuation or...</td>\n",
       "      <td>1</td>\n",
       "    </tr>\n",
       "    <tr>\n",
       "      <th>4</th>\n",
       "      <td>0</td>\n",
       "      <td>0</td>\n",
       "      <td>Just got sent this photo from Ruby #Alaska as ...</td>\n",
       "      <td>1</td>\n",
       "    </tr>\n",
       "  </tbody>\n",
       "</table>\n",
       "</div>"
      ],
      "text/plain": [
       "  keyword location                                               text  target\n",
       "0       0        0  Our Deeds are the Reason of this #earthquake M...       1\n",
       "1       0        0             Forest fire near La Ronge Sask. Canada       1\n",
       "2       0        0  All residents asked to 'shelter in place' are ...       1\n",
       "3       0        0  13,000 people receive #wildfires evacuation or...       1\n",
       "4       0        0  Just got sent this photo from Ruby #Alaska as ...       1"
      ]
     },
     "execution_count": 44,
     "metadata": {},
     "output_type": "execute_result"
    }
   ],
   "source": [
    "#Combine the two datasets\n",
    "train_dataset = pd.concat([train, train2s])\n",
    "train_dataset.head()"
   ]
  },
  {
   "cell_type": "code",
   "execution_count": 45,
   "id": "249c251e",
   "metadata": {
    "execution": {
     "iopub.execute_input": "2023-08-07T06:17:36.107713Z",
     "iopub.status.busy": "2023-08-07T06:17:36.106856Z",
     "iopub.status.idle": "2023-08-07T06:17:36.113082Z",
     "shell.execute_reply": "2023-08-07T06:17:36.112046Z"
    },
    "papermill": {
     "duration": 0.042676,
     "end_time": "2023-08-07T06:17:36.115142",
     "exception": false,
     "start_time": "2023-08-07T06:17:36.072466",
     "status": "completed"
    },
    "tags": []
   },
   "outputs": [
    {
     "data": {
      "text/plain": [
       "(18489, 4)"
      ]
     },
     "execution_count": 45,
     "metadata": {},
     "output_type": "execute_result"
    }
   ],
   "source": [
    "#Shape of the combined dataset\n",
    "train_dataset.shape"
   ]
  },
  {
   "cell_type": "code",
   "execution_count": 46,
   "id": "d4ad0e29",
   "metadata": {
    "execution": {
     "iopub.execute_input": "2023-08-07T06:17:36.184788Z",
     "iopub.status.busy": "2023-08-07T06:17:36.183834Z",
     "iopub.status.idle": "2023-08-07T06:17:48.382187Z",
     "shell.execute_reply": "2023-08-07T06:17:48.381259Z"
    },
    "papermill": {
     "duration": 12.236489,
     "end_time": "2023-08-07T06:17:48.384249",
     "exception": false,
     "start_time": "2023-08-07T06:17:36.147760",
     "status": "completed"
    },
    "tags": []
   },
   "outputs": [
    {
     "data": {
      "image/png": "[encoded data removed]",
      "text/plain": [
       "<Figure size 640x480 with 1 Axes>"
      ]
     },
     "metadata": {},
     "output_type": "display_data"
    }
   ],
   "source": [
    "#Use the plot_sentence_lengths to check the distribution og tweet lengths\n",
    "plot_sentence_lengths(train_dataset)"
   ]
  },
  {
   "cell_type": "code",
   "execution_count": 47,
   "id": "fa45e0d9",
   "metadata": {
    "execution": {
     "iopub.execute_input": "2023-08-07T06:17:48.457877Z",
     "iopub.status.busy": "2023-08-07T06:17:48.454599Z",
     "iopub.status.idle": "2023-08-07T06:17:48.475922Z",
     "shell.execute_reply": "2023-08-07T06:17:48.474815Z"
    },
    "papermill": {
     "duration": 0.05972,
     "end_time": "2023-08-07T06:17:48.478214",
     "exception": false,
     "start_time": "2023-08-07T06:17:48.418494",
     "status": "completed"
    },
    "tags": []
   },
   "outputs": [
    {
     "data": {
      "text/html": [
       "<div>\n",
       "<style scoped>\n",
       "    .dataframe tbody tr th:only-of-type {\n",
       "        vertical-align: middle;\n",
       "    }\n",
       "\n",
       "    .dataframe tbody tr th {\n",
       "        vertical-align: top;\n",
       "    }\n",
       "\n",
       "    .dataframe thead th {\n",
       "        text-align: right;\n",
       "    }\n",
       "</style>\n",
       "<table border=\"1\" class=\"dataframe\">\n",
       "  <thead>\n",
       "    <tr style=\"text-align: right;\">\n",
       "      <th></th>\n",
       "      <th>keyword</th>\n",
       "      <th>location</th>\n",
       "      <th>text</th>\n",
       "      <th>target</th>\n",
       "    </tr>\n",
       "  </thead>\n",
       "  <tbody>\n",
       "    <tr>\n",
       "      <th>3046</th>\n",
       "      <td>death</td>\n",
       "      <td>0</td>\n",
       "      <td>@Kaay_Paat it's actually death and takes way l...</td>\n",
       "      <td>0</td>\n",
       "    </tr>\n",
       "    <tr>\n",
       "      <th>10789</th>\n",
       "      <td>wrecked</td>\n",
       "      <td>Pennsylvania</td>\n",
       "      <td>Four hundred wrecked cars (costing $100 apiece...</td>\n",
       "      <td>0</td>\n",
       "    </tr>\n",
       "    <tr>\n",
       "      <th>467</th>\n",
       "      <td>attack</td>\n",
       "      <td>Online 24/7. Not even kidding.</td>\n",
       "      <td>Notley's tactful yet very direct response to H...</td>\n",
       "      <td>1</td>\n",
       "    </tr>\n",
       "    <tr>\n",
       "      <th>7480</th>\n",
       "      <td>wreck</td>\n",
       "      <td>0</td>\n",
       "      <td>Ranking #artectura #pop2015 #Nå¼36 Florence + ...</td>\n",
       "      <td>0</td>\n",
       "    </tr>\n",
       "    <tr>\n",
       "      <th>6772</th>\n",
       "      <td>lightning</td>\n",
       "      <td>Greensboro, North Carolina</td>\n",
       "      <td>Heavy rain gusty winds and vivid lightning mov...</td>\n",
       "      <td>1</td>\n",
       "    </tr>\n",
       "  </tbody>\n",
       "</table>\n",
       "</div>"
      ],
      "text/plain": [
       "         keyword                        location  \\\n",
       "3046       death                               0   \n",
       "10789    wrecked                    Pennsylvania   \n",
       "467       attack  Online 24/7. Not even kidding.   \n",
       "7480       wreck                               0   \n",
       "6772   lightning      Greensboro, North Carolina   \n",
       "\n",
       "                                                    text  target  \n",
       "3046   @Kaay_Paat it's actually death and takes way l...       0  \n",
       "10789  Four hundred wrecked cars (costing $100 apiece...       0  \n",
       "467    Notley's tactful yet very direct response to H...       1  \n",
       "7480   Ranking #artectura #pop2015 #Nå¼36 Florence + ...       0  \n",
       "6772   Heavy rain gusty winds and vivid lightning mov...       1  "
      ]
     },
     "execution_count": 47,
     "metadata": {},
     "output_type": "execute_result"
    }
   ],
   "source": [
    "#Shuffle the DataFrame\n",
    "train_dataset = shuffle(train_dataset, random_state=SEED)\n",
    "train_dataset = shuffle(train_dataset, random_state=int(SEED/2))\n",
    "train_dataset.head()"
   ]
  },
  {
   "cell_type": "code",
   "execution_count": 48,
   "id": "b174bdeb",
   "metadata": {
    "execution": {
     "iopub.execute_input": "2023-08-07T06:17:48.554028Z",
     "iopub.status.busy": "2023-08-07T06:17:48.553120Z",
     "iopub.status.idle": "2023-08-07T06:17:54.403158Z",
     "shell.execute_reply": "2023-08-07T06:17:54.402193Z"
    },
    "papermill": {
     "duration": 5.888462,
     "end_time": "2023-08-07T06:17:54.405879",
     "exception": false,
     "start_time": "2023-08-07T06:17:48.517417",
     "status": "completed"
    },
    "tags": []
   },
   "outputs": [],
   "source": [
    "#Convert train data to tf.data.Dataset object\n",
    "BATCH = 32\n",
    "#Concatenate the text data of the columns \"keyword\", \"location\", \"text\"\n",
    "train_tf = tf.data.Dataset.from_tensor_slices(\n",
    "    (train_dataset['keyword'] + train_dataset['location'] + train_dataset['text'], train_dataset[TARGET]))\n",
    "\n",
    "#Convert the data into batch\n",
    "train_tf = train_tf.shuffle(int((SEED*13)/8)).batch(BATCH)\n",
    "\n",
    "#Convert test data to tf.data.Dataset object\n",
    "test_tf = tf.data.Dataset.from_tensor_slices(test['keyword'] + test['location'] + test['text'])\n",
    "\n",
    "#Convert the data into batch\n",
    "test_tf = test_tf.batch(BATCH)"
   ]
  },
  {
   "cell_type": "markdown",
   "id": "3a1b5c07",
   "metadata": {
    "papermill": {
     "duration": 0.03498,
     "end_time": "2023-08-07T06:17:54.476998",
     "exception": false,
     "start_time": "2023-08-07T06:17:54.442018",
     "status": "completed"
    },
    "tags": []
   },
   "source": [
    "## Text Vectorization\n",
    "\n",
    "To enable the model to process the text data, we need to convert it into integer values through a process called text vectorization."
   ]
  },
  {
   "cell_type": "code",
   "execution_count": 49,
   "id": "c583413a",
   "metadata": {
    "execution": {
     "iopub.execute_input": "2023-08-07T06:17:54.551588Z",
     "iopub.status.busy": "2023-08-07T06:17:54.551197Z",
     "iopub.status.idle": "2023-08-07T06:17:54.581353Z",
     "shell.execute_reply": "2023-08-07T06:17:54.580335Z"
    },
    "papermill": {
     "duration": 0.071431,
     "end_time": "2023-08-07T06:17:54.583535",
     "exception": false,
     "start_time": "2023-08-07T06:17:54.512104",
     "status": "completed"
    },
    "tags": []
   },
   "outputs": [],
   "source": [
    "max_length = 40\n",
    "max_tokens = 20_000\n",
    "\n",
    "#Instantiate the TextVectorization layer\n",
    "text_vectorization = layers.TextVectorization(max_tokens=max_tokens,\n",
    "                                              output_mode='int',\n",
    "                                              output_sequence_length=max_length\n",
    "                                             )"
   ]
  },
  {
   "cell_type": "code",
   "execution_count": 50,
   "id": "0a519677",
   "metadata": {
    "execution": {
     "iopub.execute_input": "2023-08-07T06:17:54.657112Z",
     "iopub.status.busy": "2023-08-07T06:17:54.656781Z",
     "iopub.status.idle": "2023-08-07T06:17:56.165946Z",
     "shell.execute_reply": "2023-08-07T06:17:56.164758Z"
    },
    "papermill": {
     "duration": 1.549097,
     "end_time": "2023-08-07T06:17:56.168884",
     "exception": false,
     "start_time": "2023-08-07T06:17:54.619787",
     "status": "completed"
    },
    "tags": []
   },
   "outputs": [],
   "source": [
    "#Learn the vocabulary\n",
    "text_vectorization.adapt(train_tf.map(lambda twt, target: twt))"
   ]
  },
  {
   "cell_type": "code",
   "execution_count": 51,
   "id": "9371603c",
   "metadata": {
    "execution": {
     "iopub.execute_input": "2023-08-07T06:17:56.241467Z",
     "iopub.status.busy": "2023-08-07T06:17:56.240424Z",
     "iopub.status.idle": "2023-08-07T06:17:56.312069Z",
     "shell.execute_reply": "2023-08-07T06:17:56.310853Z"
    },
    "papermill": {
     "duration": 0.109975,
     "end_time": "2023-08-07T06:17:56.314232",
     "exception": false,
     "start_time": "2023-08-07T06:17:56.204257",
     "status": "completed"
    },
    "tags": []
   },
   "outputs": [
    {
     "name": "stdout",
     "output_type": "stream",
     "text": [
      "Vocabulary size = 20000\n"
     ]
    }
   ],
   "source": [
    "#Get the vocabulary\n",
    "vocab = text_vectorization.get_vocabulary()\n",
    "print(\"Vocabulary size =\",len(vocab))\n",
    "\n",
    "#Convert the list object to NumPy array for decoding the vectorized data\n",
    "vocab = np.array(vocab)"
   ]
  },
  {
   "cell_type": "code",
   "execution_count": 52,
   "id": "e5f8daf7",
   "metadata": {
    "execution": {
     "iopub.execute_input": "2023-08-07T06:17:56.384060Z",
     "iopub.status.busy": "2023-08-07T06:17:56.383123Z",
     "iopub.status.idle": "2023-08-07T06:17:56.497685Z",
     "shell.execute_reply": "2023-08-07T06:17:56.496689Z"
    },
    "papermill": {
     "duration": 0.151788,
     "end_time": "2023-08-07T06:17:56.500042",
     "exception": false,
     "start_time": "2023-08-07T06:17:56.348254",
     "status": "completed"
    },
    "tags": []
   },
   "outputs": [],
   "source": [
    "#Vectorize the train dataset\n",
    "train_tf = train_tf.map(lambda twt, target: (text_vectorization(twt), target),\n",
    "                   num_parallel_calls=tf.data.AUTOTUNE)\n",
    "\n",
    "#Vectorize the test dataset\n",
    "test_tf = test_tf.map(lambda twt: text_vectorization(twt),\n",
    "                      num_parallel_calls=tf.data.AUTOTUNE)"
   ]
  },
  {
   "cell_type": "code",
   "execution_count": 53,
   "id": "7fcd2d83",
   "metadata": {
    "execution": {
     "iopub.execute_input": "2023-08-07T06:17:56.572673Z",
     "iopub.status.busy": "2023-08-07T06:17:56.572298Z",
     "iopub.status.idle": "2023-08-07T06:17:56.578458Z",
     "shell.execute_reply": "2023-08-07T06:17:56.577438Z"
    },
    "papermill": {
     "duration": 0.045729,
     "end_time": "2023-08-07T06:17:56.580494",
     "exception": false,
     "start_time": "2023-08-07T06:17:56.534765",
     "status": "completed"
    },
    "tags": []
   },
   "outputs": [],
   "source": [
    "#Define a function to print the tokenized data\n",
    "def print_sample(data_obj):\n",
    "    for sample, traget in data_obj:\n",
    "        #Print the first item\n",
    "        print(\"1st sample:\",sample[0].numpy())\n",
    "        print(\"\\n\")\n",
    "        #Print the second item\n",
    "        print(\"2nd sample:\",sample[1].numpy())\n",
    "        print(\"\\n\")\n",
    "        #Print the third item\n",
    "        print(\"3rd sample:\",sample[2].numpy())\n",
    "        print(\"\\n\")\n",
    "        break"
   ]
  },
  {
   "cell_type": "code",
   "execution_count": 54,
   "id": "c74429a5",
   "metadata": {
    "execution": {
     "iopub.execute_input": "2023-08-07T06:17:56.649143Z",
     "iopub.status.busy": "2023-08-07T06:17:56.648876Z",
     "iopub.status.idle": "2023-08-07T06:17:56.760523Z",
     "shell.execute_reply": "2023-08-07T06:17:56.759519Z"
    },
    "papermill": {
     "duration": 0.14911,
     "end_time": "2023-08-07T06:17:56.763011",
     "exception": false,
     "start_time": "2023-08-07T06:17:56.613901",
     "status": "completed"
    },
    "tags": []
   },
   "outputs": [
    {
     "name": "stdout",
     "output_type": "stream",
     "text": [
      "1st sample: [    1     1   404  7646   112     3  1237   471     4   603   212   603\n",
      " 13597     1     0     0     0     0     0     0     0     0     0     0\n",
      "     0     0     0     0     0     0     0     0     0     0     0     0\n",
      "     0     0     0     0]\n",
      "\n",
      "\n",
      "2nd sample: [    1     1  3129     1  6037    11     2   854    10     2    97    90\n",
      "   733   387     2   121  2315     1 16461 15976     1     0     0     0\n",
      "     0     0     0     0     0     0     0     0     0     0     0     0\n",
      "     0     0     0     0]\n",
      "\n",
      "\n",
      "3rd sample: [12031  1672    89  2397    16     1 19786     1     0     0     0     0\n",
      "     0     0     0     0     0     0     0     0     0     0     0     0\n",
      "     0     0     0     0     0     0     0     0     0     0     0     0\n",
      "     0     0     0     0]\n",
      "\n",
      "\n"
     ]
    }
   ],
   "source": [
    "#Print the tokenized data\n",
    "print_sample(train_tf)"
   ]
  },
  {
   "cell_type": "code",
   "execution_count": 55,
   "id": "43f004ce",
   "metadata": {
    "execution": {
     "iopub.execute_input": "2023-08-07T06:17:56.835692Z",
     "iopub.status.busy": "2023-08-07T06:17:56.835316Z",
     "iopub.status.idle": "2023-08-07T06:17:56.873609Z",
     "shell.execute_reply": "2023-08-07T06:17:56.872583Z"
    },
    "papermill": {
     "duration": 0.077686,
     "end_time": "2023-08-07T06:17:56.876030",
     "exception": false,
     "start_time": "2023-08-07T06:17:56.798344",
     "status": "completed"
    },
    "tags": []
   },
   "outputs": [
    {
     "name": "stdout",
     "output_type": "stream",
     "text": [
      "\t\t\t\tVectorized Tweet:\n",
      " tf.Tensor(\n",
      "[10122  5497     8    69   100    15    58  1029   114    38     4     2\n",
      "   712  5792  1883    15     1    53  2590     3   442    89   248  1017\n",
      "     0     0     0     0     0     0     0     0     0     0     0     0\n",
      "     0     0     0     0], shape=(40,), dtype=int64)\n",
      "\n",
      "\n",
      "\t\t\t\tDecoded Tweet:\n",
      " violent20stormususpacific command i can see it they gave their all in the peace unity festival it [UNK] when freedom a violent storm hit sea                \n"
     ]
    }
   ],
   "source": [
    "#Print the vectorized tweet and the decoded tweet\n",
    "for tx in train_tf:\n",
    "    print(\"\\t\\t\\t\\tVectorized Tweet:\\n\",tx[0][0])\n",
    "    print(\"\\n\\n\\t\\t\\t\\tDecoded Tweet:\\n\", \" \".join(vocab[tx[0][0].numpy()]))\n",
    "    break"
   ]
  },
  {
   "cell_type": "markdown",
   "id": "65484526",
   "metadata": {
    "papermill": {
     "duration": 0.03406,
     "end_time": "2023-08-07T06:17:56.946159",
     "exception": false,
     "start_time": "2023-08-07T06:17:56.912099",
     "status": "completed"
    },
    "tags": []
   },
   "source": [
    "## Model\n",
    "\n",
    "To classify the tweets, we will employ a Transformer model specifically designed as an Encoder-only model. In this approach, we will define the Encoder layer and incorporate a Positional Embedding layer using Keras subclassing. By utilizing these components, we aim to enhance the accuracy and effectiveness of our classification model.\n",
    "\n",
    "Moreover, the Transformer model's architecture enables it to capture contextual relationships and dependencies among words or tokens within the tweets. The Encoder layer acts as a powerful feature extractor, learning representations that contribute to the tweet classification task.\n",
    "\n",
    "Additionally, the Positional Embedding layer adds crucial positional information to the input tokens, enabling the model to discern the sequential order of words in the tweet. This positional encoding facilitates the Transformer model in capturing long-range dependencies and effectively processing the input text.\n",
    "\n",
    "By combining the Transformer's robust architecture with Keras subclassing, we can create a powerful and flexible model that yields accurate tweet classification results.\n",
    "\n",
    "**#We'll registers the custom layer with the Keras serialization framework. So that it can be serialized and deserialized. We'll do so by using the \"register_keras_serializable\" decorator**"
   ]
  },
  {
   "cell_type": "code",
   "execution_count": 56,
   "id": "26888f44",
   "metadata": {
    "execution": {
     "iopub.execute_input": "2023-08-07T06:17:57.017780Z",
     "iopub.status.busy": "2023-08-07T06:17:57.016821Z",
     "iopub.status.idle": "2023-08-07T06:17:57.022241Z",
     "shell.execute_reply": "2023-08-07T06:17:57.021161Z"
    },
    "papermill": {
     "duration": 0.043808,
     "end_time": "2023-08-07T06:17:57.024407",
     "exception": false,
     "start_time": "2023-08-07T06:17:56.980599",
     "status": "completed"
    },
    "tags": []
   },
   "outputs": [],
   "source": [
    "#Clear all previously registered custom objects\n",
    "keras.saving.get_custom_objects().clear()"
   ]
  },
  {
   "cell_type": "code",
   "execution_count": 57,
   "id": "fe05673c",
   "metadata": {
    "execution": {
     "iopub.execute_input": "2023-08-07T06:17:57.097731Z",
     "iopub.status.busy": "2023-08-07T06:17:57.096787Z",
     "iopub.status.idle": "2023-08-07T06:17:57.108085Z",
     "shell.execute_reply": "2023-08-07T06:17:57.107114Z"
    },
    "papermill": {
     "duration": 0.050706,
     "end_time": "2023-08-07T06:17:57.110021",
     "exception": false,
     "start_time": "2023-08-07T06:17:57.059315",
     "status": "completed"
    },
    "tags": []
   },
   "outputs": [],
   "source": [
    "#Define a Transformer Encoder using subclassed layer\n",
    "@tf.keras.utils.register_keras_serializable()\n",
    "class TransformerEncoder(layers.Layer):\n",
    "    def __init__(self, embed_dim, dense_dim, num_heads, **kwargs):\n",
    "        super().__init__(**kwargs)\n",
    "        #Size of the input vector (size of the vocabulary)\n",
    "        self.embed_dim = embed_dim\n",
    "        #Size of the inner dense layer\n",
    "        self.dense_dim = dense_dim\n",
    "        #Number of attention heads\n",
    "        self.num_heads = num_heads\n",
    "\n",
    "        self.attention = layers.MultiHeadAttention(num_heads=num_heads, key_dim=embed_dim)\n",
    "        self.dense_proj = keras.Sequential(\n",
    "                   [layers.Dense(dense_dim, activation=\"relu\"),\n",
    "                    layers.Dense(embed_dim),]\n",
    "                                        )\n",
    "        self.layernorm_1 = layers.LayerNormalization()\n",
    "        self.layernorm_2 = layers.LayerNormalization()\n",
    "        self.max_pool1 = layers.GlobalMaxPooling1D()\n",
    "\n",
    "    #Define a call() method  where forward pass is implemented\n",
    "    def call(self, inputs, mask=None):\n",
    "        if mask is not None:\n",
    "            mask = mask[:, tf.newaxis, :]\n",
    "\n",
    "        #Apply the attention layer\n",
    "        attention_output = self.attention(inputs, inputs, attention_mask=mask)\n",
    "        #Normalize the data\n",
    "        proj_input = self.layernorm_1(inputs + attention_output)\n",
    "        #Apply the dense layer\n",
    "        proj_output = self.dense_proj(proj_input)\n",
    "        #Normalize the data and return it\n",
    "        return self.layernorm_2(proj_input + proj_output)\n",
    "        \n",
    "        #return self.max_pool1(norm)\n",
    "\n",
    "    #Define configuration method\n",
    "    def get_config(self):\n",
    "        config = super().get_config()\n",
    "        config.update({\n",
    "                    \"embed_dim\": self.embed_dim,\n",
    "                    \"num_heads\": self.num_heads,\n",
    "                    \"dense_dim\": self.dense_dim,\n",
    "                    })\n",
    "        return config"
   ]
  },
  {
   "cell_type": "code",
   "execution_count": 58,
   "id": "66249eb7",
   "metadata": {
    "execution": {
     "iopub.execute_input": "2023-08-07T06:17:57.180816Z",
     "iopub.status.busy": "2023-08-07T06:17:57.180473Z",
     "iopub.status.idle": "2023-08-07T06:17:57.190529Z",
     "shell.execute_reply": "2023-08-07T06:17:57.189351Z"
    },
    "papermill": {
     "duration": 0.048411,
     "end_time": "2023-08-07T06:17:57.192770",
     "exception": false,
     "start_time": "2023-08-07T06:17:57.144359",
     "status": "completed"
    },
    "tags": []
   },
   "outputs": [],
   "source": [
    "# Implementing positional embedding as a subclassed layer\n",
    "@tf.keras.utils.register_keras_serializable()\n",
    "class PositionalEmbedding(layers.Layer):\n",
    "    def __init__(self, sequence_length, input_dim, output_dim, **kwargs):\n",
    "        super().__init__(**kwargs)\n",
    "        self.sequence_length = sequence_length\n",
    "        self.input_dim = input_dim\n",
    "        self.output_dim = output_dim\n",
    "        self.token_embeddings = layers.Embedding(\n",
    "          input_dim=input_dim, output_dim=output_dim)\n",
    "        self.position_embeddings = layers.Embedding(\n",
    "                   input_dim=sequence_length, output_dim=output_dim)\n",
    "\n",
    "    def call(self, inputs):\n",
    "        length = tf.shape(inputs)[-1]\n",
    "        positions = tf.range(start=0, limit=length, delta=1)\n",
    "        embedded_tokens = self.token_embeddings(inputs)\n",
    "        embedded_positions = self.position_embeddings(positions)\n",
    "        return embedded_tokens + embedded_positions\n",
    "\n",
    "    def compute_mask(self, inputs, mask=None):\n",
    "            return tf.math.not_equal(inputs, 0)\n",
    "\n",
    "    def get_config(self):\n",
    "        config = super().get_config()\n",
    "        config.update({\n",
    "           \"output_dim\": self.output_dim,\n",
    "           \"sequence_length\": self.sequence_length,\n",
    "           \"input_dim\": self.input_dim,\n",
    "                    })\n",
    "        return config"
   ]
  },
  {
   "cell_type": "code",
   "execution_count": 59,
   "id": "9364773c",
   "metadata": {
    "execution": {
     "iopub.execute_input": "2023-08-07T06:17:57.264035Z",
     "iopub.status.busy": "2023-08-07T06:17:57.263736Z",
     "iopub.status.idle": "2023-08-07T06:17:57.692792Z",
     "shell.execute_reply": "2023-08-07T06:17:57.691752Z"
    },
    "papermill": {
     "duration": 0.466775,
     "end_time": "2023-08-07T06:17:57.695211",
     "exception": false,
     "start_time": "2023-08-07T06:17:57.228436",
     "status": "completed"
    },
    "tags": []
   },
   "outputs": [],
   "source": [
    "#Construct the model\n",
    "\n",
    "#Define the input\n",
    "inputs = keras.Input(shape=(None,), dtype=\"int64\")\n",
    "\n",
    "#Apply positional embeddings\n",
    "pos_embed = PositionalEmbedding(sequence_length=40,\n",
    "                        input_dim=20_000,\n",
    "                        output_dim=256)(inputs)\n",
    "\n",
    "#Apply the encoder\n",
    "encoded = TransformerEncoder(embed_dim=256,\n",
    "                             dense_dim=32,\n",
    "                             num_heads=8)(pos_embed)\n",
    "\n",
    "\n",
    "x = layers.GlobalMaxPooling1D()(encoded)\n",
    "x = layers.Dropout(0.5)(x)\n",
    "output = layers.Dense(units=1, activation=\"sigmoid\")(x)\n",
    "\n",
    "model = keras.Model(inputs=inputs,outputs=output)"
   ]
  },
  {
   "cell_type": "code",
   "execution_count": 60,
   "id": "ae54a9ea",
   "metadata": {
    "execution": {
     "iopub.execute_input": "2023-08-07T06:17:57.766852Z",
     "iopub.status.busy": "2023-08-07T06:17:57.766533Z",
     "iopub.status.idle": "2023-08-07T06:17:57.784380Z",
     "shell.execute_reply": "2023-08-07T06:17:57.783494Z"
    },
    "papermill": {
     "duration": 0.056151,
     "end_time": "2023-08-07T06:17:57.786736",
     "exception": false,
     "start_time": "2023-08-07T06:17:57.730585",
     "status": "completed"
    },
    "tags": []
   },
   "outputs": [],
   "source": [
    "#Compile the model\n",
    "model.compile(optimizer=tf.keras.optimizers.Adam(learning_rate=1e-5, beta_1=0.9, beta_2=0.98,epsilon=1e-9),\n",
    "              loss=tf.keras.losses.BinaryCrossentropy(),\n",
    "              metrics=['accuracy']\n",
    "             )"
   ]
  },
  {
   "cell_type": "code",
   "execution_count": 61,
   "id": "bd63a07b",
   "metadata": {
    "execution": {
     "iopub.execute_input": "2023-08-07T06:17:57.857743Z",
     "iopub.status.busy": "2023-08-07T06:17:57.857449Z",
     "iopub.status.idle": "2023-08-07T06:17:57.886457Z",
     "shell.execute_reply": "2023-08-07T06:17:57.885635Z"
    },
    "papermill": {
     "duration": 0.079282,
     "end_time": "2023-08-07T06:17:57.899641",
     "exception": false,
     "start_time": "2023-08-07T06:17:57.820359",
     "status": "completed"
    },
    "tags": []
   },
   "outputs": [
    {
     "name": "stdout",
     "output_type": "stream",
     "text": [
      "Model: \"model\"\n",
      "_________________________________________________________________\n",
      " Layer (type)                Output Shape              Param #   \n",
      "=================================================================\n",
      " input_1 (InputLayer)        [(None, None)]            0         \n",
      "                                                                 \n",
      " positional_embedding (Posit  (None, None, 256)        5130240   \n",
      " ionalEmbedding)                                                 \n",
      "                                                                 \n",
      " transformer_encoder (Transf  (None, None, 256)        2121248   \n",
      " ormerEncoder)                                                   \n",
      "                                                                 \n",
      " global_max_pooling1d_1 (Glo  (None, 256)              0         \n",
      " balMaxPooling1D)                                                \n",
      "                                                                 \n",
      " dropout (Dropout)           (None, 256)               0         \n",
      "                                                                 \n",
      " dense_2 (Dense)             (None, 1)                 257       \n",
      "                                                                 \n",
      "=================================================================\n",
      "Total params: 7,251,745\n",
      "Trainable params: 7,251,745\n",
      "Non-trainable params: 0\n",
      "_________________________________________________________________\n"
     ]
    }
   ],
   "source": [
    "#Summary of the model\n",
    "model.summary()"
   ]
  },
  {
   "cell_type": "code",
   "execution_count": 62,
   "id": "31656309",
   "metadata": {
    "execution": {
     "iopub.execute_input": "2023-08-07T06:17:57.974005Z",
     "iopub.status.busy": "2023-08-07T06:17:57.973677Z",
     "iopub.status.idle": "2023-08-07T06:17:58.435652Z",
     "shell.execute_reply": "2023-08-07T06:17:58.434244Z"
    },
    "papermill": {
     "duration": 0.502268,
     "end_time": "2023-08-07T06:17:58.438236",
     "exception": false,
     "start_time": "2023-08-07T06:17:57.935968",
     "status": "completed"
    },
    "tags": []
   },
   "outputs": [
    {
     "data": {
      "image/png": "[encoded data removed]",
      "text/plain": [
       "<IPython.core.display.Image object>"
      ]
     },
     "execution_count": 62,
     "metadata": {},
     "output_type": "execute_result"
    }
   ],
   "source": [
    "#Plot the model\n",
    "keras.utils.plot_model(model=model,\n",
    "                       to_file=\"model.png\",\n",
    "                       show_shapes=True,\n",
    "                       show_layer_names=True,\n",
    "                       expand_nested=True,\n",
    "                       show_layer_activations=True,\n",
    "                       show_trainable=True,\n",
    "        )"
   ]
  },
  {
   "cell_type": "code",
   "execution_count": 63,
   "id": "6350a662",
   "metadata": {
    "execution": {
     "iopub.execute_input": "2023-08-07T06:17:58.516665Z",
     "iopub.status.busy": "2023-08-07T06:17:58.516261Z",
     "iopub.status.idle": "2023-08-07T06:17:58.522679Z",
     "shell.execute_reply": "2023-08-07T06:17:58.521712Z"
    },
    "papermill": {
     "duration": 0.048279,
     "end_time": "2023-08-07T06:17:58.524890",
     "exception": false,
     "start_time": "2023-08-07T06:17:58.476611",
     "status": "completed"
    },
    "tags": []
   },
   "outputs": [],
   "source": [
    "#Define callbacks\n",
    "callbacks = [\n",
    "       keras.callbacks.ModelCheckpoint(\"tweets_classifier.keras\",\n",
    "                                       save_best_only=True)\n",
    "            ]"
   ]
  },
  {
   "cell_type": "code",
   "execution_count": 64,
   "id": "5f5e69ad",
   "metadata": {
    "execution": {
     "iopub.execute_input": "2023-08-07T06:17:58.605091Z",
     "iopub.status.busy": "2023-08-07T06:17:58.604753Z",
     "iopub.status.idle": "2023-08-07T06:17:58.609810Z",
     "shell.execute_reply": "2023-08-07T06:17:58.608708Z"
    },
    "papermill": {
     "duration": 0.045963,
     "end_time": "2023-08-07T06:17:58.612236",
     "exception": false,
     "start_time": "2023-08-07T06:17:58.566273",
     "status": "completed"
    },
    "tags": []
   },
   "outputs": [],
   "source": [
    "#Define the validation data size\n",
    "val_size = int(0.25 * len(train_tf))"
   ]
  },
  {
   "cell_type": "code",
   "execution_count": 65,
   "id": "1e6cb0b8",
   "metadata": {
    "execution": {
     "iopub.execute_input": "2023-08-07T06:17:58.689359Z",
     "iopub.status.busy": "2023-08-07T06:17:58.689068Z",
     "iopub.status.idle": "2023-08-07T06:17:58.705195Z",
     "shell.execute_reply": "2023-08-07T06:17:58.704258Z"
    },
    "papermill": {
     "duration": 0.057202,
     "end_time": "2023-08-07T06:17:58.707469",
     "exception": false,
     "start_time": "2023-08-07T06:17:58.650267",
     "status": "completed"
    },
    "tags": []
   },
   "outputs": [],
   "source": [
    "# Split the data into training and validation\n",
    "validation_data = train_tf.take(val_size)\n",
    "train_data = train_tf.skip(val_size)"
   ]
  },
  {
   "cell_type": "code",
   "execution_count": 66,
   "id": "28dd0bf4",
   "metadata": {
    "execution": {
     "iopub.execute_input": "2023-08-07T06:17:58.783811Z",
     "iopub.status.busy": "2023-08-07T06:17:58.782930Z",
     "iopub.status.idle": "2023-08-07T06:40:06.830168Z",
     "shell.execute_reply": "2023-08-07T06:40:06.828970Z"
    },
    "papermill": {
     "duration": 1328.087844,
     "end_time": "2023-08-07T06:40:06.832852",
     "exception": false,
     "start_time": "2023-08-07T06:17:58.745008",
     "status": "completed"
    },
    "tags": []
   },
   "outputs": [
    {
     "name": "stdout",
     "output_type": "stream",
     "text": [
      "Epoch 1/150\n",
      "434/434 [==============================] - 40s 66ms/step - loss: 1.1894 - accuracy: 0.5206 - val_loss: 0.6623 - val_accuracy: 0.6063\n",
      "Epoch 2/150\n",
      "434/434 [==============================] - 10s 23ms/step - loss: 0.9925 - accuracy: 0.5487 - val_loss: 0.6091 - val_accuracy: 0.6712\n",
      "Epoch 3/150\n",
      "434/434 [==============================] - 9s 20ms/step - loss: 0.7970 - accuracy: 0.5930 - val_loss: 0.5815 - val_accuracy: 0.7079\n",
      "Epoch 4/150\n",
      "434/434 [==============================] - 8s 19ms/step - loss: 0.7001 - accuracy: 0.6256 - val_loss: 0.5368 - val_accuracy: 0.7491\n",
      "Epoch 5/150\n",
      "434/434 [==============================] - 8s 18ms/step - loss: 0.6066 - accuracy: 0.6821 - val_loss: 0.5029 - val_accuracy: 0.7626\n",
      "Epoch 6/150\n",
      "434/434 [==============================] - 8s 17ms/step - loss: 0.5423 - accuracy: 0.7324 - val_loss: 0.4698 - val_accuracy: 0.7839\n",
      "Epoch 7/150\n",
      "434/434 [==============================] - 9s 20ms/step - loss: 0.4940 - accuracy: 0.7624 - val_loss: 0.4448 - val_accuracy: 0.7969\n",
      "Epoch 8/150\n",
      "434/434 [==============================] - 8s 18ms/step - loss: 0.4508 - accuracy: 0.7947 - val_loss: 0.4108 - val_accuracy: 0.8179\n",
      "Epoch 9/150\n",
      "434/434 [==============================] - 7s 16ms/step - loss: 0.4191 - accuracy: 0.8137 - val_loss: 0.3902 - val_accuracy: 0.8234\n",
      "Epoch 10/150\n",
      "434/434 [==============================] - 8s 18ms/step - loss: 0.3906 - accuracy: 0.8306 - val_loss: 0.3714 - val_accuracy: 0.8385\n",
      "Epoch 11/150\n",
      "434/434 [==============================] - 7s 17ms/step - loss: 0.3646 - accuracy: 0.8419 - val_loss: 0.3587 - val_accuracy: 0.8418\n",
      "Epoch 12/150\n",
      "434/434 [==============================] - 8s 17ms/step - loss: 0.3362 - accuracy: 0.8572 - val_loss: 0.3278 - val_accuracy: 0.8637\n",
      "Epoch 13/150\n",
      "434/434 [==============================] - 7s 16ms/step - loss: 0.3205 - accuracy: 0.8629 - val_loss: 0.3293 - val_accuracy: 0.8622\n",
      "Epoch 14/150\n",
      "434/434 [==============================] - 7s 17ms/step - loss: 0.3014 - accuracy: 0.8741 - val_loss: 0.3110 - val_accuracy: 0.8702\n",
      "Epoch 15/150\n",
      "434/434 [==============================] - 7s 16ms/step - loss: 0.2823 - accuracy: 0.8829 - val_loss: 0.2991 - val_accuracy: 0.8761\n",
      "Epoch 16/150\n",
      "434/434 [==============================] - 7s 17ms/step - loss: 0.2680 - accuracy: 0.8880 - val_loss: 0.2883 - val_accuracy: 0.8826\n",
      "Epoch 17/150\n",
      "434/434 [==============================] - 8s 18ms/step - loss: 0.2538 - accuracy: 0.8978 - val_loss: 0.2741 - val_accuracy: 0.8882\n",
      "Epoch 18/150\n",
      "434/434 [==============================] - 7s 17ms/step - loss: 0.2366 - accuracy: 0.9063 - val_loss: 0.2672 - val_accuracy: 0.8919\n",
      "Epoch 19/150\n",
      "434/434 [==============================] - 7s 16ms/step - loss: 0.2302 - accuracy: 0.9084 - val_loss: 0.2496 - val_accuracy: 0.8952\n",
      "Epoch 20/150\n",
      "434/434 [==============================] - 7s 17ms/step - loss: 0.2135 - accuracy: 0.9162 - val_loss: 0.2401 - val_accuracy: 0.9032\n",
      "Epoch 21/150\n",
      "434/434 [==============================] - 8s 18ms/step - loss: 0.2034 - accuracy: 0.9206 - val_loss: 0.2335 - val_accuracy: 0.9071\n",
      "Epoch 22/150\n",
      "434/434 [==============================] - 7s 16ms/step - loss: 0.1917 - accuracy: 0.9254 - val_loss: 0.2162 - val_accuracy: 0.9141\n",
      "Epoch 23/150\n",
      "434/434 [==============================] - 7s 16ms/step - loss: 0.1829 - accuracy: 0.9298 - val_loss: 0.2113 - val_accuracy: 0.9154\n",
      "Epoch 24/150\n",
      "434/434 [==============================] - 8s 17ms/step - loss: 0.1725 - accuracy: 0.9349 - val_loss: 0.2034 - val_accuracy: 0.9193\n",
      "Epoch 25/150\n",
      "434/434 [==============================] - 8s 18ms/step - loss: 0.1632 - accuracy: 0.9401 - val_loss: 0.1930 - val_accuracy: 0.9247\n",
      "Epoch 26/150\n",
      "434/434 [==============================] - 7s 17ms/step - loss: 0.1621 - accuracy: 0.9404 - val_loss: 0.1871 - val_accuracy: 0.9277\n",
      "Epoch 27/150\n",
      "434/434 [==============================] - 7s 17ms/step - loss: 0.1544 - accuracy: 0.9434 - val_loss: 0.1856 - val_accuracy: 0.9299\n",
      "Epoch 28/150\n",
      "434/434 [==============================] - 7s 16ms/step - loss: 0.1456 - accuracy: 0.9456 - val_loss: 0.1785 - val_accuracy: 0.9297\n",
      "Epoch 29/150\n",
      "434/434 [==============================] - 8s 18ms/step - loss: 0.1388 - accuracy: 0.9487 - val_loss: 0.1669 - val_accuracy: 0.9368\n",
      "Epoch 30/150\n",
      "434/434 [==============================] - 7s 16ms/step - loss: 0.1290 - accuracy: 0.9535 - val_loss: 0.1709 - val_accuracy: 0.9347\n",
      "Epoch 31/150\n",
      "434/434 [==============================] - 7s 16ms/step - loss: 0.1235 - accuracy: 0.9555 - val_loss: 0.1721 - val_accuracy: 0.9386\n",
      "Epoch 32/150\n",
      "434/434 [==============================] - 8s 18ms/step - loss: 0.1245 - accuracy: 0.9540 - val_loss: 0.1609 - val_accuracy: 0.9408\n",
      "Epoch 33/150\n",
      "434/434 [==============================] - 7s 16ms/step - loss: 0.1162 - accuracy: 0.9581 - val_loss: 0.1479 - val_accuracy: 0.9466\n",
      "Epoch 34/150\n",
      "434/434 [==============================] - 7s 16ms/step - loss: 0.1104 - accuracy: 0.9596 - val_loss: 0.1395 - val_accuracy: 0.9507\n",
      "Epoch 35/150\n",
      "434/434 [==============================] - 7s 16ms/step - loss: 0.1063 - accuracy: 0.9627 - val_loss: 0.1358 - val_accuracy: 0.9497\n",
      "Epoch 36/150\n",
      "434/434 [==============================] - 8s 17ms/step - loss: 0.1044 - accuracy: 0.9639 - val_loss: 0.1429 - val_accuracy: 0.9468\n",
      "Epoch 37/150\n",
      "434/434 [==============================] - 7s 16ms/step - loss: 0.0984 - accuracy: 0.9661 - val_loss: 0.1397 - val_accuracy: 0.9501\n",
      "Epoch 38/150\n",
      "434/434 [==============================] - 7s 16ms/step - loss: 0.0983 - accuracy: 0.9643 - val_loss: 0.1191 - val_accuracy: 0.9568\n",
      "Epoch 39/150\n",
      "434/434 [==============================] - 7s 16ms/step - loss: 0.0991 - accuracy: 0.9644 - val_loss: 0.1269 - val_accuracy: 0.9546\n",
      "Epoch 40/150\n",
      "434/434 [==============================] - 7s 17ms/step - loss: 0.0927 - accuracy: 0.9677 - val_loss: 0.1181 - val_accuracy: 0.9564\n",
      "Epoch 41/150\n",
      "434/434 [==============================] - 7s 16ms/step - loss: 0.0910 - accuracy: 0.9687 - val_loss: 0.1173 - val_accuracy: 0.9583\n",
      "Epoch 42/150\n",
      "434/434 [==============================] - 7s 16ms/step - loss: 0.0828 - accuracy: 0.9715 - val_loss: 0.1160 - val_accuracy: 0.9557\n",
      "Epoch 43/150\n",
      "434/434 [==============================] - 7s 16ms/step - loss: 0.0828 - accuracy: 0.9707 - val_loss: 0.1141 - val_accuracy: 0.9588\n",
      "Epoch 44/150\n",
      "434/434 [==============================] - 7s 16ms/step - loss: 0.0818 - accuracy: 0.9706 - val_loss: 0.1175 - val_accuracy: 0.9583\n",
      "Epoch 45/150\n",
      "434/434 [==============================] - 7s 17ms/step - loss: 0.0756 - accuracy: 0.9743 - val_loss: 0.1090 - val_accuracy: 0.9620\n",
      "Epoch 46/150\n",
      "434/434 [==============================] - 7s 16ms/step - loss: 0.0764 - accuracy: 0.9732 - val_loss: 0.1057 - val_accuracy: 0.9633\n",
      "Epoch 47/150\n",
      "434/434 [==============================] - 7s 16ms/step - loss: 0.0760 - accuracy: 0.9735 - val_loss: 0.1131 - val_accuracy: 0.9588\n",
      "Epoch 48/150\n",
      "434/434 [==============================] - 7s 17ms/step - loss: 0.0730 - accuracy: 0.9749 - val_loss: 0.0979 - val_accuracy: 0.9661\n",
      "Epoch 49/150\n",
      "434/434 [==============================] - 7s 16ms/step - loss: 0.0705 - accuracy: 0.9769 - val_loss: 0.1055 - val_accuracy: 0.9644\n",
      "Epoch 50/150\n",
      "434/434 [==============================] - 7s 16ms/step - loss: 0.0707 - accuracy: 0.9751 - val_loss: 0.1052 - val_accuracy: 0.9638\n",
      "Epoch 51/150\n",
      "434/434 [==============================] - 7s 17ms/step - loss: 0.0661 - accuracy: 0.9773 - val_loss: 0.1089 - val_accuracy: 0.9616\n",
      "Epoch 52/150\n",
      "434/434 [==============================] - 7s 16ms/step - loss: 0.0667 - accuracy: 0.9782 - val_loss: 0.1074 - val_accuracy: 0.9631\n",
      "Epoch 53/150\n",
      "434/434 [==============================] - 7s 16ms/step - loss: 0.0634 - accuracy: 0.9782 - val_loss: 0.1000 - val_accuracy: 0.9661\n",
      "Epoch 54/150\n",
      "434/434 [==============================] - 7s 15ms/step - loss: 0.0651 - accuracy: 0.9769 - val_loss: 0.0981 - val_accuracy: 0.9646\n",
      "Epoch 55/150\n",
      "434/434 [==============================] - 8s 18ms/step - loss: 0.0616 - accuracy: 0.9791 - val_loss: 0.1023 - val_accuracy: 0.9668\n",
      "Epoch 56/150\n",
      "434/434 [==============================] - 7s 16ms/step - loss: 0.0568 - accuracy: 0.9803 - val_loss: 0.0869 - val_accuracy: 0.9701\n",
      "Epoch 57/150\n",
      "434/434 [==============================] - 7s 16ms/step - loss: 0.0591 - accuracy: 0.9795 - val_loss: 0.0973 - val_accuracy: 0.9668\n",
      "Epoch 58/150\n",
      "434/434 [==============================] - 7s 16ms/step - loss: 0.0612 - accuracy: 0.9785 - val_loss: 0.0918 - val_accuracy: 0.9688\n",
      "Epoch 59/150\n",
      "434/434 [==============================] - 7s 17ms/step - loss: 0.0578 - accuracy: 0.9795 - val_loss: 0.0870 - val_accuracy: 0.9718\n",
      "Epoch 60/150\n",
      "434/434 [==============================] - 7s 16ms/step - loss: 0.0592 - accuracy: 0.9798 - val_loss: 0.0823 - val_accuracy: 0.9716\n",
      "Epoch 61/150\n",
      "434/434 [==============================] - 7s 16ms/step - loss: 0.0577 - accuracy: 0.9809 - val_loss: 0.0879 - val_accuracy: 0.9692\n",
      "Epoch 62/150\n",
      "434/434 [==============================] - 7s 16ms/step - loss: 0.0550 - accuracy: 0.9805 - val_loss: 0.0828 - val_accuracy: 0.9709\n",
      "Epoch 63/150\n",
      "434/434 [==============================] - 7s 16ms/step - loss: 0.0532 - accuracy: 0.9813 - val_loss: 0.0868 - val_accuracy: 0.9701\n",
      "Epoch 64/150\n",
      "434/434 [==============================] - 7s 16ms/step - loss: 0.0535 - accuracy: 0.9818 - val_loss: 0.0916 - val_accuracy: 0.9670\n",
      "Epoch 65/150\n",
      "434/434 [==============================] - 7s 16ms/step - loss: 0.0525 - accuracy: 0.9805 - val_loss: 0.0786 - val_accuracy: 0.9742\n",
      "Epoch 66/150\n",
      "434/434 [==============================] - 8s 18ms/step - loss: 0.0532 - accuracy: 0.9814 - val_loss: 0.0770 - val_accuracy: 0.9744\n",
      "Epoch 67/150\n",
      "434/434 [==============================] - 7s 16ms/step - loss: 0.0496 - accuracy: 0.9823 - val_loss: 0.0939 - val_accuracy: 0.9683\n",
      "Epoch 68/150\n",
      "434/434 [==============================] - 7s 16ms/step - loss: 0.0523 - accuracy: 0.9819 - val_loss: 0.0798 - val_accuracy: 0.9716\n",
      "Epoch 69/150\n",
      "434/434 [==============================] - 7s 16ms/step - loss: 0.0498 - accuracy: 0.9821 - val_loss: 0.0702 - val_accuracy: 0.9779\n",
      "Epoch 70/150\n",
      "434/434 [==============================] - 7s 17ms/step - loss: 0.0467 - accuracy: 0.9849 - val_loss: 0.0863 - val_accuracy: 0.9705\n",
      "Epoch 71/150\n",
      "434/434 [==============================] - 7s 16ms/step - loss: 0.0444 - accuracy: 0.9839 - val_loss: 0.0793 - val_accuracy: 0.9746\n",
      "Epoch 72/150\n",
      "434/434 [==============================] - 7s 16ms/step - loss: 0.0480 - accuracy: 0.9833 - val_loss: 0.0705 - val_accuracy: 0.9748\n",
      "Epoch 73/150\n",
      "434/434 [==============================] - 8s 17ms/step - loss: 0.0457 - accuracy: 0.9839 - val_loss: 0.0732 - val_accuracy: 0.9744\n",
      "Epoch 74/150\n",
      "434/434 [==============================] - 7s 17ms/step - loss: 0.0456 - accuracy: 0.9832 - val_loss: 0.0702 - val_accuracy: 0.9753\n",
      "Epoch 75/150\n",
      "434/434 [==============================] - 7s 16ms/step - loss: 0.0474 - accuracy: 0.9836 - val_loss: 0.0784 - val_accuracy: 0.9727\n",
      "Epoch 76/150\n",
      "434/434 [==============================] - 8s 17ms/step - loss: 0.0474 - accuracy: 0.9838 - val_loss: 0.0764 - val_accuracy: 0.9735\n",
      "Epoch 77/150\n",
      "434/434 [==============================] - 7s 16ms/step - loss: 0.0462 - accuracy: 0.9845 - val_loss: 0.0673 - val_accuracy: 0.9761\n",
      "Epoch 78/150\n",
      "434/434 [==============================] - 7s 15ms/step - loss: 0.0429 - accuracy: 0.9850 - val_loss: 0.0682 - val_accuracy: 0.9755\n",
      "Epoch 79/150\n",
      "434/434 [==============================] - 7s 16ms/step - loss: 0.0444 - accuracy: 0.9844 - val_loss: 0.0755 - val_accuracy: 0.9742\n",
      "Epoch 80/150\n",
      "434/434 [==============================] - 8s 18ms/step - loss: 0.0416 - accuracy: 0.9846 - val_loss: 0.0661 - val_accuracy: 0.9766\n",
      "Epoch 81/150\n",
      "434/434 [==============================] - 7s 16ms/step - loss: 0.0451 - accuracy: 0.9837 - val_loss: 0.0701 - val_accuracy: 0.9746\n",
      "Epoch 82/150\n",
      "434/434 [==============================] - 7s 16ms/step - loss: 0.0407 - accuracy: 0.9856 - val_loss: 0.0676 - val_accuracy: 0.9750\n",
      "Epoch 83/150\n",
      "434/434 [==============================] - 7s 16ms/step - loss: 0.0424 - accuracy: 0.9847 - val_loss: 0.0658 - val_accuracy: 0.9763\n",
      "Epoch 84/150\n",
      "434/434 [==============================] - 7s 16ms/step - loss: 0.0393 - accuracy: 0.9850 - val_loss: 0.0721 - val_accuracy: 0.9744\n",
      "Epoch 85/150\n",
      "434/434 [==============================] - 7s 17ms/step - loss: 0.0397 - accuracy: 0.9863 - val_loss: 0.0606 - val_accuracy: 0.9787\n",
      "Epoch 86/150\n",
      "434/434 [==============================] - 7s 16ms/step - loss: 0.0408 - accuracy: 0.9860 - val_loss: 0.0622 - val_accuracy: 0.9761\n",
      "Epoch 87/150\n",
      "434/434 [==============================] - 7s 15ms/step - loss: 0.0404 - accuracy: 0.9861 - val_loss: 0.0651 - val_accuracy: 0.9766\n",
      "Epoch 88/150\n",
      "434/434 [==============================] - 7s 17ms/step - loss: 0.0423 - accuracy: 0.9850 - val_loss: 0.0703 - val_accuracy: 0.9761\n",
      "Epoch 89/150\n",
      "434/434 [==============================] - 7s 17ms/step - loss: 0.0406 - accuracy: 0.9865 - val_loss: 0.0575 - val_accuracy: 0.9796\n",
      "Epoch 90/150\n",
      "434/434 [==============================] - 7s 16ms/step - loss: 0.0388 - accuracy: 0.9866 - val_loss: 0.0590 - val_accuracy: 0.9807\n",
      "Epoch 91/150\n",
      "434/434 [==============================] - 7s 16ms/step - loss: 0.0393 - accuracy: 0.9856 - val_loss: 0.0583 - val_accuracy: 0.9798\n",
      "Epoch 92/150\n",
      "434/434 [==============================] - 7s 17ms/step - loss: 0.0389 - accuracy: 0.9866 - val_loss: 0.0569 - val_accuracy: 0.9779\n",
      "Epoch 93/150\n",
      "434/434 [==============================] - 7s 16ms/step - loss: 0.0345 - accuracy: 0.9879 - val_loss: 0.0616 - val_accuracy: 0.9783\n",
      "Epoch 94/150\n",
      "434/434 [==============================] - 7s 16ms/step - loss: 0.0373 - accuracy: 0.9865 - val_loss: 0.0534 - val_accuracy: 0.9816\n",
      "Epoch 95/150\n",
      "434/434 [==============================] - 7s 16ms/step - loss: 0.0372 - accuracy: 0.9870 - val_loss: 0.0501 - val_accuracy: 0.9816\n",
      "Epoch 96/150\n",
      "434/434 [==============================] - 7s 16ms/step - loss: 0.0349 - accuracy: 0.9879 - val_loss: 0.0573 - val_accuracy: 0.9803\n",
      "Epoch 97/150\n",
      "434/434 [==============================] - 7s 16ms/step - loss: 0.0379 - accuracy: 0.9874 - val_loss: 0.0533 - val_accuracy: 0.9792\n",
      "Epoch 98/150\n",
      "434/434 [==============================] - 7s 16ms/step - loss: 0.0349 - accuracy: 0.9878 - val_loss: 0.0620 - val_accuracy: 0.9796\n",
      "Epoch 99/150\n",
      "434/434 [==============================] - 8s 18ms/step - loss: 0.0372 - accuracy: 0.9872 - val_loss: 0.0537 - val_accuracy: 0.9807\n",
      "Epoch 100/150\n",
      "434/434 [==============================] - 7s 16ms/step - loss: 0.0374 - accuracy: 0.9870 - val_loss: 0.0583 - val_accuracy: 0.9796\n",
      "Epoch 101/150\n",
      "434/434 [==============================] - 7s 16ms/step - loss: 0.0348 - accuracy: 0.9876 - val_loss: 0.0528 - val_accuracy: 0.9816\n",
      "Epoch 102/150\n",
      "434/434 [==============================] - 7s 16ms/step - loss: 0.0369 - accuracy: 0.9875 - val_loss: 0.0545 - val_accuracy: 0.9803\n",
      "Epoch 103/150\n",
      "434/434 [==============================] - 7s 16ms/step - loss: 0.0365 - accuracy: 0.9875 - val_loss: 0.0524 - val_accuracy: 0.9816\n",
      "Epoch 104/150\n",
      "434/434 [==============================] - 7s 16ms/step - loss: 0.0328 - accuracy: 0.9883 - val_loss: 0.0577 - val_accuracy: 0.9785\n",
      "Epoch 105/150\n",
      "434/434 [==============================] - 7s 16ms/step - loss: 0.0346 - accuracy: 0.9872 - val_loss: 0.0650 - val_accuracy: 0.9776\n",
      "Epoch 106/150\n",
      "434/434 [==============================] - 7s 17ms/step - loss: 0.0347 - accuracy: 0.9887 - val_loss: 0.0643 - val_accuracy: 0.9781\n",
      "Epoch 107/150\n",
      "434/434 [==============================] - 7s 16ms/step - loss: 0.0331 - accuracy: 0.9881 - val_loss: 0.0573 - val_accuracy: 0.9787\n",
      "Epoch 108/150\n",
      "434/434 [==============================] - 7s 16ms/step - loss: 0.0338 - accuracy: 0.9881 - val_loss: 0.0504 - val_accuracy: 0.9816\n",
      "Epoch 109/150\n",
      "434/434 [==============================] - 7s 17ms/step - loss: 0.0328 - accuracy: 0.9887 - val_loss: 0.0448 - val_accuracy: 0.9850\n",
      "Epoch 110/150\n",
      "434/434 [==============================] - 8s 17ms/step - loss: 0.0326 - accuracy: 0.9890 - val_loss: 0.0485 - val_accuracy: 0.9835\n",
      "Epoch 111/150\n",
      "434/434 [==============================] - 7s 16ms/step - loss: 0.0332 - accuracy: 0.9876 - val_loss: 0.0602 - val_accuracy: 0.9785\n",
      "Epoch 112/150\n",
      "434/434 [==============================] - 7s 16ms/step - loss: 0.0330 - accuracy: 0.9881 - val_loss: 0.0507 - val_accuracy: 0.9792\n",
      "Epoch 113/150\n",
      "434/434 [==============================] - 7s 16ms/step - loss: 0.0320 - accuracy: 0.9884 - val_loss: 0.0513 - val_accuracy: 0.9820\n",
      "Epoch 114/150\n",
      "434/434 [==============================] - 7s 16ms/step - loss: 0.0327 - accuracy: 0.9880 - val_loss: 0.0491 - val_accuracy: 0.9826\n",
      "Epoch 115/150\n",
      "434/434 [==============================] - 7s 16ms/step - loss: 0.0315 - accuracy: 0.9880 - val_loss: 0.0550 - val_accuracy: 0.9796\n",
      "Epoch 116/150\n",
      "434/434 [==============================] - 7s 15ms/step - loss: 0.0305 - accuracy: 0.9888 - val_loss: 0.0512 - val_accuracy: 0.9813\n",
      "Epoch 117/150\n",
      "434/434 [==============================] - 7s 16ms/step - loss: 0.0309 - accuracy: 0.9885 - val_loss: 0.0472 - val_accuracy: 0.9824\n",
      "Epoch 118/150\n",
      "434/434 [==============================] - 7s 17ms/step - loss: 0.0308 - accuracy: 0.9894 - val_loss: 0.0483 - val_accuracy: 0.9822\n",
      "Epoch 119/150\n",
      "434/434 [==============================] - 7s 16ms/step - loss: 0.0302 - accuracy: 0.9890 - val_loss: 0.0378 - val_accuracy: 0.9855\n",
      "Epoch 120/150\n",
      "434/434 [==============================] - 7s 16ms/step - loss: 0.0324 - accuracy: 0.9887 - val_loss: 0.0439 - val_accuracy: 0.9850\n",
      "Epoch 121/150\n",
      "434/434 [==============================] - 7s 17ms/step - loss: 0.0305 - accuracy: 0.9889 - val_loss: 0.0397 - val_accuracy: 0.9874\n",
      "Epoch 122/150\n",
      "434/434 [==============================] - 7s 16ms/step - loss: 0.0321 - accuracy: 0.9886 - val_loss: 0.0525 - val_accuracy: 0.9818\n",
      "Epoch 123/150\n",
      "434/434 [==============================] - 7s 16ms/step - loss: 0.0317 - accuracy: 0.9891 - val_loss: 0.0450 - val_accuracy: 0.9835\n",
      "Epoch 124/150\n",
      "434/434 [==============================] - 7s 17ms/step - loss: 0.0308 - accuracy: 0.9883 - val_loss: 0.0450 - val_accuracy: 0.9824\n",
      "Epoch 125/150\n",
      "434/434 [==============================] - 7s 17ms/step - loss: 0.0304 - accuracy: 0.9888 - val_loss: 0.0421 - val_accuracy: 0.9855\n",
      "Epoch 126/150\n",
      "434/434 [==============================] - 7s 16ms/step - loss: 0.0294 - accuracy: 0.9900 - val_loss: 0.0534 - val_accuracy: 0.9816\n",
      "Epoch 127/150\n",
      "434/434 [==============================] - 7s 15ms/step - loss: 0.0282 - accuracy: 0.9897 - val_loss: 0.0459 - val_accuracy: 0.9822\n",
      "Epoch 128/150\n",
      "434/434 [==============================] - 7s 16ms/step - loss: 0.0311 - accuracy: 0.9875 - val_loss: 0.0453 - val_accuracy: 0.9831\n",
      "Epoch 129/150\n",
      "434/434 [==============================] - 7s 16ms/step - loss: 0.0311 - accuracy: 0.9886 - val_loss: 0.0460 - val_accuracy: 0.9839\n",
      "Epoch 130/150\n",
      "434/434 [==============================] - 7s 16ms/step - loss: 0.0283 - accuracy: 0.9888 - val_loss: 0.0497 - val_accuracy: 0.9811\n",
      "Epoch 131/150\n",
      "434/434 [==============================] - 7s 16ms/step - loss: 0.0281 - accuracy: 0.9894 - val_loss: 0.0434 - val_accuracy: 0.9844\n",
      "Epoch 132/150\n",
      "434/434 [==============================] - 7s 17ms/step - loss: 0.0290 - accuracy: 0.9898 - val_loss: 0.0357 - val_accuracy: 0.9865\n",
      "Epoch 133/150\n",
      "434/434 [==============================] - 7s 16ms/step - loss: 0.0262 - accuracy: 0.9898 - val_loss: 0.0451 - val_accuracy: 0.9846\n",
      "Epoch 134/150\n",
      "434/434 [==============================] - 7s 17ms/step - loss: 0.0272 - accuracy: 0.9896 - val_loss: 0.0475 - val_accuracy: 0.9818\n",
      "Epoch 135/150\n",
      "434/434 [==============================] - 7s 16ms/step - loss: 0.0281 - accuracy: 0.9894 - val_loss: 0.0370 - val_accuracy: 0.9861\n",
      "Epoch 136/150\n",
      "434/434 [==============================] - 7s 17ms/step - loss: 0.0282 - accuracy: 0.9885 - val_loss: 0.0482 - val_accuracy: 0.9820\n",
      "Epoch 137/150\n",
      "434/434 [==============================] - 7s 16ms/step - loss: 0.0262 - accuracy: 0.9904 - val_loss: 0.0417 - val_accuracy: 0.9844\n",
      "Epoch 138/150\n",
      "434/434 [==============================] - 7s 16ms/step - loss: 0.0253 - accuracy: 0.9899 - val_loss: 0.0456 - val_accuracy: 0.9826\n",
      "Epoch 139/150\n",
      "434/434 [==============================] - 7s 15ms/step - loss: 0.0266 - accuracy: 0.9898 - val_loss: 0.0420 - val_accuracy: 0.9839\n",
      "Epoch 140/150\n",
      "434/434 [==============================] - 7s 16ms/step - loss: 0.0253 - accuracy: 0.9903 - val_loss: 0.0406 - val_accuracy: 0.9855\n",
      "Epoch 141/150\n",
      "434/434 [==============================] - 7s 16ms/step - loss: 0.0262 - accuracy: 0.9903 - val_loss: 0.0426 - val_accuracy: 0.9850\n",
      "Epoch 142/150\n",
      "434/434 [==============================] - 7s 17ms/step - loss: 0.0252 - accuracy: 0.9903 - val_loss: 0.0412 - val_accuracy: 0.9833\n",
      "Epoch 143/150\n",
      "434/434 [==============================] - 7s 15ms/step - loss: 0.0260 - accuracy: 0.9896 - val_loss: 0.0472 - val_accuracy: 0.9822\n",
      "Epoch 144/150\n",
      "434/434 [==============================] - 7s 17ms/step - loss: 0.0255 - accuracy: 0.9906 - val_loss: 0.0374 - val_accuracy: 0.9865\n",
      "Epoch 145/150\n",
      "434/434 [==============================] - 7s 16ms/step - loss: 0.0266 - accuracy: 0.9901 - val_loss: 0.0420 - val_accuracy: 0.9846\n",
      "Epoch 146/150\n",
      "434/434 [==============================] - 7s 17ms/step - loss: 0.0262 - accuracy: 0.9901 - val_loss: 0.0351 - val_accuracy: 0.9863\n",
      "Epoch 147/150\n",
      "434/434 [==============================] - 7s 17ms/step - loss: 0.0248 - accuracy: 0.9904 - val_loss: 0.0387 - val_accuracy: 0.9859\n",
      "Epoch 148/150\n",
      "434/434 [==============================] - 8s 17ms/step - loss: 0.0243 - accuracy: 0.9911 - val_loss: 0.0337 - val_accuracy: 0.9870\n",
      "Epoch 149/150\n",
      "434/434 [==============================] - 7s 16ms/step - loss: 0.0233 - accuracy: 0.9909 - val_loss: 0.0377 - val_accuracy: 0.9852\n",
      "Epoch 150/150\n",
      "434/434 [==============================] - 7s 16ms/step - loss: 0.0268 - accuracy: 0.9900 - val_loss: 0.0444 - val_accuracy: 0.9820\n"
     ]
    }
   ],
   "source": [
    "#Train the model\n",
    "history = model.fit(train_data,\n",
    "                    epochs=150,\n",
    "                    validation_data=validation_data,\n",
    "                    callbacks=callbacks)"
   ]
  },
  {
   "cell_type": "code",
   "execution_count": 67,
   "id": "54e3f23c",
   "metadata": {
    "execution": {
     "iopub.execute_input": "2023-08-07T06:40:09.696116Z",
     "iopub.status.busy": "2023-08-07T06:40:09.695761Z",
     "iopub.status.idle": "2023-08-07T06:40:10.053573Z",
     "shell.execute_reply": "2023-08-07T06:40:10.052414Z"
    },
    "papermill": {
     "duration": 1.814547,
     "end_time": "2023-08-07T06:40:10.055946",
     "exception": false,
     "start_time": "2023-08-07T06:40:08.241399",
     "status": "completed"
    },
    "tags": []
   },
   "outputs": [
    {
     "data": {
      "text/plain": [
       "<matplotlib.legend.Legend at 0x7ca4e8d42560>"
      ]
     },
     "execution_count": 67,
     "metadata": {},
     "output_type": "execute_result"
    },
    {
     "data": {
      "image/png": "[encoded data removed]",
      "text/plain": [
       "<Figure size 640x480 with 1 Axes>"
      ]
     },
     "metadata": {},
     "output_type": "display_data"
    }
   ],
   "source": [
    "# Plotting the training and validation loss\n",
    "loss = history.history[\"loss\"]\n",
    "val_loss = history.history[\"val_loss\"]\n",
    "epochs = range(1, len(loss) + 1)\n",
    "plt.plot(epochs, loss, \"bo\", label=\"Training loss\")\n",
    "plt.plot(epochs, val_loss, \"b\", label=\"Validation loss\")\n",
    "plt.title(\"Training and validation loss\")\n",
    "plt.xlabel(\"Epochs\")\n",
    "plt.ylabel(\"Loss\")\n",
    "plt.legend()"
   ]
  },
  {
   "cell_type": "code",
   "execution_count": 68,
   "id": "46b76f4f",
   "metadata": {
    "execution": {
     "iopub.execute_input": "2023-08-07T06:40:12.999506Z",
     "iopub.status.busy": "2023-08-07T06:40:12.999115Z",
     "iopub.status.idle": "2023-08-07T06:40:13.367395Z",
     "shell.execute_reply": "2023-08-07T06:40:13.366427Z"
    },
    "papermill": {
     "duration": 1.847432,
     "end_time": "2023-08-07T06:40:13.369824",
     "exception": false,
     "start_time": "2023-08-07T06:40:11.522392",
     "status": "completed"
    },
    "tags": []
   },
   "outputs": [
    {
     "data": {
      "text/plain": [
       "<matplotlib.legend.Legend at 0x7ca4e8d83a00>"
      ]
     },
     "execution_count": 68,
     "metadata": {},
     "output_type": "execute_result"
    },
    {
     "data": {
      "image/png": "[encoded data removed]",
      "text/plain": [
       "<Figure size 640x480 with 1 Axes>"
      ]
     },
     "metadata": {},
     "output_type": "display_data"
    }
   ],
   "source": [
    "# Plotting the training and validation accuracy\n",
    "acc = history.history[\"accuracy\"]\n",
    "val_acc = history.history[\"val_accuracy\"]\n",
    "plt.plot(epochs, acc, \"bo\", label=\"Training accuracy\")\n",
    "plt.plot(epochs, val_acc, \"b\", label=\"Validation accuracy\")\n",
    "plt.title(\"Training and validation accuracy\")\n",
    "plt.xlabel(\"Epochs\")\n",
    "plt.ylabel(\"Accuracy\")\n",
    "plt.legend()"
   ]
  },
  {
   "cell_type": "code",
   "execution_count": 69,
   "id": "537700d3",
   "metadata": {
    "execution": {
     "iopub.execute_input": "2023-08-07T06:40:16.287194Z",
     "iopub.status.busy": "2023-08-07T06:40:16.286836Z",
     "iopub.status.idle": "2023-08-07T06:40:17.843757Z",
     "shell.execute_reply": "2023-08-07T06:40:17.842634Z"
    },
    "papermill": {
     "duration": 3.013079,
     "end_time": "2023-08-07T06:40:17.846560",
     "exception": false,
     "start_time": "2023-08-07T06:40:14.833481",
     "status": "completed"
    },
    "tags": []
   },
   "outputs": [
    {
     "name": "stdout",
     "output_type": "stream",
     "text": [
      "102/102 [==============================] - 1s 7ms/step\n"
     ]
    }
   ],
   "source": [
    "#Classify the tweets of test data\n",
    "predictions = model.predict(test_tf)"
   ]
  },
  {
   "cell_type": "code",
   "execution_count": 70,
   "id": "e4c9f742",
   "metadata": {
    "execution": {
     "iopub.execute_input": "2023-08-07T06:40:20.729723Z",
     "iopub.status.busy": "2023-08-07T06:40:20.729129Z",
     "iopub.status.idle": "2023-08-07T06:40:20.736783Z",
     "shell.execute_reply": "2023-08-07T06:40:20.735589Z"
    },
    "papermill": {
     "duration": 1.484136,
     "end_time": "2023-08-07T06:40:20.740351",
     "exception": false,
     "start_time": "2023-08-07T06:40:19.256215",
     "status": "completed"
    },
    "tags": []
   },
   "outputs": [
    {
     "data": {
      "text/plain": [
       "array([[0.9999268 ],\n",
       "       [0.9992913 ],\n",
       "       [0.99999833],\n",
       "       ...,\n",
       "       [0.9999993 ],\n",
       "       [0.99551183],\n",
       "       [0.9999987 ]], dtype=float32)"
      ]
     },
     "execution_count": 70,
     "metadata": {},
     "output_type": "execute_result"
    }
   ],
   "source": [
    "#Print the predictions\n",
    "predictions"
   ]
  },
  {
   "cell_type": "code",
   "execution_count": 71,
   "id": "2ea959b5",
   "metadata": {
    "execution": {
     "iopub.execute_input": "2023-08-07T06:40:23.794846Z",
     "iopub.status.busy": "2023-08-07T06:40:23.794481Z",
     "iopub.status.idle": "2023-08-07T06:40:23.811730Z",
     "shell.execute_reply": "2023-08-07T06:40:23.810674Z"
    },
    "papermill": {
     "duration": 1.514649,
     "end_time": "2023-08-07T06:40:23.813957",
     "exception": false,
     "start_time": "2023-08-07T06:40:22.299308",
     "status": "completed"
    },
    "tags": []
   },
   "outputs": [
    {
     "data": {
      "text/plain": [
       "[1, 1, 1, 1, 1, 1, 0, 0, 0, 0]"
      ]
     },
     "execution_count": 71,
     "metadata": {},
     "output_type": "execute_result"
    }
   ],
   "source": [
    "threshold = 0.5\n",
    "#Convert the float values to binary\n",
    "final_predictions = [1 if i > threshold else 0 for i in predictions]\n",
    "final_predictions[:10]"
   ]
  },
  {
   "cell_type": "code",
   "execution_count": 72,
   "id": "6a783e39",
   "metadata": {
    "execution": {
     "iopub.execute_input": "2023-08-07T06:40:27.177078Z",
     "iopub.status.busy": "2023-08-07T06:40:27.176703Z",
     "iopub.status.idle": "2023-08-07T06:40:27.191500Z",
     "shell.execute_reply": "2023-08-07T06:40:27.190454Z"
    },
    "papermill": {
     "duration": 1.490675,
     "end_time": "2023-08-07T06:40:27.193824",
     "exception": false,
     "start_time": "2023-08-07T06:40:25.703149",
     "status": "completed"
    },
    "tags": []
   },
   "outputs": [
    {
     "data": {
      "text/html": [
       "<div>\n",
       "<style scoped>\n",
       "    .dataframe tbody tr th:only-of-type {\n",
       "        vertical-align: middle;\n",
       "    }\n",
       "\n",
       "    .dataframe tbody tr th {\n",
       "        vertical-align: top;\n",
       "    }\n",
       "\n",
       "    .dataframe thead th {\n",
       "        text-align: right;\n",
       "    }\n",
       "</style>\n",
       "<table border=\"1\" class=\"dataframe\">\n",
       "  <thead>\n",
       "    <tr style=\"text-align: right;\">\n",
       "      <th></th>\n",
       "      <th>id</th>\n",
       "      <th>target</th>\n",
       "    </tr>\n",
       "  </thead>\n",
       "  <tbody>\n",
       "    <tr>\n",
       "      <th>0</th>\n",
       "      <td>0</td>\n",
       "      <td>0</td>\n",
       "    </tr>\n",
       "    <tr>\n",
       "      <th>1</th>\n",
       "      <td>2</td>\n",
       "      <td>0</td>\n",
       "    </tr>\n",
       "    <tr>\n",
       "      <th>2</th>\n",
       "      <td>3</td>\n",
       "      <td>0</td>\n",
       "    </tr>\n",
       "    <tr>\n",
       "      <th>3</th>\n",
       "      <td>9</td>\n",
       "      <td>0</td>\n",
       "    </tr>\n",
       "    <tr>\n",
       "      <th>4</th>\n",
       "      <td>11</td>\n",
       "      <td>0</td>\n",
       "    </tr>\n",
       "    <tr>\n",
       "      <th>...</th>\n",
       "      <td>...</td>\n",
       "      <td>...</td>\n",
       "    </tr>\n",
       "    <tr>\n",
       "      <th>3258</th>\n",
       "      <td>10861</td>\n",
       "      <td>0</td>\n",
       "    </tr>\n",
       "    <tr>\n",
       "      <th>3259</th>\n",
       "      <td>10865</td>\n",
       "      <td>0</td>\n",
       "    </tr>\n",
       "    <tr>\n",
       "      <th>3260</th>\n",
       "      <td>10868</td>\n",
       "      <td>0</td>\n",
       "    </tr>\n",
       "    <tr>\n",
       "      <th>3261</th>\n",
       "      <td>10874</td>\n",
       "      <td>0</td>\n",
       "    </tr>\n",
       "    <tr>\n",
       "      <th>3262</th>\n",
       "      <td>10875</td>\n",
       "      <td>0</td>\n",
       "    </tr>\n",
       "  </tbody>\n",
       "</table>\n",
       "<p>3263 rows × 2 columns</p>\n",
       "</div>"
      ],
      "text/plain": [
       "         id  target\n",
       "0         0       0\n",
       "1         2       0\n",
       "2         3       0\n",
       "3         9       0\n",
       "4        11       0\n",
       "...     ...     ...\n",
       "3258  10861       0\n",
       "3259  10865       0\n",
       "3260  10868       0\n",
       "3261  10874       0\n",
       "3262  10875       0\n",
       "\n",
       "[3263 rows x 2 columns]"
      ]
     },
     "execution_count": 72,
     "metadata": {},
     "output_type": "execute_result"
    }
   ],
   "source": [
    "sample"
   ]
  },
  {
   "cell_type": "code",
   "execution_count": 73,
   "id": "fb1edb93",
   "metadata": {
    "execution": {
     "iopub.execute_input": "2023-08-07T06:40:30.071295Z",
     "iopub.status.busy": "2023-08-07T06:40:30.070283Z",
     "iopub.status.idle": "2023-08-07T06:40:30.090465Z",
     "shell.execute_reply": "2023-08-07T06:40:30.089413Z"
    },
    "papermill": {
     "duration": 1.475639,
     "end_time": "2023-08-07T06:40:30.092730",
     "exception": false,
     "start_time": "2023-08-07T06:40:28.617091",
     "status": "completed"
    },
    "tags": []
   },
   "outputs": [
    {
     "data": {
      "text/html": [
       "<div>\n",
       "<style scoped>\n",
       "    .dataframe tbody tr th:only-of-type {\n",
       "        vertical-align: middle;\n",
       "    }\n",
       "\n",
       "    .dataframe tbody tr th {\n",
       "        vertical-align: top;\n",
       "    }\n",
       "\n",
       "    .dataframe thead th {\n",
       "        text-align: right;\n",
       "    }\n",
       "</style>\n",
       "<table border=\"1\" class=\"dataframe\">\n",
       "  <thead>\n",
       "    <tr style=\"text-align: right;\">\n",
       "      <th></th>\n",
       "      <th>id</th>\n",
       "      <th>target</th>\n",
       "    </tr>\n",
       "  </thead>\n",
       "  <tbody>\n",
       "    <tr>\n",
       "      <th>0</th>\n",
       "      <td>0</td>\n",
       "      <td>1</td>\n",
       "    </tr>\n",
       "    <tr>\n",
       "      <th>1</th>\n",
       "      <td>2</td>\n",
       "      <td>1</td>\n",
       "    </tr>\n",
       "    <tr>\n",
       "      <th>2</th>\n",
       "      <td>3</td>\n",
       "      <td>1</td>\n",
       "    </tr>\n",
       "    <tr>\n",
       "      <th>3</th>\n",
       "      <td>9</td>\n",
       "      <td>1</td>\n",
       "    </tr>\n",
       "    <tr>\n",
       "      <th>4</th>\n",
       "      <td>11</td>\n",
       "      <td>1</td>\n",
       "    </tr>\n",
       "    <tr>\n",
       "      <th>...</th>\n",
       "      <td>...</td>\n",
       "      <td>...</td>\n",
       "    </tr>\n",
       "    <tr>\n",
       "      <th>3258</th>\n",
       "      <td>10861</td>\n",
       "      <td>0</td>\n",
       "    </tr>\n",
       "    <tr>\n",
       "      <th>3259</th>\n",
       "      <td>10865</td>\n",
       "      <td>1</td>\n",
       "    </tr>\n",
       "    <tr>\n",
       "      <th>3260</th>\n",
       "      <td>10868</td>\n",
       "      <td>1</td>\n",
       "    </tr>\n",
       "    <tr>\n",
       "      <th>3261</th>\n",
       "      <td>10874</td>\n",
       "      <td>1</td>\n",
       "    </tr>\n",
       "    <tr>\n",
       "      <th>3262</th>\n",
       "      <td>10875</td>\n",
       "      <td>1</td>\n",
       "    </tr>\n",
       "  </tbody>\n",
       "</table>\n",
       "<p>3263 rows × 2 columns</p>\n",
       "</div>"
      ],
      "text/plain": [
       "         id  target\n",
       "0         0       1\n",
       "1         2       1\n",
       "2         3       1\n",
       "3         9       1\n",
       "4        11       1\n",
       "...     ...     ...\n",
       "3258  10861       0\n",
       "3259  10865       1\n",
       "3260  10868       1\n",
       "3261  10874       1\n",
       "3262  10875       1\n",
       "\n",
       "[3263 rows x 2 columns]"
      ]
     },
     "execution_count": 73,
     "metadata": {},
     "output_type": "execute_result"
    }
   ],
   "source": [
    "submissions = pd.DataFrame(columns=[\"id\",\"target\"])\n",
    "submissions[\"target\"] = final_predictions\n",
    "submissions[\"id\"] = test.id\n",
    "submissions"
   ]
  },
  {
   "cell_type": "code",
   "execution_count": 74,
   "id": "7ce8a519",
   "metadata": {
    "execution": {
     "iopub.execute_input": "2023-08-07T06:40:33.067817Z",
     "iopub.status.busy": "2023-08-07T06:40:33.067443Z",
     "iopub.status.idle": "2023-08-07T06:40:33.086289Z",
     "shell.execute_reply": "2023-08-07T06:40:33.085304Z"
    },
    "papermill": {
     "duration": 1.483543,
     "end_time": "2023-08-07T06:40:33.088679",
     "exception": false,
     "start_time": "2023-08-07T06:40:31.605136",
     "status": "completed"
    },
    "tags": []
   },
   "outputs": [],
   "source": [
    "#Save the file as a csv file\n",
    "submissions.to_csv(\"submission.csv\", index=False)"
   ]
  },
  {
   "cell_type": "markdown",
   "id": "0e19d46c",
   "metadata": {
    "papermill": {
     "duration": 1.472978,
     "end_time": "2023-08-07T06:40:36.004141",
     "exception": false,
     "start_time": "2023-08-07T06:40:34.531163",
     "status": "completed"
    },
    "tags": []
   },
   "source": [
    "**Hitherto, the task is done. The remaining code cells are for saving the necessary metadata for putting model in production**"
   ]
  },
  {
   "cell_type": "code",
   "execution_count": 75,
   "id": "5022ea67",
   "metadata": {
    "execution": {
     "iopub.execute_input": "2023-08-07T06:40:38.882747Z",
     "iopub.status.busy": "2023-08-07T06:40:38.882273Z",
     "iopub.status.idle": "2023-08-07T06:40:38.890585Z",
     "shell.execute_reply": "2023-08-07T06:40:38.889618Z"
    },
    "papermill": {
     "duration": 1.419363,
     "end_time": "2023-08-07T06:40:38.893455",
     "exception": false,
     "start_time": "2023-08-07T06:40:37.474092",
     "status": "completed"
    },
    "tags": []
   },
   "outputs": [],
   "source": [
    "#Save the vocabulary\n",
    "np.save(\"/kaggle/working/vocab\",vocab)"
   ]
  },
  {
   "cell_type": "code",
   "execution_count": 76,
   "id": "24ef045f",
   "metadata": {
    "execution": {
     "iopub.execute_input": "2023-08-07T06:40:41.756617Z",
     "iopub.status.busy": "2023-08-07T06:40:41.756232Z",
     "iopub.status.idle": "2023-08-07T06:40:41.763107Z",
     "shell.execute_reply": "2023-08-07T06:40:41.762163Z"
    },
    "papermill": {
     "duration": 1.409547,
     "end_time": "2023-08-07T06:40:41.765325",
     "exception": false,
     "start_time": "2023-08-07T06:40:40.355778",
     "status": "completed"
    },
    "tags": []
   },
   "outputs": [
    {
     "data": {
      "text/plain": [
       "\"\\nModel file has already been saved, so, we don't need to save that again. \\nBut if you made some changes after training, you can un-comment the following\\nline to save the model\\n\""
      ]
     },
     "execution_count": 76,
     "metadata": {},
     "output_type": "execute_result"
    }
   ],
   "source": [
    "\"\"\"\n",
    "Model file has already been saved, so, we don't need to save that again. \n",
    "But if you made some changes after training, you can un-comment the following\n",
    "line to save the model\n",
    "\"\"\"\n",
    "\n",
    "#tf.keras.saving.save_model(model, filepath=\"/kaggle/working/updated_model.keras\")"
   ]
  }
 ],
 "metadata": {
  "kernelspec": {
   "display_name": "Python 3",
   "language": "python",
   "name": "python3"
  },
  "language_info": {
   "codemirror_mode": {
    "name": "ipython",
    "version": 3
   },
   "file_extension": ".py",
   "mimetype": "text/x-python",
   "name": "python",
   "nbconvert_exporter": "python",
   "pygments_lexer": "ipython3",
   "version": "3.10.12"
  },
  "papermill": {
   "default_parameters": {},
   "duration": 1436.52055,
   "end_time": "2023-08-07T06:40:46.289029",
   "environment_variables": {},
   "exception": null,
   "input_path": "__notebook__.ipynb",
   "output_path": "__notebook__.ipynb",
   "parameters": {},
   "start_time": "2023-08-07T06:16:49.768479",
   "version": "2.4.0"
  }
 },
 "nbformat": 4,
 "nbformat_minor": 5
}
