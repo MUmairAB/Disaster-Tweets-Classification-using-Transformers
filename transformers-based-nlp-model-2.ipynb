{
 "cells": [
  {
   "cell_type": "code",
   "execution_count": 1,
   "id": "92cd4fee",
   "metadata": {
    "_cell_guid": "b1076dfc-b9ad-4769-8c92-a6c4dae69d19",
    "_uuid": "8f2839f25d086af736a60e9eeb907d3b93b6e0e5",
    "execution": {
     "iopub.execute_input": "2023-07-14T10:40:55.655754Z",
     "iopub.status.busy": "2023-07-14T10:40:55.655344Z",
     "iopub.status.idle": "2023-07-14T10:40:55.677915Z",
     "shell.execute_reply": "2023-07-14T10:40:55.676948Z"
    },
    "papermill": {
     "duration": 0.048403,
     "end_time": "2023-07-14T10:40:55.681024",
     "exception": false,
     "start_time": "2023-07-14T10:40:55.632621",
     "status": "completed"
    },
    "tags": []
   },
   "outputs": [
    {
     "name": "stdout",
     "output_type": "stream",
     "text": [
      "/kaggle/input/disasters-on-social-media/socialmedia-disaster-tweets-DFE.csv\n",
      "/kaggle/input/nlp-getting-started/sample_submission.csv\n",
      "/kaggle/input/nlp-getting-started/train.csv\n",
      "/kaggle/input/nlp-getting-started/test.csv\n"
     ]
    }
   ],
   "source": [
    "# This Python 3 environment comes with many helpful analytics libraries installed\n",
    "# It is defined by the kaggle/python Docker image: https://github.com/kaggle/docker-python\n",
    "# For example, here's several helpful packages to load\n",
    "\n",
    "import numpy as np # linear algebra\n",
    "import pandas as pd # data processing, CSV file I/O (e.g. pd.read_csv)\n",
    "\n",
    "# Input data files are available in the read-only \"../input/\" directory\n",
    "# For example, running this (by clicking run or pressing Shift+Enter) will list all files under the input directory\n",
    "file_names = []\n",
    "import os\n",
    "for dirname, _, filenames in os.walk('/kaggle/input'):\n",
    "    for filename in filenames:\n",
    "        print(os.path.join(dirname, filename))\n",
    "        file_names.append(os.path.join(dirname, filename))\n",
    "\n",
    "# You can write up to 20GB to the current directory (/kaggle/working/) that gets preserved as output when you create a version using \"Save & Run All\" \n",
    "# You can also write temporary files to /kaggle/temp/, but they won't be saved outside of the current session"
   ]
  },
  {
   "cell_type": "code",
   "execution_count": 2,
   "id": "c82cdcb7",
   "metadata": {
    "execution": {
     "iopub.execute_input": "2023-07-14T10:40:55.722565Z",
     "iopub.status.busy": "2023-07-14T10:40:55.722299Z",
     "iopub.status.idle": "2023-07-14T10:41:12.969184Z",
     "shell.execute_reply": "2023-07-14T10:41:12.968154Z"
    },
    "papermill": {
     "duration": 17.270398,
     "end_time": "2023-07-14T10:41:12.972013",
     "exception": false,
     "start_time": "2023-07-14T10:40:55.701615",
     "status": "completed"
    },
    "tags": []
   },
   "outputs": [
    {
     "name": "stderr",
     "output_type": "stream",
     "text": [
      "/opt/conda/lib/python3.10/site-packages/scipy/__init__.py:146: UserWarning: A NumPy version >=1.16.5 and <1.23.0 is required for this version of SciPy (detected version 1.23.5\n",
      "  warnings.warn(f\"A NumPy version >={np_minversion} and <{np_maxversion}\"\n",
      "/opt/conda/lib/python3.10/site-packages/tensorflow_io/python/ops/__init__.py:98: UserWarning: unable to load libtensorflow_io_plugins.so: unable to open file: libtensorflow_io_plugins.so, from paths: ['/opt/conda/lib/python3.10/site-packages/tensorflow_io/python/ops/libtensorflow_io_plugins.so']\n",
      "caused by: ['/opt/conda/lib/python3.10/site-packages/tensorflow_io/python/ops/libtensorflow_io_plugins.so: undefined symbol: _ZN3tsl6StatusC1EN10tensorflow5error4CodeESt17basic_string_viewIcSt11char_traitsIcEENS_14SourceLocationE']\n",
      "  warnings.warn(f\"unable to load libtensorflow_io_plugins.so: {e}\")\n",
      "/opt/conda/lib/python3.10/site-packages/tensorflow_io/python/ops/__init__.py:104: UserWarning: file system plugins are not loaded: unable to open file: libtensorflow_io.so, from paths: ['/opt/conda/lib/python3.10/site-packages/tensorflow_io/python/ops/libtensorflow_io.so']\n",
      "caused by: ['/opt/conda/lib/python3.10/site-packages/tensorflow_io/python/ops/libtensorflow_io.so: undefined symbol: _ZTVN10tensorflow13GcsFileSystemE']\n",
      "  warnings.warn(f\"file system plugins are not loaded: {e}\")\n"
     ]
    }
   ],
   "source": [
    "#Import the necessary libraries\n",
    "import tensorflow as tf\n",
    "from tensorflow import keras\n",
    "from tensorflow.keras import layers\n",
    "\n",
    "import matplotlib.pyplot as plt\n",
    "import seaborn as sns\n",
    "\n",
    "from sklearn.utils import shuffle"
   ]
  },
  {
   "cell_type": "code",
   "execution_count": 3,
   "id": "29a16687",
   "metadata": {
    "execution": {
     "iopub.execute_input": "2023-07-14T10:41:13.015556Z",
     "iopub.status.busy": "2023-07-14T10:41:13.014956Z",
     "iopub.status.idle": "2023-07-14T10:41:13.019397Z",
     "shell.execute_reply": "2023-07-14T10:41:13.018377Z"
    },
    "papermill": {
     "duration": 0.028109,
     "end_time": "2023-07-14T10:41:13.021799",
     "exception": false,
     "start_time": "2023-07-14T10:41:12.993690",
     "status": "completed"
    },
    "tags": []
   },
   "outputs": [],
   "source": [
    "#Set the seed value\n",
    "SEED = 4243"
   ]
  },
  {
   "cell_type": "code",
   "execution_count": 4,
   "id": "2d6baf37",
   "metadata": {
    "execution": {
     "iopub.execute_input": "2023-07-14T10:41:13.062705Z",
     "iopub.status.busy": "2023-07-14T10:41:13.062403Z",
     "iopub.status.idle": "2023-07-14T10:41:13.095428Z",
     "shell.execute_reply": "2023-07-14T10:41:13.094547Z"
    },
    "papermill": {
     "duration": 0.055919,
     "end_time": "2023-07-14T10:41:13.097697",
     "exception": false,
     "start_time": "2023-07-14T10:41:13.041778",
     "status": "completed"
    },
    "tags": []
   },
   "outputs": [
    {
     "data": {
      "text/html": [
       "<div>\n",
       "<style scoped>\n",
       "    .dataframe tbody tr th:only-of-type {\n",
       "        vertical-align: middle;\n",
       "    }\n",
       "\n",
       "    .dataframe tbody tr th {\n",
       "        vertical-align: top;\n",
       "    }\n",
       "\n",
       "    .dataframe thead th {\n",
       "        text-align: right;\n",
       "    }\n",
       "</style>\n",
       "<table border=\"1\" class=\"dataframe\">\n",
       "  <thead>\n",
       "    <tr style=\"text-align: right;\">\n",
       "      <th></th>\n",
       "      <th>id</th>\n",
       "      <th>target</th>\n",
       "    </tr>\n",
       "  </thead>\n",
       "  <tbody>\n",
       "    <tr>\n",
       "      <th>0</th>\n",
       "      <td>0</td>\n",
       "      <td>0</td>\n",
       "    </tr>\n",
       "    <tr>\n",
       "      <th>1</th>\n",
       "      <td>2</td>\n",
       "      <td>0</td>\n",
       "    </tr>\n",
       "    <tr>\n",
       "      <th>2</th>\n",
       "      <td>3</td>\n",
       "      <td>0</td>\n",
       "    </tr>\n",
       "    <tr>\n",
       "      <th>3</th>\n",
       "      <td>9</td>\n",
       "      <td>0</td>\n",
       "    </tr>\n",
       "    <tr>\n",
       "      <th>4</th>\n",
       "      <td>11</td>\n",
       "      <td>0</td>\n",
       "    </tr>\n",
       "  </tbody>\n",
       "</table>\n",
       "</div>"
      ],
      "text/plain": [
       "   id  target\n",
       "0   0       0\n",
       "1   2       0\n",
       "2   3       0\n",
       "3   9       0\n",
       "4  11       0"
      ]
     },
     "execution_count": 4,
     "metadata": {},
     "output_type": "execute_result"
    }
   ],
   "source": [
    "#Read the sample file\n",
    "sample = pd.read_csv(file_names[1])\n",
    "sample.head()"
   ]
  },
  {
   "cell_type": "code",
   "execution_count": 5,
   "id": "0e3a45e8",
   "metadata": {
    "execution": {
     "iopub.execute_input": "2023-07-14T10:41:13.139841Z",
     "iopub.status.busy": "2023-07-14T10:41:13.138972Z",
     "iopub.status.idle": "2023-07-14T10:41:13.205073Z",
     "shell.execute_reply": "2023-07-14T10:41:13.203957Z"
    },
    "papermill": {
     "duration": 0.090037,
     "end_time": "2023-07-14T10:41:13.208021",
     "exception": false,
     "start_time": "2023-07-14T10:41:13.117984",
     "status": "completed"
    },
    "tags": []
   },
   "outputs": [
    {
     "data": {
      "text/html": [
       "<div>\n",
       "<style scoped>\n",
       "    .dataframe tbody tr th:only-of-type {\n",
       "        vertical-align: middle;\n",
       "    }\n",
       "\n",
       "    .dataframe tbody tr th {\n",
       "        vertical-align: top;\n",
       "    }\n",
       "\n",
       "    .dataframe thead th {\n",
       "        text-align: right;\n",
       "    }\n",
       "</style>\n",
       "<table border=\"1\" class=\"dataframe\">\n",
       "  <thead>\n",
       "    <tr style=\"text-align: right;\">\n",
       "      <th></th>\n",
       "      <th>id</th>\n",
       "      <th>keyword</th>\n",
       "      <th>location</th>\n",
       "      <th>text</th>\n",
       "      <th>target</th>\n",
       "    </tr>\n",
       "  </thead>\n",
       "  <tbody>\n",
       "    <tr>\n",
       "      <th>0</th>\n",
       "      <td>1</td>\n",
       "      <td>NaN</td>\n",
       "      <td>NaN</td>\n",
       "      <td>Our Deeds are the Reason of this #earthquake M...</td>\n",
       "      <td>1</td>\n",
       "    </tr>\n",
       "    <tr>\n",
       "      <th>1</th>\n",
       "      <td>4</td>\n",
       "      <td>NaN</td>\n",
       "      <td>NaN</td>\n",
       "      <td>Forest fire near La Ronge Sask. Canada</td>\n",
       "      <td>1</td>\n",
       "    </tr>\n",
       "    <tr>\n",
       "      <th>2</th>\n",
       "      <td>5</td>\n",
       "      <td>NaN</td>\n",
       "      <td>NaN</td>\n",
       "      <td>All residents asked to 'shelter in place' are ...</td>\n",
       "      <td>1</td>\n",
       "    </tr>\n",
       "    <tr>\n",
       "      <th>3</th>\n",
       "      <td>6</td>\n",
       "      <td>NaN</td>\n",
       "      <td>NaN</td>\n",
       "      <td>13,000 people receive #wildfires evacuation or...</td>\n",
       "      <td>1</td>\n",
       "    </tr>\n",
       "    <tr>\n",
       "      <th>4</th>\n",
       "      <td>7</td>\n",
       "      <td>NaN</td>\n",
       "      <td>NaN</td>\n",
       "      <td>Just got sent this photo from Ruby #Alaska as ...</td>\n",
       "      <td>1</td>\n",
       "    </tr>\n",
       "  </tbody>\n",
       "</table>\n",
       "</div>"
      ],
      "text/plain": [
       "   id keyword location                                               text  \\\n",
       "0   1     NaN      NaN  Our Deeds are the Reason of this #earthquake M...   \n",
       "1   4     NaN      NaN             Forest fire near La Ronge Sask. Canada   \n",
       "2   5     NaN      NaN  All residents asked to 'shelter in place' are ...   \n",
       "3   6     NaN      NaN  13,000 people receive #wildfires evacuation or...   \n",
       "4   7     NaN      NaN  Just got sent this photo from Ruby #Alaska as ...   \n",
       "\n",
       "   target  \n",
       "0       1  \n",
       "1       1  \n",
       "2       1  \n",
       "3       1  \n",
       "4       1  "
      ]
     },
     "execution_count": 5,
     "metadata": {},
     "output_type": "execute_result"
    }
   ],
   "source": [
    "#Read the training data\n",
    "train = pd.read_csv(file_names[2])\n",
    "train.head()"
   ]
  },
  {
   "cell_type": "code",
   "execution_count": 6,
   "id": "49c403ae",
   "metadata": {
    "execution": {
     "iopub.execute_input": "2023-07-14T10:41:13.251650Z",
     "iopub.status.busy": "2023-07-14T10:41:13.250758Z",
     "iopub.status.idle": "2023-07-14T10:41:13.282637Z",
     "shell.execute_reply": "2023-07-14T10:41:13.281594Z"
    },
    "papermill": {
     "duration": 0.055244,
     "end_time": "2023-07-14T10:41:13.284743",
     "exception": false,
     "start_time": "2023-07-14T10:41:13.229499",
     "status": "completed"
    },
    "tags": []
   },
   "outputs": [
    {
     "data": {
      "text/html": [
       "<div>\n",
       "<style scoped>\n",
       "    .dataframe tbody tr th:only-of-type {\n",
       "        vertical-align: middle;\n",
       "    }\n",
       "\n",
       "    .dataframe tbody tr th {\n",
       "        vertical-align: top;\n",
       "    }\n",
       "\n",
       "    .dataframe thead th {\n",
       "        text-align: right;\n",
       "    }\n",
       "</style>\n",
       "<table border=\"1\" class=\"dataframe\">\n",
       "  <thead>\n",
       "    <tr style=\"text-align: right;\">\n",
       "      <th></th>\n",
       "      <th>id</th>\n",
       "      <th>keyword</th>\n",
       "      <th>location</th>\n",
       "      <th>text</th>\n",
       "    </tr>\n",
       "  </thead>\n",
       "  <tbody>\n",
       "    <tr>\n",
       "      <th>0</th>\n",
       "      <td>0</td>\n",
       "      <td>NaN</td>\n",
       "      <td>NaN</td>\n",
       "      <td>Just happened a terrible car crash</td>\n",
       "    </tr>\n",
       "    <tr>\n",
       "      <th>1</th>\n",
       "      <td>2</td>\n",
       "      <td>NaN</td>\n",
       "      <td>NaN</td>\n",
       "      <td>Heard about #earthquake is different cities, s...</td>\n",
       "    </tr>\n",
       "    <tr>\n",
       "      <th>2</th>\n",
       "      <td>3</td>\n",
       "      <td>NaN</td>\n",
       "      <td>NaN</td>\n",
       "      <td>there is a forest fire at spot pond, geese are...</td>\n",
       "    </tr>\n",
       "    <tr>\n",
       "      <th>3</th>\n",
       "      <td>9</td>\n",
       "      <td>NaN</td>\n",
       "      <td>NaN</td>\n",
       "      <td>Apocalypse lighting. #Spokane #wildfires</td>\n",
       "    </tr>\n",
       "    <tr>\n",
       "      <th>4</th>\n",
       "      <td>11</td>\n",
       "      <td>NaN</td>\n",
       "      <td>NaN</td>\n",
       "      <td>Typhoon Soudelor kills 28 in China and Taiwan</td>\n",
       "    </tr>\n",
       "  </tbody>\n",
       "</table>\n",
       "</div>"
      ],
      "text/plain": [
       "   id keyword location                                               text\n",
       "0   0     NaN      NaN                 Just happened a terrible car crash\n",
       "1   2     NaN      NaN  Heard about #earthquake is different cities, s...\n",
       "2   3     NaN      NaN  there is a forest fire at spot pond, geese are...\n",
       "3   9     NaN      NaN           Apocalypse lighting. #Spokane #wildfires\n",
       "4  11     NaN      NaN      Typhoon Soudelor kills 28 in China and Taiwan"
      ]
     },
     "execution_count": 6,
     "metadata": {},
     "output_type": "execute_result"
    }
   ],
   "source": [
    "#Read the Disaster on Socila Media dataset\n",
    "test = pd.read_csv(file_names[3])\n",
    "test.head()"
   ]
  },
  {
   "cell_type": "code",
   "execution_count": 7,
   "id": "f4720d2a",
   "metadata": {
    "execution": {
     "iopub.execute_input": "2023-07-14T10:41:13.330159Z",
     "iopub.status.busy": "2023-07-14T10:41:13.329477Z",
     "iopub.status.idle": "2023-07-14T10:41:13.426560Z",
     "shell.execute_reply": "2023-07-14T10:41:13.425590Z"
    },
    "papermill": {
     "duration": 0.122081,
     "end_time": "2023-07-14T10:41:13.428956",
     "exception": false,
     "start_time": "2023-07-14T10:41:13.306875",
     "status": "completed"
    },
    "tags": []
   },
   "outputs": [
    {
     "data": {
      "text/html": [
       "<div>\n",
       "<style scoped>\n",
       "    .dataframe tbody tr th:only-of-type {\n",
       "        vertical-align: middle;\n",
       "    }\n",
       "\n",
       "    .dataframe tbody tr th {\n",
       "        vertical-align: top;\n",
       "    }\n",
       "\n",
       "    .dataframe thead th {\n",
       "        text-align: right;\n",
       "    }\n",
       "</style>\n",
       "<table border=\"1\" class=\"dataframe\">\n",
       "  <thead>\n",
       "    <tr style=\"text-align: right;\">\n",
       "      <th></th>\n",
       "      <th>_unit_id</th>\n",
       "      <th>_golden</th>\n",
       "      <th>_unit_state</th>\n",
       "      <th>_trusted_judgments</th>\n",
       "      <th>_last_judgment_at</th>\n",
       "      <th>choose_one</th>\n",
       "      <th>choose_one:confidence</th>\n",
       "      <th>choose_one_gold</th>\n",
       "      <th>keyword</th>\n",
       "      <th>location</th>\n",
       "      <th>text</th>\n",
       "      <th>tweetid</th>\n",
       "      <th>userid</th>\n",
       "    </tr>\n",
       "  </thead>\n",
       "  <tbody>\n",
       "    <tr>\n",
       "      <th>0</th>\n",
       "      <td>778243823</td>\n",
       "      <td>True</td>\n",
       "      <td>golden</td>\n",
       "      <td>156</td>\n",
       "      <td>NaN</td>\n",
       "      <td>Relevant</td>\n",
       "      <td>1.0000</td>\n",
       "      <td>Relevant</td>\n",
       "      <td>NaN</td>\n",
       "      <td>NaN</td>\n",
       "      <td>Just happened a terrible car crash</td>\n",
       "      <td>1.0</td>\n",
       "      <td>NaN</td>\n",
       "    </tr>\n",
       "    <tr>\n",
       "      <th>1</th>\n",
       "      <td>778243824</td>\n",
       "      <td>True</td>\n",
       "      <td>golden</td>\n",
       "      <td>152</td>\n",
       "      <td>NaN</td>\n",
       "      <td>Relevant</td>\n",
       "      <td>1.0000</td>\n",
       "      <td>Relevant</td>\n",
       "      <td>NaN</td>\n",
       "      <td>NaN</td>\n",
       "      <td>Our Deeds are the Reason of this #earthquake M...</td>\n",
       "      <td>13.0</td>\n",
       "      <td>NaN</td>\n",
       "    </tr>\n",
       "    <tr>\n",
       "      <th>2</th>\n",
       "      <td>778243825</td>\n",
       "      <td>True</td>\n",
       "      <td>golden</td>\n",
       "      <td>137</td>\n",
       "      <td>NaN</td>\n",
       "      <td>Relevant</td>\n",
       "      <td>1.0000</td>\n",
       "      <td>Relevant</td>\n",
       "      <td>NaN</td>\n",
       "      <td>NaN</td>\n",
       "      <td>Heard about #earthquake is different cities, s...</td>\n",
       "      <td>14.0</td>\n",
       "      <td>NaN</td>\n",
       "    </tr>\n",
       "    <tr>\n",
       "      <th>3</th>\n",
       "      <td>778243826</td>\n",
       "      <td>True</td>\n",
       "      <td>golden</td>\n",
       "      <td>136</td>\n",
       "      <td>NaN</td>\n",
       "      <td>Relevant</td>\n",
       "      <td>0.9603</td>\n",
       "      <td>Relevant</td>\n",
       "      <td>NaN</td>\n",
       "      <td>NaN</td>\n",
       "      <td>there is a forest fire at spot pond, geese are...</td>\n",
       "      <td>15.0</td>\n",
       "      <td>NaN</td>\n",
       "    </tr>\n",
       "    <tr>\n",
       "      <th>4</th>\n",
       "      <td>778243827</td>\n",
       "      <td>True</td>\n",
       "      <td>golden</td>\n",
       "      <td>138</td>\n",
       "      <td>NaN</td>\n",
       "      <td>Relevant</td>\n",
       "      <td>1.0000</td>\n",
       "      <td>Relevant</td>\n",
       "      <td>NaN</td>\n",
       "      <td>NaN</td>\n",
       "      <td>Forest fire near La Ronge Sask. Canada</td>\n",
       "      <td>16.0</td>\n",
       "      <td>NaN</td>\n",
       "    </tr>\n",
       "  </tbody>\n",
       "</table>\n",
       "</div>"
      ],
      "text/plain": [
       "    _unit_id  _golden _unit_state  _trusted_judgments _last_judgment_at  \\\n",
       "0  778243823     True      golden                 156               NaN   \n",
       "1  778243824     True      golden                 152               NaN   \n",
       "2  778243825     True      golden                 137               NaN   \n",
       "3  778243826     True      golden                 136               NaN   \n",
       "4  778243827     True      golden                 138               NaN   \n",
       "\n",
       "  choose_one  choose_one:confidence choose_one_gold keyword location  \\\n",
       "0   Relevant                 1.0000        Relevant     NaN      NaN   \n",
       "1   Relevant                 1.0000        Relevant     NaN      NaN   \n",
       "2   Relevant                 1.0000        Relevant     NaN      NaN   \n",
       "3   Relevant                 0.9603        Relevant     NaN      NaN   \n",
       "4   Relevant                 1.0000        Relevant     NaN      NaN   \n",
       "\n",
       "                                                text  tweetid  userid  \n",
       "0                 Just happened a terrible car crash      1.0     NaN  \n",
       "1  Our Deeds are the Reason of this #earthquake M...     13.0     NaN  \n",
       "2  Heard about #earthquake is different cities, s...     14.0     NaN  \n",
       "3  there is a forest fire at spot pond, geese are...     15.0     NaN  \n",
       "4             Forest fire near La Ronge Sask. Canada     16.0     NaN  "
      ]
     },
     "execution_count": 7,
     "metadata": {},
     "output_type": "execute_result"
    }
   ],
   "source": [
    "train2 = pd.read_csv(file_names[0])\n",
    "train2.head()"
   ]
  },
  {
   "cell_type": "code",
   "execution_count": 8,
   "id": "7173c1d4",
   "metadata": {
    "execution": {
     "iopub.execute_input": "2023-07-14T10:41:13.472835Z",
     "iopub.status.busy": "2023-07-14T10:41:13.471930Z",
     "iopub.status.idle": "2023-07-14T10:41:13.487402Z",
     "shell.execute_reply": "2023-07-14T10:41:13.486339Z"
    },
    "papermill": {
     "duration": 0.039974,
     "end_time": "2023-07-14T10:41:13.489903",
     "exception": false,
     "start_time": "2023-07-14T10:41:13.449929",
     "status": "completed"
    },
    "tags": []
   },
   "outputs": [
    {
     "data": {
      "text/html": [
       "<div>\n",
       "<style scoped>\n",
       "    .dataframe tbody tr th:only-of-type {\n",
       "        vertical-align: middle;\n",
       "    }\n",
       "\n",
       "    .dataframe tbody tr th {\n",
       "        vertical-align: top;\n",
       "    }\n",
       "\n",
       "    .dataframe thead th {\n",
       "        text-align: right;\n",
       "    }\n",
       "</style>\n",
       "<table border=\"1\" class=\"dataframe\">\n",
       "  <thead>\n",
       "    <tr style=\"text-align: right;\">\n",
       "      <th></th>\n",
       "      <th>_unit_id</th>\n",
       "      <th>_golden</th>\n",
       "      <th>_unit_state</th>\n",
       "      <th>_trusted_judgments</th>\n",
       "      <th>_last_judgment_at</th>\n",
       "      <th>choose_one</th>\n",
       "      <th>choose_one:confidence</th>\n",
       "      <th>choose_one_gold</th>\n",
       "      <th>keyword</th>\n",
       "      <th>location</th>\n",
       "      <th>text</th>\n",
       "      <th>tweetid</th>\n",
       "      <th>userid</th>\n",
       "    </tr>\n",
       "  </thead>\n",
       "  <tbody>\n",
       "    <tr>\n",
       "      <th>0</th>\n",
       "      <td>778243823</td>\n",
       "      <td>True</td>\n",
       "      <td>golden</td>\n",
       "      <td>156</td>\n",
       "      <td>NaN</td>\n",
       "      <td>Relevant</td>\n",
       "      <td>1.0</td>\n",
       "      <td>Relevant</td>\n",
       "      <td>NaN</td>\n",
       "      <td>NaN</td>\n",
       "      <td>Just happened a terrible car crash</td>\n",
       "      <td>1.0</td>\n",
       "      <td>NaN</td>\n",
       "    </tr>\n",
       "    <tr>\n",
       "      <th>1</th>\n",
       "      <td>778243824</td>\n",
       "      <td>True</td>\n",
       "      <td>golden</td>\n",
       "      <td>152</td>\n",
       "      <td>NaN</td>\n",
       "      <td>Relevant</td>\n",
       "      <td>1.0</td>\n",
       "      <td>Relevant</td>\n",
       "      <td>NaN</td>\n",
       "      <td>NaN</td>\n",
       "      <td>Our Deeds are the Reason of this #earthquake M...</td>\n",
       "      <td>13.0</td>\n",
       "      <td>NaN</td>\n",
       "    </tr>\n",
       "  </tbody>\n",
       "</table>\n",
       "</div>"
      ],
      "text/plain": [
       "    _unit_id  _golden _unit_state  _trusted_judgments _last_judgment_at  \\\n",
       "0  778243823     True      golden                 156               NaN   \n",
       "1  778243824     True      golden                 152               NaN   \n",
       "\n",
       "  choose_one  choose_one:confidence choose_one_gold keyword location  \\\n",
       "0   Relevant                    1.0        Relevant     NaN      NaN   \n",
       "1   Relevant                    1.0        Relevant     NaN      NaN   \n",
       "\n",
       "                                                text  tweetid  userid  \n",
       "0                 Just happened a terrible car crash      1.0     NaN  \n",
       "1  Our Deeds are the Reason of this #earthquake M...     13.0     NaN  "
      ]
     },
     "execution_count": 8,
     "metadata": {},
     "output_type": "execute_result"
    }
   ],
   "source": [
    "train2.head(2)"
   ]
  },
  {
   "cell_type": "markdown",
   "id": "e69b3580",
   "metadata": {
    "papermill": {
     "duration": 0.028137,
     "end_time": "2023-07-14T10:41:13.540982",
     "exception": false,
     "start_time": "2023-07-14T10:41:13.512845",
     "status": "completed"
    },
    "tags": []
   },
   "source": [
    "## EDA of Original dataset"
   ]
  },
  {
   "cell_type": "code",
   "execution_count": 9,
   "id": "3dd7b708",
   "metadata": {
    "execution": {
     "iopub.execute_input": "2023-07-14T10:41:13.586172Z",
     "iopub.status.busy": "2023-07-14T10:41:13.585833Z",
     "iopub.status.idle": "2023-07-14T10:41:13.590402Z",
     "shell.execute_reply": "2023-07-14T10:41:13.589341Z"
    },
    "papermill": {
     "duration": 0.029458,
     "end_time": "2023-07-14T10:41:13.592588",
     "exception": false,
     "start_time": "2023-07-14T10:41:13.563130",
     "status": "completed"
    },
    "tags": []
   },
   "outputs": [],
   "source": [
    "#Define the label\n",
    "TARGET = \"target\""
   ]
  },
  {
   "cell_type": "code",
   "execution_count": 10,
   "id": "92d95bd0",
   "metadata": {
    "execution": {
     "iopub.execute_input": "2023-07-14T10:41:13.637728Z",
     "iopub.status.busy": "2023-07-14T10:41:13.636901Z",
     "iopub.status.idle": "2023-07-14T10:41:13.642484Z",
     "shell.execute_reply": "2023-07-14T10:41:13.641624Z"
    },
    "papermill": {
     "duration": 0.029802,
     "end_time": "2023-07-14T10:41:13.644634",
     "exception": false,
     "start_time": "2023-07-14T10:41:13.614832",
     "status": "completed"
    },
    "tags": []
   },
   "outputs": [],
   "source": [
    "#Define a function to plot he Null values in a given DataFrame\n",
    "def plot_null_values(df):\n",
    "    print(\"Total number of samples in the data =\",df.shape[0])\n",
    "    sns.heatmap(df.isnull().sum().to_frame(),\n",
    "                annot=True,\n",
    "                fmt=\"d\",\n",
    "                cmap=\"crest\"\n",
    "                )"
   ]
  },
  {
   "cell_type": "code",
   "execution_count": 11,
   "id": "c544b356",
   "metadata": {
    "execution": {
     "iopub.execute_input": "2023-07-14T10:41:13.688680Z",
     "iopub.status.busy": "2023-07-14T10:41:13.687841Z",
     "iopub.status.idle": "2023-07-14T10:41:14.043232Z",
     "shell.execute_reply": "2023-07-14T10:41:14.042246Z"
    },
    "papermill": {
     "duration": 0.379362,
     "end_time": "2023-07-14T10:41:14.045281",
     "exception": false,
     "start_time": "2023-07-14T10:41:13.665919",
     "status": "completed"
    },
    "tags": []
   },
   "outputs": [
    {
     "name": "stdout",
     "output_type": "stream",
     "text": [
      "\t\t\t\tNULL values in Train Dataset\n",
      "Total number of samples in the data = 7613\n"
     ]
    },
    {
     "data": {
      "image/png": "[encoded data removed]",
      "text/plain": [
       "<Figure size 640x480 with 2 Axes>"
      ]
     },
     "metadata": {},
     "output_type": "display_data"
    }
   ],
   "source": [
    "#Use the plot_null_values function to plot Null values in the train dataset\n",
    "print(\"\\t\\t\\t\\tNULL values in Train Dataset\")\n",
    "plot_null_values(train)"
   ]
  },
  {
   "cell_type": "code",
   "execution_count": 12,
   "id": "24d673af",
   "metadata": {
    "execution": {
     "iopub.execute_input": "2023-07-14T10:41:14.090802Z",
     "iopub.status.busy": "2023-07-14T10:41:14.089311Z",
     "iopub.status.idle": "2023-07-14T10:41:14.401570Z",
     "shell.execute_reply": "2023-07-14T10:41:14.400517Z"
    },
    "papermill": {
     "duration": 0.337045,
     "end_time": "2023-07-14T10:41:14.403808",
     "exception": false,
     "start_time": "2023-07-14T10:41:14.066763",
     "status": "completed"
    },
    "tags": []
   },
   "outputs": [
    {
     "name": "stdout",
     "output_type": "stream",
     "text": [
      "\t\t\t\tNULL values in Test Dataset\n",
      "Total number of samples in the data = 3263\n"
     ]
    },
    {
     "data": {
      "image/png": "[encoded data removed]",
      "text/plain": [
       "<Figure size 640x480 with 2 Axes>"
      ]
     },
     "metadata": {},
     "output_type": "display_data"
    }
   ],
   "source": [
    "#Use the plot_null_values function to plot Null values in the test dataset\n",
    "print(\"\\t\\t\\t\\tNULL values in Test Dataset\")\n",
    "plot_null_values(test)"
   ]
  },
  {
   "cell_type": "code",
   "execution_count": 13,
   "id": "7a8be08f",
   "metadata": {
    "execution": {
     "iopub.execute_input": "2023-07-14T10:41:14.449841Z",
     "iopub.status.busy": "2023-07-14T10:41:14.448451Z",
     "iopub.status.idle": "2023-07-14T10:41:14.465171Z",
     "shell.execute_reply": "2023-07-14T10:41:14.464250Z"
    },
    "papermill": {
     "duration": 0.041614,
     "end_time": "2023-07-14T10:41:14.467258",
     "exception": false,
     "start_time": "2023-07-14T10:41:14.425644",
     "status": "completed"
    },
    "tags": []
   },
   "outputs": [],
   "source": [
    "#Replace the Null values with str(0)\n",
    "train.fillna(\"0\",inplace=True)\n",
    "test.fillna(\"0\",inplace=True)"
   ]
  },
  {
   "cell_type": "code",
   "execution_count": 14,
   "id": "ddaa17ea",
   "metadata": {
    "execution": {
     "iopub.execute_input": "2023-07-14T10:41:14.512223Z",
     "iopub.status.busy": "2023-07-14T10:41:14.511902Z",
     "iopub.status.idle": "2023-07-14T10:41:14.912101Z",
     "shell.execute_reply": "2023-07-14T10:41:14.911151Z"
    },
    "papermill": {
     "duration": 0.425383,
     "end_time": "2023-07-14T10:41:14.914265",
     "exception": false,
     "start_time": "2023-07-14T10:41:14.488882",
     "status": "completed"
    },
    "tags": []
   },
   "outputs": [
    {
     "name": "stdout",
     "output_type": "stream",
     "text": [
      "\t\t\t\tNULL values in Train Dataset\n",
      "Total number of samples in the data = 7613\n"
     ]
    },
    {
     "data": {
      "image/png": "[encoded data removed]",
      "text/plain": [
       "<Figure size 640x480 with 2 Axes>"
      ]
     },
     "metadata": {},
     "output_type": "display_data"
    }
   ],
   "source": [
    "#Check the updated train dataset\n",
    "print(\"\\t\\t\\t\\tNULL values in Train Dataset\")\n",
    "plot_null_values(train)"
   ]
  },
  {
   "cell_type": "code",
   "execution_count": 15,
   "id": "e1d784a3",
   "metadata": {
    "execution": {
     "iopub.execute_input": "2023-07-14T10:41:14.963171Z",
     "iopub.status.busy": "2023-07-14T10:41:14.961559Z",
     "iopub.status.idle": "2023-07-14T10:41:15.294467Z",
     "shell.execute_reply": "2023-07-14T10:41:15.293332Z"
    },
    "papermill": {
     "duration": 0.359343,
     "end_time": "2023-07-14T10:41:15.296818",
     "exception": false,
     "start_time": "2023-07-14T10:41:14.937475",
     "status": "completed"
    },
    "tags": []
   },
   "outputs": [
    {
     "name": "stdout",
     "output_type": "stream",
     "text": [
      "\t\t\t\tNULL values in Test Dataset\n",
      "Total number of samples in the data = 3263\n"
     ]
    },
    {
     "data": {
      "image/png": "[encoded data removed]",
      "text/plain": [
       "<Figure size 640x480 with 2 Axes>"
      ]
     },
     "metadata": {},
     "output_type": "display_data"
    }
   ],
   "source": [
    "#Check the updated test dataset\n",
    "print(\"\\t\\t\\t\\tNULL values in Test Dataset\")\n",
    "plot_null_values(test)"
   ]
  },
  {
   "cell_type": "code",
   "execution_count": 16,
   "id": "542dca01",
   "metadata": {
    "execution": {
     "iopub.execute_input": "2023-07-14T10:41:15.345628Z",
     "iopub.status.busy": "2023-07-14T10:41:15.344692Z",
     "iopub.status.idle": "2023-07-14T10:41:15.370227Z",
     "shell.execute_reply": "2023-07-14T10:41:15.369173Z"
    },
    "papermill": {
     "duration": 0.0515,
     "end_time": "2023-07-14T10:41:15.372468",
     "exception": false,
     "start_time": "2023-07-14T10:41:15.320968",
     "status": "completed"
    },
    "tags": []
   },
   "outputs": [
    {
     "data": {
      "text/html": [
       "<div>\n",
       "<style scoped>\n",
       "    .dataframe tbody tr th:only-of-type {\n",
       "        vertical-align: middle;\n",
       "    }\n",
       "\n",
       "    .dataframe tbody tr th {\n",
       "        vertical-align: top;\n",
       "    }\n",
       "\n",
       "    .dataframe thead th {\n",
       "        text-align: right;\n",
       "    }\n",
       "</style>\n",
       "<table border=\"1\" class=\"dataframe\">\n",
       "  <thead>\n",
       "    <tr style=\"text-align: right;\">\n",
       "      <th></th>\n",
       "      <th>id</th>\n",
       "      <th>keyword</th>\n",
       "      <th>location</th>\n",
       "      <th>text</th>\n",
       "      <th>target</th>\n",
       "    </tr>\n",
       "  </thead>\n",
       "  <tbody>\n",
       "  </tbody>\n",
       "</table>\n",
       "</div>"
      ],
      "text/plain": [
       "Empty DataFrame\n",
       "Columns: [id, keyword, location, text, target]\n",
       "Index: []"
      ]
     },
     "execution_count": 16,
     "metadata": {},
     "output_type": "execute_result"
    }
   ],
   "source": [
    "#Check for duplicate values\n",
    "train[train.duplicated()]"
   ]
  },
  {
   "cell_type": "markdown",
   "id": "6a0a965c",
   "metadata": {
    "papermill": {
     "duration": 0.023113,
     "end_time": "2023-07-14T10:41:15.418315",
     "exception": false,
     "start_time": "2023-07-14T10:41:15.395202",
     "status": "completed"
    },
    "tags": []
   },
   "source": [
    "**It is evident that there are no repeated tweets in our dataset.**\n",
    "\n",
    "## Target Analysis\n",
    "\n",
    "To assess the balance of our data, let's examine the distribution of values in the \"target\" column."
   ]
  },
  {
   "cell_type": "code",
   "execution_count": 17,
   "id": "50a28382",
   "metadata": {
    "execution": {
     "iopub.execute_input": "2023-07-14T10:41:15.465962Z",
     "iopub.status.busy": "2023-07-14T10:41:15.465655Z",
     "iopub.status.idle": "2023-07-14T10:41:15.777309Z",
     "shell.execute_reply": "2023-07-14T10:41:15.776328Z"
    },
    "papermill": {
     "duration": 0.337873,
     "end_time": "2023-07-14T10:41:15.779368",
     "exception": false,
     "start_time": "2023-07-14T10:41:15.441495",
     "status": "completed"
    },
    "tags": []
   },
   "outputs": [
    {
     "data": {
      "text/plain": [
       "<Axes: xlabel='target', ylabel='Count'>"
      ]
     },
     "execution_count": 17,
     "metadata": {},
     "output_type": "execute_result"
    },
    {
     "data": {
      "image/png": "[encoded data removed]",
      "text/plain": [
       "<Figure size 640x480 with 1 Axes>"
      ]
     },
     "metadata": {},
     "output_type": "display_data"
    }
   ],
   "source": [
    "#Target analysis\n",
    "sns.histplot(x=train[TARGET])"
   ]
  },
  {
   "cell_type": "markdown",
   "id": "623b4921",
   "metadata": {
    "papermill": {
     "duration": 0.02434,
     "end_time": "2023-07-14T10:41:15.829096",
     "exception": false,
     "start_time": "2023-07-14T10:41:15.804756",
     "status": "completed"
    },
    "tags": []
   },
   "source": [
    "## Feature Analysis\n",
    "\n",
    "Let's examine the distribution of features."
   ]
  },
  {
   "cell_type": "code",
   "execution_count": 18,
   "id": "9854053f",
   "metadata": {
    "execution": {
     "iopub.execute_input": "2023-07-14T10:41:15.877292Z",
     "iopub.status.busy": "2023-07-14T10:41:15.876974Z",
     "iopub.status.idle": "2023-07-14T10:41:15.892642Z",
     "shell.execute_reply": "2023-07-14T10:41:15.891407Z"
    },
    "papermill": {
     "duration": 0.043003,
     "end_time": "2023-07-14T10:41:15.895171",
     "exception": false,
     "start_time": "2023-07-14T10:41:15.852168",
     "status": "completed"
    },
    "tags": []
   },
   "outputs": [
    {
     "data": {
      "text/html": [
       "<div>\n",
       "<style scoped>\n",
       "    .dataframe tbody tr th:only-of-type {\n",
       "        vertical-align: middle;\n",
       "    }\n",
       "\n",
       "    .dataframe tbody tr th {\n",
       "        vertical-align: top;\n",
       "    }\n",
       "\n",
       "    .dataframe thead th {\n",
       "        text-align: right;\n",
       "    }\n",
       "</style>\n",
       "<table border=\"1\" class=\"dataframe\">\n",
       "  <thead>\n",
       "    <tr style=\"text-align: right;\">\n",
       "      <th></th>\n",
       "      <th>keyword</th>\n",
       "      <th>count</th>\n",
       "    </tr>\n",
       "  </thead>\n",
       "  <tbody>\n",
       "    <tr>\n",
       "      <th>0</th>\n",
       "      <td>0</td>\n",
       "      <td>61</td>\n",
       "    </tr>\n",
       "    <tr>\n",
       "      <th>105</th>\n",
       "      <td>fatalities</td>\n",
       "      <td>45</td>\n",
       "    </tr>\n",
       "    <tr>\n",
       "      <th>64</th>\n",
       "      <td>deluge</td>\n",
       "      <td>42</td>\n",
       "    </tr>\n",
       "    <tr>\n",
       "      <th>9</th>\n",
       "      <td>armageddon</td>\n",
       "      <td>42</td>\n",
       "    </tr>\n",
       "    <tr>\n",
       "      <th>178</th>\n",
       "      <td>sinking</td>\n",
       "      <td>41</td>\n",
       "    </tr>\n",
       "    <tr>\n",
       "      <th>...</th>\n",
       "      <td>...</td>\n",
       "      <td>...</td>\n",
       "    </tr>\n",
       "    <tr>\n",
       "      <th>116</th>\n",
       "      <td>forest%20fire</td>\n",
       "      <td>19</td>\n",
       "    </tr>\n",
       "    <tr>\n",
       "      <th>95</th>\n",
       "      <td>epicentre</td>\n",
       "      <td>12</td>\n",
       "    </tr>\n",
       "    <tr>\n",
       "      <th>195</th>\n",
       "      <td>threat</td>\n",
       "      <td>11</td>\n",
       "    </tr>\n",
       "    <tr>\n",
       "      <th>135</th>\n",
       "      <td>inundation</td>\n",
       "      <td>10</td>\n",
       "    </tr>\n",
       "    <tr>\n",
       "      <th>161</th>\n",
       "      <td>radiation%20emergency</td>\n",
       "      <td>9</td>\n",
       "    </tr>\n",
       "  </tbody>\n",
       "</table>\n",
       "<p>222 rows × 2 columns</p>\n",
       "</div>"
      ],
      "text/plain": [
       "                   keyword  count\n",
       "0                        0     61\n",
       "105             fatalities     45\n",
       "64                  deluge     42\n",
       "9               armageddon     42\n",
       "178                sinking     41\n",
       "..                     ...    ...\n",
       "116          forest%20fire     19\n",
       "95               epicentre     12\n",
       "195                 threat     11\n",
       "135             inundation     10\n",
       "161  radiation%20emergency      9\n",
       "\n",
       "[222 rows x 2 columns]"
      ]
     },
     "execution_count": 18,
     "metadata": {},
     "output_type": "execute_result"
    }
   ],
   "source": [
    "#Group the train DataFrame by \"keyword\" column and\n",
    "# count the \"target\" Series group values\n",
    "keyword = train.groupby(\"keyword\")[\"target\"].count()\n",
    "\n",
    "#Convert the above Groupby Object to DataFrame and sort the values\n",
    "keyword_df = pd.DataFrame(data={\"keyword\":keyword.index, \"count\":keyword.values}).sort_values(by=[\"count\"],ascending=False)\n",
    "keyword_df"
   ]
  },
  {
   "cell_type": "code",
   "execution_count": 19,
   "id": "ce261189",
   "metadata": {
    "execution": {
     "iopub.execute_input": "2023-07-14T10:41:15.944347Z",
     "iopub.status.busy": "2023-07-14T10:41:15.944058Z",
     "iopub.status.idle": "2023-07-14T10:41:16.555520Z",
     "shell.execute_reply": "2023-07-14T10:41:16.554461Z"
    },
    "papermill": {
     "duration": 0.6381,
     "end_time": "2023-07-14T10:41:16.557782",
     "exception": false,
     "start_time": "2023-07-14T10:41:15.919682",
     "status": "completed"
    },
    "tags": []
   },
   "outputs": [
    {
     "data": {
      "image/png": "[encoded data removed]",
      "text/plain": [
       "<Figure size 1200x500 with 1 Axes>"
      ]
     },
     "metadata": {},
     "output_type": "display_data"
    }
   ],
   "source": [
    "#Let's plot the \"key\" DataFrame\n",
    "plt.figure(figsize=(12,5))\n",
    "#Limit the data to top 30 keywords by .head() method\n",
    "sns.barplot(data=keyword_df.head(30), x = 'keyword',y = 'count')\n",
    "plt.xticks(rotation = 50)\n",
    "plt.ylabel('count')\n",
    "plt.title('Top 30 keywords on Tweets');"
   ]
  },
  {
   "cell_type": "code",
   "execution_count": 20,
   "id": "70fadb2d",
   "metadata": {
    "execution": {
     "iopub.execute_input": "2023-07-14T10:41:16.612463Z",
     "iopub.status.busy": "2023-07-14T10:41:16.612090Z",
     "iopub.status.idle": "2023-07-14T10:41:16.631427Z",
     "shell.execute_reply": "2023-07-14T10:41:16.630239Z"
    },
    "papermill": {
     "duration": 0.049592,
     "end_time": "2023-07-14T10:41:16.634277",
     "exception": false,
     "start_time": "2023-07-14T10:41:16.584685",
     "status": "completed"
    },
    "tags": []
   },
   "outputs": [
    {
     "data": {
      "text/html": [
       "<div>\n",
       "<style scoped>\n",
       "    .dataframe tbody tr th:only-of-type {\n",
       "        vertical-align: middle;\n",
       "    }\n",
       "\n",
       "    .dataframe tbody tr th {\n",
       "        vertical-align: top;\n",
       "    }\n",
       "\n",
       "    .dataframe thead th {\n",
       "        text-align: right;\n",
       "    }\n",
       "</style>\n",
       "<table border=\"1\" class=\"dataframe\">\n",
       "  <thead>\n",
       "    <tr style=\"text-align: right;\">\n",
       "      <th></th>\n",
       "      <th>location</th>\n",
       "      <th>count</th>\n",
       "    </tr>\n",
       "  </thead>\n",
       "  <tbody>\n",
       "    <tr>\n",
       "      <th>80</th>\n",
       "      <td>0</td>\n",
       "      <td>2533</td>\n",
       "    </tr>\n",
       "    <tr>\n",
       "      <th>2644</th>\n",
       "      <td>USA</td>\n",
       "      <td>104</td>\n",
       "    </tr>\n",
       "    <tr>\n",
       "      <th>1827</th>\n",
       "      <td>New York</td>\n",
       "      <td>71</td>\n",
       "    </tr>\n",
       "    <tr>\n",
       "      <th>2663</th>\n",
       "      <td>United States</td>\n",
       "      <td>50</td>\n",
       "    </tr>\n",
       "    <tr>\n",
       "      <th>1507</th>\n",
       "      <td>London</td>\n",
       "      <td>45</td>\n",
       "    </tr>\n",
       "    <tr>\n",
       "      <th>...</th>\n",
       "      <td>...</td>\n",
       "      <td>...</td>\n",
       "    </tr>\n",
       "    <tr>\n",
       "      <th>1199</th>\n",
       "      <td>Hueco Mundo</td>\n",
       "      <td>1</td>\n",
       "    </tr>\n",
       "    <tr>\n",
       "      <th>1200</th>\n",
       "      <td>Hughes, AR</td>\n",
       "      <td>1</td>\n",
       "    </tr>\n",
       "    <tr>\n",
       "      <th>1201</th>\n",
       "      <td>Huntington, WV</td>\n",
       "      <td>1</td>\n",
       "    </tr>\n",
       "    <tr>\n",
       "      <th>1202</th>\n",
       "      <td>Huntley, IL</td>\n",
       "      <td>1</td>\n",
       "    </tr>\n",
       "    <tr>\n",
       "      <th>3341</th>\n",
       "      <td>åø\\_(?)_/åø</td>\n",
       "      <td>1</td>\n",
       "    </tr>\n",
       "  </tbody>\n",
       "</table>\n",
       "<p>3342 rows × 2 columns</p>\n",
       "</div>"
      ],
      "text/plain": [
       "            location  count\n",
       "80                 0   2533\n",
       "2644             USA    104\n",
       "1827        New York     71\n",
       "2663   United States     50\n",
       "1507          London     45\n",
       "...              ...    ...\n",
       "1199     Hueco Mundo      1\n",
       "1200      Hughes, AR      1\n",
       "1201  Huntington, WV      1\n",
       "1202     Huntley, IL      1\n",
       "3341     åø\\_(?)_/åø      1\n",
       "\n",
       "[3342 rows x 2 columns]"
      ]
     },
     "execution_count": 20,
     "metadata": {},
     "output_type": "execute_result"
    }
   ],
   "source": [
    "#Group the train DataFrame by \"keyword\" column and\n",
    "# count the \"target\" Series group values\n",
    "location = train.groupby(\"location\")[\"target\"].count()\n",
    "\n",
    "#Convert the above Groupby Object to DataFrame and sort the values\n",
    "location_df = pd.DataFrame(data={\"location\":location.index, \"count\":location.values}).sort_values(by=[\"count\"],ascending=False)\n",
    "location_df"
   ]
  },
  {
   "cell_type": "code",
   "execution_count": 21,
   "id": "0bbcdd0a",
   "metadata": {
    "execution": {
     "iopub.execute_input": "2023-07-14T10:41:16.688771Z",
     "iopub.status.busy": "2023-07-14T10:41:16.688461Z",
     "iopub.status.idle": "2023-07-14T10:41:17.284946Z",
     "shell.execute_reply": "2023-07-14T10:41:17.283983Z"
    },
    "papermill": {
     "duration": 0.626214,
     "end_time": "2023-07-14T10:41:17.287707",
     "exception": false,
     "start_time": "2023-07-14T10:41:16.661493",
     "status": "completed"
    },
    "tags": []
   },
   "outputs": [
    {
     "data": {
      "image/png": "[encoded data removed]",
      "text/plain": [
       "<Figure size 1200x500 with 1 Axes>"
      ]
     },
     "metadata": {},
     "output_type": "display_data"
    }
   ],
   "source": [
    "#Let's plot the \"location\" DataFrame\n",
    "plt.figure(figsize=(12,5))\n",
    "\n",
    "#Limit the data to top 30 locations by .head() method\n",
    "sns.barplot(data=location_df.head(30), x = 'location',y = 'count')\n",
    "plt.xticks(rotation = 50)\n",
    "plt.ylabel('count')\n",
    "plt.title('Top 30 locations on Tweets');"
   ]
  },
  {
   "cell_type": "markdown",
   "id": "24c18bac",
   "metadata": {
    "papermill": {
     "duration": 0.026188,
     "end_time": "2023-07-14T10:41:17.340336",
     "exception": false,
     "start_time": "2023-07-14T10:41:17.314148",
     "status": "completed"
    },
    "tags": []
   },
   "source": [
    "**The \"0\" location used in place of \"Null\" values have distorted the view of location distribution. Let's plot the distribution without \"0\" value**"
   ]
  },
  {
   "cell_type": "code",
   "execution_count": 22,
   "id": "7091cdc3",
   "metadata": {
    "execution": {
     "iopub.execute_input": "2023-07-14T10:41:17.396328Z",
     "iopub.status.busy": "2023-07-14T10:41:17.395454Z",
     "iopub.status.idle": "2023-07-14T10:41:18.005659Z",
     "shell.execute_reply": "2023-07-14T10:41:18.004652Z"
    },
    "papermill": {
     "duration": 0.641617,
     "end_time": "2023-07-14T10:41:18.009037",
     "exception": false,
     "start_time": "2023-07-14T10:41:17.367420",
     "status": "completed"
    },
    "tags": []
   },
   "outputs": [
    {
     "data": {
      "image/png": "[encoded data removed]",
      "text/plain": [
       "<Figure size 1200x500 with 1 Axes>"
      ]
     },
     "metadata": {},
     "output_type": "display_data"
    }
   ],
   "source": [
    "#Let's plot the \"location\" DataFrame with \"0\" discarded\n",
    "plt.figure(figsize=(12,5))\n",
    "\n",
    "#Limit the data to top 30 locations by .head() method\n",
    "# and use the iloc to discard \"0\"\n",
    "sns.barplot(data=location_df.head(31).iloc[1:,:], x = 'location',y = 'count')\n",
    "plt.xticks(rotation = 50)\n",
    "plt.ylabel('count')\n",
    "plt.title('Top 30 locations of Tweets');"
   ]
  },
  {
   "cell_type": "code",
   "execution_count": 23,
   "id": "a1b9140c",
   "metadata": {
    "execution": {
     "iopub.execute_input": "2023-07-14T10:41:18.067948Z",
     "iopub.status.busy": "2023-07-14T10:41:18.067560Z",
     "iopub.status.idle": "2023-07-14T10:41:18.074684Z",
     "shell.execute_reply": "2023-07-14T10:41:18.073618Z"
    },
    "papermill": {
     "duration": 0.039671,
     "end_time": "2023-07-14T10:41:18.076722",
     "exception": false,
     "start_time": "2023-07-14T10:41:18.037051",
     "status": "completed"
    },
    "tags": []
   },
   "outputs": [],
   "source": [
    "#Define a function to get the maximum length of words in each column\n",
    "def check_max_length_sentence(df):\n",
    "    max_length = 0\n",
    "    for text in df[\"text\"]:\n",
    "        if len(text) > max_length:\n",
    "            max_length = len(text)\n",
    "    print(\"Maximum length of Text column is:\",max_length)\n",
    "    \n",
    "    max_length = 0\n",
    "    for text in df[\"location\"]:\n",
    "        if len(text) > max_length:\n",
    "            max_length = len(text)\n",
    "    print(\"Maximum length of Location column is:\",max_length)\n",
    "    \n",
    "    max_length = 0\n",
    "    for text in df[\"keyword\"]:\n",
    "        if len(text) > max_length:\n",
    "            max_length = len(text)\n",
    "    print(\"Maximum length of Keyword column is:\",max_length)"
   ]
  },
  {
   "cell_type": "code",
   "execution_count": 24,
   "id": "94a15dfb",
   "metadata": {
    "execution": {
     "iopub.execute_input": "2023-07-14T10:41:18.131849Z",
     "iopub.status.busy": "2023-07-14T10:41:18.131095Z",
     "iopub.status.idle": "2023-07-14T10:41:18.142371Z",
     "shell.execute_reply": "2023-07-14T10:41:18.141311Z"
    },
    "papermill": {
     "duration": 0.041634,
     "end_time": "2023-07-14T10:41:18.144966",
     "exception": false,
     "start_time": "2023-07-14T10:41:18.103332",
     "status": "completed"
    },
    "tags": []
   },
   "outputs": [
    {
     "name": "stdout",
     "output_type": "stream",
     "text": [
      "Maximum length of Text column is: 157\n",
      "Maximum length of Location column is: 49\n",
      "Maximum length of Keyword column is: 21\n"
     ]
    }
   ],
   "source": [
    "#Maximum lengths of columns in train data\n",
    "check_max_length_sentence(train)"
   ]
  },
  {
   "cell_type": "code",
   "execution_count": 25,
   "id": "d2ebd89c",
   "metadata": {
    "execution": {
     "iopub.execute_input": "2023-07-14T10:41:18.199844Z",
     "iopub.status.busy": "2023-07-14T10:41:18.199521Z",
     "iopub.status.idle": "2023-07-14T10:41:18.207049Z",
     "shell.execute_reply": "2023-07-14T10:41:18.205994Z"
    },
    "papermill": {
     "duration": 0.039145,
     "end_time": "2023-07-14T10:41:18.210807",
     "exception": false,
     "start_time": "2023-07-14T10:41:18.171662",
     "status": "completed"
    },
    "tags": []
   },
   "outputs": [
    {
     "name": "stdout",
     "output_type": "stream",
     "text": [
      "Maximum length of Text column is: 151\n",
      "Maximum length of Location column is: 42\n",
      "Maximum length of Keyword column is: 21\n"
     ]
    }
   ],
   "source": [
    "#Maximum lengths of columns in test data\n",
    "check_max_length_sentence(test)"
   ]
  },
  {
   "cell_type": "markdown",
   "id": "5904c982",
   "metadata": {
    "papermill": {
     "duration": 0.027681,
     "end_time": "2023-07-14T10:41:18.266851",
     "exception": false,
     "start_time": "2023-07-14T10:41:18.239170",
     "status": "completed"
    },
    "tags": []
   },
   "source": [
    "**Relying solely on the length of tweets doesn't provide a comprehensive understanding. To gain a better perspective on the maximum length required for vectorization, let's examine the distribution of tweet lengths.**"
   ]
  },
  {
   "cell_type": "code",
   "execution_count": 26,
   "id": "985274cb",
   "metadata": {
    "execution": {
     "iopub.execute_input": "2023-07-14T10:41:18.324916Z",
     "iopub.status.busy": "2023-07-14T10:41:18.324335Z",
     "iopub.status.idle": "2023-07-14T10:41:18.331519Z",
     "shell.execute_reply": "2023-07-14T10:41:18.330590Z"
    },
    "papermill": {
     "duration": 0.038203,
     "end_time": "2023-07-14T10:41:18.333737",
     "exception": false,
     "start_time": "2023-07-14T10:41:18.295534",
     "status": "completed"
    },
    "tags": []
   },
   "outputs": [],
   "source": [
    "def get_sentence_lengths(df):\n",
    "    df2 = pd.DataFrame(columns=[\"length\"])\n",
    "    i = 0\n",
    "    for text in df[\"text\"]:\n",
    "        df2.loc[i,\"length\"] = len(text)\n",
    "        i+=1\n",
    "    return df2\n",
    "\n",
    "def plot_sentence_lengths(df):\n",
    "    lengths_df = get_sentence_lengths(df)\n",
    "    bins = range(0,161,20)\n",
    "    plt.hist(lengths_df[\"length\"], bins=bins,alpha=0.3)\n",
    "    #sns.countplot(data=lengths_df, x=\"length\")\n",
    "    plt.title(\"Distribution of sentence lengths\")"
   ]
  },
  {
   "cell_type": "code",
   "execution_count": 27,
   "id": "52240760",
   "metadata": {
    "execution": {
     "iopub.execute_input": "2023-07-14T10:41:18.388924Z",
     "iopub.status.busy": "2023-07-14T10:41:18.388148Z",
     "iopub.status.idle": "2023-07-14T10:41:21.926853Z",
     "shell.execute_reply": "2023-07-14T10:41:21.925854Z"
    },
    "papermill": {
     "duration": 3.568826,
     "end_time": "2023-07-14T10:41:21.929455",
     "exception": false,
     "start_time": "2023-07-14T10:41:18.360629",
     "status": "completed"
    },
    "tags": []
   },
   "outputs": [
    {
     "data": {
      "image/png": "[encoded data removed]",
      "text/plain": [
       "<Figure size 640x480 with 1 Axes>"
      ]
     },
     "metadata": {},
     "output_type": "display_data"
    }
   ],
   "source": [
    "#Use the plot_sentence_lengths function on train dataset\n",
    "plot_sentence_lengths(train)"
   ]
  },
  {
   "cell_type": "code",
   "execution_count": 28,
   "id": "91ad5214",
   "metadata": {
    "execution": {
     "iopub.execute_input": "2023-07-14T10:41:21.989281Z",
     "iopub.status.busy": "2023-07-14T10:41:21.988926Z",
     "iopub.status.idle": "2023-07-14T10:41:23.410603Z",
     "shell.execute_reply": "2023-07-14T10:41:23.409527Z"
    },
    "papermill": {
     "duration": 1.454701,
     "end_time": "2023-07-14T10:41:23.413021",
     "exception": false,
     "start_time": "2023-07-14T10:41:21.958320",
     "status": "completed"
    },
    "tags": []
   },
   "outputs": [
    {
     "data": {
      "image/png": "[encoded data removed]",
      "text/plain": [
       "<Figure size 640x480 with 1 Axes>"
      ]
     },
     "metadata": {},
     "output_type": "display_data"
    }
   ],
   "source": [
    "#Use the plot_sentence_lengths function on test dataset\n",
    "plot_sentence_lengths(test)"
   ]
  },
  {
   "cell_type": "markdown",
   "id": "83ffb1d1",
   "metadata": {
    "papermill": {
     "duration": 0.029182,
     "end_time": "2023-07-14T10:41:23.471248",
     "exception": false,
     "start_time": "2023-07-14T10:41:23.442066",
     "status": "completed"
    },
    "tags": []
   },
   "source": [
    "## Analyze the Disaster on Social Media dataset"
   ]
  },
  {
   "cell_type": "code",
   "execution_count": 29,
   "id": "5edbdc85",
   "metadata": {
    "execution": {
     "iopub.execute_input": "2023-07-14T10:41:23.527785Z",
     "iopub.status.busy": "2023-07-14T10:41:23.527445Z",
     "iopub.status.idle": "2023-07-14T10:41:23.543715Z",
     "shell.execute_reply": "2023-07-14T10:41:23.542584Z"
    },
    "papermill": {
     "duration": 0.047285,
     "end_time": "2023-07-14T10:41:23.545912",
     "exception": false,
     "start_time": "2023-07-14T10:41:23.498627",
     "status": "completed"
    },
    "tags": []
   },
   "outputs": [
    {
     "data": {
      "text/html": [
       "<div>\n",
       "<style scoped>\n",
       "    .dataframe tbody tr th:only-of-type {\n",
       "        vertical-align: middle;\n",
       "    }\n",
       "\n",
       "    .dataframe tbody tr th {\n",
       "        vertical-align: top;\n",
       "    }\n",
       "\n",
       "    .dataframe thead th {\n",
       "        text-align: right;\n",
       "    }\n",
       "</style>\n",
       "<table border=\"1\" class=\"dataframe\">\n",
       "  <thead>\n",
       "    <tr style=\"text-align: right;\">\n",
       "      <th></th>\n",
       "      <th>keyword</th>\n",
       "      <th>location</th>\n",
       "      <th>text</th>\n",
       "      <th>choose_one</th>\n",
       "    </tr>\n",
       "  </thead>\n",
       "  <tbody>\n",
       "    <tr>\n",
       "      <th>0</th>\n",
       "      <td>NaN</td>\n",
       "      <td>NaN</td>\n",
       "      <td>Just happened a terrible car crash</td>\n",
       "      <td>Relevant</td>\n",
       "    </tr>\n",
       "    <tr>\n",
       "      <th>1</th>\n",
       "      <td>NaN</td>\n",
       "      <td>NaN</td>\n",
       "      <td>Our Deeds are the Reason of this #earthquake M...</td>\n",
       "      <td>Relevant</td>\n",
       "    </tr>\n",
       "    <tr>\n",
       "      <th>2</th>\n",
       "      <td>NaN</td>\n",
       "      <td>NaN</td>\n",
       "      <td>Heard about #earthquake is different cities, s...</td>\n",
       "      <td>Relevant</td>\n",
       "    </tr>\n",
       "    <tr>\n",
       "      <th>3</th>\n",
       "      <td>NaN</td>\n",
       "      <td>NaN</td>\n",
       "      <td>there is a forest fire at spot pond, geese are...</td>\n",
       "      <td>Relevant</td>\n",
       "    </tr>\n",
       "    <tr>\n",
       "      <th>4</th>\n",
       "      <td>NaN</td>\n",
       "      <td>NaN</td>\n",
       "      <td>Forest fire near La Ronge Sask. Canada</td>\n",
       "      <td>Relevant</td>\n",
       "    </tr>\n",
       "    <tr>\n",
       "      <th>...</th>\n",
       "      <td>...</td>\n",
       "      <td>...</td>\n",
       "      <td>...</td>\n",
       "      <td>...</td>\n",
       "    </tr>\n",
       "    <tr>\n",
       "      <th>10871</th>\n",
       "      <td>NaN</td>\n",
       "      <td>NaN</td>\n",
       "      <td>M1.94 [01:04 UTC]?5km S of Volcano Hawaii. htt...</td>\n",
       "      <td>Relevant</td>\n",
       "    </tr>\n",
       "    <tr>\n",
       "      <th>10872</th>\n",
       "      <td>NaN</td>\n",
       "      <td>NaN</td>\n",
       "      <td>Police investigating after an e-bike collided ...</td>\n",
       "      <td>Relevant</td>\n",
       "    </tr>\n",
       "    <tr>\n",
       "      <th>10873</th>\n",
       "      <td>NaN</td>\n",
       "      <td>NaN</td>\n",
       "      <td>The Latest: More Homes Razed by Northern Calif...</td>\n",
       "      <td>Relevant</td>\n",
       "    </tr>\n",
       "    <tr>\n",
       "      <th>10874</th>\n",
       "      <td>NaN</td>\n",
       "      <td>NaN</td>\n",
       "      <td>MEG issues Hazardous Weather Outlook (HWO) htt...</td>\n",
       "      <td>Relevant</td>\n",
       "    </tr>\n",
       "    <tr>\n",
       "      <th>10875</th>\n",
       "      <td>NaN</td>\n",
       "      <td>NaN</td>\n",
       "      <td>#CityofCalgary has activated its Municipal Eme...</td>\n",
       "      <td>Relevant</td>\n",
       "    </tr>\n",
       "  </tbody>\n",
       "</table>\n",
       "<p>10876 rows × 4 columns</p>\n",
       "</div>"
      ],
      "text/plain": [
       "      keyword location                                               text  \\\n",
       "0         NaN      NaN                 Just happened a terrible car crash   \n",
       "1         NaN      NaN  Our Deeds are the Reason of this #earthquake M...   \n",
       "2         NaN      NaN  Heard about #earthquake is different cities, s...   \n",
       "3         NaN      NaN  there is a forest fire at spot pond, geese are...   \n",
       "4         NaN      NaN             Forest fire near La Ronge Sask. Canada   \n",
       "...       ...      ...                                                ...   \n",
       "10871     NaN      NaN  M1.94 [01:04 UTC]?5km S of Volcano Hawaii. htt...   \n",
       "10872     NaN      NaN  Police investigating after an e-bike collided ...   \n",
       "10873     NaN      NaN  The Latest: More Homes Razed by Northern Calif...   \n",
       "10874     NaN      NaN  MEG issues Hazardous Weather Outlook (HWO) htt...   \n",
       "10875     NaN      NaN  #CityofCalgary has activated its Municipal Eme...   \n",
       "\n",
       "      choose_one  \n",
       "0       Relevant  \n",
       "1       Relevant  \n",
       "2       Relevant  \n",
       "3       Relevant  \n",
       "4       Relevant  \n",
       "...          ...  \n",
       "10871   Relevant  \n",
       "10872   Relevant  \n",
       "10873   Relevant  \n",
       "10874   Relevant  \n",
       "10875   Relevant  \n",
       "\n",
       "[10876 rows x 4 columns]"
      ]
     },
     "execution_count": 29,
     "metadata": {},
     "output_type": "execute_result"
    }
   ],
   "source": [
    "#Extract the part relevant columns\n",
    "train2s = train2[[\"keyword\",\"location\",\"text\",\"choose_one\"]].copy()\n",
    "train2s"
   ]
  },
  {
   "cell_type": "code",
   "execution_count": 30,
   "id": "b8a83a49",
   "metadata": {
    "execution": {
     "iopub.execute_input": "2023-07-14T10:41:23.611853Z",
     "iopub.status.busy": "2023-07-14T10:41:23.611459Z",
     "iopub.status.idle": "2023-07-14T10:41:23.632700Z",
     "shell.execute_reply": "2023-07-14T10:41:23.631743Z"
    },
    "papermill": {
     "duration": 0.058645,
     "end_time": "2023-07-14T10:41:23.634862",
     "exception": false,
     "start_time": "2023-07-14T10:41:23.576217",
     "status": "completed"
    },
    "tags": []
   },
   "outputs": [
    {
     "data": {
      "text/plain": [
       "keyword         87\n",
       "location      3638\n",
       "text             0\n",
       "choose_one       0\n",
       "dtype: int64"
      ]
     },
     "execution_count": 30,
     "metadata": {},
     "output_type": "execute_result"
    }
   ],
   "source": [
    "#Check for the Null values\n",
    "train2s.isnull().sum()"
   ]
  },
  {
   "cell_type": "code",
   "execution_count": 31,
   "id": "1e03bc24",
   "metadata": {
    "execution": {
     "iopub.execute_input": "2023-07-14T10:41:23.697135Z",
     "iopub.status.busy": "2023-07-14T10:41:23.695976Z",
     "iopub.status.idle": "2023-07-14T10:41:24.020589Z",
     "shell.execute_reply": "2023-07-14T10:41:24.019647Z"
    },
    "papermill": {
     "duration": 0.358392,
     "end_time": "2023-07-14T10:41:24.022718",
     "exception": false,
     "start_time": "2023-07-14T10:41:23.664326",
     "status": "completed"
    },
    "tags": []
   },
   "outputs": [
    {
     "name": "stdout",
     "output_type": "stream",
     "text": [
      "Total number of samples in the data = 10876\n"
     ]
    },
    {
     "data": {
      "image/png": "[encoded data removed]",
      "text/plain": [
       "<Figure size 640x480 with 2 Axes>"
      ]
     },
     "metadata": {},
     "output_type": "display_data"
    }
   ],
   "source": [
    "#For a better understanding, let's see the plot of Null values\n",
    "plot_null_values(train2s)"
   ]
  },
  {
   "cell_type": "code",
   "execution_count": 32,
   "id": "dea7d88d",
   "metadata": {
    "execution": {
     "iopub.execute_input": "2023-07-14T10:41:24.083515Z",
     "iopub.status.busy": "2023-07-14T10:41:24.082647Z",
     "iopub.status.idle": "2023-07-14T10:41:24.456468Z",
     "shell.execute_reply": "2023-07-14T10:41:24.455517Z"
    },
    "papermill": {
     "duration": 0.406887,
     "end_time": "2023-07-14T10:41:24.458950",
     "exception": false,
     "start_time": "2023-07-14T10:41:24.052063",
     "status": "completed"
    },
    "tags": []
   },
   "outputs": [
    {
     "name": "stdout",
     "output_type": "stream",
     "text": [
      "Total number of samples in the data = 10876\n"
     ]
    },
    {
     "data": {
      "image/png": "[encoded data removed]",
      "text/plain": [
       "<Figure size 640x480 with 2 Axes>"
      ]
     },
     "metadata": {},
     "output_type": "display_data"
    }
   ],
   "source": [
    "#Fill the Null values with str(0)\n",
    "train2s.fillna(\"0\",inplace=True)\n",
    "\n",
    "#Check for te Null values\n",
    "plot_null_values(train2s)"
   ]
  },
  {
   "cell_type": "markdown",
   "id": "675cecd8",
   "metadata": {
    "papermill": {
     "duration": 0.029311,
     "end_time": "2023-07-14T10:41:24.518747",
     "exception": false,
     "start_time": "2023-07-14T10:41:24.489436",
     "status": "completed"
    },
    "tags": []
   },
   "source": [
    "### Target Analysis of Disaster on Social Media dataset"
   ]
  },
  {
   "cell_type": "code",
   "execution_count": 33,
   "id": "c870c265",
   "metadata": {
    "execution": {
     "iopub.execute_input": "2023-07-14T10:41:24.615239Z",
     "iopub.status.busy": "2023-07-14T10:41:24.614727Z",
     "iopub.status.idle": "2023-07-14T10:41:24.640655Z",
     "shell.execute_reply": "2023-07-14T10:41:24.639197Z"
    },
    "papermill": {
     "duration": 0.0848,
     "end_time": "2023-07-14T10:41:24.645035",
     "exception": false,
     "start_time": "2023-07-14T10:41:24.560235",
     "status": "completed"
    },
    "tags": []
   },
   "outputs": [
    {
     "data": {
      "text/html": [
       "<div>\n",
       "<style scoped>\n",
       "    .dataframe tbody tr th:only-of-type {\n",
       "        vertical-align: middle;\n",
       "    }\n",
       "\n",
       "    .dataframe tbody tr th {\n",
       "        vertical-align: top;\n",
       "    }\n",
       "\n",
       "    .dataframe thead th {\n",
       "        text-align: right;\n",
       "    }\n",
       "</style>\n",
       "<table border=\"1\" class=\"dataframe\">\n",
       "  <thead>\n",
       "    <tr style=\"text-align: right;\">\n",
       "      <th></th>\n",
       "      <th>keyword</th>\n",
       "      <th>location</th>\n",
       "      <th>text</th>\n",
       "      <th>target</th>\n",
       "    </tr>\n",
       "  </thead>\n",
       "  <tbody>\n",
       "    <tr>\n",
       "      <th>0</th>\n",
       "      <td>0</td>\n",
       "      <td>0</td>\n",
       "      <td>Just happened a terrible car crash</td>\n",
       "      <td>Relevant</td>\n",
       "    </tr>\n",
       "    <tr>\n",
       "      <th>1</th>\n",
       "      <td>0</td>\n",
       "      <td>0</td>\n",
       "      <td>Our Deeds are the Reason of this #earthquake M...</td>\n",
       "      <td>Relevant</td>\n",
       "    </tr>\n",
       "    <tr>\n",
       "      <th>2</th>\n",
       "      <td>0</td>\n",
       "      <td>0</td>\n",
       "      <td>Heard about #earthquake is different cities, s...</td>\n",
       "      <td>Relevant</td>\n",
       "    </tr>\n",
       "    <tr>\n",
       "      <th>3</th>\n",
       "      <td>0</td>\n",
       "      <td>0</td>\n",
       "      <td>there is a forest fire at spot pond, geese are...</td>\n",
       "      <td>Relevant</td>\n",
       "    </tr>\n",
       "    <tr>\n",
       "      <th>4</th>\n",
       "      <td>0</td>\n",
       "      <td>0</td>\n",
       "      <td>Forest fire near La Ronge Sask. Canada</td>\n",
       "      <td>Relevant</td>\n",
       "    </tr>\n",
       "  </tbody>\n",
       "</table>\n",
       "</div>"
      ],
      "text/plain": [
       "  keyword location                                               text  \\\n",
       "0       0        0                 Just happened a terrible car crash   \n",
       "1       0        0  Our Deeds are the Reason of this #earthquake M...   \n",
       "2       0        0  Heard about #earthquake is different cities, s...   \n",
       "3       0        0  there is a forest fire at spot pond, geese are...   \n",
       "4       0        0             Forest fire near La Ronge Sask. Canada   \n",
       "\n",
       "     target  \n",
       "0  Relevant  \n",
       "1  Relevant  \n",
       "2  Relevant  \n",
       "3  Relevant  \n",
       "4  Relevant  "
      ]
     },
     "execution_count": 33,
     "metadata": {},
     "output_type": "execute_result"
    }
   ],
   "source": [
    "#Renname the \"choose_one\" column as \"text\"\n",
    "train2s.rename(columns={\"choose_one\":\"target\"},inplace=True)\n",
    "train2s.head()"
   ]
  },
  {
   "cell_type": "code",
   "execution_count": 34,
   "id": "2096a269",
   "metadata": {
    "execution": {
     "iopub.execute_input": "2023-07-14T10:41:24.710509Z",
     "iopub.status.busy": "2023-07-14T10:41:24.710168Z",
     "iopub.status.idle": "2023-07-14T10:41:24.717393Z",
     "shell.execute_reply": "2023-07-14T10:41:24.716527Z"
    },
    "papermill": {
     "duration": 0.040368,
     "end_time": "2023-07-14T10:41:24.719387",
     "exception": false,
     "start_time": "2023-07-14T10:41:24.679019",
     "status": "completed"
    },
    "tags": []
   },
   "outputs": [
    {
     "data": {
      "text/plain": [
       "array(['Relevant', 'Not Relevant', \"Can't Decide\"], dtype=object)"
      ]
     },
     "execution_count": 34,
     "metadata": {},
     "output_type": "execute_result"
    }
   ],
   "source": [
    "#Unique values in the target column\n",
    "train2s[\"target\"].unique()"
   ]
  },
  {
   "cell_type": "code",
   "execution_count": 35,
   "id": "3f632386",
   "metadata": {
    "execution": {
     "iopub.execute_input": "2023-07-14T10:41:24.781910Z",
     "iopub.status.busy": "2023-07-14T10:41:24.780968Z",
     "iopub.status.idle": "2023-07-14T10:41:24.795983Z",
     "shell.execute_reply": "2023-07-14T10:41:24.794938Z"
    },
    "papermill": {
     "duration": 0.04821,
     "end_time": "2023-07-14T10:41:24.798295",
     "exception": false,
     "start_time": "2023-07-14T10:41:24.750085",
     "status": "completed"
    },
    "tags": []
   },
   "outputs": [
    {
     "data": {
      "text/html": [
       "<div>\n",
       "<style scoped>\n",
       "    .dataframe tbody tr th:only-of-type {\n",
       "        vertical-align: middle;\n",
       "    }\n",
       "\n",
       "    .dataframe tbody tr th {\n",
       "        vertical-align: top;\n",
       "    }\n",
       "\n",
       "    .dataframe thead th {\n",
       "        text-align: right;\n",
       "    }\n",
       "</style>\n",
       "<table border=\"1\" class=\"dataframe\">\n",
       "  <thead>\n",
       "    <tr style=\"text-align: right;\">\n",
       "      <th></th>\n",
       "      <th>target_category</th>\n",
       "      <th>count</th>\n",
       "    </tr>\n",
       "  </thead>\n",
       "  <tbody>\n",
       "    <tr>\n",
       "      <th>0</th>\n",
       "      <td>Not Relevant</td>\n",
       "      <td>6187</td>\n",
       "    </tr>\n",
       "    <tr>\n",
       "      <th>1</th>\n",
       "      <td>Relevant</td>\n",
       "      <td>4673</td>\n",
       "    </tr>\n",
       "    <tr>\n",
       "      <th>2</th>\n",
       "      <td>Can't Decide</td>\n",
       "      <td>16</td>\n",
       "    </tr>\n",
       "  </tbody>\n",
       "</table>\n",
       "</div>"
      ],
      "text/plain": [
       "  target_category  count\n",
       "0    Not Relevant   6187\n",
       "1        Relevant   4673\n",
       "2    Can't Decide     16"
      ]
     },
     "execution_count": 35,
     "metadata": {},
     "output_type": "execute_result"
    }
   ],
   "source": [
    "#Count the unique values in the target column\n",
    "target_count = train2s[\"target\"].value_counts()\n",
    "target_count_df = pd.DataFrame(data={\"target_category\":target_count.index, \"count\":target_count.values})\n",
    "target_count_df"
   ]
  },
  {
   "cell_type": "code",
   "execution_count": 36,
   "id": "30d1f216",
   "metadata": {
    "execution": {
     "iopub.execute_input": "2023-07-14T10:41:24.863109Z",
     "iopub.status.busy": "2023-07-14T10:41:24.862258Z",
     "iopub.status.idle": "2023-07-14T10:41:25.158547Z",
     "shell.execute_reply": "2023-07-14T10:41:25.157534Z"
    },
    "papermill": {
     "duration": 0.330935,
     "end_time": "2023-07-14T10:41:25.160923",
     "exception": false,
     "start_time": "2023-07-14T10:41:24.829988",
     "status": "completed"
    },
    "tags": []
   },
   "outputs": [
    {
     "data": {
      "image/png": "[encoded data removed]",
      "text/plain": [
       "<Figure size 640x480 with 1 Axes>"
      ]
     },
     "metadata": {},
     "output_type": "display_data"
    }
   ],
   "source": [
    "#Plot the values count of target column\n",
    "sns.barplot(data=target_count_df,x=\"target_category\", y=\"count\")\n",
    "plt.title(\"Distribution of values in the target column of Disasters on Social Media dataset\");"
   ]
  },
  {
   "cell_type": "code",
   "execution_count": 37,
   "id": "485e2e1e",
   "metadata": {
    "execution": {
     "iopub.execute_input": "2023-07-14T10:41:25.228243Z",
     "iopub.status.busy": "2023-07-14T10:41:25.227481Z",
     "iopub.status.idle": "2023-07-14T10:41:25.241697Z",
     "shell.execute_reply": "2023-07-14T10:41:25.240652Z"
    },
    "papermill": {
     "duration": 0.0504,
     "end_time": "2023-07-14T10:41:25.244091",
     "exception": false,
     "start_time": "2023-07-14T10:41:25.193691",
     "status": "completed"
    },
    "tags": []
   },
   "outputs": [
    {
     "data": {
      "text/html": [
       "<div>\n",
       "<style scoped>\n",
       "    .dataframe tbody tr th:only-of-type {\n",
       "        vertical-align: middle;\n",
       "    }\n",
       "\n",
       "    .dataframe tbody tr th {\n",
       "        vertical-align: top;\n",
       "    }\n",
       "\n",
       "    .dataframe thead th {\n",
       "        text-align: right;\n",
       "    }\n",
       "</style>\n",
       "<table border=\"1\" class=\"dataframe\">\n",
       "  <thead>\n",
       "    <tr style=\"text-align: right;\">\n",
       "      <th></th>\n",
       "      <th>keyword</th>\n",
       "      <th>location</th>\n",
       "      <th>text</th>\n",
       "      <th>target</th>\n",
       "    </tr>\n",
       "  </thead>\n",
       "  <tbody>\n",
       "    <tr>\n",
       "      <th>0</th>\n",
       "      <td>0</td>\n",
       "      <td>0</td>\n",
       "      <td>Just happened a terrible car crash</td>\n",
       "      <td>1</td>\n",
       "    </tr>\n",
       "    <tr>\n",
       "      <th>1</th>\n",
       "      <td>0</td>\n",
       "      <td>0</td>\n",
       "      <td>Our Deeds are the Reason of this #earthquake M...</td>\n",
       "      <td>1</td>\n",
       "    </tr>\n",
       "    <tr>\n",
       "      <th>2</th>\n",
       "      <td>0</td>\n",
       "      <td>0</td>\n",
       "      <td>Heard about #earthquake is different cities, s...</td>\n",
       "      <td>1</td>\n",
       "    </tr>\n",
       "    <tr>\n",
       "      <th>3</th>\n",
       "      <td>0</td>\n",
       "      <td>0</td>\n",
       "      <td>there is a forest fire at spot pond, geese are...</td>\n",
       "      <td>1</td>\n",
       "    </tr>\n",
       "    <tr>\n",
       "      <th>4</th>\n",
       "      <td>0</td>\n",
       "      <td>0</td>\n",
       "      <td>Forest fire near La Ronge Sask. Canada</td>\n",
       "      <td>1</td>\n",
       "    </tr>\n",
       "  </tbody>\n",
       "</table>\n",
       "</div>"
      ],
      "text/plain": [
       "  keyword location                                               text  target\n",
       "0       0        0                 Just happened a terrible car crash       1\n",
       "1       0        0  Our Deeds are the Reason of this #earthquake M...       1\n",
       "2       0        0  Heard about #earthquake is different cities, s...       1\n",
       "3       0        0  there is a forest fire at spot pond, geese are...       1\n",
       "4       0        0             Forest fire near La Ronge Sask. Canada       1"
      ]
     },
     "execution_count": 37,
     "metadata": {},
     "output_type": "execute_result"
    }
   ],
   "source": [
    "#Let's convert the categorical values of target column to integer\n",
    "train2s[\"target\"] = (train2s[\"target\"] == \"Relevant\").astype(\"int\")\n",
    "train2s.head()"
   ]
  },
  {
   "cell_type": "code",
   "execution_count": 38,
   "id": "efcdd3b3",
   "metadata": {
    "execution": {
     "iopub.execute_input": "2023-07-14T10:41:25.312308Z",
     "iopub.status.busy": "2023-07-14T10:41:25.311563Z",
     "iopub.status.idle": "2023-07-14T10:41:25.317795Z",
     "shell.execute_reply": "2023-07-14T10:41:25.316865Z"
    },
    "papermill": {
     "duration": 0.040606,
     "end_time": "2023-07-14T10:41:25.319730",
     "exception": false,
     "start_time": "2023-07-14T10:41:25.279124",
     "status": "completed"
    },
    "tags": []
   },
   "outputs": [],
   "source": [
    "#Count the unique values in the target column\n",
    "df = train2s[\"target\"].value_counts()\n",
    "df = pd.DataFrame({\"target_value\":df.index, \"count\":df.values})"
   ]
  },
  {
   "cell_type": "code",
   "execution_count": 39,
   "id": "dfeb23c2",
   "metadata": {
    "execution": {
     "iopub.execute_input": "2023-07-14T10:41:25.383610Z",
     "iopub.status.busy": "2023-07-14T10:41:25.382649Z",
     "iopub.status.idle": "2023-07-14T10:41:25.664810Z",
     "shell.execute_reply": "2023-07-14T10:41:25.663595Z"
    },
    "papermill": {
     "duration": 0.316925,
     "end_time": "2023-07-14T10:41:25.667555",
     "exception": false,
     "start_time": "2023-07-14T10:41:25.350630",
     "status": "completed"
    },
    "tags": []
   },
   "outputs": [
    {
     "data": {
      "image/png": "[encoded data removed]",
      "text/plain": [
       "<Figure size 640x480 with 1 Axes>"
      ]
     },
     "metadata": {},
     "output_type": "display_data"
    }
   ],
   "source": [
    "#Plot the values count of target column\n",
    "sns.barplot(data=df, x=\"target_value\", y=\"count\")\n",
    "plt.title(\"Distribution of target values of Disasters on Social Media dataset\");"
   ]
  },
  {
   "cell_type": "markdown",
   "id": "845f9473",
   "metadata": {
    "papermill": {
     "duration": 0.03625,
     "end_time": "2023-07-14T10:41:25.738065",
     "exception": false,
     "start_time": "2023-07-14T10:41:25.701815",
     "status": "completed"
    },
    "tags": []
   },
   "source": [
    "## Data processing"
   ]
  },
  {
   "cell_type": "code",
   "execution_count": 40,
   "id": "d24c8ded",
   "metadata": {
    "execution": {
     "iopub.execute_input": "2023-07-14T10:41:25.807341Z",
     "iopub.status.busy": "2023-07-14T10:41:25.806436Z",
     "iopub.status.idle": "2023-07-14T10:41:25.817661Z",
     "shell.execute_reply": "2023-07-14T10:41:25.816611Z"
    },
    "papermill": {
     "duration": 0.046483,
     "end_time": "2023-07-14T10:41:25.819767",
     "exception": false,
     "start_time": "2023-07-14T10:41:25.773284",
     "status": "completed"
    },
    "tags": []
   },
   "outputs": [
    {
     "data": {
      "text/html": [
       "<div>\n",
       "<style scoped>\n",
       "    .dataframe tbody tr th:only-of-type {\n",
       "        vertical-align: middle;\n",
       "    }\n",
       "\n",
       "    .dataframe tbody tr th {\n",
       "        vertical-align: top;\n",
       "    }\n",
       "\n",
       "    .dataframe thead th {\n",
       "        text-align: right;\n",
       "    }\n",
       "</style>\n",
       "<table border=\"1\" class=\"dataframe\">\n",
       "  <thead>\n",
       "    <tr style=\"text-align: right;\">\n",
       "      <th></th>\n",
       "      <th>id</th>\n",
       "      <th>keyword</th>\n",
       "      <th>location</th>\n",
       "      <th>text</th>\n",
       "      <th>target</th>\n",
       "    </tr>\n",
       "  </thead>\n",
       "  <tbody>\n",
       "    <tr>\n",
       "      <th>0</th>\n",
       "      <td>1</td>\n",
       "      <td>0</td>\n",
       "      <td>0</td>\n",
       "      <td>Our Deeds are the Reason of this #earthquake M...</td>\n",
       "      <td>1</td>\n",
       "    </tr>\n",
       "    <tr>\n",
       "      <th>1</th>\n",
       "      <td>4</td>\n",
       "      <td>0</td>\n",
       "      <td>0</td>\n",
       "      <td>Forest fire near La Ronge Sask. Canada</td>\n",
       "      <td>1</td>\n",
       "    </tr>\n",
       "  </tbody>\n",
       "</table>\n",
       "</div>"
      ],
      "text/plain": [
       "   id keyword location                                               text  \\\n",
       "0   1       0        0  Our Deeds are the Reason of this #earthquake M...   \n",
       "1   4       0        0             Forest fire near La Ronge Sask. Canada   \n",
       "\n",
       "   target  \n",
       "0       1  \n",
       "1       1  "
      ]
     },
     "execution_count": 40,
     "metadata": {},
     "output_type": "execute_result"
    }
   ],
   "source": [
    "#View the train dataset\n",
    "train.head(2)"
   ]
  },
  {
   "cell_type": "code",
   "execution_count": 41,
   "id": "12ee3a54",
   "metadata": {
    "execution": {
     "iopub.execute_input": "2023-07-14T10:41:25.885818Z",
     "iopub.status.busy": "2023-07-14T10:41:25.884645Z",
     "iopub.status.idle": "2023-07-14T10:41:25.895124Z",
     "shell.execute_reply": "2023-07-14T10:41:25.894104Z"
    },
    "papermill": {
     "duration": 0.04456,
     "end_time": "2023-07-14T10:41:25.897214",
     "exception": false,
     "start_time": "2023-07-14T10:41:25.852654",
     "status": "completed"
    },
    "tags": []
   },
   "outputs": [
    {
     "data": {
      "text/html": [
       "<div>\n",
       "<style scoped>\n",
       "    .dataframe tbody tr th:only-of-type {\n",
       "        vertical-align: middle;\n",
       "    }\n",
       "\n",
       "    .dataframe tbody tr th {\n",
       "        vertical-align: top;\n",
       "    }\n",
       "\n",
       "    .dataframe thead th {\n",
       "        text-align: right;\n",
       "    }\n",
       "</style>\n",
       "<table border=\"1\" class=\"dataframe\">\n",
       "  <thead>\n",
       "    <tr style=\"text-align: right;\">\n",
       "      <th></th>\n",
       "      <th>keyword</th>\n",
       "      <th>location</th>\n",
       "      <th>text</th>\n",
       "      <th>target</th>\n",
       "    </tr>\n",
       "  </thead>\n",
       "  <tbody>\n",
       "    <tr>\n",
       "      <th>0</th>\n",
       "      <td>0</td>\n",
       "      <td>0</td>\n",
       "      <td>Just happened a terrible car crash</td>\n",
       "      <td>1</td>\n",
       "    </tr>\n",
       "    <tr>\n",
       "      <th>1</th>\n",
       "      <td>0</td>\n",
       "      <td>0</td>\n",
       "      <td>Our Deeds are the Reason of this #earthquake M...</td>\n",
       "      <td>1</td>\n",
       "    </tr>\n",
       "  </tbody>\n",
       "</table>\n",
       "</div>"
      ],
      "text/plain": [
       "  keyword location                                               text  target\n",
       "0       0        0                 Just happened a terrible car crash       1\n",
       "1       0        0  Our Deeds are the Reason of this #earthquake M...       1"
      ]
     },
     "execution_count": 41,
     "metadata": {},
     "output_type": "execute_result"
    }
   ],
   "source": [
    "#View the processed \"disaster on Social Media\" dataset\n",
    "train2s.head(2)"
   ]
  },
  {
   "cell_type": "code",
   "execution_count": 42,
   "id": "85a63f3f",
   "metadata": {
    "execution": {
     "iopub.execute_input": "2023-07-14T10:41:25.961876Z",
     "iopub.status.busy": "2023-07-14T10:41:25.961531Z",
     "iopub.status.idle": "2023-07-14T10:41:25.969834Z",
     "shell.execute_reply": "2023-07-14T10:41:25.968796Z"
    },
    "papermill": {
     "duration": 0.043024,
     "end_time": "2023-07-14T10:41:25.972027",
     "exception": false,
     "start_time": "2023-07-14T10:41:25.929003",
     "status": "completed"
    },
    "tags": []
   },
   "outputs": [
    {
     "data": {
      "text/plain": [
       "0           1\n",
       "1           4\n",
       "2           5\n",
       "3           6\n",
       "4           7\n",
       "        ...  \n",
       "7608    10869\n",
       "7609    10870\n",
       "7610    10871\n",
       "7611    10872\n",
       "7612    10873\n",
       "Name: id, Length: 7613, dtype: int64"
      ]
     },
     "execution_count": 42,
     "metadata": {},
     "output_type": "execute_result"
    }
   ],
   "source": [
    "#Remove the \"id\" column form the train DataFrame\n",
    "train.pop(\"id\")"
   ]
  },
  {
   "cell_type": "code",
   "execution_count": 43,
   "id": "50a8a3e5",
   "metadata": {
    "execution": {
     "iopub.execute_input": "2023-07-14T10:41:26.039020Z",
     "iopub.status.busy": "2023-07-14T10:41:26.038718Z",
     "iopub.status.idle": "2023-07-14T10:41:26.049032Z",
     "shell.execute_reply": "2023-07-14T10:41:26.047969Z"
    },
    "papermill": {
     "duration": 0.044774,
     "end_time": "2023-07-14T10:41:26.051505",
     "exception": false,
     "start_time": "2023-07-14T10:41:26.006731",
     "status": "completed"
    },
    "tags": []
   },
   "outputs": [
    {
     "data": {
      "text/html": [
       "<div>\n",
       "<style scoped>\n",
       "    .dataframe tbody tr th:only-of-type {\n",
       "        vertical-align: middle;\n",
       "    }\n",
       "\n",
       "    .dataframe tbody tr th {\n",
       "        vertical-align: top;\n",
       "    }\n",
       "\n",
       "    .dataframe thead th {\n",
       "        text-align: right;\n",
       "    }\n",
       "</style>\n",
       "<table border=\"1\" class=\"dataframe\">\n",
       "  <thead>\n",
       "    <tr style=\"text-align: right;\">\n",
       "      <th></th>\n",
       "      <th>keyword</th>\n",
       "      <th>location</th>\n",
       "      <th>text</th>\n",
       "      <th>target</th>\n",
       "    </tr>\n",
       "  </thead>\n",
       "  <tbody>\n",
       "    <tr>\n",
       "      <th>0</th>\n",
       "      <td>0</td>\n",
       "      <td>0</td>\n",
       "      <td>Our Deeds are the Reason of this #earthquake M...</td>\n",
       "      <td>1</td>\n",
       "    </tr>\n",
       "    <tr>\n",
       "      <th>1</th>\n",
       "      <td>0</td>\n",
       "      <td>0</td>\n",
       "      <td>Forest fire near La Ronge Sask. Canada</td>\n",
       "      <td>1</td>\n",
       "    </tr>\n",
       "  </tbody>\n",
       "</table>\n",
       "</div>"
      ],
      "text/plain": [
       "  keyword location                                               text  target\n",
       "0       0        0  Our Deeds are the Reason of this #earthquake M...       1\n",
       "1       0        0             Forest fire near La Ronge Sask. Canada       1"
      ]
     },
     "execution_count": 43,
     "metadata": {},
     "output_type": "execute_result"
    }
   ],
   "source": [
    "train.head(2)"
   ]
  },
  {
   "cell_type": "code",
   "execution_count": 44,
   "id": "1e550175",
   "metadata": {
    "execution": {
     "iopub.execute_input": "2023-07-14T10:41:26.122271Z",
     "iopub.status.busy": "2023-07-14T10:41:26.121922Z",
     "iopub.status.idle": "2023-07-14T10:41:26.135955Z",
     "shell.execute_reply": "2023-07-14T10:41:26.134835Z"
    },
    "papermill": {
     "duration": 0.052995,
     "end_time": "2023-07-14T10:41:26.138460",
     "exception": false,
     "start_time": "2023-07-14T10:41:26.085465",
     "status": "completed"
    },
    "tags": []
   },
   "outputs": [
    {
     "data": {
      "text/html": [
       "<div>\n",
       "<style scoped>\n",
       "    .dataframe tbody tr th:only-of-type {\n",
       "        vertical-align: middle;\n",
       "    }\n",
       "\n",
       "    .dataframe tbody tr th {\n",
       "        vertical-align: top;\n",
       "    }\n",
       "\n",
       "    .dataframe thead th {\n",
       "        text-align: right;\n",
       "    }\n",
       "</style>\n",
       "<table border=\"1\" class=\"dataframe\">\n",
       "  <thead>\n",
       "    <tr style=\"text-align: right;\">\n",
       "      <th></th>\n",
       "      <th>keyword</th>\n",
       "      <th>location</th>\n",
       "      <th>text</th>\n",
       "      <th>target</th>\n",
       "    </tr>\n",
       "  </thead>\n",
       "  <tbody>\n",
       "    <tr>\n",
       "      <th>0</th>\n",
       "      <td>0</td>\n",
       "      <td>0</td>\n",
       "      <td>Our Deeds are the Reason of this #earthquake M...</td>\n",
       "      <td>1</td>\n",
       "    </tr>\n",
       "    <tr>\n",
       "      <th>1</th>\n",
       "      <td>0</td>\n",
       "      <td>0</td>\n",
       "      <td>Forest fire near La Ronge Sask. Canada</td>\n",
       "      <td>1</td>\n",
       "    </tr>\n",
       "    <tr>\n",
       "      <th>2</th>\n",
       "      <td>0</td>\n",
       "      <td>0</td>\n",
       "      <td>All residents asked to 'shelter in place' are ...</td>\n",
       "      <td>1</td>\n",
       "    </tr>\n",
       "    <tr>\n",
       "      <th>3</th>\n",
       "      <td>0</td>\n",
       "      <td>0</td>\n",
       "      <td>13,000 people receive #wildfires evacuation or...</td>\n",
       "      <td>1</td>\n",
       "    </tr>\n",
       "    <tr>\n",
       "      <th>4</th>\n",
       "      <td>0</td>\n",
       "      <td>0</td>\n",
       "      <td>Just got sent this photo from Ruby #Alaska as ...</td>\n",
       "      <td>1</td>\n",
       "    </tr>\n",
       "  </tbody>\n",
       "</table>\n",
       "</div>"
      ],
      "text/plain": [
       "  keyword location                                               text  target\n",
       "0       0        0  Our Deeds are the Reason of this #earthquake M...       1\n",
       "1       0        0             Forest fire near La Ronge Sask. Canada       1\n",
       "2       0        0  All residents asked to 'shelter in place' are ...       1\n",
       "3       0        0  13,000 people receive #wildfires evacuation or...       1\n",
       "4       0        0  Just got sent this photo from Ruby #Alaska as ...       1"
      ]
     },
     "execution_count": 44,
     "metadata": {},
     "output_type": "execute_result"
    }
   ],
   "source": [
    "#Combine the two datasets\n",
    "train_dataset = pd.concat([train, train2s])\n",
    "train_dataset.head()"
   ]
  },
  {
   "cell_type": "code",
   "execution_count": 45,
   "id": "909d1827",
   "metadata": {
    "execution": {
     "iopub.execute_input": "2023-07-14T10:41:26.212328Z",
     "iopub.status.busy": "2023-07-14T10:41:26.211930Z",
     "iopub.status.idle": "2023-07-14T10:41:26.218526Z",
     "shell.execute_reply": "2023-07-14T10:41:26.217512Z"
    },
    "papermill": {
     "duration": 0.045608,
     "end_time": "2023-07-14T10:41:26.220702",
     "exception": false,
     "start_time": "2023-07-14T10:41:26.175094",
     "status": "completed"
    },
    "tags": []
   },
   "outputs": [
    {
     "data": {
      "text/plain": [
       "(18489, 4)"
      ]
     },
     "execution_count": 45,
     "metadata": {},
     "output_type": "execute_result"
    }
   ],
   "source": [
    "#Shape of the combined dataset\n",
    "train_dataset.shape"
   ]
  },
  {
   "cell_type": "code",
   "execution_count": 46,
   "id": "e550c5d3",
   "metadata": {
    "execution": {
     "iopub.execute_input": "2023-07-14T10:41:26.287831Z",
     "iopub.status.busy": "2023-07-14T10:41:26.287501Z",
     "iopub.status.idle": "2023-07-14T10:41:38.167526Z",
     "shell.execute_reply": "2023-07-14T10:41:38.166501Z"
    },
    "papermill": {
     "duration": 11.915703,
     "end_time": "2023-07-14T10:41:38.169747",
     "exception": false,
     "start_time": "2023-07-14T10:41:26.254044",
     "status": "completed"
    },
    "tags": []
   },
   "outputs": [
    {
     "data": {
      "image/png": "[encoded data removed]",
      "text/plain": [
       "<Figure size 640x480 with 1 Axes>"
      ]
     },
     "metadata": {},
     "output_type": "display_data"
    }
   ],
   "source": [
    "#Use the plot_sentence_lengths to check the distribution og tweet lengths\n",
    "plot_sentence_lengths(train_dataset)"
   ]
  },
  {
   "cell_type": "code",
   "execution_count": 47,
   "id": "fc40c19d",
   "metadata": {
    "execution": {
     "iopub.execute_input": "2023-07-14T10:41:38.235037Z",
     "iopub.status.busy": "2023-07-14T10:41:38.234342Z",
     "iopub.status.idle": "2023-07-14T10:41:38.251589Z",
     "shell.execute_reply": "2023-07-14T10:41:38.250615Z"
    },
    "papermill": {
     "duration": 0.052099,
     "end_time": "2023-07-14T10:41:38.253769",
     "exception": false,
     "start_time": "2023-07-14T10:41:38.201670",
     "status": "completed"
    },
    "tags": []
   },
   "outputs": [
    {
     "data": {
      "text/html": [
       "<div>\n",
       "<style scoped>\n",
       "    .dataframe tbody tr th:only-of-type {\n",
       "        vertical-align: middle;\n",
       "    }\n",
       "\n",
       "    .dataframe tbody tr th {\n",
       "        vertical-align: top;\n",
       "    }\n",
       "\n",
       "    .dataframe thead th {\n",
       "        text-align: right;\n",
       "    }\n",
       "</style>\n",
       "<table border=\"1\" class=\"dataframe\">\n",
       "  <thead>\n",
       "    <tr style=\"text-align: right;\">\n",
       "      <th></th>\n",
       "      <th>keyword</th>\n",
       "      <th>location</th>\n",
       "      <th>text</th>\n",
       "      <th>target</th>\n",
       "    </tr>\n",
       "  </thead>\n",
       "  <tbody>\n",
       "    <tr>\n",
       "      <th>3046</th>\n",
       "      <td>death</td>\n",
       "      <td>0</td>\n",
       "      <td>@Kaay_Paat it's actually death and takes way l...</td>\n",
       "      <td>0</td>\n",
       "    </tr>\n",
       "    <tr>\n",
       "      <th>10789</th>\n",
       "      <td>wrecked</td>\n",
       "      <td>Pennsylvania</td>\n",
       "      <td>Four hundred wrecked cars (costing $100 apiece...</td>\n",
       "      <td>0</td>\n",
       "    </tr>\n",
       "    <tr>\n",
       "      <th>467</th>\n",
       "      <td>attack</td>\n",
       "      <td>Online 24/7. Not even kidding.</td>\n",
       "      <td>Notley's tactful yet very direct response to H...</td>\n",
       "      <td>1</td>\n",
       "    </tr>\n",
       "    <tr>\n",
       "      <th>7480</th>\n",
       "      <td>wreck</td>\n",
       "      <td>0</td>\n",
       "      <td>Ranking #artectura #pop2015 #Nå¼36 Florence + ...</td>\n",
       "      <td>0</td>\n",
       "    </tr>\n",
       "    <tr>\n",
       "      <th>6772</th>\n",
       "      <td>lightning</td>\n",
       "      <td>Greensboro, North Carolina</td>\n",
       "      <td>Heavy rain gusty winds and vivid lightning mov...</td>\n",
       "      <td>1</td>\n",
       "    </tr>\n",
       "  </tbody>\n",
       "</table>\n",
       "</div>"
      ],
      "text/plain": [
       "         keyword                        location  \\\n",
       "3046       death                               0   \n",
       "10789    wrecked                    Pennsylvania   \n",
       "467       attack  Online 24/7. Not even kidding.   \n",
       "7480       wreck                               0   \n",
       "6772   lightning      Greensboro, North Carolina   \n",
       "\n",
       "                                                    text  target  \n",
       "3046   @Kaay_Paat it's actually death and takes way l...       0  \n",
       "10789  Four hundred wrecked cars (costing $100 apiece...       0  \n",
       "467    Notley's tactful yet very direct response to H...       1  \n",
       "7480   Ranking #artectura #pop2015 #Nå¼36 Florence + ...       0  \n",
       "6772   Heavy rain gusty winds and vivid lightning mov...       1  "
      ]
     },
     "execution_count": 47,
     "metadata": {},
     "output_type": "execute_result"
    }
   ],
   "source": [
    "#Shuffle the DataFrame\n",
    "train_dataset = shuffle(train_dataset, random_state=SEED)\n",
    "train_dataset = shuffle(train_dataset, random_state=int(SEED/2))\n",
    "train_dataset.head()"
   ]
  },
  {
   "cell_type": "code",
   "execution_count": 48,
   "id": "05878c60",
   "metadata": {
    "execution": {
     "iopub.execute_input": "2023-07-14T10:41:38.323344Z",
     "iopub.status.busy": "2023-07-14T10:41:38.322457Z",
     "iopub.status.idle": "2023-07-14T10:41:44.261375Z",
     "shell.execute_reply": "2023-07-14T10:41:44.260381Z"
    },
    "papermill": {
     "duration": 5.975322,
     "end_time": "2023-07-14T10:41:44.263859",
     "exception": false,
     "start_time": "2023-07-14T10:41:38.288537",
     "status": "completed"
    },
    "tags": []
   },
   "outputs": [],
   "source": [
    "#Convert train data to tf.data.Dataset object\n",
    "BATCH = 32\n",
    "#Concatenate the text data of the columns \"keyword\", \"location\", \"text\"\n",
    "train_tf = tf.data.Dataset.from_tensor_slices(\n",
    "    (train_dataset['keyword'] + train_dataset['location'] + train_dataset['text'], train_dataset[TARGET]))\n",
    "\n",
    "#Convert the data into batch\n",
    "train_tf = train_tf.shuffle(int((SEED*13)/8)).batch(BATCH)\n",
    "\n",
    "#Convert test data to tf.data.Dataset object\n",
    "test_tf = tf.data.Dataset.from_tensor_slices(test['keyword'] + test['location'] + test['text'])\n",
    "\n",
    "#Convert the data into batch\n",
    "test_tf = test_tf.batch(BATCH)"
   ]
  },
  {
   "cell_type": "markdown",
   "id": "cc3b34ce",
   "metadata": {
    "papermill": {
     "duration": 0.033155,
     "end_time": "2023-07-14T10:41:44.329814",
     "exception": false,
     "start_time": "2023-07-14T10:41:44.296659",
     "status": "completed"
    },
    "tags": []
   },
   "source": [
    "## Text Vectorization\n",
    "\n",
    "To enable the model to process the text data, we need to convert it into integer values through a process called text vectorization."
   ]
  },
  {
   "cell_type": "code",
   "execution_count": 49,
   "id": "de843e06",
   "metadata": {
    "execution": {
     "iopub.execute_input": "2023-07-14T10:41:44.404915Z",
     "iopub.status.busy": "2023-07-14T10:41:44.404506Z",
     "iopub.status.idle": "2023-07-14T10:41:44.434197Z",
     "shell.execute_reply": "2023-07-14T10:41:44.433060Z"
    },
    "papermill": {
     "duration": 0.065707,
     "end_time": "2023-07-14T10:41:44.436438",
     "exception": false,
     "start_time": "2023-07-14T10:41:44.370731",
     "status": "completed"
    },
    "tags": []
   },
   "outputs": [],
   "source": [
    "max_length = 165\n",
    "max_tokens = 20_000\n",
    "\n",
    "#Instantiate the TextVectorization layer\n",
    "text_vectorization = layers.TextVectorization(max_tokens=max_tokens,\n",
    "                                              output_mode='int',\n",
    "                                              output_sequence_length=max_length\n",
    "                                             )"
   ]
  },
  {
   "cell_type": "code",
   "execution_count": 50,
   "id": "0a7bb947",
   "metadata": {
    "execution": {
     "iopub.execute_input": "2023-07-14T10:41:44.505325Z",
     "iopub.status.busy": "2023-07-14T10:41:44.505019Z",
     "iopub.status.idle": "2023-07-14T10:41:45.796948Z",
     "shell.execute_reply": "2023-07-14T10:41:45.795832Z"
    },
    "papermill": {
     "duration": 1.328497,
     "end_time": "2023-07-14T10:41:45.799572",
     "exception": false,
     "start_time": "2023-07-14T10:41:44.471075",
     "status": "completed"
    },
    "tags": []
   },
   "outputs": [],
   "source": [
    "#Learn the vocabulary\n",
    "text_vectorization.adapt(train_tf.map(lambda twt, target: twt))"
   ]
  },
  {
   "cell_type": "code",
   "execution_count": 51,
   "id": "2f11a8d2",
   "metadata": {
    "execution": {
     "iopub.execute_input": "2023-07-14T10:41:45.867652Z",
     "iopub.status.busy": "2023-07-14T10:41:45.865986Z",
     "iopub.status.idle": "2023-07-14T10:41:45.944153Z",
     "shell.execute_reply": "2023-07-14T10:41:45.942780Z"
    },
    "papermill": {
     "duration": 0.114328,
     "end_time": "2023-07-14T10:41:45.946602",
     "exception": false,
     "start_time": "2023-07-14T10:41:45.832274",
     "status": "completed"
    },
    "tags": []
   },
   "outputs": [
    {
     "name": "stdout",
     "output_type": "stream",
     "text": [
      "Vocabulary size = 20000\n"
     ]
    }
   ],
   "source": [
    "#Get the vocabulary\n",
    "vocab = text_vectorization.get_vocabulary()\n",
    "print(\"Vocabulary size =\",len(vocab))\n",
    "\n",
    "#Convert the list object to NumPy array for decoding the vectorized data\n",
    "vocab = np.array(vocab)"
   ]
  },
  {
   "cell_type": "code",
   "execution_count": 52,
   "id": "125b8f05",
   "metadata": {
    "execution": {
     "iopub.execute_input": "2023-07-14T10:41:46.016037Z",
     "iopub.status.busy": "2023-07-14T10:41:46.014166Z",
     "iopub.status.idle": "2023-07-14T10:41:46.126222Z",
     "shell.execute_reply": "2023-07-14T10:41:46.125285Z"
    },
    "papermill": {
     "duration": 0.148578,
     "end_time": "2023-07-14T10:41:46.128478",
     "exception": false,
     "start_time": "2023-07-14T10:41:45.979900",
     "status": "completed"
    },
    "tags": []
   },
   "outputs": [],
   "source": [
    "#Vectorize the train dataset\n",
    "train_tf = train_tf.map(lambda twt, target: (text_vectorization(twt), target),\n",
    "                   num_parallel_calls=tf.data.AUTOTUNE)\n",
    "\n",
    "#Vectorize the test dataset\n",
    "test_tf = test_tf.map(lambda twt: text_vectorization(twt),\n",
    "                      num_parallel_calls=tf.data.AUTOTUNE)"
   ]
  },
  {
   "cell_type": "code",
   "execution_count": 53,
   "id": "d9bf26cc",
   "metadata": {
    "execution": {
     "iopub.execute_input": "2023-07-14T10:41:46.197072Z",
     "iopub.status.busy": "2023-07-14T10:41:46.196351Z",
     "iopub.status.idle": "2023-07-14T10:41:46.203472Z",
     "shell.execute_reply": "2023-07-14T10:41:46.202620Z"
    },
    "papermill": {
     "duration": 0.043924,
     "end_time": "2023-07-14T10:41:46.205594",
     "exception": false,
     "start_time": "2023-07-14T10:41:46.161670",
     "status": "completed"
    },
    "tags": []
   },
   "outputs": [],
   "source": [
    "#Define a function to print the tokenized data\n",
    "def print_sample(data_obj):\n",
    "    for sample, traget in data_obj:\n",
    "        #Print the first item\n",
    "        print(\"1st sample:\",sample[0].numpy())\n",
    "        print(\"\\n\")\n",
    "        #Print the second item\n",
    "        print(\"2nd sample:\",sample[1].numpy())\n",
    "        print(\"\\n\")\n",
    "        #Print the third item\n",
    "        print(\"3rd sample:\",sample[2].numpy())\n",
    "        print(\"\\n\")\n",
    "        break"
   ]
  },
  {
   "cell_type": "code",
   "execution_count": 54,
   "id": "ce38f32f",
   "metadata": {
    "execution": {
     "iopub.execute_input": "2023-07-14T10:41:46.271260Z",
     "iopub.status.busy": "2023-07-14T10:41:46.270964Z",
     "iopub.status.idle": "2023-07-14T10:41:46.382932Z",
     "shell.execute_reply": "2023-07-14T10:41:46.381882Z"
    },
    "papermill": {
     "duration": 0.149397,
     "end_time": "2023-07-14T10:41:46.386888",
     "exception": false,
     "start_time": "2023-07-14T10:41:46.237491",
     "status": "completed"
    },
    "tags": []
   },
   "outputs": [
    {
     "name": "stdout",
     "output_type": "stream",
     "text": [
      "1st sample: [13526   414    37   328  1586    83   960 19238     0     0     0     0\n",
      "     0     0     0     0     0     0     0     0     0     0     0     0\n",
      "     0     0     0     0     0     0     0     0     0     0     0     0\n",
      "     0     0     0     0     0     0     0     0     0     0     0     0\n",
      "     0     0     0     0     0     0     0     0     0     0     0     0\n",
      "     0     0     0     0     0     0     0     0     0     0     0     0\n",
      "     0     0     0     0     0     0     0     0     0     0     0     0\n",
      "     0     0     0     0     0     0     0     0     0     0     0     0\n",
      "     0     0     0     0     0     0     0     0     0     0     0     0\n",
      "     0     0     0     0     0     0     0     0     0     0     0     0\n",
      "     0     0     0     0     0     0     0     0     0     0     0     0\n",
      "     0     0     0     0     0     0     0     0     0     0     0     0\n",
      "     0     0     0     0     0     0     0     0     0     0     0     0\n",
      "     0     0     0     0     0     0     0     0     0]\n",
      "\n",
      "\n",
      "2nd sample: [ 5552   843     1   957  3376  2157  1121  1838  4273  1982  3202  1042\n",
      "  4733     1    16   885 18945     0     0     0     0     0     0     0\n",
      "     0     0     0     0     0     0     0     0     0     0     0     0\n",
      "     0     0     0     0     0     0     0     0     0     0     0     0\n",
      "     0     0     0     0     0     0     0     0     0     0     0     0\n",
      "     0     0     0     0     0     0     0     0     0     0     0     0\n",
      "     0     0     0     0     0     0     0     0     0     0     0     0\n",
      "     0     0     0     0     0     0     0     0     0     0     0     0\n",
      "     0     0     0     0     0     0     0     0     0     0     0     0\n",
      "     0     0     0     0     0     0     0     0     0     0     0     0\n",
      "     0     0     0     0     0     0     0     0     0     0     0     0\n",
      "     0     0     0     0     0     0     0     0     0     0     0     0\n",
      "     0     0     0     0     0     0     0     0     0     0     0     0\n",
      "     0     0     0     0     0     0     0     0     0]\n",
      "\n",
      "\n",
      "3rd sample: [5677  441   13  331  105    0    0    0    0    0    0    0    0    0\n",
      "    0    0    0    0    0    0    0    0    0    0    0    0    0    0\n",
      "    0    0    0    0    0    0    0    0    0    0    0    0    0    0\n",
      "    0    0    0    0    0    0    0    0    0    0    0    0    0    0\n",
      "    0    0    0    0    0    0    0    0    0    0    0    0    0    0\n",
      "    0    0    0    0    0    0    0    0    0    0    0    0    0    0\n",
      "    0    0    0    0    0    0    0    0    0    0    0    0    0    0\n",
      "    0    0    0    0    0    0    0    0    0    0    0    0    0    0\n",
      "    0    0    0    0    0    0    0    0    0    0    0    0    0    0\n",
      "    0    0    0    0    0    0    0    0    0    0    0    0    0    0\n",
      "    0    0    0    0    0    0    0    0    0    0    0    0    0    0\n",
      "    0    0    0    0    0    0    0    0    0    0    0]\n",
      "\n",
      "\n"
     ]
    }
   ],
   "source": [
    "#Print the tokenized data\n",
    "print_sample(train_tf)"
   ]
  },
  {
   "cell_type": "code",
   "execution_count": 55,
   "id": "d224d504",
   "metadata": {
    "execution": {
     "iopub.execute_input": "2023-07-14T10:41:46.459930Z",
     "iopub.status.busy": "2023-07-14T10:41:46.459556Z",
     "iopub.status.idle": "2023-07-14T10:41:46.496491Z",
     "shell.execute_reply": "2023-07-14T10:41:46.495293Z"
    },
    "papermill": {
     "duration": 0.076823,
     "end_time": "2023-07-14T10:41:46.498873",
     "exception": false,
     "start_time": "2023-07-14T10:41:46.422050",
     "status": "completed"
    },
    "tags": []
   },
   "outputs": [
    {
     "name": "stdout",
     "output_type": "stream",
     "text": [
      "\t\t\t\tVectorized Tweet:\n",
      " tf.Tensor(\n",
      "[   1 4670   31  569 4670   31 1137  318   11    2 1633    8  508    8\n",
      "  544   12   14    3  832    0    0    0    0    0    0    0    0    0\n",
      "    0    0    0    0    0    0    0    0    0    0    0    0    0    0\n",
      "    0    0    0    0    0    0    0    0    0    0    0    0    0    0\n",
      "    0    0    0    0    0    0    0    0    0    0    0    0    0    0\n",
      "    0    0    0    0    0    0    0    0    0    0    0    0    0    0\n",
      "    0    0    0    0    0    0    0    0    0    0    0    0    0    0\n",
      "    0    0    0    0    0    0    0    0    0    0    0    0    0    0\n",
      "    0    0    0    0    0    0    0    0    0    0    0    0    0    0\n",
      "    0    0    0    0    0    0    0    0    0    0    0    0    0    0\n",
      "    0    0    0    0    0    0    0    0    0    0    0    0    0    0\n",
      "    0    0    0    0    0    0    0    0    0    0    0], shape=(165,), dtype=int64)\n",
      "\n",
      "\n",
      "\t\t\t\tDecoded Tweet:\n",
      " [UNK] hide your kids hide your wife hes on the loose i thought i flattened you with a ball                                                                                                                                                  \n"
     ]
    }
   ],
   "source": [
    "#Print the vectorized tweet and the decoded tweet\n",
    "for tx in train_tf:\n",
    "    print(\"\\t\\t\\t\\tVectorized Tweet:\\n\",tx[0][0])\n",
    "    print(\"\\n\\n\\t\\t\\t\\tDecoded Tweet:\\n\", \" \".join(vocab[tx[0][0].numpy()]))\n",
    "    break"
   ]
  },
  {
   "cell_type": "markdown",
   "id": "9dcef489",
   "metadata": {
    "papermill": {
     "duration": 0.032833,
     "end_time": "2023-07-14T10:41:46.566756",
     "exception": false,
     "start_time": "2023-07-14T10:41:46.533923",
     "status": "completed"
    },
    "tags": []
   },
   "source": [
    "## Model\n",
    "\n",
    "To classify the tweets, we will employ a Transformer model specifically designed as an Encoder-only model. In this approach, we will define the Encoder layer and incorporate a Positional Embedding layer using Keras subclassing. By utilizing these components, we aim to enhance the accuracy and effectiveness of our classification model.\n",
    "\n",
    "Moreover, the Transformer model's architecture enables it to capture contextual relationships and dependencies among words or tokens within the tweets. The Encoder layer acts as a powerful feature extractor, learning representations that contribute to the tweet classification task.\n",
    "\n",
    "Additionally, the Positional Embedding layer adds crucial positional information to the input tokens, enabling the model to discern the sequential order of words in the tweet. This positional encoding facilitates the Transformer model in capturing long-range dependencies and effectively processing the input text.\n",
    "\n",
    "By combining the Transformer's robust architecture with Keras subclassing, we can create a powerful and flexible model that yields accurate tweet classification results."
   ]
  },
  {
   "cell_type": "code",
   "execution_count": 56,
   "id": "a8137130",
   "metadata": {
    "execution": {
     "iopub.execute_input": "2023-07-14T10:41:46.636520Z",
     "iopub.status.busy": "2023-07-14T10:41:46.634871Z",
     "iopub.status.idle": "2023-07-14T10:41:46.646193Z",
     "shell.execute_reply": "2023-07-14T10:41:46.645270Z"
    },
    "papermill": {
     "duration": 0.048994,
     "end_time": "2023-07-14T10:41:46.649472",
     "exception": false,
     "start_time": "2023-07-14T10:41:46.600478",
     "status": "completed"
    },
    "tags": []
   },
   "outputs": [],
   "source": [
    "#Define a Transformer Encoder using subclassed layer\n",
    "class TransformerEncoder(layers.Layer):\n",
    "    def __init__(self, embed_dim, dense_dim, num_heads, **kwargs):\n",
    "        super().__init__(**kwargs)\n",
    "        #Size of the input vector (size of the vocabulary)\n",
    "        self.embed_dim = embed_dim\n",
    "        #Size of the inner dense layer\n",
    "        self.dense_dim = dense_dim\n",
    "        #Number of attention heads\n",
    "        self.num_heads = num_heads\n",
    "\n",
    "        self.attention = layers.MultiHeadAttention(num_heads=num_heads, key_dim=embed_dim)\n",
    "        self.dense_proj = keras.Sequential(\n",
    "                   [layers.Dense(dense_dim, activation=\"relu\"),\n",
    "                    layers.Dense(embed_dim),]\n",
    "                                        )\n",
    "        self.layernorm_1 = layers.LayerNormalization()\n",
    "        self.layernorm_2 = layers.LayerNormalization()\n",
    "        self.max_pool1 = layers.GlobalMaxPooling1D()\n",
    "\n",
    "    #Define a call() method  where forward pass is implemented\n",
    "    def call(self, inputs, mask=None):\n",
    "        if mask is not None:\n",
    "            mask = mask[:, tf.newaxis, :]\n",
    "\n",
    "        #Apply the attention layer\n",
    "        attention_output = self.attention(inputs, inputs, attention_mask=mask)\n",
    "        #Normalize the data\n",
    "        proj_input = self.layernorm_1(inputs + attention_output)\n",
    "        #Apply the dense layer\n",
    "        proj_output = self.dense_proj(proj_input)\n",
    "        #Normalize the data and return it\n",
    "        return self.layernorm_2(proj_input + proj_output)\n",
    "        \n",
    "        #return self.max_pool1(norm)\n",
    "\n",
    "    #Define configuration method\n",
    "    def get_config(self):\n",
    "        config = super().get_config()\n",
    "        config.update({\n",
    "                    \"embed_dim\": self.embed_dim,\n",
    "                    \"num_heads\": self.num_heads,\n",
    "                    \"dense_dim\": self.dense_dim,\n",
    "                    })\n",
    "        return config"
   ]
  },
  {
   "cell_type": "code",
   "execution_count": 57,
   "id": "59b50dc1",
   "metadata": {
    "execution": {
     "iopub.execute_input": "2023-07-14T10:41:46.721282Z",
     "iopub.status.busy": "2023-07-14T10:41:46.720366Z",
     "iopub.status.idle": "2023-07-14T10:41:46.731566Z",
     "shell.execute_reply": "2023-07-14T10:41:46.730505Z"
    },
    "papermill": {
     "duration": 0.049547,
     "end_time": "2023-07-14T10:41:46.733830",
     "exception": false,
     "start_time": "2023-07-14T10:41:46.684283",
     "status": "completed"
    },
    "tags": []
   },
   "outputs": [],
   "source": [
    "# Implementing positional embedding as a subclassed layer\n",
    "class PositionalEmbedding(layers.Layer):\n",
    "    def __init__(self, sequence_length, input_dim, output_dim, **kwargs):\n",
    "        super().__init__(**kwargs)\n",
    "        self.sequence_length = sequence_length\n",
    "        self.input_dim = input_dim\n",
    "        self.output_dim = output_dim\n",
    "        self.token_embeddings = layers.Embedding(\n",
    "          input_dim=input_dim, output_dim=output_dim)\n",
    "        self.position_embeddings = layers.Embedding(\n",
    "                   input_dim=sequence_length, output_dim=output_dim)\n",
    "\n",
    "    def call(self, inputs):\n",
    "        length = tf.shape(inputs)[-1]\n",
    "        positions = tf.range(start=0, limit=length, delta=1)\n",
    "        embedded_tokens = self.token_embeddings(inputs)\n",
    "        embedded_positions = self.position_embeddings(positions)\n",
    "        return embedded_tokens + embedded_positions\n",
    "\n",
    "    def compute_mask(self, inputs, mask=None):\n",
    "            return tf.math.not_equal(inputs, 0)\n",
    "\n",
    "    def get_config(self):\n",
    "        config = super().get_config()\n",
    "        config.update({\n",
    "           \"output_dim\": self.output_dim,\n",
    "           \"sequence_length\": self.sequence_length,\n",
    "           \"input_dim\": self.input_dim,\n",
    "                    })\n",
    "        return config"
   ]
  },
  {
   "cell_type": "code",
   "execution_count": 58,
   "id": "d18b5892",
   "metadata": {
    "execution": {
     "iopub.execute_input": "2023-07-14T10:41:46.806729Z",
     "iopub.status.busy": "2023-07-14T10:41:46.806369Z",
     "iopub.status.idle": "2023-07-14T10:41:47.252532Z",
     "shell.execute_reply": "2023-07-14T10:41:47.251503Z"
    },
    "papermill": {
     "duration": 0.485584,
     "end_time": "2023-07-14T10:41:47.255357",
     "exception": false,
     "start_time": "2023-07-14T10:41:46.769773",
     "status": "completed"
    },
    "tags": []
   },
   "outputs": [],
   "source": [
    "#Construct the model\n",
    "\n",
    "#Define the input\n",
    "inputs = keras.Input(shape=(None,), dtype=\"int64\")\n",
    "\n",
    "#Apply positional embeddings\n",
    "pos_embed = PositionalEmbedding(sequence_length=165,\n",
    "                        input_dim=20_000,\n",
    "                        output_dim=256)(inputs)\n",
    "\n",
    "#Apply the encoder\n",
    "encoded = TransformerEncoder(embed_dim=256,\n",
    "                             dense_dim=32,\n",
    "                             num_heads=8)(pos_embed)\n",
    "\n",
    "\n",
    "x = layers.GlobalMaxPooling1D()(encoded)\n",
    "x = layers.Dropout(0.5)(x)\n",
    "output = layers.Dense(units=1, activation=\"sigmoid\")(x)\n",
    "\n",
    "model = keras.Model(inputs=inputs,outputs=output)"
   ]
  },
  {
   "cell_type": "code",
   "execution_count": 59,
   "id": "4dff3026",
   "metadata": {
    "execution": {
     "iopub.execute_input": "2023-07-14T10:41:47.322203Z",
     "iopub.status.busy": "2023-07-14T10:41:47.321871Z",
     "iopub.status.idle": "2023-07-14T10:41:47.339329Z",
     "shell.execute_reply": "2023-07-14T10:41:47.338443Z"
    },
    "papermill": {
     "duration": 0.05341,
     "end_time": "2023-07-14T10:41:47.341410",
     "exception": false,
     "start_time": "2023-07-14T10:41:47.288000",
     "status": "completed"
    },
    "tags": []
   },
   "outputs": [],
   "source": [
    "#Compile the model\n",
    "model.compile(optimizer=tf.keras.optimizers.Adam(learning_rate=1e-5, beta_1=0.9, beta_2=0.98,epsilon=1e-9),\n",
    "              loss=tf.keras.losses.BinaryCrossentropy(),\n",
    "              metrics=['accuracy']\n",
    "             )"
   ]
  },
  {
   "cell_type": "code",
   "execution_count": 60,
   "id": "d596d7d2",
   "metadata": {
    "execution": {
     "iopub.execute_input": "2023-07-14T10:41:47.408169Z",
     "iopub.status.busy": "2023-07-14T10:41:47.407865Z",
     "iopub.status.idle": "2023-07-14T10:41:47.432746Z",
     "shell.execute_reply": "2023-07-14T10:41:47.431900Z"
    },
    "papermill": {
     "duration": 0.076374,
     "end_time": "2023-07-14T10:41:47.449783",
     "exception": false,
     "start_time": "2023-07-14T10:41:47.373409",
     "status": "completed"
    },
    "tags": []
   },
   "outputs": [
    {
     "name": "stdout",
     "output_type": "stream",
     "text": [
      "Model: \"model\"\n",
      "_________________________________________________________________\n",
      " Layer (type)                Output Shape              Param #   \n",
      "=================================================================\n",
      " input_1 (InputLayer)        [(None, None)]            0         \n",
      "                                                                 \n",
      " positional_embedding (Posit  (None, None, 256)        5162240   \n",
      " ionalEmbedding)                                                 \n",
      "                                                                 \n",
      " transformer_encoder (Transf  (None, None, 256)        2121248   \n",
      " ormerEncoder)                                                   \n",
      "                                                                 \n",
      " global_max_pooling1d_1 (Glo  (None, 256)              0         \n",
      " balMaxPooling1D)                                                \n",
      "                                                                 \n",
      " dropout (Dropout)           (None, 256)               0         \n",
      "                                                                 \n",
      " dense_2 (Dense)             (None, 1)                 257       \n",
      "                                                                 \n",
      "=================================================================\n",
      "Total params: 7,283,745\n",
      "Trainable params: 7,283,745\n",
      "Non-trainable params: 0\n",
      "_________________________________________________________________\n"
     ]
    }
   ],
   "source": [
    "#Summary of the model\n",
    "model.summary()"
   ]
  },
  {
   "cell_type": "code",
   "execution_count": 61,
   "id": "b0a64996",
   "metadata": {
    "execution": {
     "iopub.execute_input": "2023-07-14T10:41:47.527306Z",
     "iopub.status.busy": "2023-07-14T10:41:47.526984Z",
     "iopub.status.idle": "2023-07-14T10:41:47.978820Z",
     "shell.execute_reply": "2023-07-14T10:41:47.977623Z"
    },
    "papermill": {
     "duration": 0.493932,
     "end_time": "2023-07-14T10:41:47.981472",
     "exception": false,
     "start_time": "2023-07-14T10:41:47.487540",
     "status": "completed"
    },
    "tags": []
   },
   "outputs": [
    {
     "data": {
      "image/png": "[encoded data removed]",
      "text/plain": [
       "<IPython.core.display.Image object>"
      ]
     },
     "execution_count": 61,
     "metadata": {},
     "output_type": "execute_result"
    }
   ],
   "source": [
    "#Plot the model\n",
    "keras.utils.plot_model(model=model,\n",
    "                       to_file=\"model.png\",\n",
    "                       show_shapes=True,\n",
    "                       show_layer_names=True,\n",
    "                       expand_nested=True,\n",
    "                       show_layer_activations=True,\n",
    "                       show_trainable=True,\n",
    "        )"
   ]
  },
  {
   "cell_type": "code",
   "execution_count": 62,
   "id": "9e358dd8",
   "metadata": {
    "execution": {
     "iopub.execute_input": "2023-07-14T10:41:48.064916Z",
     "iopub.status.busy": "2023-07-14T10:41:48.064519Z",
     "iopub.status.idle": "2023-07-14T10:41:48.069958Z",
     "shell.execute_reply": "2023-07-14T10:41:48.068918Z"
    },
    "papermill": {
     "duration": 0.050078,
     "end_time": "2023-07-14T10:41:48.072553",
     "exception": false,
     "start_time": "2023-07-14T10:41:48.022475",
     "status": "completed"
    },
    "tags": []
   },
   "outputs": [],
   "source": [
    "#Define callbacks\n",
    "callbacks = [\n",
    "       keras.callbacks.ModelCheckpoint(\"tweets_classifier.keras\",\n",
    "                                       save_best_only=True)\n",
    "            ]"
   ]
  },
  {
   "cell_type": "code",
   "execution_count": 63,
   "id": "680d1b7d",
   "metadata": {
    "execution": {
     "iopub.execute_input": "2023-07-14T10:41:48.151045Z",
     "iopub.status.busy": "2023-07-14T10:41:48.150717Z",
     "iopub.status.idle": "2023-07-14T10:41:48.156677Z",
     "shell.execute_reply": "2023-07-14T10:41:48.155638Z"
    },
    "papermill": {
     "duration": 0.046804,
     "end_time": "2023-07-14T10:41:48.159095",
     "exception": false,
     "start_time": "2023-07-14T10:41:48.112291",
     "status": "completed"
    },
    "tags": []
   },
   "outputs": [],
   "source": [
    "#Define the validation data size\n",
    "val_size = int(0.2 * len(train_tf))"
   ]
  },
  {
   "cell_type": "code",
   "execution_count": 64,
   "id": "33d8655c",
   "metadata": {
    "execution": {
     "iopub.execute_input": "2023-07-14T10:41:48.240077Z",
     "iopub.status.busy": "2023-07-14T10:41:48.239116Z",
     "iopub.status.idle": "2023-07-14T10:41:48.254984Z",
     "shell.execute_reply": "2023-07-14T10:41:48.254009Z"
    },
    "papermill": {
     "duration": 0.059062,
     "end_time": "2023-07-14T10:41:48.257458",
     "exception": false,
     "start_time": "2023-07-14T10:41:48.198396",
     "status": "completed"
    },
    "tags": []
   },
   "outputs": [],
   "source": [
    "# Split the data into training and validation\n",
    "validation_data = train_tf.take(val_size)\n",
    "train_data = train_tf.skip(val_size)"
   ]
  },
  {
   "cell_type": "code",
   "execution_count": 65,
   "id": "546ac53c",
   "metadata": {
    "execution": {
     "iopub.execute_input": "2023-07-14T10:41:48.333403Z",
     "iopub.status.busy": "2023-07-14T10:41:48.333114Z",
     "iopub.status.idle": "2023-07-14T11:46:55.014849Z",
     "shell.execute_reply": "2023-07-14T11:46:55.013372Z"
    },
    "papermill": {
     "duration": 3906.720615,
     "end_time": "2023-07-14T11:46:55.017812",
     "exception": false,
     "start_time": "2023-07-14T10:41:48.297197",
     "status": "completed"
    },
    "tags": []
   },
   "outputs": [
    {
     "name": "stdout",
     "output_type": "stream",
     "text": [
      "Epoch 1/120\n",
      "463/463 [==============================] - 51s 85ms/step - loss: 1.2931 - accuracy: 0.5166 - val_loss: 0.6540 - val_accuracy: 0.6269\n",
      "Epoch 2/120\n",
      "463/463 [==============================] - 24s 52ms/step - loss: 0.9860 - accuracy: 0.5591 - val_loss: 0.6127 - val_accuracy: 0.6766\n",
      "Epoch 3/120\n",
      "463/463 [==============================] - 23s 49ms/step - loss: 0.7989 - accuracy: 0.5863 - val_loss: 0.5983 - val_accuracy: 0.6908\n",
      "Epoch 4/120\n",
      "463/463 [==============================] - 22s 47ms/step - loss: 0.6802 - accuracy: 0.6310 - val_loss: 0.5511 - val_accuracy: 0.7399\n",
      "Epoch 5/120\n",
      "463/463 [==============================] - 22s 47ms/step - loss: 0.6045 - accuracy: 0.6834 - val_loss: 0.5045 - val_accuracy: 0.7622\n",
      "Epoch 6/120\n",
      "463/463 [==============================] - 22s 47ms/step - loss: 0.5430 - accuracy: 0.7312 - val_loss: 0.4762 - val_accuracy: 0.7780\n",
      "Epoch 7/120\n",
      "463/463 [==============================] - 22s 47ms/step - loss: 0.4939 - accuracy: 0.7647 - val_loss: 0.4537 - val_accuracy: 0.7899\n",
      "Epoch 8/120\n",
      "463/463 [==============================] - 22s 47ms/step - loss: 0.4503 - accuracy: 0.7914 - val_loss: 0.4194 - val_accuracy: 0.8139\n",
      "Epoch 9/120\n",
      "463/463 [==============================] - 21s 46ms/step - loss: 0.4194 - accuracy: 0.8130 - val_loss: 0.3937 - val_accuracy: 0.8255\n",
      "Epoch 10/120\n",
      "463/463 [==============================] - 21s 46ms/step - loss: 0.3909 - accuracy: 0.8271 - val_loss: 0.3731 - val_accuracy: 0.8364\n",
      "Epoch 11/120\n",
      "463/463 [==============================] - 22s 46ms/step - loss: 0.3641 - accuracy: 0.8404 - val_loss: 0.3484 - val_accuracy: 0.8497\n",
      "Epoch 12/120\n",
      "463/463 [==============================] - 21s 46ms/step - loss: 0.3472 - accuracy: 0.8520 - val_loss: 0.3368 - val_accuracy: 0.8579\n",
      "Epoch 13/120\n",
      "463/463 [==============================] - 21s 46ms/step - loss: 0.3230 - accuracy: 0.8622 - val_loss: 0.3075 - val_accuracy: 0.8750\n",
      "Epoch 14/120\n",
      "463/463 [==============================] - 21s 45ms/step - loss: 0.3081 - accuracy: 0.8726 - val_loss: 0.3084 - val_accuracy: 0.8755\n",
      "Epoch 15/120\n",
      "463/463 [==============================] - 21s 45ms/step - loss: 0.2928 - accuracy: 0.8812 - val_loss: 0.2872 - val_accuracy: 0.8870\n",
      "Epoch 16/120\n",
      "463/463 [==============================] - 21s 45ms/step - loss: 0.2707 - accuracy: 0.8913 - val_loss: 0.2803 - val_accuracy: 0.8837\n",
      "Epoch 17/120\n",
      "463/463 [==============================] - 21s 45ms/step - loss: 0.2565 - accuracy: 0.8966 - val_loss: 0.2775 - val_accuracy: 0.8848\n",
      "Epoch 18/120\n",
      "463/463 [==============================] - 21s 46ms/step - loss: 0.2433 - accuracy: 0.9044 - val_loss: 0.2431 - val_accuracy: 0.9057\n",
      "Epoch 19/120\n",
      "463/463 [==============================] - 21s 45ms/step - loss: 0.2319 - accuracy: 0.9094 - val_loss: 0.2489 - val_accuracy: 0.9027\n",
      "Epoch 20/120\n",
      "463/463 [==============================] - 21s 46ms/step - loss: 0.2210 - accuracy: 0.9128 - val_loss: 0.2351 - val_accuracy: 0.9024\n",
      "Epoch 21/120\n",
      "463/463 [==============================] - 21s 45ms/step - loss: 0.2066 - accuracy: 0.9196 - val_loss: 0.2136 - val_accuracy: 0.9166\n",
      "Epoch 22/120\n",
      "463/463 [==============================] - 21s 46ms/step - loss: 0.1995 - accuracy: 0.9244 - val_loss: 0.2064 - val_accuracy: 0.9171\n",
      "Epoch 23/120\n",
      "463/463 [==============================] - 21s 45ms/step - loss: 0.1896 - accuracy: 0.9284 - val_loss: 0.2044 - val_accuracy: 0.9223\n",
      "Epoch 24/120\n",
      "463/463 [==============================] - 21s 45ms/step - loss: 0.1727 - accuracy: 0.9351 - val_loss: 0.1956 - val_accuracy: 0.9204\n",
      "Epoch 25/120\n",
      "463/463 [==============================] - 21s 45ms/step - loss: 0.1665 - accuracy: 0.9381 - val_loss: 0.1837 - val_accuracy: 0.9261\n",
      "Epoch 26/120\n",
      "463/463 [==============================] - 21s 45ms/step - loss: 0.1602 - accuracy: 0.9379 - val_loss: 0.1754 - val_accuracy: 0.9332\n",
      "Epoch 27/120\n",
      "463/463 [==============================] - 21s 45ms/step - loss: 0.1544 - accuracy: 0.9433 - val_loss: 0.1820 - val_accuracy: 0.9304\n",
      "Epoch 28/120\n",
      "463/463 [==============================] - 21s 45ms/step - loss: 0.1480 - accuracy: 0.9462 - val_loss: 0.1600 - val_accuracy: 0.9435\n",
      "Epoch 29/120\n",
      "463/463 [==============================] - 21s 45ms/step - loss: 0.1431 - accuracy: 0.9469 - val_loss: 0.1755 - val_accuracy: 0.9334\n",
      "Epoch 30/120\n",
      "463/463 [==============================] - 21s 46ms/step - loss: 0.1317 - accuracy: 0.9514 - val_loss: 0.1567 - val_accuracy: 0.9378\n",
      "Epoch 31/120\n",
      "463/463 [==============================] - 21s 45ms/step - loss: 0.1290 - accuracy: 0.9525 - val_loss: 0.1508 - val_accuracy: 0.9427\n",
      "Epoch 32/120\n",
      "463/463 [==============================] - 21s 45ms/step - loss: 0.1236 - accuracy: 0.9541 - val_loss: 0.1478 - val_accuracy: 0.9402\n",
      "Epoch 33/120\n",
      "463/463 [==============================] - 21s 46ms/step - loss: 0.1152 - accuracy: 0.9587 - val_loss: 0.1348 - val_accuracy: 0.9462\n",
      "Epoch 34/120\n",
      "463/463 [==============================] - 21s 45ms/step - loss: 0.1096 - accuracy: 0.9604 - val_loss: 0.1353 - val_accuracy: 0.9465\n",
      "Epoch 35/120\n",
      "463/463 [==============================] - 21s 46ms/step - loss: 0.1085 - accuracy: 0.9602 - val_loss: 0.1255 - val_accuracy: 0.9476\n",
      "Epoch 36/120\n",
      "463/463 [==============================] - 21s 45ms/step - loss: 0.1007 - accuracy: 0.9615 - val_loss: 0.1261 - val_accuracy: 0.9554\n",
      "Epoch 37/120\n",
      "463/463 [==============================] - 21s 45ms/step - loss: 0.0988 - accuracy: 0.9634 - val_loss: 0.1206 - val_accuracy: 0.9541\n",
      "Epoch 38/120\n",
      "463/463 [==============================] - 21s 46ms/step - loss: 0.0953 - accuracy: 0.9655 - val_loss: 0.1178 - val_accuracy: 0.9563\n",
      "Epoch 39/120\n",
      "463/463 [==============================] - 21s 45ms/step - loss: 0.0942 - accuracy: 0.9649 - val_loss: 0.1186 - val_accuracy: 0.9584\n",
      "Epoch 40/120\n",
      "463/463 [==============================] - 21s 45ms/step - loss: 0.0901 - accuracy: 0.9677 - val_loss: 0.1020 - val_accuracy: 0.9639\n",
      "Epoch 41/120\n",
      "463/463 [==============================] - 21s 45ms/step - loss: 0.0866 - accuracy: 0.9707 - val_loss: 0.1084 - val_accuracy: 0.9620\n",
      "Epoch 42/120\n",
      "463/463 [==============================] - 21s 45ms/step - loss: 0.0845 - accuracy: 0.9702 - val_loss: 0.1085 - val_accuracy: 0.9601\n",
      "Epoch 43/120\n",
      "463/463 [==============================] - 21s 45ms/step - loss: 0.0832 - accuracy: 0.9714 - val_loss: 0.0983 - val_accuracy: 0.9649\n",
      "Epoch 44/120\n",
      "463/463 [==============================] - 21s 45ms/step - loss: 0.0798 - accuracy: 0.9718 - val_loss: 0.1003 - val_accuracy: 0.9614\n",
      "Epoch 45/120\n",
      "463/463 [==============================] - 21s 45ms/step - loss: 0.0722 - accuracy: 0.9743 - val_loss: 0.0998 - val_accuracy: 0.9652\n",
      "Epoch 46/120\n",
      "463/463 [==============================] - 21s 45ms/step - loss: 0.0759 - accuracy: 0.9740 - val_loss: 0.1036 - val_accuracy: 0.9630\n",
      "Epoch 47/120\n",
      "463/463 [==============================] - 21s 45ms/step - loss: 0.0727 - accuracy: 0.9737 - val_loss: 0.1023 - val_accuracy: 0.9606\n",
      "Epoch 48/120\n",
      "463/463 [==============================] - 21s 45ms/step - loss: 0.0722 - accuracy: 0.9751 - val_loss: 0.0841 - val_accuracy: 0.9696\n",
      "Epoch 49/120\n",
      "463/463 [==============================] - 21s 46ms/step - loss: 0.0695 - accuracy: 0.9752 - val_loss: 0.0864 - val_accuracy: 0.9704\n",
      "Epoch 50/120\n",
      "463/463 [==============================] - 21s 45ms/step - loss: 0.0638 - accuracy: 0.9775 - val_loss: 0.0923 - val_accuracy: 0.9671\n",
      "Epoch 51/120\n",
      "463/463 [==============================] - 21s 45ms/step - loss: 0.0651 - accuracy: 0.9775 - val_loss: 0.0990 - val_accuracy: 0.9674\n",
      "Epoch 52/120\n",
      "463/463 [==============================] - 21s 45ms/step - loss: 0.0649 - accuracy: 0.9776 - val_loss: 0.0830 - val_accuracy: 0.9679\n",
      "Epoch 53/120\n",
      "463/463 [==============================] - 21s 45ms/step - loss: 0.0627 - accuracy: 0.9784 - val_loss: 0.0799 - val_accuracy: 0.9693\n",
      "Epoch 54/120\n",
      "463/463 [==============================] - 21s 45ms/step - loss: 0.0621 - accuracy: 0.9787 - val_loss: 0.0953 - val_accuracy: 0.9641\n",
      "Epoch 55/120\n",
      "463/463 [==============================] - 21s 45ms/step - loss: 0.0587 - accuracy: 0.9794 - val_loss: 0.0795 - val_accuracy: 0.9701\n",
      "Epoch 56/120\n",
      "463/463 [==============================] - 21s 45ms/step - loss: 0.0585 - accuracy: 0.9791 - val_loss: 0.0876 - val_accuracy: 0.9674\n",
      "Epoch 57/120\n",
      "463/463 [==============================] - 22s 47ms/step - loss: 0.0547 - accuracy: 0.9803 - val_loss: 0.0903 - val_accuracy: 0.9660\n",
      "Epoch 58/120\n",
      "463/463 [==============================] - 21s 45ms/step - loss: 0.0555 - accuracy: 0.9797 - val_loss: 0.0744 - val_accuracy: 0.9731\n",
      "Epoch 59/120\n",
      "463/463 [==============================] - 21s 45ms/step - loss: 0.0542 - accuracy: 0.9803 - val_loss: 0.0715 - val_accuracy: 0.9742\n",
      "Epoch 60/120\n",
      "463/463 [==============================] - 21s 45ms/step - loss: 0.0534 - accuracy: 0.9803 - val_loss: 0.0726 - val_accuracy: 0.9728\n",
      "Epoch 61/120\n",
      "463/463 [==============================] - 21s 45ms/step - loss: 0.0528 - accuracy: 0.9824 - val_loss: 0.0762 - val_accuracy: 0.9728\n",
      "Epoch 62/120\n",
      "463/463 [==============================] - 21s 45ms/step - loss: 0.0518 - accuracy: 0.9822 - val_loss: 0.0726 - val_accuracy: 0.9731\n",
      "Epoch 63/120\n",
      "463/463 [==============================] - 21s 45ms/step - loss: 0.0501 - accuracy: 0.9829 - val_loss: 0.0715 - val_accuracy: 0.9717\n",
      "Epoch 64/120\n",
      "463/463 [==============================] - 21s 45ms/step - loss: 0.0482 - accuracy: 0.9835 - val_loss: 0.0652 - val_accuracy: 0.9758\n",
      "Epoch 65/120\n",
      "463/463 [==============================] - 21s 45ms/step - loss: 0.0511 - accuracy: 0.9814 - val_loss: 0.0717 - val_accuracy: 0.9728\n",
      "Epoch 66/120\n",
      "463/463 [==============================] - 21s 45ms/step - loss: 0.0503 - accuracy: 0.9817 - val_loss: 0.0674 - val_accuracy: 0.9774\n",
      "Epoch 67/120\n",
      "463/463 [==============================] - 21s 45ms/step - loss: 0.0481 - accuracy: 0.9829 - val_loss: 0.0636 - val_accuracy: 0.9755\n",
      "Epoch 68/120\n",
      "463/463 [==============================] - 21s 46ms/step - loss: 0.0488 - accuracy: 0.9828 - val_loss: 0.0583 - val_accuracy: 0.9780\n",
      "Epoch 69/120\n",
      "463/463 [==============================] - 21s 45ms/step - loss: 0.0482 - accuracy: 0.9831 - val_loss: 0.0648 - val_accuracy: 0.9772\n",
      "Epoch 70/120\n",
      "463/463 [==============================] - 21s 45ms/step - loss: 0.0464 - accuracy: 0.9824 - val_loss: 0.0598 - val_accuracy: 0.9772\n",
      "Epoch 71/120\n",
      "463/463 [==============================] - 21s 45ms/step - loss: 0.0455 - accuracy: 0.9838 - val_loss: 0.0589 - val_accuracy: 0.9780\n",
      "Epoch 72/120\n",
      "463/463 [==============================] - 21s 45ms/step - loss: 0.0454 - accuracy: 0.9847 - val_loss: 0.0615 - val_accuracy: 0.9783\n",
      "Epoch 73/120\n",
      "463/463 [==============================] - 21s 45ms/step - loss: 0.0448 - accuracy: 0.9843 - val_loss: 0.0636 - val_accuracy: 0.9769\n",
      "Epoch 74/120\n",
      "463/463 [==============================] - 21s 46ms/step - loss: 0.0427 - accuracy: 0.9850 - val_loss: 0.0677 - val_accuracy: 0.9764\n",
      "Epoch 75/120\n",
      "463/463 [==============================] - 21s 45ms/step - loss: 0.0436 - accuracy: 0.9849 - val_loss: 0.0650 - val_accuracy: 0.9772\n",
      "Epoch 76/120\n",
      "463/463 [==============================] - 21s 46ms/step - loss: 0.0419 - accuracy: 0.9858 - val_loss: 0.0660 - val_accuracy: 0.9750\n",
      "Epoch 77/120\n",
      "463/463 [==============================] - 21s 45ms/step - loss: 0.0424 - accuracy: 0.9851 - val_loss: 0.0584 - val_accuracy: 0.9780\n",
      "Epoch 78/120\n",
      "463/463 [==============================] - 21s 45ms/step - loss: 0.0396 - accuracy: 0.9857 - val_loss: 0.0577 - val_accuracy: 0.9777\n",
      "Epoch 79/120\n",
      "463/463 [==============================] - 21s 45ms/step - loss: 0.0395 - accuracy: 0.9854 - val_loss: 0.0589 - val_accuracy: 0.9780\n",
      "Epoch 80/120\n",
      "463/463 [==============================] - 21s 46ms/step - loss: 0.0384 - accuracy: 0.9855 - val_loss: 0.0558 - val_accuracy: 0.9796\n",
      "Epoch 81/120\n",
      "463/463 [==============================] - 21s 45ms/step - loss: 0.0387 - accuracy: 0.9864 - val_loss: 0.0574 - val_accuracy: 0.9804\n",
      "Epoch 82/120\n",
      "463/463 [==============================] - 21s 45ms/step - loss: 0.0357 - accuracy: 0.9870 - val_loss: 0.0589 - val_accuracy: 0.9799\n",
      "Epoch 83/120\n",
      "463/463 [==============================] - 21s 46ms/step - loss: 0.0385 - accuracy: 0.9870 - val_loss: 0.0574 - val_accuracy: 0.9807\n",
      "Epoch 84/120\n",
      "463/463 [==============================] - 21s 45ms/step - loss: 0.0387 - accuracy: 0.9856 - val_loss: 0.0620 - val_accuracy: 0.9780\n",
      "Epoch 85/120\n",
      "463/463 [==============================] - 21s 45ms/step - loss: 0.0372 - accuracy: 0.9872 - val_loss: 0.0585 - val_accuracy: 0.9783\n",
      "Epoch 86/120\n",
      "463/463 [==============================] - 21s 45ms/step - loss: 0.0370 - accuracy: 0.9862 - val_loss: 0.0468 - val_accuracy: 0.9837\n",
      "Epoch 87/120\n",
      "463/463 [==============================] - 21s 45ms/step - loss: 0.0359 - accuracy: 0.9874 - val_loss: 0.0452 - val_accuracy: 0.9848\n",
      "Epoch 88/120\n",
      "463/463 [==============================] - 21s 46ms/step - loss: 0.0381 - accuracy: 0.9872 - val_loss: 0.0480 - val_accuracy: 0.9818\n",
      "Epoch 89/120\n",
      "463/463 [==============================] - 21s 45ms/step - loss: 0.0338 - accuracy: 0.9877 - val_loss: 0.0457 - val_accuracy: 0.9834\n",
      "Epoch 90/120\n",
      "463/463 [==============================] - 21s 45ms/step - loss: 0.0336 - accuracy: 0.9877 - val_loss: 0.0527 - val_accuracy: 0.9802\n",
      "Epoch 91/120\n",
      "463/463 [==============================] - 21s 45ms/step - loss: 0.0341 - accuracy: 0.9872 - val_loss: 0.0516 - val_accuracy: 0.9796\n",
      "Epoch 92/120\n",
      "463/463 [==============================] - 21s 45ms/step - loss: 0.0332 - accuracy: 0.9876 - val_loss: 0.0383 - val_accuracy: 0.9864\n",
      "Epoch 93/120\n",
      "463/463 [==============================] - 21s 45ms/step - loss: 0.0322 - accuracy: 0.9882 - val_loss: 0.0514 - val_accuracy: 0.9818\n",
      "Epoch 94/120\n",
      "463/463 [==============================] - 21s 45ms/step - loss: 0.0347 - accuracy: 0.9880 - val_loss: 0.0497 - val_accuracy: 0.9810\n",
      "Epoch 95/120\n",
      "463/463 [==============================] - 21s 45ms/step - loss: 0.0328 - accuracy: 0.9878 - val_loss: 0.0424 - val_accuracy: 0.9826\n",
      "Epoch 96/120\n",
      "463/463 [==============================] - 21s 45ms/step - loss: 0.0346 - accuracy: 0.9871 - val_loss: 0.0472 - val_accuracy: 0.9837\n",
      "Epoch 97/120\n",
      "463/463 [==============================] - 21s 45ms/step - loss: 0.0336 - accuracy: 0.9883 - val_loss: 0.0522 - val_accuracy: 0.9821\n",
      "Epoch 98/120\n",
      "463/463 [==============================] - 21s 45ms/step - loss: 0.0315 - accuracy: 0.9885 - val_loss: 0.0467 - val_accuracy: 0.9818\n",
      "Epoch 99/120\n",
      "463/463 [==============================] - 21s 45ms/step - loss: 0.0333 - accuracy: 0.9888 - val_loss: 0.0464 - val_accuracy: 0.9826\n",
      "Epoch 100/120\n",
      "463/463 [==============================] - 21s 45ms/step - loss: 0.0310 - accuracy: 0.9892 - val_loss: 0.0446 - val_accuracy: 0.9823\n",
      "Epoch 101/120\n",
      "463/463 [==============================] - 21s 45ms/step - loss: 0.0312 - accuracy: 0.9887 - val_loss: 0.0430 - val_accuracy: 0.9864\n",
      "Epoch 102/120\n",
      "463/463 [==============================] - 21s 45ms/step - loss: 0.0293 - accuracy: 0.9897 - val_loss: 0.0458 - val_accuracy: 0.9837\n",
      "Epoch 103/120\n",
      "463/463 [==============================] - 21s 45ms/step - loss: 0.0319 - accuracy: 0.9884 - val_loss: 0.0419 - val_accuracy: 0.9845\n",
      "Epoch 104/120\n",
      "463/463 [==============================] - 21s 46ms/step - loss: 0.0312 - accuracy: 0.9893 - val_loss: 0.0377 - val_accuracy: 0.9848\n",
      "Epoch 105/120\n",
      "463/463 [==============================] - 21s 45ms/step - loss: 0.0308 - accuracy: 0.9892 - val_loss: 0.0373 - val_accuracy: 0.9878\n",
      "Epoch 106/120\n",
      "463/463 [==============================] - 21s 45ms/step - loss: 0.0283 - accuracy: 0.9893 - val_loss: 0.0361 - val_accuracy: 0.9872\n",
      "Epoch 107/120\n",
      "463/463 [==============================] - 21s 45ms/step - loss: 0.0307 - accuracy: 0.9889 - val_loss: 0.0402 - val_accuracy: 0.9861\n",
      "Epoch 108/120\n",
      "463/463 [==============================] - 21s 46ms/step - loss: 0.0279 - accuracy: 0.9897 - val_loss: 0.0402 - val_accuracy: 0.9851\n",
      "Epoch 109/120\n",
      "463/463 [==============================] - 21s 45ms/step - loss: 0.0297 - accuracy: 0.9890 - val_loss: 0.0458 - val_accuracy: 0.9829\n",
      "Epoch 110/120\n",
      "463/463 [==============================] - 21s 45ms/step - loss: 0.0281 - accuracy: 0.9901 - val_loss: 0.0376 - val_accuracy: 0.9861\n",
      "Epoch 111/120\n",
      "463/463 [==============================] - 21s 45ms/step - loss: 0.0276 - accuracy: 0.9899 - val_loss: 0.0463 - val_accuracy: 0.9848\n",
      "Epoch 112/120\n",
      "463/463 [==============================] - 21s 45ms/step - loss: 0.0276 - accuracy: 0.9901 - val_loss: 0.0387 - val_accuracy: 0.9864\n",
      "Epoch 113/120\n",
      "463/463 [==============================] - 21s 46ms/step - loss: 0.0276 - accuracy: 0.9897 - val_loss: 0.0335 - val_accuracy: 0.9886\n",
      "Epoch 114/120\n",
      "463/463 [==============================] - 21s 45ms/step - loss: 0.0284 - accuracy: 0.9889 - val_loss: 0.0391 - val_accuracy: 0.9848\n",
      "Epoch 115/120\n",
      "463/463 [==============================] - 21s 45ms/step - loss: 0.0272 - accuracy: 0.9896 - val_loss: 0.0444 - val_accuracy: 0.9853\n",
      "Epoch 116/120\n",
      "463/463 [==============================] - 22s 46ms/step - loss: 0.0281 - accuracy: 0.9895 - val_loss: 0.0347 - val_accuracy: 0.9880\n",
      "Epoch 117/120\n",
      "463/463 [==============================] - 21s 45ms/step - loss: 0.0274 - accuracy: 0.9895 - val_loss: 0.0396 - val_accuracy: 0.9856\n",
      "Epoch 118/120\n",
      "463/463 [==============================] - 21s 45ms/step - loss: 0.0282 - accuracy: 0.9894 - val_loss: 0.0413 - val_accuracy: 0.9870\n",
      "Epoch 119/120\n",
      "463/463 [==============================] - 21s 45ms/step - loss: 0.0280 - accuracy: 0.9897 - val_loss: 0.0341 - val_accuracy: 0.9867\n",
      "Epoch 120/120\n",
      "463/463 [==============================] - 21s 45ms/step - loss: 0.0269 - accuracy: 0.9899 - val_loss: 0.0292 - val_accuracy: 0.9886\n"
     ]
    }
   ],
   "source": [
    "#Train the model\n",
    "history = model.fit(train_data,\n",
    "                    epochs=120,\n",
    "                    validation_data=validation_data,\n",
    "                    callbacks=callbacks)"
   ]
  },
  {
   "cell_type": "code",
   "execution_count": 66,
   "id": "c9d670df",
   "metadata": {
    "execution": {
     "iopub.execute_input": "2023-07-14T11:47:00.253183Z",
     "iopub.status.busy": "2023-07-14T11:47:00.252788Z",
     "iopub.status.idle": "2023-07-14T11:47:00.604170Z",
     "shell.execute_reply": "2023-07-14T11:47:00.603234Z"
    },
    "papermill": {
     "duration": 2.841024,
     "end_time": "2023-07-14T11:47:00.606518",
     "exception": false,
     "start_time": "2023-07-14T11:46:57.765494",
     "status": "completed"
    },
    "tags": []
   },
   "outputs": [
    {
     "data": {
      "text/plain": [
       "<matplotlib.legend.Legend at 0x7f476fe8faf0>"
      ]
     },
     "execution_count": 66,
     "metadata": {},
     "output_type": "execute_result"
    },
    {
     "data": {
      "image/png": "[encoded data removed]",
      "text/plain": [
       "<Figure size 640x480 with 1 Axes>"
      ]
     },
     "metadata": {},
     "output_type": "display_data"
    }
   ],
   "source": [
    "# Plotting the training and validation loss\n",
    "loss = history.history[\"loss\"]\n",
    "val_loss = history.history[\"val_loss\"]\n",
    "epochs = range(1, len(loss) + 1)\n",
    "plt.plot(epochs, loss, \"bo\", label=\"Training loss\")\n",
    "plt.plot(epochs, val_loss, \"b\", label=\"Validation loss\")\n",
    "plt.title(\"Training and validation loss\")\n",
    "plt.xlabel(\"Epochs\")\n",
    "plt.ylabel(\"Loss\")\n",
    "plt.legend()"
   ]
  },
  {
   "cell_type": "code",
   "execution_count": 67,
   "id": "80cae228",
   "metadata": {
    "execution": {
     "iopub.execute_input": "2023-07-14T11:47:05.360181Z",
     "iopub.status.busy": "2023-07-14T11:47:05.359791Z",
     "iopub.status.idle": "2023-07-14T11:47:05.711459Z",
     "shell.execute_reply": "2023-07-14T11:47:05.710520Z"
    },
    "papermill": {
     "duration": 2.694056,
     "end_time": "2023-07-14T11:47:05.713726",
     "exception": false,
     "start_time": "2023-07-14T11:47:03.019670",
     "status": "completed"
    },
    "tags": []
   },
   "outputs": [
    {
     "data": {
      "text/plain": [
       "<matplotlib.legend.Legend at 0x7f476fe7a110>"
      ]
     },
     "execution_count": 67,
     "metadata": {},
     "output_type": "execute_result"
    },
    {
     "data": {
      "image/png": "[encoded data removed]",
      "text/plain": [
       "<Figure size 640x480 with 1 Axes>"
      ]
     },
     "metadata": {},
     "output_type": "display_data"
    }
   ],
   "source": [
    "# Plotting the training and validation accuracy\n",
    "acc = history.history[\"accuracy\"]\n",
    "val_acc = history.history[\"val_accuracy\"]\n",
    "plt.plot(epochs, acc, \"bo\", label=\"Training accuracy\")\n",
    "plt.plot(epochs, val_acc, \"b\", label=\"Validation accuracy\")\n",
    "plt.title(\"Training and validation accuracy\")\n",
    "plt.xlabel(\"Epochs\")\n",
    "plt.ylabel(\"Accuracy\")\n",
    "plt.legend()"
   ]
  },
  {
   "cell_type": "code",
   "execution_count": 68,
   "id": "5d91532b",
   "metadata": {
    "execution": {
     "iopub.execute_input": "2023-07-14T11:47:10.364756Z",
     "iopub.status.busy": "2023-07-14T11:47:10.364355Z",
     "iopub.status.idle": "2023-07-14T11:47:13.202435Z",
     "shell.execute_reply": "2023-07-14T11:47:13.201373Z"
    },
    "papermill": {
     "duration": 5.141072,
     "end_time": "2023-07-14T11:47:13.204972",
     "exception": false,
     "start_time": "2023-07-14T11:47:08.063900",
     "status": "completed"
    },
    "tags": []
   },
   "outputs": [
    {
     "name": "stdout",
     "output_type": "stream",
     "text": [
      "102/102 [==============================] - 2s 16ms/step\n"
     ]
    }
   ],
   "source": [
    "#Classify the tweets of test data\n",
    "predictions = model.predict(test_tf)"
   ]
  },
  {
   "cell_type": "code",
   "execution_count": 69,
   "id": "05aebb76",
   "metadata": {
    "execution": {
     "iopub.execute_input": "2023-07-14T11:47:17.940187Z",
     "iopub.status.busy": "2023-07-14T11:47:17.939814Z",
     "iopub.status.idle": "2023-07-14T11:47:17.947034Z",
     "shell.execute_reply": "2023-07-14T11:47:17.945821Z"
    },
    "papermill": {
     "duration": 2.321071,
     "end_time": "2023-07-14T11:47:17.950848",
     "exception": false,
     "start_time": "2023-07-14T11:47:15.629777",
     "status": "completed"
    },
    "tags": []
   },
   "outputs": [
    {
     "data": {
      "text/plain": [
       "array([[0.9999715],\n",
       "       [0.99597  ],\n",
       "       [0.9999993],\n",
       "       ...,\n",
       "       [0.9999994],\n",
       "       [0.999895 ],\n",
       "       [0.9999993]], dtype=float32)"
      ]
     },
     "execution_count": 69,
     "metadata": {},
     "output_type": "execute_result"
    }
   ],
   "source": [
    "#Print the predictions\n",
    "predictions"
   ]
  },
  {
   "cell_type": "code",
   "execution_count": 70,
   "id": "e5dd1194",
   "metadata": {
    "execution": {
     "iopub.execute_input": "2023-07-14T11:47:22.678751Z",
     "iopub.status.busy": "2023-07-14T11:47:22.678368Z",
     "iopub.status.idle": "2023-07-14T11:47:22.696671Z",
     "shell.execute_reply": "2023-07-14T11:47:22.694588Z"
    },
    "papermill": {
     "duration": 2.363504,
     "end_time": "2023-07-14T11:47:22.698685",
     "exception": false,
     "start_time": "2023-07-14T11:47:20.335181",
     "status": "completed"
    },
    "tags": []
   },
   "outputs": [
    {
     "data": {
      "text/plain": [
       "[1, 1, 1, 1, 1, 1, 0, 0, 0, 0]"
      ]
     },
     "execution_count": 70,
     "metadata": {},
     "output_type": "execute_result"
    }
   ],
   "source": [
    "threshold = 0.5\n",
    "#Convert the float values to binary\n",
    "final_predictions = [1 if i > threshold else 0 for i in predictions]\n",
    "final_predictions[:10]"
   ]
  },
  {
   "cell_type": "code",
   "execution_count": 71,
   "id": "21f1eac1",
   "metadata": {
    "execution": {
     "iopub.execute_input": "2023-07-14T11:47:27.578068Z",
     "iopub.status.busy": "2023-07-14T11:47:27.577674Z",
     "iopub.status.idle": "2023-07-14T11:47:27.591828Z",
     "shell.execute_reply": "2023-07-14T11:47:27.590861Z"
    },
    "papermill": {
     "duration": 2.521519,
     "end_time": "2023-07-14T11:47:27.594067",
     "exception": false,
     "start_time": "2023-07-14T11:47:25.072548",
     "status": "completed"
    },
    "tags": []
   },
   "outputs": [
    {
     "data": {
      "text/html": [
       "<div>\n",
       "<style scoped>\n",
       "    .dataframe tbody tr th:only-of-type {\n",
       "        vertical-align: middle;\n",
       "    }\n",
       "\n",
       "    .dataframe tbody tr th {\n",
       "        vertical-align: top;\n",
       "    }\n",
       "\n",
       "    .dataframe thead th {\n",
       "        text-align: right;\n",
       "    }\n",
       "</style>\n",
       "<table border=\"1\" class=\"dataframe\">\n",
       "  <thead>\n",
       "    <tr style=\"text-align: right;\">\n",
       "      <th></th>\n",
       "      <th>id</th>\n",
       "      <th>target</th>\n",
       "    </tr>\n",
       "  </thead>\n",
       "  <tbody>\n",
       "    <tr>\n",
       "      <th>0</th>\n",
       "      <td>0</td>\n",
       "      <td>0</td>\n",
       "    </tr>\n",
       "    <tr>\n",
       "      <th>1</th>\n",
       "      <td>2</td>\n",
       "      <td>0</td>\n",
       "    </tr>\n",
       "    <tr>\n",
       "      <th>2</th>\n",
       "      <td>3</td>\n",
       "      <td>0</td>\n",
       "    </tr>\n",
       "    <tr>\n",
       "      <th>3</th>\n",
       "      <td>9</td>\n",
       "      <td>0</td>\n",
       "    </tr>\n",
       "    <tr>\n",
       "      <th>4</th>\n",
       "      <td>11</td>\n",
       "      <td>0</td>\n",
       "    </tr>\n",
       "    <tr>\n",
       "      <th>...</th>\n",
       "      <td>...</td>\n",
       "      <td>...</td>\n",
       "    </tr>\n",
       "    <tr>\n",
       "      <th>3258</th>\n",
       "      <td>10861</td>\n",
       "      <td>0</td>\n",
       "    </tr>\n",
       "    <tr>\n",
       "      <th>3259</th>\n",
       "      <td>10865</td>\n",
       "      <td>0</td>\n",
       "    </tr>\n",
       "    <tr>\n",
       "      <th>3260</th>\n",
       "      <td>10868</td>\n",
       "      <td>0</td>\n",
       "    </tr>\n",
       "    <tr>\n",
       "      <th>3261</th>\n",
       "      <td>10874</td>\n",
       "      <td>0</td>\n",
       "    </tr>\n",
       "    <tr>\n",
       "      <th>3262</th>\n",
       "      <td>10875</td>\n",
       "      <td>0</td>\n",
       "    </tr>\n",
       "  </tbody>\n",
       "</table>\n",
       "<p>3263 rows × 2 columns</p>\n",
       "</div>"
      ],
      "text/plain": [
       "         id  target\n",
       "0         0       0\n",
       "1         2       0\n",
       "2         3       0\n",
       "3         9       0\n",
       "4        11       0\n",
       "...     ...     ...\n",
       "3258  10861       0\n",
       "3259  10865       0\n",
       "3260  10868       0\n",
       "3261  10874       0\n",
       "3262  10875       0\n",
       "\n",
       "[3263 rows x 2 columns]"
      ]
     },
     "execution_count": 71,
     "metadata": {},
     "output_type": "execute_result"
    }
   ],
   "source": [
    "sample"
   ]
  },
  {
   "cell_type": "code",
   "execution_count": 72,
   "id": "98855e35",
   "metadata": {
    "execution": {
     "iopub.execute_input": "2023-07-14T11:47:32.770213Z",
     "iopub.status.busy": "2023-07-14T11:47:32.769844Z",
     "iopub.status.idle": "2023-07-14T11:47:32.788872Z",
     "shell.execute_reply": "2023-07-14T11:47:32.787730Z"
    },
    "papermill": {
     "duration": 2.396297,
     "end_time": "2023-07-14T11:47:32.791171",
     "exception": false,
     "start_time": "2023-07-14T11:47:30.394874",
     "status": "completed"
    },
    "tags": []
   },
   "outputs": [
    {
     "data": {
      "text/html": [
       "<div>\n",
       "<style scoped>\n",
       "    .dataframe tbody tr th:only-of-type {\n",
       "        vertical-align: middle;\n",
       "    }\n",
       "\n",
       "    .dataframe tbody tr th {\n",
       "        vertical-align: top;\n",
       "    }\n",
       "\n",
       "    .dataframe thead th {\n",
       "        text-align: right;\n",
       "    }\n",
       "</style>\n",
       "<table border=\"1\" class=\"dataframe\">\n",
       "  <thead>\n",
       "    <tr style=\"text-align: right;\">\n",
       "      <th></th>\n",
       "      <th>id</th>\n",
       "      <th>target</th>\n",
       "    </tr>\n",
       "  </thead>\n",
       "  <tbody>\n",
       "    <tr>\n",
       "      <th>0</th>\n",
       "      <td>0</td>\n",
       "      <td>1</td>\n",
       "    </tr>\n",
       "    <tr>\n",
       "      <th>1</th>\n",
       "      <td>2</td>\n",
       "      <td>1</td>\n",
       "    </tr>\n",
       "    <tr>\n",
       "      <th>2</th>\n",
       "      <td>3</td>\n",
       "      <td>1</td>\n",
       "    </tr>\n",
       "    <tr>\n",
       "      <th>3</th>\n",
       "      <td>9</td>\n",
       "      <td>1</td>\n",
       "    </tr>\n",
       "    <tr>\n",
       "      <th>4</th>\n",
       "      <td>11</td>\n",
       "      <td>1</td>\n",
       "    </tr>\n",
       "    <tr>\n",
       "      <th>...</th>\n",
       "      <td>...</td>\n",
       "      <td>...</td>\n",
       "    </tr>\n",
       "    <tr>\n",
       "      <th>3258</th>\n",
       "      <td>10861</td>\n",
       "      <td>0</td>\n",
       "    </tr>\n",
       "    <tr>\n",
       "      <th>3259</th>\n",
       "      <td>10865</td>\n",
       "      <td>1</td>\n",
       "    </tr>\n",
       "    <tr>\n",
       "      <th>3260</th>\n",
       "      <td>10868</td>\n",
       "      <td>1</td>\n",
       "    </tr>\n",
       "    <tr>\n",
       "      <th>3261</th>\n",
       "      <td>10874</td>\n",
       "      <td>1</td>\n",
       "    </tr>\n",
       "    <tr>\n",
       "      <th>3262</th>\n",
       "      <td>10875</td>\n",
       "      <td>1</td>\n",
       "    </tr>\n",
       "  </tbody>\n",
       "</table>\n",
       "<p>3263 rows × 2 columns</p>\n",
       "</div>"
      ],
      "text/plain": [
       "         id  target\n",
       "0         0       1\n",
       "1         2       1\n",
       "2         3       1\n",
       "3         9       1\n",
       "4        11       1\n",
       "...     ...     ...\n",
       "3258  10861       0\n",
       "3259  10865       1\n",
       "3260  10868       1\n",
       "3261  10874       1\n",
       "3262  10875       1\n",
       "\n",
       "[3263 rows x 2 columns]"
      ]
     },
     "execution_count": 72,
     "metadata": {},
     "output_type": "execute_result"
    }
   ],
   "source": [
    "submissions = pd.DataFrame(columns=[\"id\",\"target\"])\n",
    "submissions[\"target\"] = final_predictions\n",
    "submissions[\"id\"] = test.id\n",
    "submissions"
   ]
  },
  {
   "cell_type": "code",
   "execution_count": 73,
   "id": "b77ea2a7",
   "metadata": {
    "execution": {
     "iopub.execute_input": "2023-07-14T11:47:37.676009Z",
     "iopub.status.busy": "2023-07-14T11:47:37.675582Z",
     "iopub.status.idle": "2023-07-14T11:47:37.694767Z",
     "shell.execute_reply": "2023-07-14T11:47:37.693874Z"
    },
    "papermill": {
     "duration": 2.33571,
     "end_time": "2023-07-14T11:47:37.696816",
     "exception": false,
     "start_time": "2023-07-14T11:47:35.361106",
     "status": "completed"
    },
    "tags": []
   },
   "outputs": [],
   "source": [
    "#Save the file as a csv file\n",
    "submissions.to_csv(\"submission.csv\", index=False)"
   ]
  },
  {
   "cell_type": "code",
   "execution_count": null,
   "id": "9c80b91c",
   "metadata": {
    "papermill": {
     "duration": 2.412708,
     "end_time": "2023-07-14T11:47:42.438676",
     "exception": false,
     "start_time": "2023-07-14T11:47:40.025968",
     "status": "completed"
    },
    "tags": []
   },
   "outputs": [],
   "source": []
  }
 ],
 "metadata": {
  "kernelspec": {
   "display_name": "Python 3",
   "language": "python",
   "name": "python3"
  },
  "language_info": {
   "codemirror_mode": {
    "name": "ipython",
    "version": 3
   },
   "file_extension": ".py",
   "mimetype": "text/x-python",
   "name": "python",
   "nbconvert_exporter": "python",
   "pygments_lexer": "ipython3",
   "version": "3.10.12"
  },
  "papermill": {
   "default_parameters": {},
   "duration": 4026.120466,
   "end_time": "2023-07-14T11:47:48.210107",
   "environment_variables": {},
   "exception": null,
   "input_path": "__notebook__.ipynb",
   "output_path": "__notebook__.ipynb",
   "parameters": {},
   "start_time": "2023-07-14T10:40:42.089641",
   "version": "2.4.0"
  }
 },
 "nbformat": 4,
 "nbformat_minor": 5
}
